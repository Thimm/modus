{
 "cells": [
  {
   "cell_type": "code",
   "execution_count": 2,
   "id": "1ea4bf18-81ec-4747-916e-c5ac96819b7b",
   "metadata": {},
   "outputs": [],
   "source": [
    "import pandas as pd\n",
    "import plotly.express as px\n",
    "import json\n",
    "from pathlib import Path\n",
    "import geopandas as gpd\n",
    "from IPython.display import JSON"
   ]
  },
  {
   "cell_type": "code",
   "execution_count": 3,
   "id": "f83044b5-f0ad-4ffd-ab03-6a5387e651b7",
   "metadata": {},
   "outputs": [],
   "source": [
    "p = Path(\"../examples/examples/tomkat-historic/\")"
   ]
  },
  {
   "cell_type": "code",
   "execution_count": 4,
   "id": "bb7332c9-6465-41e9-b30d-ec9fe9109213",
   "metadata": {},
   "outputs": [],
   "source": []
  },
  {
   "cell_type": "code",
   "execution_count": 5,
   "id": "e9674152-5eca-4f57-a8ea-bbd8f2fded63",
   "metadata": {},
   "outputs": [],
   "source": [
    "modus_jsons = [] \n",
    "for file in p.glob(\"*.json\"):\n",
    "    with open(file) as f:\n",
    "        modus_jsons.append(json.load(f))\n",
    "        \n",
    "        \n",
    "modus_jsons = {\"Events\": [x for y in modus_jsons for x in y[\"Events\"]]}\n",
    "modus_jsons_events = modus_jsons[\"Events\"]\n",
    "\n",
    "\n",
    "def get_collection_date(event):\n",
    "    return event[\"EventMetaData\"].get(\"EventDate\", None)\n",
    "\n",
    "def flatten_soil_event_samples_to_df(event):   \n",
    "    soil_samples = pd.json_normalize(event[\"EventSamples\"][\"Soil\"][\"SoilSamples\"])\n",
    "    soil_samples = soil_samples.explode(\"Depths\")\n",
    "    soil_samples = soil_samples.join(pd.DataFrame(soil_samples[\"Depths\"].tolist()).explode(\"NutrientResults\"))\n",
    "    idx = soil_samples.index\n",
    "    soil_samples = soil_samples.join(pd.DataFrame(soil_samples[\"NutrientResults\"].tolist(), index=idx))\n",
    "    soil_samples = soil_samples.drop([\"Depths\", \"NutrientResults\"], axis=1)\n",
    "    soil_samples[\"DepthID\"] = soil_samples[\"DepthID\"].astype(int)\n",
    "    soil_samples = soil_samples.merge(pd.DataFrame(event[\"EventSamples\"][\"Soil\"][\"DepthRefs\"]), on=\"DepthID\")\n",
    "    soil_samples = soil_samples.rename({\"Name\": \"DepthName\"}, axis=1)\n",
    "    return soil_samples\n",
    "\n",
    "\n",
    "flattend_events = []\n",
    "for idx, event in enumerate(modus_jsons_events):\n",
    "    df = flatten_soil_event_samples_to_df(event)\n",
    "    df[\"EventDate\"] = get_collection_date(event)\n",
    "    flattend_events.append(df)\n",
    "    \n",
    "flattend_data_df = pd.concat(flattend_events).drop(0, axis=1)\n",
    "flattend_data_df = gpd.GeoDataFrame(flattend_data_df, geometry=gpd.GeoSeries.from_wkt(flattend_data_df[\"SampleMetaData.Geometry.wkt\"]))\n",
    "flattend_data_df = flattend_data_df.drop_duplicates()\n",
    "flattend_data_df[\"lon\"] = flattend_data_df.geometry.x\n",
    "flattend_data_df[\"lat\"] = flattend_data_df.geometry.y\n",
    "flattend_data_df[\"Element Unit\"] = flattend_data_df[\"Element\"] + \"(\" + flattend_data_df[\"ValueUnit\"] + \")\""
   ]
  },
  {
   "cell_type": "code",
   "execution_count": 34,
   "id": "23cbba4f-dd9d-4864-aa27-9c3c8b50cff9",
   "metadata": {},
   "outputs": [],
   "source": []
  },
  {
   "cell_type": "code",
   "execution_count": 40,
   "id": "26501d45-4e52-421a-8751-7a6f793a865c",
   "metadata": {},
   "outputs": [],
   "source": []
  },
  {
   "cell_type": "code",
   "execution_count": 43,
   "id": "4fbcbd22-acfb-4433-991e-2b8a94324fba",
   "metadata": {},
   "outputs": [
    {
     "data": {
      "application/vnd.plotly.v1+json": {
       "config": {
        "plotlyServerURL": "https://plot.ly"
       },
       "data": [
        {
         "alignmentgroup": "True",
         "boxpoints": "all",
         "fillcolor": "rgba(255,255,255,0)",
         "hoveron": "points",
         "hovertemplate": "SampleMetaData.ReportID=TOKA-089<br>Value=%{x}<br>Element Unit=%{y}<extra></extra>",
         "legendgroup": "TOKA-089",
         "line": {
          "color": "rgba(255,255,255,0)"
         },
         "marker": {
          "color": "#636efa"
         },
         "name": "TOKA-089",
         "offsetgroup": "TOKA-089",
         "orientation": "h",
         "pointpos": 0,
         "showlegend": true,
         "type": "box",
         "x": [
          19.5,
          45,
          27.5,
          27.5,
          5.1,
          38.3,
          19.77,
          8.866666666666667,
          0.8282051282051283,
          0.2565217391304348,
          2.4,
          0.22798
         ],
         "x0": " ",
         "xaxis": "x",
         "y": [
          "P(ug/g)",
          null,
          "Silt(%)",
          "Clay(%)",
          "pH(none)",
          "CEC(cmol(+)/kg)",
          "Ca(cmol(+)/kg)",
          "Mg(cmol(+)/kg)",
          "K(cmol(+)/kg)",
          "Na(cmol(+)/kg)",
          "TOC(%)",
          "TN(%)"
         ],
         "y0": " ",
         "yaxis": "y"
        },
        {
         "alignmentgroup": "True",
         "boxpoints": "all",
         "fillcolor": "rgba(255,255,255,0)",
         "hoveron": "points",
         "hovertemplate": "SampleMetaData.ReportID=TOKA-099<br>Value=%{x}<br>Element Unit=%{y}<extra></extra>",
         "legendgroup": "TOKA-099",
         "line": {
          "color": "rgba(255,255,255,0)"
         },
         "marker": {
          "color": "#EF553B"
         },
         "name": "TOKA-099",
         "offsetgroup": "TOKA-099",
         "orientation": "h",
         "pointpos": 0,
         "showlegend": true,
         "type": "box",
         "x": [
          6.8,
          52.5,
          25,
          22.5,
          6.1,
          25,
          9.815,
          6.7,
          0.7230769230769231,
          0.1391304347826087,
          1.7,
          0.21366
         ],
         "x0": " ",
         "xaxis": "x",
         "y": [
          "P(ug/g)",
          null,
          "Silt(%)",
          "Clay(%)",
          "pH(none)",
          "CEC(cmol(+)/kg)",
          "Ca(cmol(+)/kg)",
          "Mg(cmol(+)/kg)",
          "K(cmol(+)/kg)",
          "Na(cmol(+)/kg)",
          "TOC(%)",
          "TN(%)"
         ],
         "y0": " ",
         "yaxis": "y"
        },
        {
         "alignmentgroup": "True",
         "boxpoints": "all",
         "fillcolor": "rgba(255,255,255,0)",
         "hoveron": "points",
         "hovertemplate": "SampleMetaData.ReportID=TOKA-169<br>Value=%{x}<br>Element Unit=%{y}<extra></extra>",
         "legendgroup": "TOKA-169",
         "line": {
          "color": "rgba(255,255,255,0)"
         },
         "marker": {
          "color": "#00cc96"
         },
         "name": "TOKA-169",
         "offsetgroup": "TOKA-169",
         "orientation": "h",
         "pointpos": 0,
         "showlegend": true,
         "type": "box",
         "x": [
          7.9,
          27.5,
          35,
          37.5,
          5.8,
          25.9,
          7.005,
          6.241666666666666,
          0.6307692307692307,
          0.23478260869565218,
          2.1,
          0.2542
         ],
         "x0": " ",
         "xaxis": "x",
         "y": [
          "P(ug/g)",
          null,
          "Silt(%)",
          "Clay(%)",
          "pH(none)",
          "CEC(cmol(+)/kg)",
          "Ca(cmol(+)/kg)",
          "Mg(cmol(+)/kg)",
          "K(cmol(+)/kg)",
          "Na(cmol(+)/kg)",
          "TOC(%)",
          "TN(%)"
         ],
         "y0": " ",
         "yaxis": "y"
        },
        {
         "alignmentgroup": "True",
         "boxpoints": "all",
         "fillcolor": "rgba(255,255,255,0)",
         "hoveron": "points",
         "hovertemplate": "SampleMetaData.ReportID=TOKA-170<br>Value=%{x}<br>Element Unit=%{y}<extra></extra>",
         "legendgroup": "TOKA-170",
         "line": {
          "color": "rgba(255,255,255,0)"
         },
         "marker": {
          "color": "#ab63fa"
         },
         "name": "TOKA-170",
         "offsetgroup": "TOKA-170",
         "orientation": "h",
         "pointpos": 0,
         "showlegend": true,
         "type": "box",
         "x": [
          3,
          36.2,
          32.5,
          31.2,
          5.9,
          28.2,
          10.89,
          7.225,
          0.5128205128205128,
          0.29130434782608694,
          2.1,
          0.22752
         ],
         "x0": " ",
         "xaxis": "x",
         "y": [
          "P(ug/g)",
          null,
          "Silt(%)",
          "Clay(%)",
          "pH(none)",
          "CEC(cmol(+)/kg)",
          "Ca(cmol(+)/kg)",
          "Mg(cmol(+)/kg)",
          "K(cmol(+)/kg)",
          "Na(cmol(+)/kg)",
          "TOC(%)",
          "TN(%)"
         ],
         "y0": " ",
         "yaxis": "y"
        },
        {
         "alignmentgroup": "True",
         "boxpoints": "all",
         "fillcolor": "rgba(255,255,255,0)",
         "hoveron": "points",
         "hovertemplate": "SampleMetaData.ReportID=TOKA-061<br>Value=%{x}<br>Element Unit=%{y}<extra></extra>",
         "legendgroup": "TOKA-061",
         "line": {
          "color": "rgba(255,255,255,0)"
         },
         "marker": {
          "color": "#FFA15A"
         },
         "name": "TOKA-061",
         "offsetgroup": "TOKA-061",
         "orientation": "h",
         "pointpos": 0,
         "showlegend": true,
         "type": "box",
         "x": [
          1.05390803322451,
          6.9,
          6.4,
          24.9,
          10.7,
          7.675,
          0.8487179487179487,
          0.2391304347826087,
          2.7
         ],
         "x0": " ",
         "xaxis": "x",
         "y": [
          "Bulk Density(g/cm3)",
          "P(ug/g)",
          "pH(none)",
          "CEC(cmol(+)/kg)",
          "Ca(cmol(+)/kg)",
          "Mg(cmol(+)/kg)",
          "K(cmol(+)/kg)",
          "Na(cmol(+)/kg)",
          "TOC(%)"
         ],
         "y0": " ",
         "yaxis": "y"
        },
        {
         "alignmentgroup": "True",
         "boxpoints": "all",
         "fillcolor": "rgba(255,255,255,0)",
         "hoveron": "points",
         "hovertemplate": "SampleMetaData.ReportID=TOKA-135<br>Value=%{x}<br>Element Unit=%{y}<extra></extra>",
         "legendgroup": "TOKA-135",
         "line": {
          "color": "rgba(255,255,255,0)"
         },
         "marker": {
          "color": "#19d3f3"
         },
         "name": "TOKA-135",
         "offsetgroup": "TOKA-135",
         "orientation": "h",
         "pointpos": 0,
         "showlegend": true,
         "type": "box",
         "x": [
          1.1969246596592,
          10.6,
          6.3,
          19.4,
          8.815,
          4.275,
          0.6974358974358974,
          0.21304347826086956,
          3.2,
          0.31698
         ],
         "x0": " ",
         "xaxis": "x",
         "y": [
          "Bulk Density(g/cm3)",
          "P(ug/g)",
          "pH(none)",
          "CEC(cmol(+)/kg)",
          "Ca(cmol(+)/kg)",
          "Mg(cmol(+)/kg)",
          "K(cmol(+)/kg)",
          "Na(cmol(+)/kg)",
          "TOC(%)",
          "TN(%)"
         ],
         "y0": " ",
         "yaxis": "y"
        },
        {
         "alignmentgroup": "True",
         "boxpoints": "all",
         "fillcolor": "rgba(255,255,255,0)",
         "hoveron": "points",
         "hovertemplate": "SampleMetaData.ReportID=TOKA-137<br>Value=%{x}<br>Element Unit=%{y}<extra></extra>",
         "legendgroup": "TOKA-137",
         "line": {
          "color": "rgba(255,255,255,0)"
         },
         "marker": {
          "color": "#FF6692"
         },
         "name": "TOKA-137",
         "offsetgroup": "TOKA-137",
         "orientation": "h",
         "pointpos": 0,
         "showlegend": true,
         "type": "box",
         "x": [
          1.0969147142801,
          10.7,
          6.2,
          29.7,
          13.31,
          7.466666666666667,
          0.5282051282051282,
          0.2608695652173913,
          3.6,
          0.30681
         ],
         "x0": " ",
         "xaxis": "x",
         "y": [
          "Bulk Density(g/cm3)",
          "P(ug/g)",
          "pH(none)",
          "CEC(cmol(+)/kg)",
          "Ca(cmol(+)/kg)",
          "Mg(cmol(+)/kg)",
          "K(cmol(+)/kg)",
          "Na(cmol(+)/kg)",
          "TOC(%)",
          "TN(%)"
         ],
         "y0": " ",
         "yaxis": "y"
        },
        {
         "alignmentgroup": "True",
         "boxpoints": "all",
         "fillcolor": "rgba(255,255,255,0)",
         "hoveron": "points",
         "hovertemplate": "SampleMetaData.ReportID=TOKA-006<br>Value=%{x}<br>Element Unit=%{y}<extra></extra>",
         "legendgroup": "TOKA-006",
         "line": {
          "color": "rgba(255,255,255,0)"
         },
         "marker": {
          "color": "#B6E880"
         },
         "name": "TOKA-006",
         "offsetgroup": "TOKA-006",
         "orientation": "h",
         "pointpos": 0,
         "showlegend": true,
         "type": "box",
         "x": [
          1.29,
          3.8,
          36.2,
          46.2,
          17.5,
          5.3,
          5.9,
          3.7,
          0.56,
          0.29,
          2.9
         ],
         "x0": " ",
         "xaxis": "x",
         "y": [
          "Bulk Density(g/cm3)",
          "P(ug/g)",
          null,
          "Silt(%)",
          "Clay(%)",
          "pH(none)",
          "Ca(cmol(+)/kg)",
          "Mg(cmol(+)/kg)",
          "K(cmol(+)/kg)",
          "Na(cmol(+)/kg)",
          "TOC(%)"
         ],
         "y0": " ",
         "yaxis": "y"
        },
        {
         "alignmentgroup": "True",
         "boxpoints": "all",
         "fillcolor": "rgba(255,255,255,0)",
         "hoveron": "points",
         "hovertemplate": "SampleMetaData.ReportID=TOKA-007<br>Value=%{x}<br>Element Unit=%{y}<extra></extra>",
         "legendgroup": "TOKA-007",
         "line": {
          "color": "rgba(255,255,255,0)"
         },
         "marker": {
          "color": "#FF97FF"
         },
         "name": "TOKA-007",
         "offsetgroup": "TOKA-007",
         "orientation": "h",
         "pointpos": 0,
         "showlegend": true,
         "type": "box",
         "x": [
          1.47,
          3.2,
          41.2,
          38.8,
          20,
          5.5,
          4.4,
          4.3,
          0.62,
          0.47,
          2
         ],
         "x0": " ",
         "xaxis": "x",
         "y": [
          "Bulk Density(g/cm3)",
          "P(ug/g)",
          null,
          "Silt(%)",
          "Clay(%)",
          "pH(none)",
          "Ca(cmol(+)/kg)",
          "Mg(cmol(+)/kg)",
          "K(cmol(+)/kg)",
          "Na(cmol(+)/kg)",
          "TOC(%)"
         ],
         "y0": " ",
         "yaxis": "y"
        },
        {
         "alignmentgroup": "True",
         "boxpoints": "all",
         "fillcolor": "rgba(255,255,255,0)",
         "hoveron": "points",
         "hovertemplate": "SampleMetaData.ReportID=TOKA-016<br>Value=%{x}<br>Element Unit=%{y}<extra></extra>",
         "legendgroup": "TOKA-016",
         "line": {
          "color": "rgba(255,255,255,0)"
         },
         "marker": {
          "color": "#FECB52"
         },
         "name": "TOKA-016",
         "offsetgroup": "TOKA-016",
         "orientation": "h",
         "pointpos": 0,
         "showlegend": true,
         "type": "box",
         "x": [
          1.07
         ],
         "x0": " ",
         "xaxis": "x",
         "y": [
          "Bulk Density(g/cm3)"
         ],
         "y0": " ",
         "yaxis": "y"
        }
       ],
       "layout": {
        "autosize": true,
        "boxmode": "group",
        "legend": {
         "title": {
          "text": "SampleMetaData.ReportID"
         },
         "tracegroupgap": 0
        },
        "margin": {
         "t": 60
        },
        "template": {
         "data": {
          "bar": [
           {
            "error_x": {
             "color": "#2a3f5f"
            },
            "error_y": {
             "color": "#2a3f5f"
            },
            "marker": {
             "line": {
              "color": "#E5ECF6",
              "width": 0.5
             },
             "pattern": {
              "fillmode": "overlay",
              "size": 10,
              "solidity": 0.2
             }
            },
            "type": "bar"
           }
          ],
          "barpolar": [
           {
            "marker": {
             "line": {
              "color": "#E5ECF6",
              "width": 0.5
             },
             "pattern": {
              "fillmode": "overlay",
              "size": 10,
              "solidity": 0.2
             }
            },
            "type": "barpolar"
           }
          ],
          "carpet": [
           {
            "aaxis": {
             "endlinecolor": "#2a3f5f",
             "gridcolor": "white",
             "linecolor": "white",
             "minorgridcolor": "white",
             "startlinecolor": "#2a3f5f"
            },
            "baxis": {
             "endlinecolor": "#2a3f5f",
             "gridcolor": "white",
             "linecolor": "white",
             "minorgridcolor": "white",
             "startlinecolor": "#2a3f5f"
            },
            "type": "carpet"
           }
          ],
          "choropleth": [
           {
            "colorbar": {
             "outlinewidth": 0,
             "ticks": ""
            },
            "type": "choropleth"
           }
          ],
          "contour": [
           {
            "colorbar": {
             "outlinewidth": 0,
             "ticks": ""
            },
            "colorscale": [
             [
              0,
              "#0d0887"
             ],
             [
              0.1111111111111111,
              "#46039f"
             ],
             [
              0.2222222222222222,
              "#7201a8"
             ],
             [
              0.3333333333333333,
              "#9c179e"
             ],
             [
              0.4444444444444444,
              "#bd3786"
             ],
             [
              0.5555555555555556,
              "#d8576b"
             ],
             [
              0.6666666666666666,
              "#ed7953"
             ],
             [
              0.7777777777777778,
              "#fb9f3a"
             ],
             [
              0.8888888888888888,
              "#fdca26"
             ],
             [
              1,
              "#f0f921"
             ]
            ],
            "type": "contour"
           }
          ],
          "contourcarpet": [
           {
            "colorbar": {
             "outlinewidth": 0,
             "ticks": ""
            },
            "type": "contourcarpet"
           }
          ],
          "heatmap": [
           {
            "colorbar": {
             "outlinewidth": 0,
             "ticks": ""
            },
            "colorscale": [
             [
              0,
              "#0d0887"
             ],
             [
              0.1111111111111111,
              "#46039f"
             ],
             [
              0.2222222222222222,
              "#7201a8"
             ],
             [
              0.3333333333333333,
              "#9c179e"
             ],
             [
              0.4444444444444444,
              "#bd3786"
             ],
             [
              0.5555555555555556,
              "#d8576b"
             ],
             [
              0.6666666666666666,
              "#ed7953"
             ],
             [
              0.7777777777777778,
              "#fb9f3a"
             ],
             [
              0.8888888888888888,
              "#fdca26"
             ],
             [
              1,
              "#f0f921"
             ]
            ],
            "type": "heatmap"
           }
          ],
          "heatmapgl": [
           {
            "colorbar": {
             "outlinewidth": 0,
             "ticks": ""
            },
            "colorscale": [
             [
              0,
              "#0d0887"
             ],
             [
              0.1111111111111111,
              "#46039f"
             ],
             [
              0.2222222222222222,
              "#7201a8"
             ],
             [
              0.3333333333333333,
              "#9c179e"
             ],
             [
              0.4444444444444444,
              "#bd3786"
             ],
             [
              0.5555555555555556,
              "#d8576b"
             ],
             [
              0.6666666666666666,
              "#ed7953"
             ],
             [
              0.7777777777777778,
              "#fb9f3a"
             ],
             [
              0.8888888888888888,
              "#fdca26"
             ],
             [
              1,
              "#f0f921"
             ]
            ],
            "type": "heatmapgl"
           }
          ],
          "histogram": [
           {
            "marker": {
             "pattern": {
              "fillmode": "overlay",
              "size": 10,
              "solidity": 0.2
             }
            },
            "type": "histogram"
           }
          ],
          "histogram2d": [
           {
            "colorbar": {
             "outlinewidth": 0,
             "ticks": ""
            },
            "colorscale": [
             [
              0,
              "#0d0887"
             ],
             [
              0.1111111111111111,
              "#46039f"
             ],
             [
              0.2222222222222222,
              "#7201a8"
             ],
             [
              0.3333333333333333,
              "#9c179e"
             ],
             [
              0.4444444444444444,
              "#bd3786"
             ],
             [
              0.5555555555555556,
              "#d8576b"
             ],
             [
              0.6666666666666666,
              "#ed7953"
             ],
             [
              0.7777777777777778,
              "#fb9f3a"
             ],
             [
              0.8888888888888888,
              "#fdca26"
             ],
             [
              1,
              "#f0f921"
             ]
            ],
            "type": "histogram2d"
           }
          ],
          "histogram2dcontour": [
           {
            "colorbar": {
             "outlinewidth": 0,
             "ticks": ""
            },
            "colorscale": [
             [
              0,
              "#0d0887"
             ],
             [
              0.1111111111111111,
              "#46039f"
             ],
             [
              0.2222222222222222,
              "#7201a8"
             ],
             [
              0.3333333333333333,
              "#9c179e"
             ],
             [
              0.4444444444444444,
              "#bd3786"
             ],
             [
              0.5555555555555556,
              "#d8576b"
             ],
             [
              0.6666666666666666,
              "#ed7953"
             ],
             [
              0.7777777777777778,
              "#fb9f3a"
             ],
             [
              0.8888888888888888,
              "#fdca26"
             ],
             [
              1,
              "#f0f921"
             ]
            ],
            "type": "histogram2dcontour"
           }
          ],
          "mesh3d": [
           {
            "colorbar": {
             "outlinewidth": 0,
             "ticks": ""
            },
            "type": "mesh3d"
           }
          ],
          "parcoords": [
           {
            "line": {
             "colorbar": {
              "outlinewidth": 0,
              "ticks": ""
             }
            },
            "type": "parcoords"
           }
          ],
          "pie": [
           {
            "automargin": true,
            "type": "pie"
           }
          ],
          "scatter": [
           {
            "fillpattern": {
             "fillmode": "overlay",
             "size": 10,
             "solidity": 0.2
            },
            "type": "scatter"
           }
          ],
          "scatter3d": [
           {
            "line": {
             "colorbar": {
              "outlinewidth": 0,
              "ticks": ""
             }
            },
            "marker": {
             "colorbar": {
              "outlinewidth": 0,
              "ticks": ""
             }
            },
            "type": "scatter3d"
           }
          ],
          "scattercarpet": [
           {
            "marker": {
             "colorbar": {
              "outlinewidth": 0,
              "ticks": ""
             }
            },
            "type": "scattercarpet"
           }
          ],
          "scattergeo": [
           {
            "marker": {
             "colorbar": {
              "outlinewidth": 0,
              "ticks": ""
             }
            },
            "type": "scattergeo"
           }
          ],
          "scattergl": [
           {
            "marker": {
             "colorbar": {
              "outlinewidth": 0,
              "ticks": ""
             }
            },
            "type": "scattergl"
           }
          ],
          "scattermapbox": [
           {
            "marker": {
             "colorbar": {
              "outlinewidth": 0,
              "ticks": ""
             }
            },
            "type": "scattermapbox"
           }
          ],
          "scatterpolar": [
           {
            "marker": {
             "colorbar": {
              "outlinewidth": 0,
              "ticks": ""
             }
            },
            "type": "scatterpolar"
           }
          ],
          "scatterpolargl": [
           {
            "marker": {
             "colorbar": {
              "outlinewidth": 0,
              "ticks": ""
             }
            },
            "type": "scatterpolargl"
           }
          ],
          "scatterternary": [
           {
            "marker": {
             "colorbar": {
              "outlinewidth": 0,
              "ticks": ""
             }
            },
            "type": "scatterternary"
           }
          ],
          "surface": [
           {
            "colorbar": {
             "outlinewidth": 0,
             "ticks": ""
            },
            "colorscale": [
             [
              0,
              "#0d0887"
             ],
             [
              0.1111111111111111,
              "#46039f"
             ],
             [
              0.2222222222222222,
              "#7201a8"
             ],
             [
              0.3333333333333333,
              "#9c179e"
             ],
             [
              0.4444444444444444,
              "#bd3786"
             ],
             [
              0.5555555555555556,
              "#d8576b"
             ],
             [
              0.6666666666666666,
              "#ed7953"
             ],
             [
              0.7777777777777778,
              "#fb9f3a"
             ],
             [
              0.8888888888888888,
              "#fdca26"
             ],
             [
              1,
              "#f0f921"
             ]
            ],
            "type": "surface"
           }
          ],
          "table": [
           {
            "cells": {
             "fill": {
              "color": "#EBF0F8"
             },
             "line": {
              "color": "white"
             }
            },
            "header": {
             "fill": {
              "color": "#C8D4E3"
             },
             "line": {
              "color": "white"
             }
            },
            "type": "table"
           }
          ]
         },
         "layout": {
          "annotationdefaults": {
           "arrowcolor": "#2a3f5f",
           "arrowhead": 0,
           "arrowwidth": 1
          },
          "autotypenumbers": "strict",
          "coloraxis": {
           "colorbar": {
            "outlinewidth": 0,
            "ticks": ""
           }
          },
          "colorscale": {
           "diverging": [
            [
             0,
             "#8e0152"
            ],
            [
             0.1,
             "#c51b7d"
            ],
            [
             0.2,
             "#de77ae"
            ],
            [
             0.3,
             "#f1b6da"
            ],
            [
             0.4,
             "#fde0ef"
            ],
            [
             0.5,
             "#f7f7f7"
            ],
            [
             0.6,
             "#e6f5d0"
            ],
            [
             0.7,
             "#b8e186"
            ],
            [
             0.8,
             "#7fbc41"
            ],
            [
             0.9,
             "#4d9221"
            ],
            [
             1,
             "#276419"
            ]
           ],
           "sequential": [
            [
             0,
             "#0d0887"
            ],
            [
             0.1111111111111111,
             "#46039f"
            ],
            [
             0.2222222222222222,
             "#7201a8"
            ],
            [
             0.3333333333333333,
             "#9c179e"
            ],
            [
             0.4444444444444444,
             "#bd3786"
            ],
            [
             0.5555555555555556,
             "#d8576b"
            ],
            [
             0.6666666666666666,
             "#ed7953"
            ],
            [
             0.7777777777777778,
             "#fb9f3a"
            ],
            [
             0.8888888888888888,
             "#fdca26"
            ],
            [
             1,
             "#f0f921"
            ]
           ],
           "sequentialminus": [
            [
             0,
             "#0d0887"
            ],
            [
             0.1111111111111111,
             "#46039f"
            ],
            [
             0.2222222222222222,
             "#7201a8"
            ],
            [
             0.3333333333333333,
             "#9c179e"
            ],
            [
             0.4444444444444444,
             "#bd3786"
            ],
            [
             0.5555555555555556,
             "#d8576b"
            ],
            [
             0.6666666666666666,
             "#ed7953"
            ],
            [
             0.7777777777777778,
             "#fb9f3a"
            ],
            [
             0.8888888888888888,
             "#fdca26"
            ],
            [
             1,
             "#f0f921"
            ]
           ]
          },
          "colorway": [
           "#636efa",
           "#EF553B",
           "#00cc96",
           "#ab63fa",
           "#FFA15A",
           "#19d3f3",
           "#FF6692",
           "#B6E880",
           "#FF97FF",
           "#FECB52"
          ],
          "font": {
           "color": "#2a3f5f"
          },
          "geo": {
           "bgcolor": "white",
           "lakecolor": "white",
           "landcolor": "#E5ECF6",
           "showlakes": true,
           "showland": true,
           "subunitcolor": "white"
          },
          "hoverlabel": {
           "align": "left"
          },
          "hovermode": "closest",
          "mapbox": {
           "style": "light"
          },
          "paper_bgcolor": "white",
          "plot_bgcolor": "#E5ECF6",
          "polar": {
           "angularaxis": {
            "gridcolor": "white",
            "linecolor": "white",
            "ticks": ""
           },
           "bgcolor": "#E5ECF6",
           "radialaxis": {
            "gridcolor": "white",
            "linecolor": "white",
            "ticks": ""
           }
          },
          "scene": {
           "xaxis": {
            "backgroundcolor": "#E5ECF6",
            "gridcolor": "white",
            "gridwidth": 2,
            "linecolor": "white",
            "showbackground": true,
            "ticks": "",
            "zerolinecolor": "white"
           },
           "yaxis": {
            "backgroundcolor": "#E5ECF6",
            "gridcolor": "white",
            "gridwidth": 2,
            "linecolor": "white",
            "showbackground": true,
            "ticks": "",
            "zerolinecolor": "white"
           },
           "zaxis": {
            "backgroundcolor": "#E5ECF6",
            "gridcolor": "white",
            "gridwidth": 2,
            "linecolor": "white",
            "showbackground": true,
            "ticks": "",
            "zerolinecolor": "white"
           }
          },
          "shapedefaults": {
           "line": {
            "color": "#2a3f5f"
           }
          },
          "ternary": {
           "aaxis": {
            "gridcolor": "white",
            "linecolor": "white",
            "ticks": ""
           },
           "baxis": {
            "gridcolor": "white",
            "linecolor": "white",
            "ticks": ""
           },
           "bgcolor": "#E5ECF6",
           "caxis": {
            "gridcolor": "white",
            "linecolor": "white",
            "ticks": ""
           }
          },
          "title": {
           "x": 0.05
          },
          "xaxis": {
           "automargin": true,
           "gridcolor": "white",
           "linecolor": "white",
           "ticks": "",
           "title": {
            "standoff": 15
           },
           "zerolinecolor": "white",
           "zerolinewidth": 2
          },
          "yaxis": {
           "automargin": true,
           "gridcolor": "white",
           "linecolor": "white",
           "ticks": "",
           "title": {
            "standoff": 15
           },
           "zerolinecolor": "white",
           "zerolinewidth": 2
          }
         }
        },
        "xaxis": {
         "anchor": "y",
         "autorange": true,
         "domain": [
          0,
          1
         ],
         "range": [
          -2.769806763285024,
          55.40893719806763
         ],
         "title": {
          "text": "Value"
         },
         "type": "linear"
        },
        "yaxis": {
         "anchor": "x",
         "autorange": true,
         "domain": [
          0,
          1
         ],
         "range": [
          -0.6682242990654206,
          11.66822429906542
         ],
         "title": {
          "text": "Element Unit"
         },
         "type": "category"
        }
       }
      },
      "image/png": "[encoded data removed]",
      "text/html": [
       "<div>                            <div id=\"b0b63cc3-e49a-4fad-b8a2-764ae611f539\" class=\"plotly-graph-div\" style=\"height:525px; width:100%;\"></div>            <script type=\"text/javascript\">                require([\"plotly\"], function(Plotly) {                    window.PLOTLYENV=window.PLOTLYENV || {};                                    if (document.getElementById(\"b0b63cc3-e49a-4fad-b8a2-764ae611f539\")) {                    Plotly.newPlot(                        \"b0b63cc3-e49a-4fad-b8a2-764ae611f539\",                        [{\"alignmentgroup\":\"True\",\"boxpoints\":\"all\",\"fillcolor\":\"rgba(255,255,255,0)\",\"hoveron\":\"points\",\"hovertemplate\":\"SampleMetaData.ReportID=TOKA-089<br>Value=%{x}<br>Element Unit=%{y}<extra></extra>\",\"legendgroup\":\"TOKA-089\",\"line\":{\"color\":\"rgba(255,255,255,0)\"},\"marker\":{\"color\":\"#636efa\"},\"name\":\"TOKA-089\",\"offsetgroup\":\"TOKA-089\",\"orientation\":\"h\",\"pointpos\":0,\"showlegend\":true,\"x\":[19.5,45.0,27.5,27.5,5.1,38.3,19.77,8.866666666666667,0.8282051282051283,0.2565217391304348,2.4,0.22798],\"x0\":\" \",\"xaxis\":\"x\",\"y\":[\"P(ug/g)\",null,\"Silt(%)\",\"Clay(%)\",\"pH(none)\",\"CEC(cmol(+)/kg)\",\"Ca(cmol(+)/kg)\",\"Mg(cmol(+)/kg)\",\"K(cmol(+)/kg)\",\"Na(cmol(+)/kg)\",\"TOC(%)\",\"TN(%)\"],\"y0\":\" \",\"yaxis\":\"y\",\"type\":\"box\"},{\"alignmentgroup\":\"True\",\"boxpoints\":\"all\",\"fillcolor\":\"rgba(255,255,255,0)\",\"hoveron\":\"points\",\"hovertemplate\":\"SampleMetaData.ReportID=TOKA-099<br>Value=%{x}<br>Element Unit=%{y}<extra></extra>\",\"legendgroup\":\"TOKA-099\",\"line\":{\"color\":\"rgba(255,255,255,0)\"},\"marker\":{\"color\":\"#EF553B\"},\"name\":\"TOKA-099\",\"offsetgroup\":\"TOKA-099\",\"orientation\":\"h\",\"pointpos\":0,\"showlegend\":true,\"x\":[6.8,52.5,25.0,22.5,6.1,25.0,9.815,6.7,0.7230769230769231,0.1391304347826087,1.7,0.21366],\"x0\":\" \",\"xaxis\":\"x\",\"y\":[\"P(ug/g)\",null,\"Silt(%)\",\"Clay(%)\",\"pH(none)\",\"CEC(cmol(+)/kg)\",\"Ca(cmol(+)/kg)\",\"Mg(cmol(+)/kg)\",\"K(cmol(+)/kg)\",\"Na(cmol(+)/kg)\",\"TOC(%)\",\"TN(%)\"],\"y0\":\" \",\"yaxis\":\"y\",\"type\":\"box\"},{\"alignmentgroup\":\"True\",\"boxpoints\":\"all\",\"fillcolor\":\"rgba(255,255,255,0)\",\"hoveron\":\"points\",\"hovertemplate\":\"SampleMetaData.ReportID=TOKA-169<br>Value=%{x}<br>Element Unit=%{y}<extra></extra>\",\"legendgroup\":\"TOKA-169\",\"line\":{\"color\":\"rgba(255,255,255,0)\"},\"marker\":{\"color\":\"#00cc96\"},\"name\":\"TOKA-169\",\"offsetgroup\":\"TOKA-169\",\"orientation\":\"h\",\"pointpos\":0,\"showlegend\":true,\"x\":[7.9,27.5,35.0,37.5,5.8,25.9,7.005,6.241666666666666,0.6307692307692307,0.23478260869565218,2.1,0.2542],\"x0\":\" \",\"xaxis\":\"x\",\"y\":[\"P(ug/g)\",null,\"Silt(%)\",\"Clay(%)\",\"pH(none)\",\"CEC(cmol(+)/kg)\",\"Ca(cmol(+)/kg)\",\"Mg(cmol(+)/kg)\",\"K(cmol(+)/kg)\",\"Na(cmol(+)/kg)\",\"TOC(%)\",\"TN(%)\"],\"y0\":\" \",\"yaxis\":\"y\",\"type\":\"box\"},{\"alignmentgroup\":\"True\",\"boxpoints\":\"all\",\"fillcolor\":\"rgba(255,255,255,0)\",\"hoveron\":\"points\",\"hovertemplate\":\"SampleMetaData.ReportID=TOKA-170<br>Value=%{x}<br>Element Unit=%{y}<extra></extra>\",\"legendgroup\":\"TOKA-170\",\"line\":{\"color\":\"rgba(255,255,255,0)\"},\"marker\":{\"color\":\"#ab63fa\"},\"name\":\"TOKA-170\",\"offsetgroup\":\"TOKA-170\",\"orientation\":\"h\",\"pointpos\":0,\"showlegend\":true,\"x\":[3.0,36.2,32.5,31.2,5.9,28.2,10.89,7.225,0.5128205128205128,0.29130434782608694,2.1,0.22752],\"x0\":\" \",\"xaxis\":\"x\",\"y\":[\"P(ug/g)\",null,\"Silt(%)\",\"Clay(%)\",\"pH(none)\",\"CEC(cmol(+)/kg)\",\"Ca(cmol(+)/kg)\",\"Mg(cmol(+)/kg)\",\"K(cmol(+)/kg)\",\"Na(cmol(+)/kg)\",\"TOC(%)\",\"TN(%)\"],\"y0\":\" \",\"yaxis\":\"y\",\"type\":\"box\"},{\"alignmentgroup\":\"True\",\"boxpoints\":\"all\",\"fillcolor\":\"rgba(255,255,255,0)\",\"hoveron\":\"points\",\"hovertemplate\":\"SampleMetaData.ReportID=TOKA-061<br>Value=%{x}<br>Element Unit=%{y}<extra></extra>\",\"legendgroup\":\"TOKA-061\",\"line\":{\"color\":\"rgba(255,255,255,0)\"},\"marker\":{\"color\":\"#FFA15A\"},\"name\":\"TOKA-061\",\"offsetgroup\":\"TOKA-061\",\"orientation\":\"h\",\"pointpos\":0,\"showlegend\":true,\"x\":[1.05390803322451,6.9,6.4,24.9,10.7,7.675,0.8487179487179487,0.2391304347826087,2.7],\"x0\":\" \",\"xaxis\":\"x\",\"y\":[\"Bulk Density(g/cm3)\",\"P(ug/g)\",\"pH(none)\",\"CEC(cmol(+)/kg)\",\"Ca(cmol(+)/kg)\",\"Mg(cmol(+)/kg)\",\"K(cmol(+)/kg)\",\"Na(cmol(+)/kg)\",\"TOC(%)\"],\"y0\":\" \",\"yaxis\":\"y\",\"type\":\"box\"},{\"alignmentgroup\":\"True\",\"boxpoints\":\"all\",\"fillcolor\":\"rgba(255,255,255,0)\",\"hoveron\":\"points\",\"hovertemplate\":\"SampleMetaData.ReportID=TOKA-135<br>Value=%{x}<br>Element Unit=%{y}<extra></extra>\",\"legendgroup\":\"TOKA-135\",\"line\":{\"color\":\"rgba(255,255,255,0)\"},\"marker\":{\"color\":\"#19d3f3\"},\"name\":\"TOKA-135\",\"offsetgroup\":\"TOKA-135\",\"orientation\":\"h\",\"pointpos\":0,\"showlegend\":true,\"x\":[1.1969246596592,10.6,6.3,19.4,8.815,4.275,0.6974358974358974,0.21304347826086956,3.2,0.31698],\"x0\":\" \",\"xaxis\":\"x\",\"y\":[\"Bulk Density(g/cm3)\",\"P(ug/g)\",\"pH(none)\",\"CEC(cmol(+)/kg)\",\"Ca(cmol(+)/kg)\",\"Mg(cmol(+)/kg)\",\"K(cmol(+)/kg)\",\"Na(cmol(+)/kg)\",\"TOC(%)\",\"TN(%)\"],\"y0\":\" \",\"yaxis\":\"y\",\"type\":\"box\"},{\"alignmentgroup\":\"True\",\"boxpoints\":\"all\",\"fillcolor\":\"rgba(255,255,255,0)\",\"hoveron\":\"points\",\"hovertemplate\":\"SampleMetaData.ReportID=TOKA-137<br>Value=%{x}<br>Element Unit=%{y}<extra></extra>\",\"legendgroup\":\"TOKA-137\",\"line\":{\"color\":\"rgba(255,255,255,0)\"},\"marker\":{\"color\":\"#FF6692\"},\"name\":\"TOKA-137\",\"offsetgroup\":\"TOKA-137\",\"orientation\":\"h\",\"pointpos\":0,\"showlegend\":true,\"x\":[1.0969147142801,10.7,6.2,29.7,13.31,7.466666666666667,0.5282051282051282,0.2608695652173913,3.6,0.30681],\"x0\":\" \",\"xaxis\":\"x\",\"y\":[\"Bulk Density(g/cm3)\",\"P(ug/g)\",\"pH(none)\",\"CEC(cmol(+)/kg)\",\"Ca(cmol(+)/kg)\",\"Mg(cmol(+)/kg)\",\"K(cmol(+)/kg)\",\"Na(cmol(+)/kg)\",\"TOC(%)\",\"TN(%)\"],\"y0\":\" \",\"yaxis\":\"y\",\"type\":\"box\"},{\"alignmentgroup\":\"True\",\"boxpoints\":\"all\",\"fillcolor\":\"rgba(255,255,255,0)\",\"hoveron\":\"points\",\"hovertemplate\":\"SampleMetaData.ReportID=TOKA-006<br>Value=%{x}<br>Element Unit=%{y}<extra></extra>\",\"legendgroup\":\"TOKA-006\",\"line\":{\"color\":\"rgba(255,255,255,0)\"},\"marker\":{\"color\":\"#B6E880\"},\"name\":\"TOKA-006\",\"offsetgroup\":\"TOKA-006\",\"orientation\":\"h\",\"pointpos\":0,\"showlegend\":true,\"x\":[1.29,3.8,36.2,46.2,17.5,5.3,5.9,3.7,0.56,0.29,2.9],\"x0\":\" \",\"xaxis\":\"x\",\"y\":[\"Bulk Density(g/cm3)\",\"P(ug/g)\",null,\"Silt(%)\",\"Clay(%)\",\"pH(none)\",\"Ca(cmol(+)/kg)\",\"Mg(cmol(+)/kg)\",\"K(cmol(+)/kg)\",\"Na(cmol(+)/kg)\",\"TOC(%)\"],\"y0\":\" \",\"yaxis\":\"y\",\"type\":\"box\"},{\"alignmentgroup\":\"True\",\"boxpoints\":\"all\",\"fillcolor\":\"rgba(255,255,255,0)\",\"hoveron\":\"points\",\"hovertemplate\":\"SampleMetaData.ReportID=TOKA-007<br>Value=%{x}<br>Element Unit=%{y}<extra></extra>\",\"legendgroup\":\"TOKA-007\",\"line\":{\"color\":\"rgba(255,255,255,0)\"},\"marker\":{\"color\":\"#FF97FF\"},\"name\":\"TOKA-007\",\"offsetgroup\":\"TOKA-007\",\"orientation\":\"h\",\"pointpos\":0,\"showlegend\":true,\"x\":[1.47,3.2,41.2,38.8,20.0,5.5,4.4,4.3,0.62,0.47,2.0],\"x0\":\" \",\"xaxis\":\"x\",\"y\":[\"Bulk Density(g/cm3)\",\"P(ug/g)\",null,\"Silt(%)\",\"Clay(%)\",\"pH(none)\",\"Ca(cmol(+)/kg)\",\"Mg(cmol(+)/kg)\",\"K(cmol(+)/kg)\",\"Na(cmol(+)/kg)\",\"TOC(%)\"],\"y0\":\" \",\"yaxis\":\"y\",\"type\":\"box\"},{\"alignmentgroup\":\"True\",\"boxpoints\":\"all\",\"fillcolor\":\"rgba(255,255,255,0)\",\"hoveron\":\"points\",\"hovertemplate\":\"SampleMetaData.ReportID=TOKA-016<br>Value=%{x}<br>Element Unit=%{y}<extra></extra>\",\"legendgroup\":\"TOKA-016\",\"line\":{\"color\":\"rgba(255,255,255,0)\"},\"marker\":{\"color\":\"#FECB52\"},\"name\":\"TOKA-016\",\"offsetgroup\":\"TOKA-016\",\"orientation\":\"h\",\"pointpos\":0,\"showlegend\":true,\"x\":[1.07],\"x0\":\" \",\"xaxis\":\"x\",\"y\":[\"Bulk Density(g/cm3)\"],\"y0\":\" \",\"yaxis\":\"y\",\"type\":\"box\"}],                        {\"template\":{\"data\":{\"histogram2dcontour\":[{\"type\":\"histogram2dcontour\",\"colorbar\":{\"outlinewidth\":0,\"ticks\":\"\"},\"colorscale\":[[0.0,\"#0d0887\"],[0.1111111111111111,\"#46039f\"],[0.2222222222222222,\"#7201a8\"],[0.3333333333333333,\"#9c179e\"],[0.4444444444444444,\"#bd3786\"],[0.5555555555555556,\"#d8576b\"],[0.6666666666666666,\"#ed7953\"],[0.7777777777777778,\"#fb9f3a\"],[0.8888888888888888,\"#fdca26\"],[1.0,\"#f0f921\"]]}],\"choropleth\":[{\"type\":\"choropleth\",\"colorbar\":{\"outlinewidth\":0,\"ticks\":\"\"}}],\"histogram2d\":[{\"type\":\"histogram2d\",\"colorbar\":{\"outlinewidth\":0,\"ticks\":\"\"},\"colorscale\":[[0.0,\"#0d0887\"],[0.1111111111111111,\"#46039f\"],[0.2222222222222222,\"#7201a8\"],[0.3333333333333333,\"#9c179e\"],[0.4444444444444444,\"#bd3786\"],[0.5555555555555556,\"#d8576b\"],[0.6666666666666666,\"#ed7953\"],[0.7777777777777778,\"#fb9f3a\"],[0.8888888888888888,\"#fdca26\"],[1.0,\"#f0f921\"]]}],\"heatmap\":[{\"type\":\"heatmap\",\"colorbar\":{\"outlinewidth\":0,\"ticks\":\"\"},\"colorscale\":[[0.0,\"#0d0887\"],[0.1111111111111111,\"#46039f\"],[0.2222222222222222,\"#7201a8\"],[0.3333333333333333,\"#9c179e\"],[0.4444444444444444,\"#bd3786\"],[0.5555555555555556,\"#d8576b\"],[0.6666666666666666,\"#ed7953\"],[0.7777777777777778,\"#fb9f3a\"],[0.8888888888888888,\"#fdca26\"],[1.0,\"#f0f921\"]]}],\"heatmapgl\":[{\"type\":\"heatmapgl\",\"colorbar\":{\"outlinewidth\":0,\"ticks\":\"\"},\"colorscale\":[[0.0,\"#0d0887\"],[0.1111111111111111,\"#46039f\"],[0.2222222222222222,\"#7201a8\"],[0.3333333333333333,\"#9c179e\"],[0.4444444444444444,\"#bd3786\"],[0.5555555555555556,\"#d8576b\"],[0.6666666666666666,\"#ed7953\"],[0.7777777777777778,\"#fb9f3a\"],[0.8888888888888888,\"#fdca26\"],[1.0,\"#f0f921\"]]}],\"contourcarpet\":[{\"type\":\"contourcarpet\",\"colorbar\":{\"outlinewidth\":0,\"ticks\":\"\"}}],\"contour\":[{\"type\":\"contour\",\"colorbar\":{\"outlinewidth\":0,\"ticks\":\"\"},\"colorscale\":[[0.0,\"#0d0887\"],[0.1111111111111111,\"#46039f\"],[0.2222222222222222,\"#7201a8\"],[0.3333333333333333,\"#9c179e\"],[0.4444444444444444,\"#bd3786\"],[0.5555555555555556,\"#d8576b\"],[0.6666666666666666,\"#ed7953\"],[0.7777777777777778,\"#fb9f3a\"],[0.8888888888888888,\"#fdca26\"],[1.0,\"#f0f921\"]]}],\"surface\":[{\"type\":\"surface\",\"colorbar\":{\"outlinewidth\":0,\"ticks\":\"\"},\"colorscale\":[[0.0,\"#0d0887\"],[0.1111111111111111,\"#46039f\"],[0.2222222222222222,\"#7201a8\"],[0.3333333333333333,\"#9c179e\"],[0.4444444444444444,\"#bd3786\"],[0.5555555555555556,\"#d8576b\"],[0.6666666666666666,\"#ed7953\"],[0.7777777777777778,\"#fb9f3a\"],[0.8888888888888888,\"#fdca26\"],[1.0,\"#f0f921\"]]}],\"mesh3d\":[{\"type\":\"mesh3d\",\"colorbar\":{\"outlinewidth\":0,\"ticks\":\"\"}}],\"scatter\":[{\"fillpattern\":{\"fillmode\":\"overlay\",\"size\":10,\"solidity\":0.2},\"type\":\"scatter\"}],\"parcoords\":[{\"type\":\"parcoords\",\"line\":{\"colorbar\":{\"outlinewidth\":0,\"ticks\":\"\"}}}],\"scatterpolargl\":[{\"type\":\"scatterpolargl\",\"marker\":{\"colorbar\":{\"outlinewidth\":0,\"ticks\":\"\"}}}],\"bar\":[{\"error_x\":{\"color\":\"#2a3f5f\"},\"error_y\":{\"color\":\"#2a3f5f\"},\"marker\":{\"line\":{\"color\":\"#E5ECF6\",\"width\":0.5},\"pattern\":{\"fillmode\":\"overlay\",\"size\":10,\"solidity\":0.2}},\"type\":\"bar\"}],\"scattergeo\":[{\"type\":\"scattergeo\",\"marker\":{\"colorbar\":{\"outlinewidth\":0,\"ticks\":\"\"}}}],\"scatterpolar\":[{\"type\":\"scatterpolar\",\"marker\":{\"colorbar\":{\"outlinewidth\":0,\"ticks\":\"\"}}}],\"histogram\":[{\"marker\":{\"pattern\":{\"fillmode\":\"overlay\",\"size\":10,\"solidity\":0.2}},\"type\":\"histogram\"}],\"scattergl\":[{\"type\":\"scattergl\",\"marker\":{\"colorbar\":{\"outlinewidth\":0,\"ticks\":\"\"}}}],\"scatter3d\":[{\"type\":\"scatter3d\",\"line\":{\"colorbar\":{\"outlinewidth\":0,\"ticks\":\"\"}},\"marker\":{\"colorbar\":{\"outlinewidth\":0,\"ticks\":\"\"}}}],\"scattermapbox\":[{\"type\":\"scattermapbox\",\"marker\":{\"colorbar\":{\"outlinewidth\":0,\"ticks\":\"\"}}}],\"scatterternary\":[{\"type\":\"scatterternary\",\"marker\":{\"colorbar\":{\"outlinewidth\":0,\"ticks\":\"\"}}}],\"scattercarpet\":[{\"type\":\"scattercarpet\",\"marker\":{\"colorbar\":{\"outlinewidth\":0,\"ticks\":\"\"}}}],\"carpet\":[{\"aaxis\":{\"endlinecolor\":\"#2a3f5f\",\"gridcolor\":\"white\",\"linecolor\":\"white\",\"minorgridcolor\":\"white\",\"startlinecolor\":\"#2a3f5f\"},\"baxis\":{\"endlinecolor\":\"#2a3f5f\",\"gridcolor\":\"white\",\"linecolor\":\"white\",\"minorgridcolor\":\"white\",\"startlinecolor\":\"#2a3f5f\"},\"type\":\"carpet\"}],\"table\":[{\"cells\":{\"fill\":{\"color\":\"#EBF0F8\"},\"line\":{\"color\":\"white\"}},\"header\":{\"fill\":{\"color\":\"#C8D4E3\"},\"line\":{\"color\":\"white\"}},\"type\":\"table\"}],\"barpolar\":[{\"marker\":{\"line\":{\"color\":\"#E5ECF6\",\"width\":0.5},\"pattern\":{\"fillmode\":\"overlay\",\"size\":10,\"solidity\":0.2}},\"type\":\"barpolar\"}],\"pie\":[{\"automargin\":true,\"type\":\"pie\"}]},\"layout\":{\"autotypenumbers\":\"strict\",\"colorway\":[\"#636efa\",\"#EF553B\",\"#00cc96\",\"#ab63fa\",\"#FFA15A\",\"#19d3f3\",\"#FF6692\",\"#B6E880\",\"#FF97FF\",\"#FECB52\"],\"font\":{\"color\":\"#2a3f5f\"},\"hovermode\":\"closest\",\"hoverlabel\":{\"align\":\"left\"},\"paper_bgcolor\":\"white\",\"plot_bgcolor\":\"#E5ECF6\",\"polar\":{\"bgcolor\":\"#E5ECF6\",\"angularaxis\":{\"gridcolor\":\"white\",\"linecolor\":\"white\",\"ticks\":\"\"},\"radialaxis\":{\"gridcolor\":\"white\",\"linecolor\":\"white\",\"ticks\":\"\"}},\"ternary\":{\"bgcolor\":\"#E5ECF6\",\"aaxis\":{\"gridcolor\":\"white\",\"linecolor\":\"white\",\"ticks\":\"\"},\"baxis\":{\"gridcolor\":\"white\",\"linecolor\":\"white\",\"ticks\":\"\"},\"caxis\":{\"gridcolor\":\"white\",\"linecolor\":\"white\",\"ticks\":\"\"}},\"coloraxis\":{\"colorbar\":{\"outlinewidth\":0,\"ticks\":\"\"}},\"colorscale\":{\"sequential\":[[0.0,\"#0d0887\"],[0.1111111111111111,\"#46039f\"],[0.2222222222222222,\"#7201a8\"],[0.3333333333333333,\"#9c179e\"],[0.4444444444444444,\"#bd3786\"],[0.5555555555555556,\"#d8576b\"],[0.6666666666666666,\"#ed7953\"],[0.7777777777777778,\"#fb9f3a\"],[0.8888888888888888,\"#fdca26\"],[1.0,\"#f0f921\"]],\"sequentialminus\":[[0.0,\"#0d0887\"],[0.1111111111111111,\"#46039f\"],[0.2222222222222222,\"#7201a8\"],[0.3333333333333333,\"#9c179e\"],[0.4444444444444444,\"#bd3786\"],[0.5555555555555556,\"#d8576b\"],[0.6666666666666666,\"#ed7953\"],[0.7777777777777778,\"#fb9f3a\"],[0.8888888888888888,\"#fdca26\"],[1.0,\"#f0f921\"]],\"diverging\":[[0,\"#8e0152\"],[0.1,\"#c51b7d\"],[0.2,\"#de77ae\"],[0.3,\"#f1b6da\"],[0.4,\"#fde0ef\"],[0.5,\"#f7f7f7\"],[0.6,\"#e6f5d0\"],[0.7,\"#b8e186\"],[0.8,\"#7fbc41\"],[0.9,\"#4d9221\"],[1,\"#276419\"]]},\"xaxis\":{\"gridcolor\":\"white\",\"linecolor\":\"white\",\"ticks\":\"\",\"title\":{\"standoff\":15},\"zerolinecolor\":\"white\",\"automargin\":true,\"zerolinewidth\":2},\"yaxis\":{\"gridcolor\":\"white\",\"linecolor\":\"white\",\"ticks\":\"\",\"title\":{\"standoff\":15},\"zerolinecolor\":\"white\",\"automargin\":true,\"zerolinewidth\":2},\"scene\":{\"xaxis\":{\"backgroundcolor\":\"#E5ECF6\",\"gridcolor\":\"white\",\"linecolor\":\"white\",\"showbackground\":true,\"ticks\":\"\",\"zerolinecolor\":\"white\",\"gridwidth\":2},\"yaxis\":{\"backgroundcolor\":\"#E5ECF6\",\"gridcolor\":\"white\",\"linecolor\":\"white\",\"showbackground\":true,\"ticks\":\"\",\"zerolinecolor\":\"white\",\"gridwidth\":2},\"zaxis\":{\"backgroundcolor\":\"#E5ECF6\",\"gridcolor\":\"white\",\"linecolor\":\"white\",\"showbackground\":true,\"ticks\":\"\",\"zerolinecolor\":\"white\",\"gridwidth\":2}},\"shapedefaults\":{\"line\":{\"color\":\"#2a3f5f\"}},\"annotationdefaults\":{\"arrowcolor\":\"#2a3f5f\",\"arrowhead\":0,\"arrowwidth\":1},\"geo\":{\"bgcolor\":\"white\",\"landcolor\":\"#E5ECF6\",\"subunitcolor\":\"white\",\"showland\":true,\"showlakes\":true,\"lakecolor\":\"white\"},\"title\":{\"x\":0.05},\"mapbox\":{\"style\":\"light\"}}},\"xaxis\":{\"anchor\":\"y\",\"domain\":[0.0,1.0],\"title\":{\"text\":\"Value\"}},\"yaxis\":{\"anchor\":\"x\",\"domain\":[0.0,1.0],\"title\":{\"text\":\"Element Unit\"}},\"legend\":{\"title\":{\"text\":\"SampleMetaData.ReportID\"},\"tracegroupgap\":0},\"margin\":{\"t\":60},\"boxmode\":\"group\"},                        {\"responsive\": true}                    ).then(function(){\n",
       "                            \n",
       "var gd = document.getElementById('b0b63cc3-e49a-4fad-b8a2-764ae611f539');\n",
       "var x = new MutationObserver(function (mutations, observer) {{\n",
       "        var display = window.getComputedStyle(gd).display;\n",
       "        if (!display || display === 'none') {{\n",
       "            console.log([gd, 'removed!']);\n",
       "            Plotly.purge(gd);\n",
       "            observer.disconnect();\n",
       "        }}\n",
       "}});\n",
       "\n",
       "// Listen for the removal of the full notebook cells\n",
       "var notebookContainer = gd.closest('#notebook-container');\n",
       "if (notebookContainer) {{\n",
       "    x.observe(notebookContainer, {childList: true});\n",
       "}}\n",
       "\n",
       "// Listen for the clearing of the current output cell\n",
       "var outputEl = gd.closest('.output');\n",
       "if (outputEl) {{\n",
       "    x.observe(outputEl, {childList: true});\n",
       "}}\n",
       "\n",
       "                        })                };                });            </script>        </div>"
      ]
     },
     "metadata": {},
     "output_type": "display_data"
    }
   ],
   "source": [
    "\n",
    "px.strip(flattend_data_df, y=\"Element Unit\", x=\"Value\", color=\"SampleMetaData.ReportID\")\n"
   ]
  },
  {
   "cell_type": "code",
   "execution_count": 29,
   "id": "3f73184e-ac7c-4e47-a8d0-68bba523b64b",
   "metadata": {},
   "outputs": [
    {
     "data": {
      "text/plain": [
       "(2526, 16)"
      ]
     },
     "execution_count": 29,
     "metadata": {},
     "output_type": "execute_result"
    }
   ],
   "source": []
  },
  {
   "cell_type": "code",
   "execution_count": 30,
   "id": "eb8705e7-e76a-436d-b028-e948d3393ae5",
   "metadata": {},
   "outputs": [
    {
     "data": {
      "text/plain": [
       "(30590, 16)"
      ]
     },
     "execution_count": 30,
     "metadata": {},
     "output_type": "execute_result"
    }
   ],
   "source": [
    "flattend_data_df.shape"
   ]
  },
  {
   "cell_type": "code",
   "execution_count": 55,
   "id": "85c1d2db-29c7-40a7-897a-5781f9ecbb1e",
   "metadata": {},
   "outputs": [],
   "source": [
    "idx= soil_samples[\"NutrientResults\"].index "
   ]
  },
  {
   "cell_type": "code",
   "execution_count": 57,
   "id": "a83e14b1-5a6c-4a19-937c-a0022be91260",
   "metadata": {},
   "outputs": [
    {
     "data": {
      "text/html": [
       "<div>\n",
       "<style scoped>\n",
       "    .dataframe tbody tr th:only-of-type {\n",
       "        vertical-align: middle;\n",
       "    }\n",
       "\n",
       "    .dataframe tbody tr th {\n",
       "        vertical-align: top;\n",
       "    }\n",
       "\n",
       "    .dataframe thead th {\n",
       "        text-align: right;\n",
       "    }\n",
       "</style>\n",
       "<table border=\"1\" class=\"dataframe\">\n",
       "  <thead>\n",
       "    <tr style=\"text-align: right;\">\n",
       "      <th></th>\n",
       "      <th>Element</th>\n",
       "      <th>ValueUnit</th>\n",
       "      <th>Value</th>\n",
       "    </tr>\n",
       "  </thead>\n",
       "  <tbody>\n",
       "    <tr>\n",
       "      <th>0</th>\n",
       "      <td>P</td>\n",
       "      <td>ug/g</td>\n",
       "      <td>19.500000</td>\n",
       "    </tr>\n",
       "    <tr>\n",
       "      <th>0</th>\n",
       "      <td>NaN</td>\n",
       "      <td>%</td>\n",
       "      <td>45.000000</td>\n",
       "    </tr>\n",
       "    <tr>\n",
       "      <th>0</th>\n",
       "      <td>Silt</td>\n",
       "      <td>%</td>\n",
       "      <td>27.500000</td>\n",
       "    </tr>\n",
       "    <tr>\n",
       "      <th>0</th>\n",
       "      <td>Clay</td>\n",
       "      <td>%</td>\n",
       "      <td>27.500000</td>\n",
       "    </tr>\n",
       "    <tr>\n",
       "      <th>0</th>\n",
       "      <td>pH</td>\n",
       "      <td>none</td>\n",
       "      <td>5.100000</td>\n",
       "    </tr>\n",
       "    <tr>\n",
       "      <th>0</th>\n",
       "      <td>CEC</td>\n",
       "      <td>cmol(+)/kg</td>\n",
       "      <td>38.300000</td>\n",
       "    </tr>\n",
       "    <tr>\n",
       "      <th>0</th>\n",
       "      <td>Ca</td>\n",
       "      <td>cmol(+)/kg</td>\n",
       "      <td>19.770000</td>\n",
       "    </tr>\n",
       "    <tr>\n",
       "      <th>0</th>\n",
       "      <td>Mg</td>\n",
       "      <td>cmol(+)/kg</td>\n",
       "      <td>8.866667</td>\n",
       "    </tr>\n",
       "    <tr>\n",
       "      <th>0</th>\n",
       "      <td>K</td>\n",
       "      <td>cmol(+)/kg</td>\n",
       "      <td>0.828205</td>\n",
       "    </tr>\n",
       "    <tr>\n",
       "      <th>0</th>\n",
       "      <td>Na</td>\n",
       "      <td>cmol(+)/kg</td>\n",
       "      <td>0.256522</td>\n",
       "    </tr>\n",
       "    <tr>\n",
       "      <th>0</th>\n",
       "      <td>TOC</td>\n",
       "      <td>%</td>\n",
       "      <td>2.400000</td>\n",
       "    </tr>\n",
       "    <tr>\n",
       "      <th>0</th>\n",
       "      <td>TN</td>\n",
       "      <td>%</td>\n",
       "      <td>0.227980</td>\n",
       "    </tr>\n",
       "    <tr>\n",
       "      <th>1</th>\n",
       "      <td>P</td>\n",
       "      <td>ug/g</td>\n",
       "      <td>6.800000</td>\n",
       "    </tr>\n",
       "    <tr>\n",
       "      <th>1</th>\n",
       "      <td>NaN</td>\n",
       "      <td>%</td>\n",
       "      <td>52.500000</td>\n",
       "    </tr>\n",
       "    <tr>\n",
       "      <th>1</th>\n",
       "      <td>Silt</td>\n",
       "      <td>%</td>\n",
       "      <td>25.000000</td>\n",
       "    </tr>\n",
       "    <tr>\n",
       "      <th>1</th>\n",
       "      <td>Clay</td>\n",
       "      <td>%</td>\n",
       "      <td>22.500000</td>\n",
       "    </tr>\n",
       "    <tr>\n",
       "      <th>1</th>\n",
       "      <td>pH</td>\n",
       "      <td>none</td>\n",
       "      <td>6.100000</td>\n",
       "    </tr>\n",
       "    <tr>\n",
       "      <th>1</th>\n",
       "      <td>CEC</td>\n",
       "      <td>cmol(+)/kg</td>\n",
       "      <td>25.000000</td>\n",
       "    </tr>\n",
       "    <tr>\n",
       "      <th>1</th>\n",
       "      <td>Ca</td>\n",
       "      <td>cmol(+)/kg</td>\n",
       "      <td>9.815000</td>\n",
       "    </tr>\n",
       "    <tr>\n",
       "      <th>1</th>\n",
       "      <td>Mg</td>\n",
       "      <td>cmol(+)/kg</td>\n",
       "      <td>6.700000</td>\n",
       "    </tr>\n",
       "    <tr>\n",
       "      <th>1</th>\n",
       "      <td>K</td>\n",
       "      <td>cmol(+)/kg</td>\n",
       "      <td>0.723077</td>\n",
       "    </tr>\n",
       "    <tr>\n",
       "      <th>1</th>\n",
       "      <td>Na</td>\n",
       "      <td>cmol(+)/kg</td>\n",
       "      <td>0.139130</td>\n",
       "    </tr>\n",
       "    <tr>\n",
       "      <th>1</th>\n",
       "      <td>TOC</td>\n",
       "      <td>%</td>\n",
       "      <td>1.700000</td>\n",
       "    </tr>\n",
       "    <tr>\n",
       "      <th>1</th>\n",
       "      <td>TN</td>\n",
       "      <td>%</td>\n",
       "      <td>0.213660</td>\n",
       "    </tr>\n",
       "    <tr>\n",
       "      <th>2</th>\n",
       "      <td>P</td>\n",
       "      <td>ug/g</td>\n",
       "      <td>7.900000</td>\n",
       "    </tr>\n",
       "    <tr>\n",
       "      <th>2</th>\n",
       "      <td>NaN</td>\n",
       "      <td>%</td>\n",
       "      <td>27.500000</td>\n",
       "    </tr>\n",
       "    <tr>\n",
       "      <th>2</th>\n",
       "      <td>Silt</td>\n",
       "      <td>%</td>\n",
       "      <td>35.000000</td>\n",
       "    </tr>\n",
       "    <tr>\n",
       "      <th>2</th>\n",
       "      <td>Clay</td>\n",
       "      <td>%</td>\n",
       "      <td>37.500000</td>\n",
       "    </tr>\n",
       "    <tr>\n",
       "      <th>2</th>\n",
       "      <td>pH</td>\n",
       "      <td>none</td>\n",
       "      <td>5.800000</td>\n",
       "    </tr>\n",
       "    <tr>\n",
       "      <th>2</th>\n",
       "      <td>CEC</td>\n",
       "      <td>cmol(+)/kg</td>\n",
       "      <td>25.900000</td>\n",
       "    </tr>\n",
       "    <tr>\n",
       "      <th>2</th>\n",
       "      <td>Ca</td>\n",
       "      <td>cmol(+)/kg</td>\n",
       "      <td>7.005000</td>\n",
       "    </tr>\n",
       "    <tr>\n",
       "      <th>2</th>\n",
       "      <td>Mg</td>\n",
       "      <td>cmol(+)/kg</td>\n",
       "      <td>6.241667</td>\n",
       "    </tr>\n",
       "    <tr>\n",
       "      <th>2</th>\n",
       "      <td>K</td>\n",
       "      <td>cmol(+)/kg</td>\n",
       "      <td>0.630769</td>\n",
       "    </tr>\n",
       "    <tr>\n",
       "      <th>2</th>\n",
       "      <td>Na</td>\n",
       "      <td>cmol(+)/kg</td>\n",
       "      <td>0.234783</td>\n",
       "    </tr>\n",
       "    <tr>\n",
       "      <th>2</th>\n",
       "      <td>TOC</td>\n",
       "      <td>%</td>\n",
       "      <td>2.100000</td>\n",
       "    </tr>\n",
       "    <tr>\n",
       "      <th>2</th>\n",
       "      <td>TN</td>\n",
       "      <td>%</td>\n",
       "      <td>0.254200</td>\n",
       "    </tr>\n",
       "    <tr>\n",
       "      <th>3</th>\n",
       "      <td>P</td>\n",
       "      <td>ug/g</td>\n",
       "      <td>3.000000</td>\n",
       "    </tr>\n",
       "    <tr>\n",
       "      <th>3</th>\n",
       "      <td>NaN</td>\n",
       "      <td>%</td>\n",
       "      <td>36.200000</td>\n",
       "    </tr>\n",
       "    <tr>\n",
       "      <th>3</th>\n",
       "      <td>Silt</td>\n",
       "      <td>%</td>\n",
       "      <td>32.500000</td>\n",
       "    </tr>\n",
       "    <tr>\n",
       "      <th>3</th>\n",
       "      <td>Clay</td>\n",
       "      <td>%</td>\n",
       "      <td>31.200000</td>\n",
       "    </tr>\n",
       "    <tr>\n",
       "      <th>3</th>\n",
       "      <td>pH</td>\n",
       "      <td>none</td>\n",
       "      <td>5.900000</td>\n",
       "    </tr>\n",
       "    <tr>\n",
       "      <th>3</th>\n",
       "      <td>CEC</td>\n",
       "      <td>cmol(+)/kg</td>\n",
       "      <td>28.200000</td>\n",
       "    </tr>\n",
       "    <tr>\n",
       "      <th>3</th>\n",
       "      <td>Ca</td>\n",
       "      <td>cmol(+)/kg</td>\n",
       "      <td>10.890000</td>\n",
       "    </tr>\n",
       "    <tr>\n",
       "      <th>3</th>\n",
       "      <td>Mg</td>\n",
       "      <td>cmol(+)/kg</td>\n",
       "      <td>7.225000</td>\n",
       "    </tr>\n",
       "    <tr>\n",
       "      <th>3</th>\n",
       "      <td>K</td>\n",
       "      <td>cmol(+)/kg</td>\n",
       "      <td>0.512821</td>\n",
       "    </tr>\n",
       "    <tr>\n",
       "      <th>3</th>\n",
       "      <td>Na</td>\n",
       "      <td>cmol(+)/kg</td>\n",
       "      <td>0.291304</td>\n",
       "    </tr>\n",
       "    <tr>\n",
       "      <th>3</th>\n",
       "      <td>TOC</td>\n",
       "      <td>%</td>\n",
       "      <td>2.100000</td>\n",
       "    </tr>\n",
       "    <tr>\n",
       "      <th>3</th>\n",
       "      <td>TN</td>\n",
       "      <td>%</td>\n",
       "      <td>0.227520</td>\n",
       "    </tr>\n",
       "  </tbody>\n",
       "</table>\n",
       "</div>"
      ],
      "text/plain": [
       "  Element   ValueUnit      Value\n",
       "0       P        ug/g  19.500000\n",
       "0     NaN           %  45.000000\n",
       "0    Silt           %  27.500000\n",
       "0    Clay           %  27.500000\n",
       "0      pH        none   5.100000\n",
       "0     CEC  cmol(+)/kg  38.300000\n",
       "0      Ca  cmol(+)/kg  19.770000\n",
       "0      Mg  cmol(+)/kg   8.866667\n",
       "0       K  cmol(+)/kg   0.828205\n",
       "0      Na  cmol(+)/kg   0.256522\n",
       "0     TOC           %   2.400000\n",
       "0      TN           %   0.227980\n",
       "1       P        ug/g   6.800000\n",
       "1     NaN           %  52.500000\n",
       "1    Silt           %  25.000000\n",
       "1    Clay           %  22.500000\n",
       "1      pH        none   6.100000\n",
       "1     CEC  cmol(+)/kg  25.000000\n",
       "1      Ca  cmol(+)/kg   9.815000\n",
       "1      Mg  cmol(+)/kg   6.700000\n",
       "1       K  cmol(+)/kg   0.723077\n",
       "1      Na  cmol(+)/kg   0.139130\n",
       "1     TOC           %   1.700000\n",
       "1      TN           %   0.213660\n",
       "2       P        ug/g   7.900000\n",
       "2     NaN           %  27.500000\n",
       "2    Silt           %  35.000000\n",
       "2    Clay           %  37.500000\n",
       "2      pH        none   5.800000\n",
       "2     CEC  cmol(+)/kg  25.900000\n",
       "2      Ca  cmol(+)/kg   7.005000\n",
       "2      Mg  cmol(+)/kg   6.241667\n",
       "2       K  cmol(+)/kg   0.630769\n",
       "2      Na  cmol(+)/kg   0.234783\n",
       "2     TOC           %   2.100000\n",
       "2      TN           %   0.254200\n",
       "3       P        ug/g   3.000000\n",
       "3     NaN           %  36.200000\n",
       "3    Silt           %  32.500000\n",
       "3    Clay           %  31.200000\n",
       "3      pH        none   5.900000\n",
       "3     CEC  cmol(+)/kg  28.200000\n",
       "3      Ca  cmol(+)/kg  10.890000\n",
       "3      Mg  cmol(+)/kg   7.225000\n",
       "3       K  cmol(+)/kg   0.512821\n",
       "3      Na  cmol(+)/kg   0.291304\n",
       "3     TOC           %   2.100000\n",
       "3      TN           %   0.227520"
      ]
     },
     "execution_count": 57,
     "metadata": {},
     "output_type": "execute_result"
    }
   ],
   "source": []
  },
  {
   "cell_type": "code",
   "execution_count": 40,
   "id": "45ee98dc-3e4f-4fd5-865f-d5884180e8bd",
   "metadata": {},
   "outputs": [
    {
     "data": {
      "text/html": [
       "<div>\n",
       "<style scoped>\n",
       "    .dataframe tbody tr th:only-of-type {\n",
       "        vertical-align: middle;\n",
       "    }\n",
       "\n",
       "    .dataframe tbody tr th {\n",
       "        vertical-align: top;\n",
       "    }\n",
       "\n",
       "    .dataframe thead th {\n",
       "        text-align: right;\n",
       "    }\n",
       "</style>\n",
       "<table border=\"1\" class=\"dataframe\">\n",
       "  <thead>\n",
       "    <tr style=\"text-align: right;\">\n",
       "      <th></th>\n",
       "      <th>Element</th>\n",
       "      <th>ValueUnit</th>\n",
       "      <th>Value</th>\n",
       "    </tr>\n",
       "  </thead>\n",
       "  <tbody>\n",
       "    <tr>\n",
       "      <th>0</th>\n",
       "      <td>P</td>\n",
       "      <td>ug/g</td>\n",
       "      <td>19.500000</td>\n",
       "    </tr>\n",
       "    <tr>\n",
       "      <th>1</th>\n",
       "      <td>NaN</td>\n",
       "      <td>%</td>\n",
       "      <td>45.000000</td>\n",
       "    </tr>\n",
       "    <tr>\n",
       "      <th>2</th>\n",
       "      <td>Silt</td>\n",
       "      <td>%</td>\n",
       "      <td>27.500000</td>\n",
       "    </tr>\n",
       "    <tr>\n",
       "      <th>3</th>\n",
       "      <td>Clay</td>\n",
       "      <td>%</td>\n",
       "      <td>27.500000</td>\n",
       "    </tr>\n",
       "    <tr>\n",
       "      <th>4</th>\n",
       "      <td>pH</td>\n",
       "      <td>none</td>\n",
       "      <td>5.100000</td>\n",
       "    </tr>\n",
       "    <tr>\n",
       "      <th>5</th>\n",
       "      <td>CEC</td>\n",
       "      <td>cmol(+)/kg</td>\n",
       "      <td>38.300000</td>\n",
       "    </tr>\n",
       "    <tr>\n",
       "      <th>6</th>\n",
       "      <td>Ca</td>\n",
       "      <td>cmol(+)/kg</td>\n",
       "      <td>19.770000</td>\n",
       "    </tr>\n",
       "    <tr>\n",
       "      <th>7</th>\n",
       "      <td>Mg</td>\n",
       "      <td>cmol(+)/kg</td>\n",
       "      <td>8.866667</td>\n",
       "    </tr>\n",
       "    <tr>\n",
       "      <th>8</th>\n",
       "      <td>K</td>\n",
       "      <td>cmol(+)/kg</td>\n",
       "      <td>0.828205</td>\n",
       "    </tr>\n",
       "    <tr>\n",
       "      <th>9</th>\n",
       "      <td>Na</td>\n",
       "      <td>cmol(+)/kg</td>\n",
       "      <td>0.256522</td>\n",
       "    </tr>\n",
       "    <tr>\n",
       "      <th>10</th>\n",
       "      <td>TOC</td>\n",
       "      <td>%</td>\n",
       "      <td>2.400000</td>\n",
       "    </tr>\n",
       "    <tr>\n",
       "      <th>11</th>\n",
       "      <td>TN</td>\n",
       "      <td>%</td>\n",
       "      <td>0.227980</td>\n",
       "    </tr>\n",
       "    <tr>\n",
       "      <th>12</th>\n",
       "      <td>P</td>\n",
       "      <td>ug/g</td>\n",
       "      <td>6.800000</td>\n",
       "    </tr>\n",
       "    <tr>\n",
       "      <th>13</th>\n",
       "      <td>NaN</td>\n",
       "      <td>%</td>\n",
       "      <td>52.500000</td>\n",
       "    </tr>\n",
       "    <tr>\n",
       "      <th>14</th>\n",
       "      <td>Silt</td>\n",
       "      <td>%</td>\n",
       "      <td>25.000000</td>\n",
       "    </tr>\n",
       "    <tr>\n",
       "      <th>15</th>\n",
       "      <td>Clay</td>\n",
       "      <td>%</td>\n",
       "      <td>22.500000</td>\n",
       "    </tr>\n",
       "    <tr>\n",
       "      <th>16</th>\n",
       "      <td>pH</td>\n",
       "      <td>none</td>\n",
       "      <td>6.100000</td>\n",
       "    </tr>\n",
       "    <tr>\n",
       "      <th>17</th>\n",
       "      <td>CEC</td>\n",
       "      <td>cmol(+)/kg</td>\n",
       "      <td>25.000000</td>\n",
       "    </tr>\n",
       "    <tr>\n",
       "      <th>18</th>\n",
       "      <td>Ca</td>\n",
       "      <td>cmol(+)/kg</td>\n",
       "      <td>9.815000</td>\n",
       "    </tr>\n",
       "    <tr>\n",
       "      <th>19</th>\n",
       "      <td>Mg</td>\n",
       "      <td>cmol(+)/kg</td>\n",
       "      <td>6.700000</td>\n",
       "    </tr>\n",
       "    <tr>\n",
       "      <th>20</th>\n",
       "      <td>K</td>\n",
       "      <td>cmol(+)/kg</td>\n",
       "      <td>0.723077</td>\n",
       "    </tr>\n",
       "    <tr>\n",
       "      <th>21</th>\n",
       "      <td>Na</td>\n",
       "      <td>cmol(+)/kg</td>\n",
       "      <td>0.139130</td>\n",
       "    </tr>\n",
       "    <tr>\n",
       "      <th>22</th>\n",
       "      <td>TOC</td>\n",
       "      <td>%</td>\n",
       "      <td>1.700000</td>\n",
       "    </tr>\n",
       "    <tr>\n",
       "      <th>23</th>\n",
       "      <td>TN</td>\n",
       "      <td>%</td>\n",
       "      <td>0.213660</td>\n",
       "    </tr>\n",
       "    <tr>\n",
       "      <th>24</th>\n",
       "      <td>P</td>\n",
       "      <td>ug/g</td>\n",
       "      <td>7.900000</td>\n",
       "    </tr>\n",
       "    <tr>\n",
       "      <th>25</th>\n",
       "      <td>NaN</td>\n",
       "      <td>%</td>\n",
       "      <td>27.500000</td>\n",
       "    </tr>\n",
       "    <tr>\n",
       "      <th>26</th>\n",
       "      <td>Silt</td>\n",
       "      <td>%</td>\n",
       "      <td>35.000000</td>\n",
       "    </tr>\n",
       "    <tr>\n",
       "      <th>27</th>\n",
       "      <td>Clay</td>\n",
       "      <td>%</td>\n",
       "      <td>37.500000</td>\n",
       "    </tr>\n",
       "    <tr>\n",
       "      <th>28</th>\n",
       "      <td>pH</td>\n",
       "      <td>none</td>\n",
       "      <td>5.800000</td>\n",
       "    </tr>\n",
       "    <tr>\n",
       "      <th>29</th>\n",
       "      <td>CEC</td>\n",
       "      <td>cmol(+)/kg</td>\n",
       "      <td>25.900000</td>\n",
       "    </tr>\n",
       "    <tr>\n",
       "      <th>30</th>\n",
       "      <td>Ca</td>\n",
       "      <td>cmol(+)/kg</td>\n",
       "      <td>7.005000</td>\n",
       "    </tr>\n",
       "    <tr>\n",
       "      <th>31</th>\n",
       "      <td>Mg</td>\n",
       "      <td>cmol(+)/kg</td>\n",
       "      <td>6.241667</td>\n",
       "    </tr>\n",
       "    <tr>\n",
       "      <th>32</th>\n",
       "      <td>K</td>\n",
       "      <td>cmol(+)/kg</td>\n",
       "      <td>0.630769</td>\n",
       "    </tr>\n",
       "    <tr>\n",
       "      <th>33</th>\n",
       "      <td>Na</td>\n",
       "      <td>cmol(+)/kg</td>\n",
       "      <td>0.234783</td>\n",
       "    </tr>\n",
       "    <tr>\n",
       "      <th>34</th>\n",
       "      <td>TOC</td>\n",
       "      <td>%</td>\n",
       "      <td>2.100000</td>\n",
       "    </tr>\n",
       "    <tr>\n",
       "      <th>35</th>\n",
       "      <td>TN</td>\n",
       "      <td>%</td>\n",
       "      <td>0.254200</td>\n",
       "    </tr>\n",
       "    <tr>\n",
       "      <th>36</th>\n",
       "      <td>P</td>\n",
       "      <td>ug/g</td>\n",
       "      <td>3.000000</td>\n",
       "    </tr>\n",
       "    <tr>\n",
       "      <th>37</th>\n",
       "      <td>NaN</td>\n",
       "      <td>%</td>\n",
       "      <td>36.200000</td>\n",
       "    </tr>\n",
       "    <tr>\n",
       "      <th>38</th>\n",
       "      <td>Silt</td>\n",
       "      <td>%</td>\n",
       "      <td>32.500000</td>\n",
       "    </tr>\n",
       "    <tr>\n",
       "      <th>39</th>\n",
       "      <td>Clay</td>\n",
       "      <td>%</td>\n",
       "      <td>31.200000</td>\n",
       "    </tr>\n",
       "    <tr>\n",
       "      <th>40</th>\n",
       "      <td>pH</td>\n",
       "      <td>none</td>\n",
       "      <td>5.900000</td>\n",
       "    </tr>\n",
       "    <tr>\n",
       "      <th>41</th>\n",
       "      <td>CEC</td>\n",
       "      <td>cmol(+)/kg</td>\n",
       "      <td>28.200000</td>\n",
       "    </tr>\n",
       "    <tr>\n",
       "      <th>42</th>\n",
       "      <td>Ca</td>\n",
       "      <td>cmol(+)/kg</td>\n",
       "      <td>10.890000</td>\n",
       "    </tr>\n",
       "    <tr>\n",
       "      <th>43</th>\n",
       "      <td>Mg</td>\n",
       "      <td>cmol(+)/kg</td>\n",
       "      <td>7.225000</td>\n",
       "    </tr>\n",
       "    <tr>\n",
       "      <th>44</th>\n",
       "      <td>K</td>\n",
       "      <td>cmol(+)/kg</td>\n",
       "      <td>0.512821</td>\n",
       "    </tr>\n",
       "    <tr>\n",
       "      <th>45</th>\n",
       "      <td>Na</td>\n",
       "      <td>cmol(+)/kg</td>\n",
       "      <td>0.291304</td>\n",
       "    </tr>\n",
       "    <tr>\n",
       "      <th>46</th>\n",
       "      <td>TOC</td>\n",
       "      <td>%</td>\n",
       "      <td>2.100000</td>\n",
       "    </tr>\n",
       "    <tr>\n",
       "      <th>47</th>\n",
       "      <td>TN</td>\n",
       "      <td>%</td>\n",
       "      <td>0.227520</td>\n",
       "    </tr>\n",
       "  </tbody>\n",
       "</table>\n",
       "</div>"
      ],
      "text/plain": [
       "   Element   ValueUnit      Value\n",
       "0        P        ug/g  19.500000\n",
       "1      NaN           %  45.000000\n",
       "2     Silt           %  27.500000\n",
       "3     Clay           %  27.500000\n",
       "4       pH        none   5.100000\n",
       "5      CEC  cmol(+)/kg  38.300000\n",
       "6       Ca  cmol(+)/kg  19.770000\n",
       "7       Mg  cmol(+)/kg   8.866667\n",
       "8        K  cmol(+)/kg   0.828205\n",
       "9       Na  cmol(+)/kg   0.256522\n",
       "10     TOC           %   2.400000\n",
       "11      TN           %   0.227980\n",
       "12       P        ug/g   6.800000\n",
       "13     NaN           %  52.500000\n",
       "14    Silt           %  25.000000\n",
       "15    Clay           %  22.500000\n",
       "16      pH        none   6.100000\n",
       "17     CEC  cmol(+)/kg  25.000000\n",
       "18      Ca  cmol(+)/kg   9.815000\n",
       "19      Mg  cmol(+)/kg   6.700000\n",
       "20       K  cmol(+)/kg   0.723077\n",
       "21      Na  cmol(+)/kg   0.139130\n",
       "22     TOC           %   1.700000\n",
       "23      TN           %   0.213660\n",
       "24       P        ug/g   7.900000\n",
       "25     NaN           %  27.500000\n",
       "26    Silt           %  35.000000\n",
       "27    Clay           %  37.500000\n",
       "28      pH        none   5.800000\n",
       "29     CEC  cmol(+)/kg  25.900000\n",
       "30      Ca  cmol(+)/kg   7.005000\n",
       "31      Mg  cmol(+)/kg   6.241667\n",
       "32       K  cmol(+)/kg   0.630769\n",
       "33      Na  cmol(+)/kg   0.234783\n",
       "34     TOC           %   2.100000\n",
       "35      TN           %   0.254200\n",
       "36       P        ug/g   3.000000\n",
       "37     NaN           %  36.200000\n",
       "38    Silt           %  32.500000\n",
       "39    Clay           %  31.200000\n",
       "40      pH        none   5.900000\n",
       "41     CEC  cmol(+)/kg  28.200000\n",
       "42      Ca  cmol(+)/kg  10.890000\n",
       "43      Mg  cmol(+)/kg   7.225000\n",
       "44       K  cmol(+)/kg   0.512821\n",
       "45      Na  cmol(+)/kg   0.291304\n",
       "46     TOC           %   2.100000\n",
       "47      TN           %   0.227520"
      ]
     },
     "execution_count": 40,
     "metadata": {},
     "output_type": "execute_result"
    }
   ],
   "source": [
    "pd.DataFrame(soil_samples[\"NutrientResults\"].tolist())"
   ]
  },
  {
   "cell_type": "code",
   "execution_count": 28,
   "id": "48fd0a73-a8c3-41e9-a9f3-448f33ec7ba7",
   "metadata": {},
   "outputs": [
    {
     "data": {
      "text/plain": [
       "0    {'Element': 'P', 'ValueUnit': 'ug/g', 'Value':...\n",
       "0                      {'ValueUnit': '%', 'Value': 45}\n",
       "0    {'Element': 'Silt', 'ValueUnit': '%', 'Value':...\n",
       "0    {'Element': 'Clay', 'ValueUnit': '%', 'Value':...\n",
       "0    {'Element': 'pH', 'ValueUnit': 'none', 'Value'...\n",
       "0    {'Element': 'CEC', 'ValueUnit': 'cmol(+)/kg', ...\n",
       "0    {'Element': 'Ca', 'ValueUnit': 'cmol(+)/kg', '...\n",
       "0    {'Element': 'Mg', 'ValueUnit': 'cmol(+)/kg', '...\n",
       "0    {'Element': 'K', 'ValueUnit': 'cmol(+)/kg', 'V...\n",
       "0    {'Element': 'Na', 'ValueUnit': 'cmol(+)/kg', '...\n",
       "0    {'Element': 'TOC', 'ValueUnit': '%', 'Value': ...\n",
       "0    {'Element': 'TN', 'ValueUnit': '%', 'Value': 0...\n",
       "1    {'Element': 'P', 'ValueUnit': 'ug/g', 'Value':...\n",
       "1                    {'ValueUnit': '%', 'Value': 52.5}\n",
       "1    {'Element': 'Silt', 'ValueUnit': '%', 'Value':...\n",
       "1    {'Element': 'Clay', 'ValueUnit': '%', 'Value':...\n",
       "1    {'Element': 'pH', 'ValueUnit': 'none', 'Value'...\n",
       "1    {'Element': 'CEC', 'ValueUnit': 'cmol(+)/kg', ...\n",
       "1    {'Element': 'Ca', 'ValueUnit': 'cmol(+)/kg', '...\n",
       "1    {'Element': 'Mg', 'ValueUnit': 'cmol(+)/kg', '...\n",
       "1    {'Element': 'K', 'ValueUnit': 'cmol(+)/kg', 'V...\n",
       "1    {'Element': 'Na', 'ValueUnit': 'cmol(+)/kg', '...\n",
       "1    {'Element': 'TOC', 'ValueUnit': '%', 'Value': ...\n",
       "1    {'Element': 'TN', 'ValueUnit': '%', 'Value': 0...\n",
       "2    {'Element': 'P', 'ValueUnit': 'ug/g', 'Value':...\n",
       "2                    {'ValueUnit': '%', 'Value': 27.5}\n",
       "2    {'Element': 'Silt', 'ValueUnit': '%', 'Value':...\n",
       "2    {'Element': 'Clay', 'ValueUnit': '%', 'Value':...\n",
       "2    {'Element': 'pH', 'ValueUnit': 'none', 'Value'...\n",
       "2    {'Element': 'CEC', 'ValueUnit': 'cmol(+)/kg', ...\n",
       "2    {'Element': 'Ca', 'ValueUnit': 'cmol(+)/kg', '...\n",
       "2    {'Element': 'Mg', 'ValueUnit': 'cmol(+)/kg', '...\n",
       "2    {'Element': 'K', 'ValueUnit': 'cmol(+)/kg', 'V...\n",
       "2    {'Element': 'Na', 'ValueUnit': 'cmol(+)/kg', '...\n",
       "2    {'Element': 'TOC', 'ValueUnit': '%', 'Value': ...\n",
       "2    {'Element': 'TN', 'ValueUnit': '%', 'Value': 0...\n",
       "3    {'Element': 'P', 'ValueUnit': 'ug/g', 'Value': 3}\n",
       "3                    {'ValueUnit': '%', 'Value': 36.2}\n",
       "3    {'Element': 'Silt', 'ValueUnit': '%', 'Value':...\n",
       "3    {'Element': 'Clay', 'ValueUnit': '%', 'Value':...\n",
       "3    {'Element': 'pH', 'ValueUnit': 'none', 'Value'...\n",
       "3    {'Element': 'CEC', 'ValueUnit': 'cmol(+)/kg', ...\n",
       "3    {'Element': 'Ca', 'ValueUnit': 'cmol(+)/kg', '...\n",
       "3    {'Element': 'Mg', 'ValueUnit': 'cmol(+)/kg', '...\n",
       "3    {'Element': 'K', 'ValueUnit': 'cmol(+)/kg', 'V...\n",
       "3    {'Element': 'Na', 'ValueUnit': 'cmol(+)/kg', '...\n",
       "3    {'Element': 'TOC', 'ValueUnit': '%', 'Value': ...\n",
       "3    {'Element': 'TN', 'ValueUnit': '%', 'Value': 0...\n",
       "Name: NutrientResults, dtype: object"
      ]
     },
     "execution_count": 28,
     "metadata": {},
     "output_type": "execute_result"
    }
   ],
   "source": [
    "soil_samples[\"NutrientResults\"]."
   ]
  },
  {
   "cell_type": "code",
   "execution_count": 70,
   "id": "ae272ee8-046d-4737-90d1-19208351e49c",
   "metadata": {},
   "outputs": [
    {
     "data": {
      "text/html": [
       "<div>\n",
       "<style scoped>\n",
       "    .dataframe tbody tr th:only-of-type {\n",
       "        vertical-align: middle;\n",
       "    }\n",
       "\n",
       "    .dataframe tbody tr th {\n",
       "        vertical-align: top;\n",
       "    }\n",
       "\n",
       "    .dataframe thead th {\n",
       "        text-align: right;\n",
       "    }\n",
       "</style>\n",
       "<table border=\"1\" class=\"dataframe\">\n",
       "  <thead>\n",
       "    <tr style=\"text-align: right;\">\n",
       "      <th></th>\n",
       "      <th>Depths</th>\n",
       "      <th>SampleMetaData.SampleNumber</th>\n",
       "      <th>SampleMetaData.ReportID</th>\n",
       "      <th>SampleMetaData.Geometry.wkt</th>\n",
       "    </tr>\n",
       "  </thead>\n",
       "  <tbody>\n",
       "    <tr>\n",
       "      <th>0</th>\n",
       "      <td>[{'DepthID': '1', 'NutrientResults': [{'Elemen...</td>\n",
       "      <td>0</td>\n",
       "      <td>TOKA-089</td>\n",
       "      <td>POINT(-122.3462180 37.2758779)</td>\n",
       "    </tr>\n",
       "    <tr>\n",
       "      <th>1</th>\n",
       "      <td>[{'DepthID': '1', 'NutrientResults': [{'Elemen...</td>\n",
       "      <td>1</td>\n",
       "      <td>TOKA-099</td>\n",
       "      <td>POINT(-122.3394662 37.2740376)</td>\n",
       "    </tr>\n",
       "    <tr>\n",
       "      <th>2</th>\n",
       "      <td>[{'DepthID': '1', 'NutrientResults': [{'Elemen...</td>\n",
       "      <td>2</td>\n",
       "      <td>TOKA-169</td>\n",
       "      <td>POINT(-122.3440091 37.2704573)</td>\n",
       "    </tr>\n",
       "    <tr>\n",
       "      <th>3</th>\n",
       "      <td>[{'DepthID': '1', 'NutrientResults': [{'Elemen...</td>\n",
       "      <td>3</td>\n",
       "      <td>TOKA-170</td>\n",
       "      <td>POINT(-122.3440247 37.2686546)</td>\n",
       "    </tr>\n",
       "  </tbody>\n",
       "</table>\n",
       "</div>"
      ],
      "text/plain": [
       "                                              Depths  \\\n",
       "0  [{'DepthID': '1', 'NutrientResults': [{'Elemen...   \n",
       "1  [{'DepthID': '1', 'NutrientResults': [{'Elemen...   \n",
       "2  [{'DepthID': '1', 'NutrientResults': [{'Elemen...   \n",
       "3  [{'DepthID': '1', 'NutrientResults': [{'Elemen...   \n",
       "\n",
       "  SampleMetaData.SampleNumber SampleMetaData.ReportID  \\\n",
       "0                           0                TOKA-089   \n",
       "1                           1                TOKA-099   \n",
       "2                           2                TOKA-169   \n",
       "3                           3                TOKA-170   \n",
       "\n",
       "      SampleMetaData.Geometry.wkt  \n",
       "0  POINT(-122.3462180 37.2758779)  \n",
       "1  POINT(-122.3394662 37.2740376)  \n",
       "2  POINT(-122.3440091 37.2704573)  \n",
       "3  POINT(-122.3440247 37.2686546)  "
      ]
     },
     "execution_count": 70,
     "metadata": {},
     "output_type": "execute_result"
    }
   ],
   "source": [
    "soil_samples"
   ]
  },
  {
   "cell_type": "code",
   "execution_count": 56,
   "id": "a9c1151a-8a1b-4de8-8322-a956f609d350",
   "metadata": {},
   "outputs": [
    {
     "name": "stdout",
     "output_type": "stream",
     "text": [
      "2018-01-25\n",
      "2018-01-28\n",
      "2015-01-18\n",
      "2018-02-05\n",
      "2015-02-16\n",
      "2016-08-09\n",
      "2022-03-09\n",
      "2016-08-09\n",
      "2018-01-22\n",
      "2018-01-16\n",
      "2018-02-12\n",
      "NA\n",
      "2018-01-15\n",
      "2018-01-11\n",
      "2018-02-11\n",
      "2022-03-13\n",
      "2018-02-08\n",
      "2018-01-17\n",
      "2018-02-05\n",
      "2018-01-17\n",
      "2018-01-22\n",
      "2018-01-23\n",
      "2018-01-21\n",
      "2018-01-29\n",
      "2015-01-18\n",
      "2018-01-21\n",
      "2018-01-16\n",
      "2018-01-29\n",
      "2018-01-28\n",
      "2018-02-14\n",
      "2018-01-15\n",
      "2016-08-09\n",
      "2018-02-04\n",
      "2018-02-08\n",
      "2018-02-11\n",
      "2018-01-25\n",
      "2015-02-16\n",
      "2018-02-14\n",
      "2021-05-13\n",
      "2018-02-04\n",
      "2018-01-23\n",
      "2018-01-11\n",
      "2018-02-12\n"
     ]
    }
   ],
   "source": [
    "for event in modus_jsons_events:\n",
    "    print(get_collection_date(event))"
   ]
  },
  {
   "cell_type": "code",
   "execution_count": 46,
   "id": "70f0b5f6-a24b-4873-9f00-346f7c074e0e",
   "metadata": {},
   "outputs": [
    {
     "data": {
      "text/plain": [
       "[{'LabMetaData': {'Reports': [{'ReportID': '1',\n",
       "     'FileDescription': '2018_RMN 10-40cm_13'}]},\n",
       "  'EventMetaData': {'EventDate': '2018-01-25', 'EventType': {'Soil': True}},\n",
       "  'EventSamples': {'Soil': {'DepthRefs': [{'DepthUnit': 'cm',\n",
       "      'StartingDepth': 10,\n",
       "      'EndingDepth': 40,\n",
       "      'Name': '10 to 40',\n",
       "      'ColumnDepth': 30,\n",
       "      'DepthID': 1}],\n",
       "    'SoilSamples': [{'SampleMetaData': {'SampleNumber': '0',\n",
       "       'ReportID': 'TOKA-089',\n",
       "       'Geometry': {'wkt': 'POINT(-122.3462180 37.2758779)'}},\n",
       "      'Depths': [{'DepthID': '1',\n",
       "        'NutrientResults': [{'Element': 'P',\n",
       "          'ValueUnit': 'ug/g',\n",
       "          'Value': 19.5},\n",
       "         {'ValueUnit': '%', 'Value': 45},\n",
       "         {'Element': 'Silt', 'ValueUnit': '%', 'Value': 27.5},\n",
       "         {'Element': 'Clay', 'ValueUnit': '%', 'Value': 27.5},\n",
       "         {'Element': 'pH', 'ValueUnit': 'none', 'Value': 5.1},\n",
       "         {'Element': 'CEC', 'ValueUnit': 'cmol(+)/kg', 'Value': 38.3},\n",
       "         {'Element': 'Ca', 'ValueUnit': 'cmol(+)/kg', 'Value': 19.77},\n",
       "         {'Element': 'Mg',\n",
       "          'ValueUnit': 'cmol(+)/kg',\n",
       "          'Value': 8.866666666666667},\n",
       "         {'Element': 'K',\n",
       "          'ValueUnit': 'cmol(+)/kg',\n",
       "          'Value': 0.8282051282051283},\n",
       "         {'Element': 'Na',\n",
       "          'ValueUnit': 'cmol(+)/kg',\n",
       "          'Value': 0.2565217391304348},\n",
       "         {'Element': 'TOC', 'ValueUnit': '%', 'Value': 2.4},\n",
       "         {'Element': 'TN', 'ValueUnit': '%', 'Value': 0.22798}]}]},\n",
       "     {'SampleMetaData': {'SampleNumber': '1',\n",
       "       'ReportID': 'TOKA-099',\n",
       "       'Geometry': {'wkt': 'POINT(-122.3394662 37.2740376)'}},\n",
       "      'Depths': [{'DepthID': '1',\n",
       "        'NutrientResults': [{'Element': 'P',\n",
       "          'ValueUnit': 'ug/g',\n",
       "          'Value': 6.8},\n",
       "         {'ValueUnit': '%', 'Value': 52.5},\n",
       "         {'Element': 'Silt', 'ValueUnit': '%', 'Value': 25},\n",
       "         {'Element': 'Clay', 'ValueUnit': '%', 'Value': 22.5},\n",
       "         {'Element': 'pH', 'ValueUnit': 'none', 'Value': 6.1},\n",
       "         {'Element': 'CEC', 'ValueUnit': 'cmol(+)/kg', 'Value': 25},\n",
       "         {'Element': 'Ca', 'ValueUnit': 'cmol(+)/kg', 'Value': 9.815},\n",
       "         {'Element': 'Mg', 'ValueUnit': 'cmol(+)/kg', 'Value': 6.7},\n",
       "         {'Element': 'K',\n",
       "          'ValueUnit': 'cmol(+)/kg',\n",
       "          'Value': 0.7230769230769231},\n",
       "         {'Element': 'Na',\n",
       "          'ValueUnit': 'cmol(+)/kg',\n",
       "          'Value': 0.1391304347826087},\n",
       "         {'Element': 'TOC', 'ValueUnit': '%', 'Value': 1.7},\n",
       "         {'Element': 'TN', 'ValueUnit': '%', 'Value': 0.21366}]}]},\n",
       "     {'SampleMetaData': {'SampleNumber': '2',\n",
       "       'ReportID': 'TOKA-169',\n",
       "       'Geometry': {'wkt': 'POINT(-122.3440091 37.2704573)'}},\n",
       "      'Depths': [{'DepthID': '1',\n",
       "        'NutrientResults': [{'Element': 'P',\n",
       "          'ValueUnit': 'ug/g',\n",
       "          'Value': 7.9},\n",
       "         {'ValueUnit': '%', 'Value': 27.5},\n",
       "         {'Element': 'Silt', 'ValueUnit': '%', 'Value': 35},\n",
       "         {'Element': 'Clay', 'ValueUnit': '%', 'Value': 37.5},\n",
       "         {'Element': 'pH', 'ValueUnit': 'none', 'Value': 5.8},\n",
       "         {'Element': 'CEC', 'ValueUnit': 'cmol(+)/kg', 'Value': 25.9},\n",
       "         {'Element': 'Ca', 'ValueUnit': 'cmol(+)/kg', 'Value': 7.005},\n",
       "         {'Element': 'Mg',\n",
       "          'ValueUnit': 'cmol(+)/kg',\n",
       "          'Value': 6.241666666666666},\n",
       "         {'Element': 'K',\n",
       "          'ValueUnit': 'cmol(+)/kg',\n",
       "          'Value': 0.6307692307692307},\n",
       "         {'Element': 'Na',\n",
       "          'ValueUnit': 'cmol(+)/kg',\n",
       "          'Value': 0.23478260869565218},\n",
       "         {'Element': 'TOC', 'ValueUnit': '%', 'Value': 2.1},\n",
       "         {'Element': 'TN', 'ValueUnit': '%', 'Value': 0.2542}]}]},\n",
       "     {'SampleMetaData': {'SampleNumber': '3',\n",
       "       'ReportID': 'TOKA-170',\n",
       "       'Geometry': {'wkt': 'POINT(-122.3440247 37.2686546)'}},\n",
       "      'Depths': [{'DepthID': '1',\n",
       "        'NutrientResults': [{'Element': 'P', 'ValueUnit': 'ug/g', 'Value': 3},\n",
       "         {'ValueUnit': '%', 'Value': 36.2},\n",
       "         {'Element': 'Silt', 'ValueUnit': '%', 'Value': 32.5},\n",
       "         {'Element': 'Clay', 'ValueUnit': '%', 'Value': 31.2},\n",
       "         {'Element': 'pH', 'ValueUnit': 'none', 'Value': 5.9},\n",
       "         {'Element': 'CEC', 'ValueUnit': 'cmol(+)/kg', 'Value': 28.2},\n",
       "         {'Element': 'Ca', 'ValueUnit': 'cmol(+)/kg', 'Value': 10.89},\n",
       "         {'Element': 'Mg', 'ValueUnit': 'cmol(+)/kg', 'Value': 7.225},\n",
       "         {'Element': 'K',\n",
       "          'ValueUnit': 'cmol(+)/kg',\n",
       "          'Value': 0.5128205128205128},\n",
       "         {'Element': 'Na',\n",
       "          'ValueUnit': 'cmol(+)/kg',\n",
       "          'Value': 0.29130434782608694},\n",
       "         {'Element': 'TOC', 'ValueUnit': '%', 'Value': 2.1},\n",
       "         {'Element': 'TN', 'ValueUnit': '%', 'Value': 0.22752}]}]}]}}}]"
      ]
     },
     "execution_count": 46,
     "metadata": {},
     "output_type": "execute_result"
    }
   ],
   "source": [
    "event"
   ]
  },
  {
   "cell_type": "code",
   "execution_count": 34,
   "id": "6b4d59f0-3857-47df-b916-1e104b39829e",
   "metadata": {},
   "outputs": [
    {
     "data": {
      "text/plain": [
       "1"
      ]
     },
     "execution_count": 34,
     "metadata": {},
     "output_type": "execute_result"
    }
   ],
   "source": []
  },
  {
   "cell_type": "code",
   "execution_count": 35,
   "id": "e3273616-3a76-4adb-9d7c-c318d66336e8",
   "metadata": {},
   "outputs": [
    {
     "name": "stdout",
     "output_type": "stream",
     "text": [
      "1\n",
      "1\n",
      "1\n",
      "1\n",
      "1\n",
      "1\n",
      "1\n",
      "1\n",
      "1\n",
      "1\n",
      "1\n",
      "1\n",
      "1\n",
      "1\n",
      "1\n",
      "1\n",
      "1\n",
      "1\n",
      "1\n",
      "1\n",
      "1\n",
      "1\n",
      "1\n",
      "1\n",
      "1\n",
      "1\n",
      "1\n",
      "1\n",
      "1\n",
      "1\n",
      "1\n",
      "1\n",
      "1\n",
      "1\n",
      "1\n",
      "1\n",
      "1\n",
      "1\n",
      "1\n",
      "1\n",
      "1\n",
      "1\n",
      "1\n"
     ]
    }
   ],
   "source": [
    "for m in modus_jsons:\n",
    "    print(get_collection_date(m))"
   ]
  },
  {
   "cell_type": "code",
   "execution_count": 15,
   "id": "18648a64-4ed2-455e-a4ab-365cc97f7ad6",
   "metadata": {},
   "outputs": [
    {
     "data": {
      "application/json": [
       {
        "Events": [
         {
          "EventMetaData": {
           "EventDate": "2018-01-25",
           "EventType": {
            "Soil": true
           }
          },
          "EventSamples": {
           "Soil": {
            "DepthRefs": [
             {
              "ColumnDepth": 30,
              "DepthID": 1,
              "DepthUnit": "cm",
              "EndingDepth": 40,
              "Name": "10 to 40",
              "StartingDepth": 10
             }
            ],
            "SoilSamples": [
             {
              "Depths": [
               {
                "DepthID": "1",
                "NutrientResults": [
                 {
                  "Element": "P",
                  "Value": 19.5,
                  "ValueUnit": "ug/g"
                 },
                 {
                  "Value": 45,
                  "ValueUnit": "%"
                 },
                 {
                  "Element": "Silt",
                  "Value": 27.5,
                  "ValueUnit": "%"
                 },
                 {
                  "Element": "Clay",
                  "Value": 27.5,
                  "ValueUnit": "%"
                 },
                 {
                  "Element": "pH",
                  "Value": 5.1,
                  "ValueUnit": "none"
                 },
                 {
                  "Element": "CEC",
                  "Value": 38.3,
                  "ValueUnit": "cmol(+)/kg"
                 },
                 {
                  "Element": "Ca",
                  "Value": 19.77,
                  "ValueUnit": "cmol(+)/kg"
                 },
                 {
                  "Element": "Mg",
                  "Value": 8.866666666666667,
                  "ValueUnit": "cmol(+)/kg"
                 },
                 {
                  "Element": "K",
                  "Value": 0.8282051282051283,
                  "ValueUnit": "cmol(+)/kg"
                 },
                 {
                  "Element": "Na",
                  "Value": 0.2565217391304348,
                  "ValueUnit": "cmol(+)/kg"
                 },
                 {
                  "Element": "TOC",
                  "Value": 2.4,
                  "ValueUnit": "%"
                 },
                 {
                  "Element": "TN",
                  "Value": 0.22798,
                  "ValueUnit": "%"
                 }
                ]
               }
              ],
              "SampleMetaData": {
               "Geometry": {
                "wkt": "POINT(-122.3462180 37.2758779)"
               },
               "ReportID": "TOKA-089",
               "SampleNumber": "0"
              }
             },
             {
              "Depths": [
               {
                "DepthID": "1",
                "NutrientResults": [
                 {
                  "Element": "P",
                  "Value": 6.8,
                  "ValueUnit": "ug/g"
                 },
                 {
                  "Value": 52.5,
                  "ValueUnit": "%"
                 },
                 {
                  "Element": "Silt",
                  "Value": 25,
                  "ValueUnit": "%"
                 },
                 {
                  "Element": "Clay",
                  "Value": 22.5,
                  "ValueUnit": "%"
                 },
                 {
                  "Element": "pH",
                  "Value": 6.1,
                  "ValueUnit": "none"
                 },
                 {
                  "Element": "CEC",
                  "Value": 25,
                  "ValueUnit": "cmol(+)/kg"
                 },
                 {
                  "Element": "Ca",
                  "Value": 9.815,
                  "ValueUnit": "cmol(+)/kg"
                 },
                 {
                  "Element": "Mg",
                  "Value": 6.7,
                  "ValueUnit": "cmol(+)/kg"
                 },
                 {
                  "Element": "K",
                  "Value": 0.7230769230769231,
                  "ValueUnit": "cmol(+)/kg"
                 },
                 {
                  "Element": "Na",
                  "Value": 0.1391304347826087,
                  "ValueUnit": "cmol(+)/kg"
                 },
                 {
                  "Element": "TOC",
                  "Value": 1.7,
                  "ValueUnit": "%"
                 },
                 {
                  "Element": "TN",
                  "Value": 0.21366,
                  "ValueUnit": "%"
                 }
                ]
               }
              ],
              "SampleMetaData": {
               "Geometry": {
                "wkt": "POINT(-122.3394662 37.2740376)"
               },
               "ReportID": "TOKA-099",
               "SampleNumber": "1"
              }
             },
             {
              "Depths": [
               {
                "DepthID": "1",
                "NutrientResults": [
                 {
                  "Element": "P",
                  "Value": 7.9,
                  "ValueUnit": "ug/g"
                 },
                 {
                  "Value": 27.5,
                  "ValueUnit": "%"
                 },
                 {
                  "Element": "Silt",
                  "Value": 35,
                  "ValueUnit": "%"
                 },
                 {
                  "Element": "Clay",
                  "Value": 37.5,
                  "ValueUnit": "%"
                 },
                 {
                  "Element": "pH",
                  "Value": 5.8,
                  "ValueUnit": "none"
                 },
                 {
                  "Element": "CEC",
                  "Value": 25.9,
                  "ValueUnit": "cmol(+)/kg"
                 },
                 {
                  "Element": "Ca",
                  "Value": 7.005,
                  "ValueUnit": "cmol(+)/kg"
                 },
                 {
                  "Element": "Mg",
                  "Value": 6.241666666666666,
                  "ValueUnit": "cmol(+)/kg"
                 },
                 {
                  "Element": "K",
                  "Value": 0.6307692307692307,
                  "ValueUnit": "cmol(+)/kg"
                 },
                 {
                  "Element": "Na",
                  "Value": 0.23478260869565218,
                  "ValueUnit": "cmol(+)/kg"
                 },
                 {
                  "Element": "TOC",
                  "Value": 2.1,
                  "ValueUnit": "%"
                 },
                 {
                  "Element": "TN",
                  "Value": 0.2542,
                  "ValueUnit": "%"
                 }
                ]
               }
              ],
              "SampleMetaData": {
               "Geometry": {
                "wkt": "POINT(-122.3440091 37.2704573)"
               },
               "ReportID": "TOKA-169",
               "SampleNumber": "2"
              }
             },
             {
              "Depths": [
               {
                "DepthID": "1",
                "NutrientResults": [
                 {
                  "Element": "P",
                  "Value": 3,
                  "ValueUnit": "ug/g"
                 },
                 {
                  "Value": 36.2,
                  "ValueUnit": "%"
                 },
                 {
                  "Element": "Silt",
                  "Value": 32.5,
                  "ValueUnit": "%"
                 },
                 {
                  "Element": "Clay",
                  "Value": 31.2,
                  "ValueUnit": "%"
                 },
                 {
                  "Element": "pH",
                  "Value": 5.9,
                  "ValueUnit": "none"
                 },
                 {
                  "Element": "CEC",
                  "Value": 28.2,
                  "ValueUnit": "cmol(+)/kg"
                 },
                 {
                  "Element": "Ca",
                  "Value": 10.89,
                  "ValueUnit": "cmol(+)/kg"
                 },
                 {
                  "Element": "Mg",
                  "Value": 7.225,
                  "ValueUnit": "cmol(+)/kg"
                 },
                 {
                  "Element": "K",
                  "Value": 0.5128205128205128,
                  "ValueUnit": "cmol(+)/kg"
                 },
                 {
                  "Element": "Na",
                  "Value": 0.29130434782608694,
                  "ValueUnit": "cmol(+)/kg"
                 },
                 {
                  "Element": "TOC",
                  "Value": 2.1,
                  "ValueUnit": "%"
                 },
                 {
                  "Element": "TN",
                  "Value": 0.22752,
                  "ValueUnit": "%"
                 }
                ]
               }
              ],
              "SampleMetaData": {
               "Geometry": {
                "wkt": "POINT(-122.3440247 37.2686546)"
               },
               "ReportID": "TOKA-170",
               "SampleNumber": "3"
              }
             }
            ]
           }
          },
          "LabMetaData": {
           "Reports": [
            {
             "FileDescription": "2018_RMN 10-40cm_13",
             "ReportID": "1"
            }
           ]
          }
         }
        ]
       },
       {
        "Events": [
         {
          "EventMetaData": {
           "EventDate": "2018-01-28",
           "EventType": {
            "Soil": true
           }
          },
          "EventSamples": {
           "Soil": {
            "DepthRefs": [
             {
              "ColumnDepth": 10,
              "DepthID": 1,
              "DepthUnit": "cm",
              "EndingDepth": 10,
              "Name": "0 to 10",
              "StartingDepth": 0
             }
            ],
            "SoilSamples": [
             {
              "Depths": [
               {
                "DepthID": "1",
                "NutrientResults": [
                 {
                  "Element": "Bulk Density",
                  "Value": 1.05390803322451,
                  "ValueUnit": "g/cm3"
                 },
                 {
                  "Element": "P",
                  "Value": 6.9,
                  "ValueUnit": "ug/g"
                 },
                 {
                  "Element": "pH",
                  "Value": 6.4,
                  "ValueUnit": "none"
                 },
                 {
                  "Element": "CEC",
                  "Value": 24.9,
                  "ValueUnit": "cmol(+)/kg"
                 },
                 {
                  "Element": "Ca",
                  "Value": 10.7,
                  "ValueUnit": "cmol(+)/kg"
                 },
                 {
                  "Element": "Mg",
                  "Value": 7.675,
                  "ValueUnit": "cmol(+)/kg"
                 },
                 {
                  "Element": "K",
                  "Value": 0.8487179487179487,
                  "ValueUnit": "cmol(+)/kg"
                 },
                 {
                  "Element": "Na",
                  "Value": 0.2391304347826087,
                  "ValueUnit": "cmol(+)/kg"
                 },
                 {
                  "Element": "TOC",
                  "Value": 2.7,
                  "ValueUnit": "%"
                 }
                ]
               }
              ],
              "SampleMetaData": {
               "Geometry": {
                "wkt": "POINT(-122.3552259 37.2777300)"
               },
               "ReportID": "TOKA-061",
               "SampleNumber": "0"
              }
             },
             {
              "Depths": [
               {
                "DepthID": "1",
                "NutrientResults": [
                 {
                  "Element": "Bulk Density",
                  "Value": 1.1969246596592,
                  "ValueUnit": "g/cm3"
                 },
                 {
                  "Element": "P",
                  "Value": 10.6,
                  "ValueUnit": "ug/g"
                 },
                 {
                  "Element": "pH",
                  "Value": 6.3,
                  "ValueUnit": "none"
                 },
                 {
                  "Element": "CEC",
                  "Value": 19.4,
                  "ValueUnit": "cmol(+)/kg"
                 },
                 {
                  "Element": "Ca",
                  "Value": 8.815,
                  "ValueUnit": "cmol(+)/kg"
                 },
                 {
                  "Element": "Mg",
                  "Value": 4.275,
                  "ValueUnit": "cmol(+)/kg"
                 },
                 {
                  "Element": "K",
                  "Value": 0.6974358974358974,
                  "ValueUnit": "cmol(+)/kg"
                 },
                 {
                  "Element": "Na",
                  "Value": 0.21304347826086956,
                  "ValueUnit": "cmol(+)/kg"
                 },
                 {
                  "Element": "TOC",
                  "Value": 3.2,
                  "ValueUnit": "%"
                 },
                 {
                  "Element": "TN",
                  "Value": 0.31698,
                  "ValueUnit": "%"
                 }
                ]
               }
              ],
              "SampleMetaData": {
               "Geometry": {
                "wkt": "POINT(-122.3597682 37.2741491)"
               },
               "ReportID": "TOKA-135",
               "SampleNumber": "1"
              }
             },
             {
              "Depths": [
               {
                "DepthID": "1",
                "NutrientResults": [
                 {
                  "Element": "Bulk Density",
                  "Value": 1.0969147142801,
                  "ValueUnit": "g/cm3"
                 },
                 {
                  "Element": "P",
                  "Value": 10.7,
                  "ValueUnit": "ug/g"
                 },
                 {
                  "Element": "pH",
                  "Value": 6.2,
                  "ValueUnit": "none"
                 },
                 {
                  "Element": "CEC",
                  "Value": 29.7,
                  "ValueUnit": "cmol(+)/kg"
                 },
                 {
                  "Element": "Ca",
                  "Value": 13.31,
                  "ValueUnit": "cmol(+)/kg"
                 },
                 {
                  "Element": "Mg",
                  "Value": 7.466666666666667,
                  "ValueUnit": "cmol(+)/kg"
                 },
                 {
                  "Element": "K",
                  "Value": 0.5282051282051282,
                  "ValueUnit": "cmol(+)/kg"
                 },
                 {
                  "Element": "Na",
                  "Value": 0.2608695652173913,
                  "ValueUnit": "cmol(+)/kg"
                 },
                 {
                  "Element": "TOC",
                  "Value": 3.6,
                  "ValueUnit": "%"
                 },
                 {
                  "Element": "TN",
                  "Value": 0.30681,
                  "ValueUnit": "%"
                 }
                ]
               }
              ],
              "SampleMetaData": {
               "Geometry": {
                "wkt": "POINT(-122.3574971 37.2759396)"
               },
               "ReportID": "TOKA-137",
               "SampleNumber": "2"
              }
             }
            ]
           }
          },
          "LabMetaData": {
           "Reports": [
            {
             "FileDescription": "2018_RMN 0-10cm_10",
             "ReportID": "1"
            }
           ]
          }
         }
        ]
       },
       {
        "Events": [
         {
          "EventMetaData": {
           "EventDate": "2015-01-18",
           "EventType": {
            "Soil": true
           }
          },
          "EventSamples": {
           "Soil": {
            "DepthRefs": [
             {
              "ColumnDepth": 10,
              "DepthID": 1,
              "DepthUnit": "cm",
              "EndingDepth": 10,
              "Name": "0 to 10",
              "StartingDepth": 0
             }
            ],
            "SoilSamples": [
             {
              "Depths": [
               {
                "DepthID": "1",
                "NutrientResults": [
                 {
                  "Element": "Bulk Density",
                  "Value": 1.29,
                  "ValueUnit": "g/cm3"
                 },
                 {
                  "Element": "P",
                  "Value": 3.8,
                  "ValueUnit": "ug/g"
                 },
                 {
                  "Value": 36.2,
                  "ValueUnit": "%"
                 },
                 {
                  "Element": "Silt",
                  "Value": 46.2,
                  "ValueUnit": "%"
                 },
                 {
                  "Element": "Clay",
                  "Value": 17.5,
                  "ValueUnit": "%"
                 },
                 {
                  "Element": "pH",
                  "Value": 5.3,
                  "ValueUnit": "none"
                 },
                 {
                  "Element": "Ca",
                  "Value": 5.9,
                  "ValueUnit": "cmol(+)/kg"
                 },
                 {
                  "Element": "Mg",
                  "Value": 3.7,
                  "ValueUnit": "cmol(+)/kg"
                 },
                 {
                  "Element": "K",
                  "Value": 0.56,
                  "ValueUnit": "cmol(+)/kg"
                 },
                 {
                  "Element": "Na",
                  "Value": 0.29,
                  "ValueUnit": "cmol(+)/kg"
                 },
                 {
                  "Element": "TOC",
                  "Value": 2.9,
                  "ValueUnit": "%"
                 }
                ]
               }
              ],
              "SampleMetaData": {
               "Geometry": {
                "wkt": "POINT(-122.3801442 37.2652437)"
               },
               "ReportID": "TOKA-006",
               "SampleNumber": "0"
              }
             },
             {
              "Depths": [
               {
                "DepthID": "1",
                "NutrientResults": [
                 {
                  "Element": "Bulk Density",
                  "Value": 1.47,
                  "ValueUnit": "g/cm3"
                 },
                 {
                  "Element": "P",
                  "Value": 3.2,
                  "ValueUnit": "ug/g"
                 },
                 {
                  "Value": 41.2,
                  "ValueUnit": "%"
                 },
                 {
                  "Element": "Silt",
                  "Value": 38.8,
                  "ValueUnit": "%"
                 },
                 {
                  "Element": "Clay",
                  "Value": 20,
                  "ValueUnit": "%"
                 },
                 {
                  "Element": "pH",
                  "Value": 5.5,
                  "ValueUnit": "none"
                 },
                 {
                  "Element": "Ca",
                  "Value": 4.4,
                  "ValueUnit": "cmol(+)/kg"
                 },
                 {
                  "Element": "Mg",
                  "Value": 4.3,
                  "ValueUnit": "cmol(+)/kg"
                 },
                 {
                  "Element": "K",
                  "Value": 0.62,
                  "ValueUnit": "cmol(+)/kg"
                 },
                 {
                  "Element": "Na",
                  "Value": 0.47,
                  "ValueUnit": "cmol(+)/kg"
                 },
                 {
                  "Element": "TOC",
                  "Value": 2,
                  "ValueUnit": "%"
                 }
                ]
               }
              ],
              "SampleMetaData": {
               "Geometry": {
                "wkt": "POINT(-122.3801146 37.2688491)"
               },
               "ReportID": "TOKA-007",
               "SampleNumber": "1"
              }
             },
             {
              "Depths": [
               {
                "DepthID": "1",
                "NutrientResults": [
                 {
                  "Element": "Bulk Density",
                  "Value": 1.07,
                  "ValueUnit": "g/cm3"
                 },
                 {
                  "Element": "P",
                  "Value": 4.5,
                  "ValueUnit": "ug/g"
                 },
                 {
                  "Value": 23.8,
                  "ValueUnit": "%"
                 },
                 {
                  "Element": "Silt",
                  "Value": 41.2,
                  "ValueUnit": "%"
                 },
                 {
                  "Element": "Clay",
                  "Value": 35,
                  "ValueUnit": "%"
                 },
                 {
                  "Element": "pH",
                  "Value": 5.6,
                  "ValueUnit": "none"
                 },
                 {
                  "Element": "Ca",
                  "Value": 13,
                  "ValueUnit": "cmol(+)/kg"
                 },
                 {
                  "Element": "Mg",
                  "Value": 12,
                  "ValueUnit": "cmol(+)/kg"
                 },
                 {
                  "Element": "K",
                  "Value": 1.1,
                  "ValueUnit": "cmol(+)/kg"
                 },
                 {
                  "Element": "Na",
                  "Value": 0.47,
                  "ValueUnit": "cmol(+)/kg"
                 },
                 {
                  "Element": "TOC",
                  "Value": 3.6,
                  "ValueUnit": "%"
                 }
                ]
               }
              ],
              "SampleMetaData": {
               "Geometry": {
                "wkt": "POINT(-122.3710921 37.2688015)"
               },
               "ReportID": "TOKA-016",
               "SampleNumber": "2"
              }
             },
             {
              "Depths": [
               {
                "DepthID": "1",
                "NutrientResults": [
                 {
                  "Element": "Bulk Density",
                  "Value": 1.38,
                  "ValueUnit": "g/cm3"
                 },
                 {
                  "Element": "P",
                  "Value": 2.8,
                  "ValueUnit": "ug/g"
                 },
                 {
                  "Value": 25,
                  "ValueUnit": "%"
                 },
                 {
                  "Element": "Silt",
                  "Value": 40,
                  "ValueUnit": "%"
                 },
                 {
                  "Element": "Clay",
                  "Value": 35,
                  "ValueUnit": "%"
                 },
                 {
                  "Element": "pH",
                  "Value": 5.9,
                  "ValueUnit": "none"
                 },
                 {
                  "Element": "Ca",
                  "Value": 11,
                  "ValueUnit": "cmol(+)/kg"
                 },
                 {
                  "Element": "Mg",
                  "Value": 9.1,
                  "ValueUnit": "cmol(+)/kg"
                 },
                 {
                  "Element": "K",
                  "Value": 0.77,
                  "ValueUnit": "cmol(+)/kg"
                 },
                 {
                  "Element": "Na",
                  "Value": 0.58,
                  "ValueUnit": "cmol(+)/kg"
                 },
                 {
                  "Element": "TOC",
                  "Value": 3.3,
                  "ValueUnit": "%"
                 }
                ]
               }
              ],
              "SampleMetaData": {
               "Geometry": {
                "wkt": "POINT(-122.3688064 37.2723949)"
               },
               "ReportID": "TOKA-018",
               "SampleNumber": "3"
              }
             },
             {
              "Depths": [
               {
                "DepthID": "1",
                "NutrientResults": [
                 {
                  "Element": "Bulk Density",
                  "Value": 1.19,
                  "ValueUnit": "g/cm3"
                 },
                 {
                  "Element": "P",
                  "Value": 11,
                  "ValueUnit": "ug/g"
                 },
                 {
                  "Value": 22.5,
                  "ValueUnit": "%"
                 },
                 {
                  "Element": "Silt",
                  "Value": 36.2,
                  "ValueUnit": "%"
                 },
                 {
                  "Element": "Clay",
                  "Value": 41.2,
                  "ValueUnit": "%"
                 },
                 {
                  "Element": "pH",
                  "Value": 5.9,
                  "ValueUnit": "none"
                 },
                 {
                  "Element": "Ca",
                  "Value": 15,
                  "ValueUnit": "cmol(+)/kg"
                 },
                 {
                  "Element": "Mg",
                  "Value": 12,
                  "ValueUnit": "cmol(+)/kg"
                 },
                 {
                  "Element": "K",
                  "Value": 0.82,
                  "ValueUnit": "cmol(+)/kg"
                 },
                 {
                  "Element": "Na",
                  "Value": 0.56,
                  "ValueUnit": "cmol(+)/kg"
                 },
                 {
                  "Element": "TOC",
                  "Value": 3.1,
                  "ValueUnit": "%"
                 }
                ]
               }
              ],
              "SampleMetaData": {
               "Geometry": {
                "wkt": "POINT(-122.3665960 37.2669748)"
               },
               "ReportID": "TOKA-022",
               "SampleNumber": "4"
              }
             },
             {
              "Depths": [
               {
                "DepthID": "1",
                "NutrientResults": [
                 {
                  "Element": "Bulk Density",
                  "Value": 1.03,
                  "ValueUnit": "g/cm3"
                 },
                 {
                  "Element": "P",
                  "Value": 3.5,
                  "ValueUnit": "ug/g"
                 },
                 {
                  "Value": 20,
                  "ValueUnit": "%"
                 },
                 {
                  "Element": "Silt",
                  "Value": 43.8,
                  "ValueUnit": "%"
                 },
                 {
                  "Element": "Clay",
                  "Value": 36.5,
                  "ValueUnit": "%"
                 },
                 {
                  "Element": "pH",
                  "Value": 5.3,
                  "ValueUnit": "none"
                 },
                 {
                  "Element": "Ca",
                  "Value": 11,
                  "ValueUnit": "cmol(+)/kg"
                 },
                 {
                  "Element": "Mg",
                  "Value": 8.8,
                  "ValueUnit": "cmol(+)/kg"
                 },
                 {
                  "Element": "K",
                  "Value": 1,
                  "ValueUnit": "cmol(+)/kg"
                 },
                 {
                  "Element": "Na",
                  "Value": 0.86,
                  "ValueUnit": "cmol(+)/kg"
                 },
                 {
                  "Element": "TOC",
                  "Value": 3.7,
                  "ValueUnit": "%"
                 }
                ]
               }
              ],
              "SampleMetaData": {
               "Geometry": {
                "wkt": "POINT(-122.3643101 37.2705681)"
               },
               "ReportID": "TOKA-029",
               "SampleNumber": "5"
              }
             },
             {
              "Depths": [
               {
                "DepthID": "1",
                "NutrientResults": [
                 {
                  "Element": "Bulk Density",
                  "Value": 1.16,
                  "ValueUnit": "g/cm3"
                 },
                 {
                  "Element": "P",
                  "Value": 8.3,
                  "ValueUnit": "ug/g"
                 },
                 {
                  "Value": 22.5,
                  "ValueUnit": "%"
                 },
                 {
                  "Element": "Silt",
                  "Value": 42.5,
                  "ValueUnit": "%"
                 },
                 {
                  "Element": "Clay",
                  "Value": 35,
                  "ValueUnit": "%"
                 },
                 {
                  "Element": "pH",
                  "Value": 5.5,
                  "ValueUnit": "none"
                 },
                 {
                  "Element": "Ca",
                  "Value": 9.2,
                  "ValueUnit": "cmol(+)/kg"
                 },
                 {
                  "Element": "Mg",
                  "Value": 6.3,
                  "ValueUnit": "cmol(+)/kg"
                 },
                 {
                  "Element": "K",
                  "Value": 1.1,
                  "ValueUnit": "cmol(+)/kg"
                 },
                 {
                  "Element": "Na",
                  "Value": 0.31,
                  "ValueUnit": "cmol(+)/kg"
                 },
                 {
                  "Element": "TOC",
                  "Value": 4.5,
                  "ValueUnit": "%"
                 }
                ]
               }
              ],
              "SampleMetaData": {
               "Geometry": {
                "wkt": "POINT(-122.3643404 37.2669627)"
               },
               "ReportID": "TOKA-030",
               "SampleNumber": "6"
              }
             },
             {
              "Depths": [
               {
                "DepthID": "1",
                "NutrientResults": [
                 {
                  "Element": "Bulk Density",
                  "Value": 0.91,
                  "ValueUnit": "g/cm3"
                 },
                 {
                  "Element": "P",
                  "Value": 34,
                  "ValueUnit": "ug/g"
                 },
                 {
                  "Value": 23.8,
                  "ValueUnit": "%"
                 },
                 {
                  "Element": "Silt",
                  "Value": 37.5,
                  "ValueUnit": "%"
                 },
                 {
                  "Element": "Clay",
                  "Value": 38.8,
                  "ValueUnit": "%"
                 },
                 {
                  "Element": "pH",
                  "Value": 5.5,
                  "ValueUnit": "none"
                 },
                 {
                  "Element": "Ca",
                  "Value": 18,
                  "ValueUnit": "cmol(+)/kg"
                 },
                 {
                  "Element": "Mg",
                  "Value": 10,
                  "ValueUnit": "cmol(+)/kg"
                 },
                 {
                  "Element": "K",
                  "Value": 0.92,
                  "ValueUnit": "cmol(+)/kg"
                 },
                 {
                  "Element": "Na",
                  "Value": 0.51,
                  "ValueUnit": "cmol(+)/kg"
                 },
                 {
                  "Element": "TOC",
                  "Value": 5,
                  "ValueUnit": "%"
                 }
                ]
               }
              ],
              "SampleMetaData": {
               "Geometry": {
                "wkt": "POINT(-122.3644313 37.2561465)"
               },
               "ReportID": "TOKA-034",
               "SampleNumber": "7"
              }
             },
             {
              "Depths": [
               {
                "DepthID": "1",
                "NutrientResults": [
                 {
                  "Element": "Bulk Density",
                  "Value": 1.19,
                  "ValueUnit": "g/cm3"
                 },
                 {
                  "Element": "P",
                  "Value": 10,
                  "ValueUnit": "ug/g"
                 },
                 {
                  "Value": 26.2,
                  "ValueUnit": "%"
                 },
                 {
                  "Element": "Silt",
                  "Value": 40,
                  "ValueUnit": "%"
                 },
                 {
                  "Element": "Clay",
                  "Value": 33.8,
                  "ValueUnit": "%"
                 },
                 {
                  "Element": "pH",
                  "Value": 5.6,
                  "ValueUnit": "none"
                 },
                 {
                  "Element": "Ca",
                  "Value": 11,
                  "ValueUnit": "cmol(+)/kg"
                 },
                 {
                  "Element": "Mg",
                  "Value": 5.1,
                  "ValueUnit": "cmol(+)/kg"
                 },
                 {
                  "Element": "K",
                  "Value": 0.99,
                  "ValueUnit": "cmol(+)/kg"
                 },
                 {
                  "Element": "Na",
                  "Value": 0.35,
                  "ValueUnit": "cmol(+)/kg"
                 },
                 {
                  "Element": "TOC",
                  "Value": 3.8,
                  "ValueUnit": "%"
                 }
                ]
               }
              ],
              "SampleMetaData": {
               "Geometry": {
                "wkt": "POINT(-122.3599055 37.2579249)"
               },
               "ReportID": "TOKA-041",
               "SampleNumber": "8"
              }
             },
             {
              "Depths": [
               {
                "DepthID": "1",
                "NutrientResults": [
                 {
                  "Element": "Bulk Density",
                  "Value": 1.24,
                  "ValueUnit": "g/cm3"
                 },
                 {
                  "Element": "P",
                  "Value": 5.5,
                  "ValueUnit": "ug/g"
                 },
                 {
                  "Value": 23.8,
                  "ValueUnit": "%"
                 },
                 {
                  "Element": "Silt",
                  "Value": 38.8,
                  "ValueUnit": "%"
                 },
                 {
                  "Element": "Clay",
                  "Value": 37.5,
                  "ValueUnit": "%"
                 },
                 {
                  "Element": "pH",
                  "Value": 5.6,
                  "ValueUnit": "none"
                 },
                 {
                  "Element": "Ca",
                  "Value": 11,
                  "ValueUnit": "cmol(+)/kg"
                 },
                 {
                  "Element": "Mg",
                  "Value": 6.3,
                  "ValueUnit": "cmol(+)/kg"
                 },
                 {
                  "Element": "K",
                  "Value": 0.72,
                  "ValueUnit": "cmol(+)/kg"
                 },
                 {
                  "Element": "Na",
                  "Value": 0.44,
                  "ValueUnit": "cmol(+)/kg"
                 },
                 {
                  "Element": "TOC",
                  "Value": 3.1,
                  "ValueUnit": "%"
                 }
                ]
               }
              ],
              "SampleMetaData": {
               "Geometry": {
                "wkt": "POINT(-122.3553489 37.2633085)"
               },
               "ReportID": "TOKA-057",
               "SampleNumber": "9"
              }
             },
             {
              "Depths": [
               {
                "DepthID": "1",
                "NutrientResults": [
                 {
                  "Element": "Bulk Density",
                  "Value": 1.12,
                  "ValueUnit": "g/cm3"
                 },
                 {
                  "Element": "P",
                  "Value": 12,
                  "ValueUnit": "ug/g"
                 },
                 {
                  "Value": 41.2,
                  "ValueUnit": "%"
                 },
                 {
                  "Element": "Silt",
                  "Value": 27.5,
                  "ValueUnit": "%"
                 },
                 {
                  "Element": "Clay",
                  "Value": 31.2,
                  "ValueUnit": "%"
                 },
                 {
                  "Element": "pH",
                  "Value": 5.8,
                  "ValueUnit": "none"
                 },
                 {
                  "Element": "Ca",
                  "Value": 18,
                  "ValueUnit": "cmol(+)/kg"
                 },
                 {
                  "Element": "Mg",
                  "Value": 8,
                  "ValueUnit": "cmol(+)/kg"
                 },
                 {
                  "Element": "K",
                  "Value": 1,
                  "ValueUnit": "cmol(+)/kg"
                 },
                 {
                  "Element": "Na",
                  "Value": 0.26,
                  "ValueUnit": "cmol(+)/kg"
                 },
                 {
                  "Element": "TOC",
                  "Value": 4.3,
                  "ValueUnit": "%"
                 }
                ]
               }
              ],
              "SampleMetaData": {
               "Geometry": {
                "wkt": "POINT(-122.3552566 37.2741247)"
               },
               "ReportID": "TOKA-060",
               "SampleNumber": "10"
              }
             },
             {
              "Depths": [
               {
                "DepthID": "1",
                "NutrientResults": [
                 {
                  "Element": "Bulk Density",
                  "Value": 1.1,
                  "ValueUnit": "g/cm3"
                 },
                 {
                  "Element": "P",
                  "Value": 5.7,
                  "ValueUnit": "ug/g"
                 },
                 {
                  "Value": 28.8,
                  "ValueUnit": "%"
                 },
                 {
                  "Element": "Silt",
                  "Value": 36.2,
                  "ValueUnit": "%"
                 },
                 {
                  "Element": "Clay",
                  "Value": 35,
                  "ValueUnit": "%"
                 },
                 {
                  "Element": "pH",
                  "Value": 5.9,
                  "ValueUnit": "none"
                 },
                 {
                  "Element": "Ca",
                  "Value": 13,
                  "ValueUnit": "cmol(+)/kg"
                 },
                 {
                  "Element": "Mg",
                  "Value": 7.5,
                  "ValueUnit": "cmol(+)/kg"
                 },
                 {
                  "Element": "K",
                  "Value": 1,
                  "ValueUnit": "cmol(+)/kg"
                 },
                 {
                  "Element": "Na",
                  "Value": 0.36,
                  "ValueUnit": "cmol(+)/kg"
                 },
                 {
                  "Element": "TOC",
                  "Value": 3.6,
                  "ValueUnit": "%"
                 }
                ]
               }
              ],
              "SampleMetaData": {
               "Geometry": {
                "wkt": "POINT(-122.3552259 37.2777300)"
               },
               "ReportID": "TOKA-061",
               "SampleNumber": "11"
              }
             },
             {
              "Depths": [
               {
                "DepthID": "1",
                "NutrientResults": [
                 {
                  "Element": "Bulk Density",
                  "Value": 0.97,
                  "ValueUnit": "g/cm3"
                 },
                 {
                  "Element": "P",
                  "Value": 28,
                  "ValueUnit": "ug/g"
                 },
                 {
                  "Value": 30,
                  "ValueUnit": "%"
                 },
                 {
                  "Element": "Silt",
                  "Value": 35,
                  "ValueUnit": "%"
                 },
                 {
                  "Element": "Clay",
                  "Value": 35,
                  "ValueUnit": "%"
                 },
                 {
                  "Element": "pH",
                  "Value": 5.7,
                  "ValueUnit": "none"
                 },
                 {
                  "Element": "Ca",
                  "Value": 18,
                  "ValueUnit": "cmol(+)/kg"
                 },
                 {
                  "Element": "Mg",
                  "Value": 5.9,
                  "ValueUnit": "cmol(+)/kg"
                 },
                 {
                  "Element": "K",
                  "Value": 2.7,
                  "ValueUnit": "cmol(+)/kg"
                 },
                 {
                  "Element": "TOC",
                  "Value": 7.9,
                  "ValueUnit": "%"
                 }
                ]
               }
              ],
              "SampleMetaData": {
               "Geometry": {
                "wkt": "POINT(-122.3530163 37.2723097)"
               },
               "ReportID": "TOKA-064",
               "SampleNumber": "12"
              }
             },
             {
              "Depths": [
               {
                "DepthID": "1",
                "NutrientResults": [
                 {
                  "Element": "Bulk Density",
                  "Value": 1.28,
                  "ValueUnit": "g/cm3"
                 },
                 {
                  "Element": "P",
                  "Value": 11,
                  "ValueUnit": "ug/g"
                 },
                 {
                  "Value": 30,
                  "ValueUnit": "%"
                 },
                 {
                  "Element": "Silt",
                  "Value": 35,
                  "ValueUnit": "%"
                 },
                 {
                  "Element": "Clay",
                  "Value": 35,
                  "ValueUnit": "%"
                 },
                 {
                  "Element": "pH",
                  "Value": 5.5,
                  "ValueUnit": "none"
                 },
                 {
                  "Element": "Ca",
                  "Value": 13,
                  "ValueUnit": "cmol(+)/kg"
                 },
                 {
                  "Element": "Mg",
                  "Value": 8.5,
                  "ValueUnit": "cmol(+)/kg"
                 },
                 {
                  "Element": "K",
                  "Value": 0.64,
                  "ValueUnit": "cmol(+)/kg"
                 },
                 {
                  "Element": "Na",
                  "Value": 0.41,
                  "ValueUnit": "cmol(+)/kg"
                 },
                 {
                  "Element": "TOC",
                  "Value": 2.7,
                  "ValueUnit": "%"
                 }
                ]
               }
              ],
              "SampleMetaData": {
               "Geometry": {
                "wkt": "POINT(-122.3531397 37.2578881)"
               },
               "ReportID": "TOKA-068",
               "SampleNumber": "13"
              }
             },
             {
              "Depths": [
               {
                "DepthID": "1",
                "NutrientResults": [
                 {
                  "Element": "Bulk Density",
                  "Value": 1.03,
                  "ValueUnit": "g/cm3"
                 },
                 {
                  "Element": "P",
                  "Value": 8.7,
                  "ValueUnit": "ug/g"
                 },
                 {
                  "Value": 21.2,
                  "ValueUnit": "%"
                 },
                 {
                  "Element": "Silt",
                  "Value": 36.2,
                  "ValueUnit": "%"
                 },
                 {
                  "Element": "Clay",
                  "Value": 42.5,
                  "ValueUnit": "%"
                 },
                 {
                  "Element": "pH",
                  "Value": 5.7,
                  "ValueUnit": "none"
                 },
                 {
                  "Element": "Ca",
                  "Value": 13,
                  "ValueUnit": "cmol(+)/kg"
                 },
                 {
                  "Element": "Mg",
                  "Value": 10,
                  "ValueUnit": "cmol(+)/kg"
                 },
                 {
                  "Element": "K",
                  "Value": 0.9,
                  "ValueUnit": "cmol(+)/kg"
                 },
                 {
                  "Element": "Na",
                  "Value": 0.3,
                  "ValueUnit": "cmol(+)/kg"
                 },
                 {
                  "Element": "TOC",
                  "Value": 3.3,
                  "ValueUnit": "%"
                 }
                ]
               }
              ],
              "SampleMetaData": {
               "Geometry": {
                "wkt": "POINT(-122.3485825 37.2632715)"
               },
               "ReportID": "TOKA-080",
               "SampleNumber": "14"
              }
             },
             {
              "Depths": [
               {
                "DepthID": "1",
                "NutrientResults": [
                 {
                  "Element": "Bulk Density",
                  "Value": 1.26,
                  "ValueUnit": "g/cm3"
                 },
                 {
                  "Element": "P",
                  "Value": 9.4,
                  "ValueUnit": "ug/g"
                 },
                 {
                  "Value": 40,
                  "ValueUnit": "%"
                 },
                 {
                  "Element": "Silt",
                  "Value": 31.2,
                  "ValueUnit": "%"
                 },
                 {
                  "Element": "Clay",
                  "Value": 28.8,
                  "ValueUnit": "%"
                 },
                 {
                  "Element": "pH",
                  "Value": 5.6,
                  "ValueUnit": "none"
                 },
                 {
                  "Element": "Ca",
                  "Value": 13,
                  "ValueUnit": "cmol(+)/kg"
                 },
                 {
                  "Element": "Mg",
                  "Value": 8,
                  "ValueUnit": "cmol(+)/kg"
                 },
                 {
                  "Element": "K",
                  "Value": 1,
                  "ValueUnit": "cmol(+)/kg"
                 },
                 {
                  "Element": "Na",
                  "Value": 0.12,
                  "ValueUnit": "cmol(+)/kg"
                 },
                 {
                  "Element": "TOC",
                  "Value": 3,
                  "ValueUnit": "%"
                 }
                ]
               }
              ],
              "SampleMetaData": {
               "Geometry": {
                "wkt": "POINT(-122.3394662 37.2740376)"
               },
               "ReportID": "TOKA-099",
               "SampleNumber": "15"
              }
             },
             {
              "Depths": [
               {
                "DepthID": "1",
                "NutrientResults": [
                 {
                  "Element": "Bulk Density",
                  "Value": 1.21,
                  "ValueUnit": "g/cm3"
                 },
                 {
                  "Element": "P",
                  "Value": 4.2,
                  "ValueUnit": "ug/g"
                 },
                 {
                  "Value": 20,
                  "ValueUnit": "%"
                 },
                 {
                  "Element": "Silt",
                  "Value": 38.8,
                  "ValueUnit": "%"
                 },
                 {
                  "Element": "Clay",
                  "Value": 41.2,
                  "ValueUnit": "%"
                 },
                 {
                  "Element": "pH",
                  "Value": 5.1,
                  "ValueUnit": "none"
                 },
                 {
                  "Element": "Ca",
                  "Value": 6.2,
                  "ValueUnit": "cmol(+)/kg"
                 },
                 {
                  "Element": "Mg",
                  "Value": 3.9,
                  "ValueUnit": "cmol(+)/kg"
                 },
                 {
                  "Element": "K",
                  "Value": 0.41,
                  "ValueUnit": "cmol(+)/kg"
                 },
                 {
                  "Element": "Na",
                  "Value": 0.26,
                  "ValueUnit": "cmol(+)/kg"
                 },
                 {
                  "Element": "TOC",
                  "Value": 2.3,
                  "ValueUnit": "%"
                 }
                ]
               }
              ],
              "SampleMetaData": {
               "Geometry": {
                "wkt": "POINT(-122.3801294 37.2670464)"
               },
               "ReportID": "TOKA-104",
               "SampleNumber": "16"
              }
             },
             {
              "Depths": [
               {
                "DepthID": "1",
                "NutrientResults": [
                 {
                  "Element": "Bulk Density",
                  "Value": 1.06,
                  "ValueUnit": "g/cm3"
                 },
                 {
                  "Element": "P",
                  "Value": 3.5,
                  "ValueUnit": "ug/g"
                 },
                 {
                  "Value": 43.8,
                  "ValueUnit": "%"
                 },
                 {
                  "Element": "Silt",
                  "Value": 31.2,
                  "ValueUnit": "%"
                 },
                 {
                  "Element": "Clay",
                  "Value": 25,
                  "ValueUnit": "%"
                 },
                 {
                  "Element": "pH",
                  "Value": 5.3,
                  "ValueUnit": "none"
                 },
                 {
                  "Element": "Ca",
                  "Value": 7.3,
                  "ValueUnit": "cmol(+)/kg"
                 },
                 {
                  "Element": "Mg",
                  "Value": 6.5,
                  "ValueUnit": "cmol(+)/kg"
                 },
                 {
                  "Element": "K",
                  "Value": 0.62,
                  "ValueUnit": "cmol(+)/kg"
                 },
                 {
                  "Element": "Na",
                  "Value": 0.32,
                  "ValueUnit": "cmol(+)/kg"
                 },
                 {
                  "Element": "TOC",
                  "Value": 3.3,
                  "ValueUnit": "%"
                 }
                ]
               }
              ],
              "SampleMetaData": {
               "Geometry": {
                "wkt": "POINT(-122.3733627 37.2670108)"
               },
               "ReportID": "TOKA-111",
               "SampleNumber": "17"
              }
             },
             {
              "Depths": [
               {
                "DepthID": "1",
                "NutrientResults": [
                 {
                  "Element": "Bulk Density",
                  "Value": 0.88,
                  "ValueUnit": "g/cm3"
                 },
                 {
                  "Element": "P",
                  "Value": 6,
                  "ValueUnit": "ug/g"
                 },
                 {
                  "Value": 31.2,
                  "ValueUnit": "%"
                 },
                 {
                  "Element": "Silt",
                  "Value": 33.8,
                  "ValueUnit": "%"
                 },
                 {
                  "Element": "Clay",
                  "Value": 35,
                  "ValueUnit": "%"
                 },
                 {
                  "Element": "pH",
                  "Value": 5.7,
                  "ValueUnit": "none"
                 },
                 {
                  "Element": "Ca",
                  "Value": 12,
                  "ValueUnit": "cmol(+)/kg"
                 },
                 {
                  "Element": "Mg",
                  "Value": 10,
                  "ValueUnit": "cmol(+)/kg"
                 },
                 {
                  "Element": "K",
                  "Value": 1.2,
                  "ValueUnit": "cmol(+)/kg"
                 },
                 {
                  "Element": "Na",
                  "Value": 0.37,
                  "ValueUnit": "cmol(+)/kg"
                 },
                 {
                  "Element": "TOC",
                  "Value": 3.4,
                  "ValueUnit": "%"
                 }
                ]
               }
              ],
              "SampleMetaData": {
               "Geometry": {
                "wkt": "POINT(-122.3688365 37.2687895)"
               },
               "ReportID": "TOKA-115",
               "SampleNumber": "18"
              }
             },
             {
              "Depths": [
               {
                "DepthID": "1",
                "NutrientResults": [
                 {
                  "Element": "Bulk Density",
                  "Value": 1.22,
                  "ValueUnit": "g/cm3"
                 },
                 {
                  "Element": "P",
                  "Value": 15,
                  "ValueUnit": "ug/g"
                 },
                 {
                  "Value": 28.8,
                  "ValueUnit": "%"
                 },
                 {
                  "Element": "Silt",
                  "Value": 40,
                  "ValueUnit": "%"
                 },
                 {
                  "Element": "Clay",
                  "Value": 31.2,
                  "ValueUnit": "%"
                 },
                 {
                  "Element": "pH",
                  "Value": 5.8,
                  "ValueUnit": "none"
                 },
                 {
                  "Element": "Ca",
                  "Value": 12,
                  "ValueUnit": "cmol(+)/kg"
                 },
                 {
                  "Element": "Mg",
                  "Value": 10,
                  "ValueUnit": "cmol(+)/kg"
                 },
                 {
                  "Element": "K",
                  "Value": 1.1,
                  "ValueUnit": "cmol(+)/kg"
                 },
                 {
                  "Element": "Na",
                  "Value": 0.18,
                  "ValueUnit": "cmol(+)/kg"
                 },
                 {
                  "Element": "TOC",
                  "Value": 3.5,
                  "ValueUnit": "%"
                 }
                ]
               }
              ],
              "SampleMetaData": {
               "Geometry": {
                "wkt": "POINT(-122.3642949 37.2723708)"
               },
               "ReportID": "TOKA-119",
               "SampleNumber": "19"
              }
             },
             {
              "Depths": [
               {
                "DepthID": "1",
                "NutrientResults": [
                 {
                  "Element": "Bulk Density",
                  "Value": 1.05,
                  "ValueUnit": "g/cm3"
                 },
                 {
                  "Element": "P",
                  "Value": 8.6,
                  "ValueUnit": "ug/g"
                 },
                 {
                  "Value": 28.8,
                  "ValueUnit": "%"
                 },
                 {
                  "Element": "Silt",
                  "Value": 36.2,
                  "ValueUnit": "%"
                 },
                 {
                  "Element": "Clay",
                  "Value": 35,
                  "ValueUnit": "%"
                 },
                 {
                  "Element": "pH",
                  "Value": 5.8,
                  "ValueUnit": "none"
                 },
                 {
                  "Element": "Ca",
                  "Value": 16,
                  "ValueUnit": "cmol(+)/kg"
                 },
                 {
                  "Element": "Mg",
                  "Value": 10,
                  "ValueUnit": "cmol(+)/kg"
                 },
                 {
                  "Element": "K",
                  "Value": 0.94,
                  "ValueUnit": "cmol(+)/kg"
                 },
                 {
                  "Element": "Na",
                  "Value": 0.5,
                  "ValueUnit": "cmol(+)/kg"
                 },
                 {
                  "Element": "TOC",
                  "Value": 4.8,
                  "ValueUnit": "%"
                 }
                ]
               }
              ],
              "SampleMetaData": {
               "Geometry": {
                "wkt": "POINT(-122.3621152 37.2633452)"
               },
               "ReportID": "TOKA-126",
               "SampleNumber": "20"
              }
             },
             {
              "Depths": [
               {
                "DepthID": "1",
                "NutrientResults": [
                 {
                  "Element": "Bulk Density",
                  "Value": 1.18,
                  "ValueUnit": "g/cm3"
                 },
                 {
                  "Element": "P",
                  "Value": 8.7,
                  "ValueUnit": "ug/g"
                 },
                 {
                  "Value": 22.5,
                  "ValueUnit": "%"
                 },
                 {
                  "Element": "Silt",
                  "Value": 42.5,
                  "ValueUnit": "%"
                 },
                 {
                  "Element": "Clay",
                  "Value": 35,
                  "ValueUnit": "%"
                 },
                 {
                  "Element": "pH",
                  "Value": 5.6,
                  "ValueUnit": "none"
                 },
                 {
                  "Element": "Ca",
                  "Value": 12,
                  "ValueUnit": "cmol(+)/kg"
                 },
                 {
                  "Element": "Mg",
                  "Value": 7,
                  "ValueUnit": "cmol(+)/kg"
                 },
                 {
                  "Element": "K",
                  "Value": 0.84,
                  "ValueUnit": "cmol(+)/kg"
                 },
                 {
                  "Element": "Na",
                  "Value": 0.3,
                  "ValueUnit": "cmol(+)/kg"
                 },
                 {
                  "Element": "TOC",
                  "Value": 3.7,
                  "ValueUnit": "%"
                 }
                ]
               }
              ],
              "SampleMetaData": {
               "Geometry": {
                "wkt": "POINT(-122.3621760 37.2561344)"
               },
               "ReportID": "TOKA-129",
               "SampleNumber": "21"
              }
             },
             {
              "Depths": [
               {
                "DepthID": "1",
                "NutrientResults": [
                 {
                  "Element": "Bulk Density",
                  "Value": 1.26,
                  "ValueUnit": "g/cm3"
                 },
                 {
                  "Element": "P",
                  "Value": 9.3,
                  "ValueUnit": "ug/g"
                 },
                 {
                  "Value": 30,
                  "ValueUnit": "%"
                 },
                 {
                  "Element": "Silt",
                  "Value": 40,
                  "ValueUnit": "%"
                 },
                 {
                  "Element": "Clay",
                  "Value": 30,
                  "ValueUnit": "%"
                 },
                 {
                  "Element": "pH",
                  "Value": 5.8,
                  "ValueUnit": "none"
                 },
                 {
                  "Element": "Ca",
                  "Value": 12,
                  "ValueUnit": "cmol(+)/kg"
                 },
                 {
                  "Element": "Mg",
                  "Value": 6,
                  "ValueUnit": "cmol(+)/kg"
                 },
                 {
                  "Element": "K",
                  "Value": 0.92,
                  "ValueUnit": "cmol(+)/kg"
                 },
                 {
                  "Element": "Na",
                  "Value": 0.3,
                  "ValueUnit": "cmol(+)/kg"
                 },
                 {
                  "Element": "TOC",
                  "Value": 3.2,
                  "ValueUnit": "%"
                 }
                ]
               }
              ],
              "SampleMetaData": {
               "Geometry": {
                "wkt": "POINT(-122.3597682 37.2741491)"
               },
               "ReportID": "TOKA-135",
               "SampleNumber": "22"
              }
             },
             {
              "Depths": [
               {
                "DepthID": "1",
                "NutrientResults": [
                 {
                  "Element": "Bulk Density",
                  "Value": 1.27,
                  "ValueUnit": "g/cm3"
                 },
                 {
                  "Element": "P",
                  "Value": 7.5,
                  "ValueUnit": "ug/g"
                 },
                 {
                  "Value": 38.8,
                  "ValueUnit": "%"
                 },
                 {
                  "Element": "Silt",
                  "Value": 31.2,
                  "ValueUnit": "%"
                 },
                 {
                  "Element": "Clay",
                  "Value": 30,
                  "ValueUnit": "%"
                 },
                 {
                  "Element": "pH",
                  "Value": 5.6,
                  "ValueUnit": "none"
                 },
                 {
                  "Element": "Ca",
                  "Value": 15,
                  "ValueUnit": "cmol(+)/kg"
                 },
                 {
                  "Element": "Mg",
                  "Value": 7.8,
                  "ValueUnit": "cmol(+)/kg"
                 },
                 {
                  "Element": "K",
                  "Value": 0.67,
                  "ValueUnit": "cmol(+)/kg"
                 },
                 {
                  "Element": "Na",
                  "Value": 0.37,
                  "ValueUnit": "cmol(+)/kg"
                 },
                 {
                  "Element": "TOC",
                  "Value": 4,
                  "ValueUnit": "%"
                 }
                ]
               }
              ],
              "SampleMetaData": {
               "Geometry": {
                "wkt": "POINT(-122.3574971 37.2759396)"
               },
               "ReportID": "TOKA-137",
               "SampleNumber": "23"
              }
             },
             {
              "Depths": [
               {
                "DepthID": "1",
                "NutrientResults": [
                 {
                  "Element": "Bulk Density",
                  "Value": 1.13,
                  "ValueUnit": "g/cm3"
                 },
                 {
                  "Element": "P",
                  "Value": 12,
                  "ValueUnit": "ug/g"
                 },
                 {
                  "Value": 26.2,
                  "ValueUnit": "%"
                 },
                 {
                  "Element": "Silt",
                  "Value": 35,
                  "ValueUnit": "%"
                 },
                 {
                  "Element": "Clay",
                  "Value": 38.8,
                  "ValueUnit": "%"
                 },
                 {
                  "Element": "pH",
                  "Value": 5.2,
                  "ValueUnit": "none"
                 },
                 {
                  "Element": "Ca",
                  "Value": 10,
                  "ValueUnit": "cmol(+)/kg"
                 },
                 {
                  "Element": "Mg",
                  "Value": 8.4,
                  "ValueUnit": "cmol(+)/kg"
                 },
                 {
                  "Element": "K",
                  "Value": 1.2,
                  "ValueUnit": "cmol(+)/kg"
                 },
                 {
                  "Element": "Na",
                  "Value": 0.27,
                  "ValueUnit": "cmol(+)/kg"
                 },
                 {
                  "Element": "TOC",
                  "Value": 3.4,
                  "ValueUnit": "%"
                 }
                ]
               }
              ],
              "SampleMetaData": {
               "Geometry": {
                "wkt": "POINT(-122.3440091 37.2704573)"
               },
               "ReportID": "TOKA-169",
               "SampleNumber": "24"
              }
             },
             {
              "Depths": [
               {
                "DepthID": "1",
                "NutrientResults": [
                 {
                  "Element": "Bulk Density",
                  "Value": 1.3,
                  "ValueUnit": "g/cm3"
                 },
                 {
                  "Element": "P",
                  "Value": 5.4,
                  "ValueUnit": "ug/g"
                 },
                 {
                  "Value": 36.2,
                  "ValueUnit": "%"
                 },
                 {
                  "Element": "Silt",
                  "Value": 33.8,
                  "ValueUnit": "%"
                 },
                 {
                  "Element": "Clay",
                  "Value": 30,
                  "ValueUnit": "%"
                 },
                 {
                  "Element": "pH",
                  "Value": 5.4,
                  "ValueUnit": "none"
                 },
                 {
                  "Element": "Ca",
                  "Value": 13,
                  "ValueUnit": "cmol(+)/kg"
                 },
                 {
                  "Element": "Mg",
                  "Value": 7.7,
                  "ValueUnit": "cmol(+)/kg"
                 },
                 {
                  "Element": "K",
                  "Value": 0.81,
                  "ValueUnit": "cmol(+)/kg"
                 },
                 {
                  "Element": "Na",
                  "Value": 0.31,
                  "ValueUnit": "cmol(+)/kg"
                 },
                 {
                  "Element": "TOC",
                  "Value": 3.2,
                  "ValueUnit": "%"
                 }
                ]
               }
              ],
              "SampleMetaData": {
               "Geometry": {
                "wkt": "POINT(-122.3440247 37.2686546)"
               },
               "ReportID": "TOKA-170",
               "SampleNumber": "25"
              }
             }
            ]
           }
          },
          "LabMetaData": {
           "Reports": [
            {
             "FileDescription": "2015_RMN 0-10cm_2",
             "ReportID": "1"
            }
           ]
          }
         }
        ]
       },
       {
        "Events": [
         {
          "EventMetaData": {
           "EventDate": "2018-02-05",
           "EventType": {
            "Soil": true
           }
          },
          "EventSamples": {
           "Soil": {
            "DepthRefs": [
             {
              "ColumnDepth": 30,
              "DepthID": 1,
              "DepthUnit": "cm",
              "EndingDepth": 40,
              "Name": "10 to 40",
              "StartingDepth": 10
             }
            ],
            "SoilSamples": [
             {
              "Depths": [
               {
                "DepthID": "1",
                "NutrientResults": [
                 {
                  "Element": "P",
                  "Value": 5.8,
                  "ValueUnit": "ug/g"
                 },
                 {
                  "Value": 52.5,
                  "ValueUnit": "%"
                 },
                 {
                  "Element": "Silt",
                  "Value": 16.2,
                  "ValueUnit": "%"
                 },
                 {
                  "Element": "Clay",
                  "Value": 31.2,
                  "ValueUnit": "%"
                 },
                 {
                  "Element": "pH",
                  "Value": 5.5,
                  "ValueUnit": "none"
                 },
                 {
                  "Element": "CEC",
                  "Value": 43,
                  "ValueUnit": "cmol(+)/kg"
                 },
                 {
                  "Element": "Ca",
                  "Value": 10.795,
                  "ValueUnit": "cmol(+)/kg"
                 },
                 {
                  "Element": "Mg",
                  "Value": 19.608333333333334,
                  "ValueUnit": "cmol(+)/kg"
                 },
                 {
                  "Element": "K",
                  "Value": 0.8692307692307693,
                  "ValueUnit": "cmol(+)/kg"
                 },
                 {
                  "Element": "Na",
                  "Value": 0.6434782608695652,
                  "ValueUnit": "cmol(+)/kg"
                 },
                 {
                  "Element": "TOC",
                  "Value": 1.4,
                  "ValueUnit": "%"
                 },
                 {
                  "Element": "TN",
                  "Value": 0.185055,
                  "ValueUnit": "%"
                 }
                ]
               }
              ],
              "SampleMetaData": {
               "Geometry": {
                "wkt": "POINT(-122.3710921 37.2688015)"
               },
               "ReportID": "TOKA-016",
               "SampleNumber": "0"
              }
             },
             {
              "Depths": [
               {
                "DepthID": "1",
                "NutrientResults": [
                 {
                  "Element": "P",
                  "Value": 2.2,
                  "ValueUnit": "ug/g"
                 },
                 {
                  "Value": 22.5,
                  "ValueUnit": "%"
                 },
                 {
                  "Element": "Silt",
                  "Value": 41.2,
                  "ValueUnit": "%"
                 },
                 {
                  "Element": "Clay",
                  "Value": 36.2,
                  "ValueUnit": "%"
                 },
                 {
                  "Element": "pH",
                  "Value": 6.1,
                  "ValueUnit": "none"
                 },
                 {
                  "Element": "CEC",
                  "Value": 25.8,
                  "ValueUnit": "cmol(+)/kg"
                 },
                 {
                  "Element": "Ca",
                  "Value": 8.13,
                  "ValueUnit": "cmol(+)/kg"
                 },
                 {
                  "Element": "Mg",
                  "Value": 8.766666666666667,
                  "ValueUnit": "cmol(+)/kg"
                 },
                 {
                  "Element": "K",
                  "Value": 0.4512820512820513,
                  "ValueUnit": "cmol(+)/kg"
                 },
                 {
                  "Element": "Na",
                  "Value": 0.5260869565217391,
                  "ValueUnit": "cmol(+)/kg"
                 },
                 {
                  "Element": "TOC",
                  "Value": 2.2,
                  "ValueUnit": "%"
                 },
                 {
                  "Element": "TN",
                  "Value": 0.21057,
                  "ValueUnit": "%"
                 }
                ]
               }
              ],
              "SampleMetaData": {
               "Geometry": {
                "wkt": "POINT(-122.3688064 37.2723949)"
               },
               "ReportID": "TOKA-018",
               "SampleNumber": "1"
              }
             },
             {
              "Depths": [
               {
                "DepthID": "1",
                "NutrientResults": [
                 {
                  "Element": "P",
                  "Value": 3.3,
                  "ValueUnit": "ug/g"
                 },
                 {
                  "Value": 20,
                  "ValueUnit": "%"
                 },
                 {
                  "Element": "Silt",
                  "Value": 43.8,
                  "ValueUnit": "%"
                 },
                 {
                  "Element": "Clay",
                  "Value": 36.2,
                  "ValueUnit": "%"
                 },
                 {
                  "Element": "pH",
                  "Value": 5.8,
                  "ValueUnit": "none"
                 },
                 {
                  "Element": "CEC",
                  "Value": 28.6,
                  "ValueUnit": "cmol(+)/kg"
                 },
                 {
                  "Element": "Ca",
                  "Value": 8.725,
                  "ValueUnit": "cmol(+)/kg"
                 },
                 {
                  "Element": "Mg",
                  "Value": 9.558333333333334,
                  "ValueUnit": "cmol(+)/kg"
                 },
                 {
                  "Element": "K",
                  "Value": 0.6820512820512821,
                  "ValueUnit": "cmol(+)/kg"
                 },
                 {
                  "Element": "Na",
                  "Value": 0.45217391304347826,
                  "ValueUnit": "cmol(+)/kg"
                 },
                 {
                  "Element": "TOC",
                  "Value": 2.3,
                  "ValueUnit": "%"
                 },
                 {
                  "Element": "TN",
                  "Value": 0.23501,
                  "ValueUnit": "%"
                 }
                ]
               }
              ],
              "SampleMetaData": {
               "Geometry": {
                "wkt": "POINT(-122.3643101 37.2705681)"
               },
               "ReportID": "TOKA-029",
               "SampleNumber": "2"
              }
             },
             {
              "Depths": [
               {
                "DepthID": "1",
                "NutrientResults": [
                 {
                  "Element": "P",
                  "Value": 5.9,
                  "ValueUnit": "ug/g"
                 },
                 {
                  "Value": 36.2,
                  "ValueUnit": "%"
                 },
                 {
                  "Element": "Silt",
                  "Value": 32.5,
                  "ValueUnit": "%"
                 },
                 {
                  "Element": "Clay",
                  "Value": 31.2,
                  "ValueUnit": "%"
                 },
                 {
                  "Element": "pH",
                  "Value": 6.1,
                  "ValueUnit": "none"
                 },
                 {
                  "Element": "CEC",
                  "Value": 37,
                  "ValueUnit": "cmol(+)/kg"
                 },
                 {
                  "Element": "Ca",
                  "Value": 17,
                  "ValueUnit": "cmol(+)/kg"
                 },
                 {
                  "Element": "Mg",
                  "Value": 11.475,
                  "ValueUnit": "cmol(+)/kg"
                 },
                 {
                  "Element": "K",
                  "Value": 0.4307692307692308,
                  "ValueUnit": "cmol(+)/kg"
                 },
                 {
                  "Element": "Na",
                  "Value": 0.43478260869565216,
                  "ValueUnit": "cmol(+)/kg"
                 },
                 {
                  "Element": "TOC",
                  "Value": 2.8,
                  "ValueUnit": "%"
                 },
                 {
                  "Element": "TN",
                  "Value": 0.27658,
                  "ValueUnit": "%"
                 }
                ]
               }
              ],
              "SampleMetaData": {
               "Geometry": {
                "wkt": "POINT(-122.3552566 37.2741247)"
               },
               "ReportID": "TOKA-060",
               "SampleNumber": "3"
              }
             }
            ]
           }
          },
          "LabMetaData": {
           "Reports": [
            {
             "FileDescription": "2018_RMN 10-40cm_3",
             "ReportID": "1"
            }
           ]
          }
         }
        ]
       },
       {
        "Events": [
         {
          "EventMetaData": {
           "EventDate": "2015-02-16",
           "EventType": {
            "Soil": true
           }
          },
          "EventSamples": {
           "Soil": {
            "DepthRefs": [
             {
              "ColumnDepth": 10,
              "DepthID": 1,
              "DepthUnit": "cm",
              "EndingDepth": 10,
              "Name": "0 to 10",
              "StartingDepth": 0
             }
            ],
            "SoilSamples": [
             {
              "Depths": [
               {
                "DepthID": "1",
                "NutrientResults": [
                 {
                  "Element": "Bulk Density",
                  "Value": 1.172667643406128,
                  "ValueUnit": "g/cm3"
                 },
                 {
                  "Element": "P",
                  "Value": 4.7,
                  "ValueUnit": "ug/g"
                 },
                 {
                  "Value": 55,
                  "ValueUnit": "%"
                 },
                 {
                  "Element": "Silt",
                  "Value": 26.2,
                  "ValueUnit": "%"
                 },
                 {
                  "Element": "Clay",
                  "Value": 18.8,
                  "ValueUnit": "%"
                 },
                 {
                  "Element": "pH",
                  "Value": 5.8,
                  "ValueUnit": "none"
                 },
                 {
                  "Element": "Ca",
                  "Value": 9.3,
                  "ValueUnit": "cmol(+)/kg"
                 },
                 {
                  "Element": "Mg",
                  "Value": 7.4,
                  "ValueUnit": "cmol(+)/kg"
                 },
                 {
                  "Element": "K",
                  "Value": 0.68,
                  "ValueUnit": "cmol(+)/kg"
                 },
                 {
                  "Element": "Na",
                  "Value": 0.17,
                  "ValueUnit": "cmol(+)/kg"
                 },
                 {
                  "Element": "TOC",
                  "Value": 2.6,
                  "ValueUnit": "%"
                 }
                ]
               }
              ],
              "SampleMetaData": {
               "Geometry": {
                "wkt": "POINT(-122.3846552 37.2652672)"
               },
               "ReportID": "TOKA-001",
               "SampleNumber": "0"
              }
             },
             {
              "Depths": [
               {
                "DepthID": "1",
                "NutrientResults": [
                 {
                  "Element": "Bulk Density",
                  "Value": 1.1025476803004586,
                  "ValueUnit": "g/cm3"
                 },
                 {
                  "Element": "P",
                  "Value": 9.6,
                  "ValueUnit": "ug/g"
                 },
                 {
                  "Value": 30,
                  "ValueUnit": "%"
                 },
                 {
                  "Element": "Silt",
                  "Value": 35,
                  "ValueUnit": "%"
                 },
                 {
                  "Element": "Clay",
                  "Value": 35,
                  "ValueUnit": "%"
                 },
                 {
                  "Element": "pH",
                  "Value": 5.7,
                  "ValueUnit": "none"
                 },
                 {
                  "Element": "Ca",
                  "Value": 19,
                  "ValueUnit": "cmol(+)/kg"
                 },
                 {
                  "Element": "Mg",
                  "Value": 10,
                  "ValueUnit": "cmol(+)/kg"
                 },
                 {
                  "Element": "K",
                  "Value": 1.1,
                  "ValueUnit": "cmol(+)/kg"
                 },
                 {
                  "Element": "Na",
                  "Value": 0.22,
                  "ValueUnit": "cmol(+)/kg"
                 },
                 {
                  "Element": "TOC",
                  "Value": 4.6,
                  "ValueUnit": "%"
                 }
                ]
               }
              ],
              "SampleMetaData": {
               "Geometry": {
                "wkt": "POINT(-122.3687763 37.2760003)"
               },
               "ReportID": "TOKA-020",
               "SampleNumber": "1"
              }
             },
             {
              "Depths": [
               {
                "DepthID": "1",
                "NutrientResults": [
                 {
                  "Element": "Bulk Density",
                  "Value": 1.1361354311719194,
                  "ValueUnit": "g/cm3"
                 },
                 {
                  "Element": "P",
                  "Value": 11,
                  "ValueUnit": "ug/g"
                 },
                 {
                  "Value": 41.2,
                  "ValueUnit": "%"
                 },
                 {
                  "Element": "Silt",
                  "Value": 30,
                  "ValueUnit": "%"
                 },
                 {
                  "Element": "Clay",
                  "Value": 28.8,
                  "ValueUnit": "%"
                 },
                 {
                  "Element": "pH",
                  "Value": 6.3,
                  "ValueUnit": "none"
                 },
                 {
                  "Element": "Ca",
                  "Value": 23,
                  "ValueUnit": "cmol(+)/kg"
                 },
                 {
                  "Element": "Mg",
                  "Value": 10,
                  "ValueUnit": "cmol(+)/kg"
                 },
                 {
                  "Element": "K",
                  "Value": 1.1,
                  "ValueUnit": "cmol(+)/kg"
                 },
                 {
                  "Element": "Na",
                  "Value": 0.22,
                  "ValueUnit": "cmol(+)/kg"
                 },
                 {
                  "Element": "TOC",
                  "Value": 3.5,
                  "ValueUnit": "%"
                 }
                ]
               }
              ],
              "SampleMetaData": {
               "Geometry": {
                "wkt": "POINT(-122.3619935 37.2777667)"
               },
               "ReportID": "TOKA-035",
               "SampleNumber": "2"
              }
             },
             {
              "Depths": [
               {
                "DepthID": "1",
                "NutrientResults": [
                 {
                  "Element": "P",
                  "Value": 8.4,
                  "ValueUnit": "ug/g"
                 },
                 {
                  "Element": "pH",
                  "Value": 6.1,
                  "ValueUnit": "none"
                 },
                 {
                  "Element": "Ca",
                  "Value": 17,
                  "ValueUnit": "cmol(+)/kg"
                 },
                 {
                  "Element": "Mg",
                  "Value": 9.5,
                  "ValueUnit": "cmol(+)/kg"
                 },
                 {
                  "Element": "K",
                  "Value": 1.2,
                  "ValueUnit": "cmol(+)/kg"
                 },
                 {
                  "Element": "Na",
                  "Value": 0.22,
                  "ValueUnit": "cmol(+)/kg"
                 },
                 {
                  "Element": "TOC",
                  "Value": 3.7,
                  "ValueUnit": "%"
                 }
                ]
               }
              ],
              "SampleMetaData": {
               "Geometry": {
                "wkt": "POINT(-122.3597987 37.2705438)"
               },
               "ReportID": "TOKA-045",
               "SampleNumber": "3"
              }
             },
             {
              "Depths": [
               {
                "DepthID": "1",
                "NutrientResults": [
                 {
                  "Element": "Bulk Density",
                  "Value": 1.24,
                  "ValueUnit": "g/cm3"
                 },
                 {
                  "Element": "P",
                  "Value": 6.6,
                  "ValueUnit": "ug/g"
                 },
                 {
                  "Value": 26.2,
                  "ValueUnit": "%"
                 },
                 {
                  "Element": "Silt",
                  "Value": 37.5,
                  "ValueUnit": "%"
                 },
                 {
                  "Element": "Clay",
                  "Value": 36.2,
                  "ValueUnit": "%"
                 },
                 {
                  "Element": "pH",
                  "Value": 5.1,
                  "ValueUnit": "none"
                 },
                 {
                  "Element": "Ca",
                  "Value": 8.4,
                  "ValueUnit": "cmol(+)/kg"
                 },
                 {
                  "Element": "Mg",
                  "Value": 4.7,
                  "ValueUnit": "cmol(+)/kg"
                 },
                 {
                  "Element": "K",
                  "Value": 1.1,
                  "ValueUnit": "cmol(+)/kg"
                 },
                 {
                  "Element": "Na",
                  "Value": 0.14,
                  "ValueUnit": "cmol(+)/kg"
                 },
                 {
                  "Element": "TOC",
                  "Value": 3.2,
                  "ValueUnit": "%"
                 }
                ]
               }
              ],
              "SampleMetaData": {
               "Geometry": {
                "wkt": "POINT(-122.3554103 37.2560978)"
               },
               "ReportID": "TOKA-055",
               "SampleNumber": "4"
              }
             },
             {
              "Depths": [
               {
                "DepthID": "1",
                "NutrientResults": [
                 {
                  "Element": "Bulk Density",
                  "Value": 0.99,
                  "ValueUnit": "g/cm3"
                 },
                 {
                  "Element": "P",
                  "Value": 9.3,
                  "ValueUnit": "ug/g"
                 },
                 {
                  "Value": 20,
                  "ValueUnit": "%"
                 },
                 {
                  "Element": "Silt",
                  "Value": 31.2,
                  "ValueUnit": "%"
                 },
                 {
                  "Element": "Clay",
                  "Value": 48.8,
                  "ValueUnit": "%"
                 },
                 {
                  "Element": "pH",
                  "Value": 5.9,
                  "ValueUnit": "none"
                 },
                 {
                  "Element": "Ca",
                  "Value": 23,
                  "ValueUnit": "cmol(+)/kg"
                 },
                 {
                  "Element": "Mg",
                  "Value": 14,
                  "ValueUnit": "cmol(+)/kg"
                 },
                 {
                  "Element": "K",
                  "Value": 0.82,
                  "ValueUnit": "cmol(+)/kg"
                 },
                 {
                  "Element": "Na",
                  "Value": 0.27,
                  "ValueUnit": "cmol(+)/kg"
                 },
                 {
                  "Element": "TOC",
                  "Value": 3.2,
                  "ValueUnit": "%"
                 }
                ]
               }
              ],
              "SampleMetaData": {
               "Geometry": {
                "wkt": "POINT(-122.3531088 37.2614935)"
               },
               "ReportID": "TOKA-067",
               "SampleNumber": "5"
              }
             },
             {
              "Depths": [
               {
                "DepthID": "1",
                "NutrientResults": [
                 {
                  "Element": "P",
                  "Value": 22,
                  "ValueUnit": "ug/g"
                 },
                 {
                  "Element": "pH",
                  "Value": 5.8,
                  "ValueUnit": "none"
                 },
                 {
                  "Element": "Ca",
                  "Value": 23,
                  "ValueUnit": "cmol(+)/kg"
                 },
                 {
                  "Element": "Mg",
                  "Value": 11,
                  "ValueUnit": "cmol(+)/kg"
                 },
                 {
                  "Element": "K",
                  "Value": 2,
                  "ValueUnit": "cmol(+)/kg"
                 },
                 {
                  "Element": "Na",
                  "Value": 0.23,
                  "ValueUnit": "cmol(+)/kg"
                 },
                 {
                  "Element": "TOC",
                  "Value": 10,
                  "ValueUnit": "%"
                 }
                ]
               }
              ],
              "SampleMetaData": {
               "Geometry": {
                "wkt": "POINT(-122.3508225 37.2650866)"
               },
               "ReportID": "TOKA-071",
               "SampleNumber": "6"
              }
             },
             {
              "Depths": [
               {
                "DepthID": "1",
                "NutrientResults": [
                 {
                  "Element": "Bulk Density",
                  "Value": 1.0947829932911723,
                  "ValueUnit": "g/cm3"
                 },
                 {
                  "Element": "P",
                  "Value": 4.2,
                  "ValueUnit": "ug/g"
                 },
                 {
                  "Value": 27.5,
                  "ValueUnit": "%"
                 },
                 {
                  "Element": "Silt",
                  "Value": 36.2,
                  "ValueUnit": "%"
                 },
                 {
                  "Element": "Clay",
                  "Value": 36.2,
                  "ValueUnit": "%"
                 },
                 {
                  "Element": "pH",
                  "Value": 5.6,
                  "ValueUnit": "none"
                 },
                 {
                  "Element": "Ca",
                  "Value": 9.8,
                  "ValueUnit": "cmol(+)/kg"
                 },
                 {
                  "Element": "Mg",
                  "Value": 6.8,
                  "ValueUnit": "cmol(+)/kg"
                 },
                 {
                  "Element": "K",
                  "Value": 1.7,
                  "ValueUnit": "cmol(+)/kg"
                 },
                 {
                  "Element": "Na",
                  "Value": 0.14,
                  "ValueUnit": "cmol(+)/kg"
                 },
                 {
                  "Element": "TOC",
                  "Value": 4.9,
                  "ValueUnit": "%"
                 }
                ]
               }
              ],
              "SampleMetaData": {
               "Geometry": {
                "wkt": "POINT(-122.3508070 37.2668893)"
               },
               "ReportID": "TOKA-072",
               "SampleNumber": "7"
              }
             },
             {
              "Depths": [
               {
                "DepthID": "1",
                "NutrientResults": [
                 {
                  "Element": "P",
                  "Value": 41,
                  "ValueUnit": "ug/g"
                 },
                 {
                  "Element": "pH",
                  "Value": 6,
                  "ValueUnit": "none"
                 },
                 {
                  "Element": "Ca",
                  "Value": 23,
                  "ValueUnit": "cmol(+)/kg"
                 },
                 {
                  "Element": "Mg",
                  "Value": 8.5,
                  "ValueUnit": "cmol(+)/kg"
                 },
                 {
                  "Element": "K",
                  "Value": 1.6,
                  "ValueUnit": "cmol(+)/kg"
                 },
                 {
                  "Element": "TOC",
                  "Value": 8.6,
                  "ValueUnit": "%"
                 }
                ]
               }
              ],
              "SampleMetaData": {
               "Geometry": {
                "wkt": "POINT(-122.3462180 37.2758779)"
               },
               "ReportID": "TOKA-089",
               "SampleNumber": "8"
              }
             },
             {
              "Depths": [
               {
                "DepthID": "1",
                "NutrientResults": [
                 {
                  "Element": "Bulk Density",
                  "Value": 1.1433669286247379,
                  "ValueUnit": "g/cm3"
                 },
                 {
                  "Element": "P",
                  "Value": 13,
                  "ValueUnit": "ug/g"
                 },
                 {
                  "Value": 25,
                  "ValueUnit": "%"
                 },
                 {
                  "Element": "Silt",
                  "Value": 40,
                  "ValueUnit": "%"
                 },
                 {
                  "Element": "Clay",
                  "Value": 35,
                  "ValueUnit": "%"
                 },
                 {
                  "Element": "pH",
                  "Value": 6,
                  "ValueUnit": "none"
                 },
                 {
                  "Element": "Ca",
                  "Value": 18,
                  "ValueUnit": "cmol(+)/kg"
                 },
                 {
                  "Element": "Mg",
                  "Value": 8.7,
                  "ValueUnit": "cmol(+)/kg"
                 },
                 {
                  "Element": "K",
                  "Value": 1,
                  "ValueUnit": "cmol(+)/kg"
                 },
                 {
                  "Element": "TOC",
                  "Value": 3.3,
                  "ValueUnit": "%"
                 }
                ]
               }
              ],
              "SampleMetaData": {
               "Geometry": {
                "wkt": "POINT(-122.3439934 37.2722600)"
               },
               "ReportID": "TOKA-091",
               "SampleNumber": "9"
              }
             },
             {
              "Depths": [
               {
                "DepthID": "1",
                "NutrientResults": [
                 {
                  "Element": "Bulk Density",
                  "Value": 1.108010801920414,
                  "ValueUnit": "g/cm3"
                 },
                 {
                  "Element": "P",
                  "Value": 15,
                  "ValueUnit": "ug/g"
                 },
                 {
                  "Value": 25,
                  "ValueUnit": "%"
                 },
                 {
                  "Element": "Silt",
                  "Value": 38.8,
                  "ValueUnit": "%"
                 },
                 {
                  "Element": "Clay",
                  "Value": 36.2,
                  "ValueUnit": "%"
                 },
                 {
                  "Element": "pH",
                  "Value": 6,
                  "ValueUnit": "none"
                 },
                 {
                  "Element": "Ca",
                  "Value": 17,
                  "ValueUnit": "cmol(+)/kg"
                 },
                 {
                  "Element": "Mg",
                  "Value": 12,
                  "ValueUnit": "cmol(+)/kg"
                 },
                 {
                  "Element": "K",
                  "Value": 1.1,
                  "ValueUnit": "cmol(+)/kg"
                 },
                 {
                  "Element": "Na",
                  "Value": 0.31,
                  "ValueUnit": "cmol(+)/kg"
                 },
                 {
                  "Element": "TOC",
                  "Value": 4.4,
                  "ValueUnit": "%"
                 }
                ]
               }
              ],
              "SampleMetaData": {
               "Geometry": {
                "wkt": "POINT(-122.3643707 37.2633573)"
               },
               "ReportID": "TOKA-122",
               "SampleNumber": "10"
              }
             },
             {
              "Depths": [
               {
                "DepthID": "1",
                "NutrientResults": [
                 {
                  "Element": "Bulk Density",
                  "Value": 1.139697999453642,
                  "ValueUnit": "g/cm3"
                 },
                 {
                  "Element": "P",
                  "Value": 12,
                  "ValueUnit": "ug/g"
                 },
                 {
                  "Value": 37.5,
                  "ValueUnit": "%"
                 },
                 {
                  "Element": "Silt",
                  "Value": 28.8,
                  "ValueUnit": "%"
                 },
                 {
                  "Element": "Clay",
                  "Value": 33.8,
                  "ValueUnit": "%"
                 },
                 {
                  "Element": "pH",
                  "Value": 6,
                  "ValueUnit": "none"
                 },
                 {
                  "Element": "Ca",
                  "Value": 18,
                  "ValueUnit": "cmol(+)/kg"
                 },
                 {
                  "Element": "Mg",
                  "Value": 13,
                  "ValueUnit": "cmol(+)/kg"
                 },
                 {
                  "Element": "K",
                  "Value": 0.93,
                  "ValueUnit": "cmol(+)/kg"
                 },
                 {
                  "Element": "Na",
                  "Value": 0.28,
                  "ValueUnit": "cmol(+)/kg"
                 },
                 {
                  "Element": "TOC",
                  "Value": 3.4,
                  "ValueUnit": "%"
                 }
                ]
               }
              ],
              "SampleMetaData": {
               "Geometry": {
                "wkt": "POINT(-122.3552413 37.2759273)"
               },
               "ReportID": "TOKA-147",
               "SampleNumber": "11"
              }
             },
             {
              "Depths": [
               {
                "DepthID": "1",
                "NutrientResults": [
                 {
                  "Element": "Bulk Density",
                  "Value": 1.15,
                  "ValueUnit": "g/cm3"
                 },
                 {
                  "Element": "P",
                  "Value": 8.3,
                  "ValueUnit": "ug/g"
                 },
                 {
                  "Value": 17.5,
                  "ValueUnit": "%"
                 },
                 {
                  "Element": "Silt",
                  "Value": 41.2,
                  "ValueUnit": "%"
                 },
                 {
                  "Element": "Clay",
                  "Value": 41.2,
                  "ValueUnit": "%"
                 },
                 {
                  "Element": "pH",
                  "Value": 5.7,
                  "ValueUnit": "none"
                 },
                 {
                  "Element": "Ca",
                  "Value": 14,
                  "ValueUnit": "cmol(+)/kg"
                 },
                 {
                  "Element": "Mg",
                  "Value": 11,
                  "ValueUnit": "cmol(+)/kg"
                 },
                 {
                  "Element": "K",
                  "Value": 0.71,
                  "ValueUnit": "cmol(+)/kg"
                 },
                 {
                  "Element": "Na",
                  "Value": 0.24,
                  "ValueUnit": "cmol(+)/kg"
                 },
                 {
                  "Element": "TOC",
                  "Value": 2.6,
                  "ValueUnit": "%"
                 }
                ]
               }
              ],
              "SampleMetaData": {
               "Geometry": {
                "wkt": "POINT(-122.3508689 37.2596785)"
               },
               "ReportID": "TOKA-154",
               "SampleNumber": "12"
              }
             },
             {
              "Depths": [
               {
                "DepthID": "1",
                "NutrientResults": [
                 {
                  "Element": "Bulk Density",
                  "Value": 1.092300080561849,
                  "ValueUnit": "g/cm3"
                 },
                 {
                  "Element": "P",
                  "Value": 4.7,
                  "ValueUnit": "ug/g"
                 },
                 {
                  "Value": 22.5,
                  "ValueUnit": "%"
                 },
                 {
                  "Element": "Silt",
                  "Value": 38.8,
                  "ValueUnit": "%"
                 },
                 {
                  "Element": "Clay",
                  "Value": 38.8,
                  "ValueUnit": "%"
                 },
                 {
                  "Element": "pH",
                  "Value": 5.6,
                  "ValueUnit": "none"
                 },
                 {
                  "Element": "Ca",
                  "Value": 15,
                  "ValueUnit": "cmol(+)/kg"
                 },
                 {
                  "Element": "Mg",
                  "Value": 8.9,
                  "ValueUnit": "cmol(+)/kg"
                 },
                 {
                  "Element": "K",
                  "Value": 1.1,
                  "ValueUnit": "cmol(+)/kg"
                 },
                 {
                  "Element": "Na",
                  "Value": 0.2,
                  "ValueUnit": "cmol(+)/kg"
                 },
                 {
                  "Element": "TOC",
                  "Value": 5,
                  "ValueUnit": "%"
                 }
                ]
               }
              ],
              "SampleMetaData": {
               "Geometry": {
                "wkt": "POINT(-122.3485204 37.2704822)"
               },
               "ReportID": "TOKA-161",
               "SampleNumber": "13"
              }
             }
            ]
           }
          },
          "LabMetaData": {
           "Reports": [
            {
             "FileDescription": "2015_RMN 0-10cm_1",
             "ReportID": "1"
            }
           ]
          }
         }
        ]
       },
       {
        "Events": [
         {
          "EventMetaData": {
           "EventDate": "2016-08-09",
           "EventType": {
            "Soil": true
           }
          },
          "EventSamples": {
           "Soil": {
            "DepthRefs": [
             {
              "ColumnDepth": 10,
              "DepthID": 1,
              "DepthUnit": "cm",
              "EndingDepth": 10,
              "Name": "0 to 10",
              "StartingDepth": 0
             }
            ],
            "SoilSamples": [
             {
              "Depths": [
               {
                "DepthID": "1",
                "NutrientResults": [
                 {
                  "Element": "Bulk Density",
                  "Value": 1.18,
                  "ValueUnit": "g/cm3"
                 },
                 {
                  "Element": "OM",
                  "Value": 10.1,
                  "ValueUnit": "%"
                 },
                 {
                  "Element": "TN (W)",
                  "Value": 54,
                  "ValueUnit": "ppm"
                 },
                 {
                  "Element": "NO3-N",
                  "Value": 1.9,
                  "ValueUnit": "ppm"
                 },
                 {
                  "Element": "K",
                  "Value": 143,
                  "ValueUnit": "ppm"
                 },
                 {
                  "Element": "Ca",
                  "Value": 424,
                  "ValueUnit": "ppm"
                 },
                 {
                  "Element": "Fe",
                  "Value": 443,
                  "ValueUnit": "ppm"
                 }
                ]
               }
              ],
              "SampleMetaData": {
               "ReportID": "FRONT FIELD",
               "SampleNumber": "0"
              }
             },
             {
              "Depths": [
               {
                "DepthID": "1",
                "NutrientResults": [
                 {
                  "Element": "Bulk Density",
                  "Value": 1.04,
                  "ValueUnit": "g/cm3"
                 },
                 {
                  "Element": "OM",
                  "Value": 12.3,
                  "ValueUnit": "%"
                 },
                 {
                  "Element": "TN (W)",
                  "Value": 35.2,
                  "ValueUnit": "ppm"
                 },
                 {
                  "Element": "NO3-N",
                  "Value": 0.5,
                  "ValueUnit": "ppm"
                 },
                 {
                  "Element": "K",
                  "Value": 215,
                  "ValueUnit": "ppm"
                 },
                 {
                  "Element": "Ca",
                  "Value": 644,
                  "ValueUnit": "ppm"
                 },
                 {
                  "Element": "Fe",
                  "Value": 236.9,
                  "ValueUnit": "ppm"
                 }
                ]
               }
              ],
              "SampleMetaData": {
               "Geometry": {
                "wkt": "POINT(-122.3665960 37.2669748)"
               },
               "ReportID": "TOKA-022",
               "SampleNumber": "1"
              }
             },
             {
              "Depths": [
               {
                "DepthID": "1",
                "NutrientResults": [
                 {
                  "Element": "Bulk Density",
                  "Value": 1.29,
                  "ValueUnit": "g/cm3"
                 },
                 {
                  "Element": "OM",
                  "Value": 3.8,
                  "ValueUnit": "%"
                 },
                 {
                  "Element": "TN (W)",
                  "Value": 18,
                  "ValueUnit": "ppm"
                 },
                 {
                  "Element": "NO3-N",
                  "Value": 0.4,
                  "ValueUnit": "ppm"
                 },
                 {
                  "Element": "K",
                  "Value": 58,
                  "ValueUnit": "ppm"
                 },
                 {
                  "Element": "Ca",
                  "Value": 168,
                  "ValueUnit": "ppm"
                 },
                 {
                  "Element": "Fe",
                  "Value": 192.3,
                  "ValueUnit": "ppm"
                 }
                ]
               }
              ],
              "SampleMetaData": {
               "Geometry": {
                "wkt": "POINT(-122.3801294 37.2670464)"
               },
               "ReportID": "TOKA-104",
               "SampleNumber": "2"
              }
             },
             {
              "Depths": [
               {
                "DepthID": "1",
                "NutrientResults": [
                 {
                  "Element": "Bulk Density",
                  "Value": 1.38,
                  "ValueUnit": "g/cm3"
                 },
                 {
                  "Element": "OM",
                  "Value": 3.9,
                  "ValueUnit": "%"
                 },
                 {
                  "Element": "TN (W)",
                  "Value": 15.7,
                  "ValueUnit": "ppm"
                 },
                 {
                  "Element": "NO3-N",
                  "Value": 0.1,
                  "ValueUnit": "ppm"
                 },
                 {
                  "Element": "K",
                  "Value": 74,
                  "ValueUnit": "ppm"
                 },
                 {
                  "Element": "Ca",
                  "Value": 77,
                  "ValueUnit": "ppm"
                 },
                 {
                  "Element": "Fe",
                  "Value": 199.3,
                  "ValueUnit": "ppm"
                 }
                ]
               }
              ],
              "SampleMetaData": {
               "Geometry": {
                "wkt": "POINT(-122.3801146 37.2688491)"
               },
               "ReportID": "TOKA-007",
               "SampleNumber": "3"
              }
             },
             {
              "Depths": [
               {
                "DepthID": "1",
                "NutrientResults": [
                 {
                  "Element": "Bulk Density",
                  "Value": 1.21,
                  "ValueUnit": "g/cm3"
                 },
                 {
                  "Element": "OM",
                  "Value": 7.5,
                  "ValueUnit": "%"
                 },
                 {
                  "Element": "TN (W)",
                  "Value": 24.1,
                  "ValueUnit": "ppm"
                 },
                 {
                  "Element": "NO3-N",
                  "Value": 0.8,
                  "ValueUnit": "ppm"
                 },
                 {
                  "Element": "K",
                  "Value": 141,
                  "ValueUnit": "ppm"
                 },
                 {
                  "Element": "Ca",
                  "Value": 352,
                  "ValueUnit": "ppm"
                 },
                 {
                  "Element": "Fe",
                  "Value": 158.6,
                  "ValueUnit": "ppm"
                 }
                ]
               }
              ],
              "SampleMetaData": {
               "Geometry": {
                "wkt": "POINT(-122.3552566 37.2741247)"
               },
               "ReportID": "TOKA-060",
               "SampleNumber": "4"
              }
             },
             {
              "Depths": [
               {
                "DepthID": "1",
                "NutrientResults": [
                 {
                  "Element": "Bulk Density",
                  "Value": 1.07,
                  "ValueUnit": "g/cm3"
                 },
                 {
                  "Element": "OM",
                  "Value": 9.6,
                  "ValueUnit": "%"
                 },
                 {
                  "Element": "TN (W)",
                  "Value": 25.3,
                  "ValueUnit": "ppm"
                 },
                 {
                  "Element": "NO3-N",
                  "Value": 0.6,
                  "ValueUnit": "ppm"
                 },
                 {
                  "Element": "K",
                  "Value": 135,
                  "ValueUnit": "ppm"
                 },
                 {
                  "Element": "Ca",
                  "Value": 300,
                  "ValueUnit": "ppm"
                 },
                 {
                  "Element": "Fe",
                  "Value": 324.5,
                  "ValueUnit": "ppm"
                 }
                ]
               }
              ],
              "SampleMetaData": {
               "Geometry": {
                "wkt": "POINT(-122.3530163 37.2723097)"
               },
               "ReportID": "TOKA-064",
               "SampleNumber": "5"
              }
             },
             {
              "Depths": [
               {
                "DepthID": "1",
                "NutrientResults": [
                 {
                  "Element": "Bulk Density",
                  "Value": 1.3,
                  "ValueUnit": "g/cm3"
                 },
                 {
                  "Element": "OM",
                  "Value": 8.4,
                  "ValueUnit": "%"
                 },
                 {
                  "Element": "TN (W)",
                  "Value": 34.6,
                  "ValueUnit": "ppm"
                 },
                 {
                  "Element": "NO3-N",
                  "Value": 1,
                  "ValueUnit": "ppm"
                 },
                 {
                  "Element": "K",
                  "Value": 284,
                  "ValueUnit": "ppm"
                 },
                 {
                  "Element": "Ca",
                  "Value": 500,
                  "ValueUnit": "ppm"
                 },
                 {
                  "Element": "Fe",
                  "Value": 196.9,
                  "ValueUnit": "ppm"
                 }
                ]
               }
              ],
              "SampleMetaData": {
               "Geometry": {
                "wkt": "POINT(-122.3531397 37.2578881)"
               },
               "ReportID": "TOKA-068",
               "SampleNumber": "6"
              }
             },
             {
              "Depths": [
               {
                "DepthID": "1",
                "NutrientResults": [
                 {
                  "Element": "Bulk Density",
                  "Value": 1.2,
                  "ValueUnit": "g/cm3"
                 },
                 {
                  "Element": "OM",
                  "Value": 7.5,
                  "ValueUnit": "%"
                 },
                 {
                  "Element": "TN (W)",
                  "Value": 32.8,
                  "ValueUnit": "ppm"
                 },
                 {
                  "Element": "NO3-N",
                  "Value": 4.6,
                  "ValueUnit": "ppm"
                 },
                 {
                  "Element": "K",
                  "Value": 126,
                  "ValueUnit": "ppm"
                 },
                 {
                  "Element": "Ca",
                  "Value": 362,
                  "ValueUnit": "ppm"
                 },
                 {
                  "Element": "Fe",
                  "Value": 301.6,
                  "ValueUnit": "ppm"
                 }
                ]
               }
              ],
              "SampleMetaData": {
               "ReportID": "PRB0",
               "SampleNumber": "7"
              }
             }
            ]
           }
          },
          "LabMetaData": {
           "Reports": [
            {
             "FileDescription": "2016_Intern Project 0-10cm_1",
             "ReportID": "1"
            }
           ]
          }
         }
        ]
       },
       {
        "Events": [
         {
          "EventMetaData": {
           "EventDate": "2022-03-09",
           "EventType": {
            "Soil": true
           }
          },
          "EventSamples": {
           "Soil": {
            "DepthRefs": [
             {
              "ColumnDepth": 4,
              "DepthID": 1,
              "DepthUnit": "cm",
              "EndingDepth": 4,
              "Name": "0",
              "StartingDepth": 0
             },
             {
              "ColumnDepth": 12,
              "DepthID": 2,
              "DepthUnit": "cm",
              "EndingDepth": 16,
              "Name": "4",
              "StartingDepth": 4
             }
            ],
            "SoilSamples": [
             {
              "Depths": [
               {
                "DepthID": "1",
                "NutrientResults": [
                 {
                  "Element": "pH",
                  "Value": 6,
                  "ValueUnit": "none"
                 },
                 {
                  "Value": 0.2,
                  "ValueUnit": "mmho/cm"
                 },
                 {
                  "Element": "OM (LOI)",
                  "Value": 7.5,
                  "ValueUnit": "%"
                 },
                 {
                  "Element": "NO3-N",
                  "Value": 1.9,
                  "ValueUnit": "ppm"
                 },
                 {
                  "Element": "P",
                  "Value": 6.9,
                  "ValueUnit": "ppm"
                 },
                 {
                  "Element": "K",
                  "Value": 341,
                  "ValueUnit": "ppm"
                 },
                 {
                  "Element": "SO4-S",
                  "Value": 8,
                  "ValueUnit": "ppm"
                 },
                 {
                  "Element": "Ca",
                  "Value": 2380,
                  "ValueUnit": "ppm"
                 },
                 {
                  "Element": "Mg",
                  "Value": 815,
                  "ValueUnit": "ppm"
                 },
                 {
                  "Element": "Na",
                  "Value": 59,
                  "ValueUnit": "ppm"
                 },
                 {
                  "Element": "CEC",
                  "Value": 28.2,
                  "ValueUnit": "Sum of Cations me/100g"
                 },
                 {
                  "Element": "BS-H",
                  "Value": 30,
                  "ValueUnit": "%"
                 },
                 {
                  "Element": "BS-K",
                  "Value": 3,
                  "ValueUnit": "%"
                 },
                 {
                  "Element": "BS-Ca",
                  "Value": 42,
                  "ValueUnit": "%"
                 },
                 {
                  "Element": "BS-Mg",
                  "Value": 24,
                  "ValueUnit": "%"
                 },
                 {
                  "Element": "BS-Na",
                  "Value": 1,
                  "ValueUnit": "%"
                 },
                 {
                  "Element": "TN",
                  "Value": 3812,
                  "ValueUnit": "ppm"
                 }
                ]
               }
              ],
              "SampleMetaData": {
               "ReportID": "",
               "SampleNumber": "0"
              }
             },
             {
              "Depths": [
               {
                "DepthID": "2",
                "NutrientResults": [
                 {
                  "Element": "pH",
                  "Value": 6.1,
                  "ValueUnit": "none"
                 },
                 {
                  "Value": 0.15,
                  "ValueUnit": "mmho/cm"
                 },
                 {
                  "Element": "OM (LOI)",
                  "Value": 5.7,
                  "ValueUnit": "%"
                 },
                 {
                  "Element": "NO3-N",
                  "Value": 1.4,
                  "ValueUnit": "ppm"
                 },
                 {
                  "Element": "P",
                  "Value": 5.8,
                  "ValueUnit": "ppm"
                 },
                 {
                  "Element": "K",
                  "Value": 221,
                  "ValueUnit": "ppm"
                 },
                 {
                  "Element": "SO4-S",
                  "Value": 6.6,
                  "ValueUnit": "ppm"
                 },
                 {
                  "Element": "Ca",
                  "Value": 2486,
                  "ValueUnit": "ppm"
                 },
                 {
                  "Element": "Mg",
                  "Value": 940,
                  "ValueUnit": "ppm"
                 },
                 {
                  "Element": "Na",
                  "Value": 78,
                  "ValueUnit": "ppm"
                 },
                 {
                  "Element": "CEC",
                  "Value": 30,
                  "ValueUnit": "Sum of Cations me/100g"
                 },
                 {
                  "Element": "BS-H",
                  "Value": 29,
                  "ValueUnit": "%"
                 },
                 {
                  "Element": "BS-K",
                  "Value": 2,
                  "ValueUnit": "%"
                 },
                 {
                  "Element": "BS-Ca",
                  "Value": 41,
                  "ValueUnit": "%"
                 },
                 {
                  "Element": "BS-Mg",
                  "Value": 26,
                  "ValueUnit": "%"
                 },
                 {
                  "Element": "BS-Na",
                  "Value": 1,
                  "ValueUnit": "%"
                 },
                 {
                  "Element": "TN",
                  "Value": 2941,
                  "ValueUnit": "ppm"
                 }
                ]
               }
              ],
              "SampleMetaData": {
               "ReportID": "",
               "SampleNumber": "1"
              }
             },
             {
              "Depths": [
               {
                "DepthID": "1",
                "NutrientResults": [
                 {
                  "Element": "pH",
                  "Value": 5.8,
                  "ValueUnit": "none"
                 },
                 {
                  "Value": 0.09,
                  "ValueUnit": "mmho/cm"
                 },
                 {
                  "Element": "OM (LOI)",
                  "Value": 5.5,
                  "ValueUnit": "%"
                 },
                 {
                  "Element": "NO3-N",
                  "Value": 0.8,
                  "ValueUnit": "ppm"
                 },
                 {
                  "Element": "P",
                  "Value": 6.5,
                  "ValueUnit": "ppm"
                 },
                 {
                  "Element": "K",
                  "Value": 226,
                  "ValueUnit": "ppm"
                 },
                 {
                  "Element": "SO4-S",
                  "Value": 8.5,
                  "ValueUnit": "ppm"
                 },
                 {
                  "Element": "Ca",
                  "Value": 1186,
                  "ValueUnit": "ppm"
                 },
                 {
                  "Element": "Mg",
                  "Value": 646,
                  "ValueUnit": "ppm"
                 },
                 {
                  "Element": "Na",
                  "Value": 55,
                  "ValueUnit": "ppm"
                 },
                 {
                  "Element": "CEC",
                  "Value": 21.5,
                  "ValueUnit": "Sum of Cations me/100g"
                 },
                 {
                  "Element": "BS-H",
                  "Value": 44,
                  "ValueUnit": "%"
                 },
                 {
                  "Element": "BS-K",
                  "Value": 3,
                  "ValueUnit": "%"
                 },
                 {
                  "Element": "BS-Ca",
                  "Value": 27,
                  "ValueUnit": "%"
                 },
                 {
                  "Element": "BS-Mg",
                  "Value": 25,
                  "ValueUnit": "%"
                 },
                 {
                  "Element": "BS-Na",
                  "Value": 1,
                  "ValueUnit": "%"
                 },
                 {
                  "Element": "TN",
                  "Value": 2540,
                  "ValueUnit": "ppm"
                 }
                ]
               }
              ],
              "SampleMetaData": {
               "ReportID": "",
               "SampleNumber": "2"
              }
             },
             {
              "Depths": [
               {
                "DepthID": "2",
                "NutrientResults": [
                 {
                  "Element": "pH",
                  "Value": 5.8,
                  "ValueUnit": "none"
                 },
                 {
                  "Value": 0.07,
                  "ValueUnit": "mmho/cm"
                 },
                 {
                  "Element": "OM (LOI)",
                  "Value": 3,
                  "ValueUnit": "%"
                 },
                 {
                  "Element": "NO3-N",
                  "Value": 0.7,
                  "ValueUnit": "ppm"
                 },
                 {
                  "Element": "P",
                  "Value": 5.5,
                  "ValueUnit": "ppm"
                 },
                 {
                  "Element": "K",
                  "Value": 126,
                  "ValueUnit": "ppm"
                 },
                 {
                  "Element": "SO4-S",
                  "Value": 6.5,
                  "ValueUnit": "ppm"
                 },
                 {
                  "Element": "Ca",
                  "Value": 953,
                  "ValueUnit": "ppm"
                 },
                 {
                  "Element": "Mg",
                  "Value": 738,
                  "ValueUnit": "ppm"
                 },
                 {
                  "Element": "Na",
                  "Value": 82,
                  "ValueUnit": "ppm"
                 },
                 {
                  "Element": "CEC",
                  "Value": 20.5,
                  "ValueUnit": "Sum of Cations me/100g"
                 },
                 {
                  "Element": "BS-H",
                  "Value": 43,
                  "ValueUnit": "%"
                 },
                 {
                  "Element": "BS-K",
                  "Value": 2,
                  "ValueUnit": "%"
                 },
                 {
                  "Element": "BS-Ca",
                  "Value": 23,
                  "ValueUnit": "%"
                 },
                 {
                  "Element": "BS-Mg",
                  "Value": 30,
                  "ValueUnit": "%"
                 },
                 {
                  "Element": "BS-Na",
                  "Value": 2,
                  "ValueUnit": "%"
                 },
                 {
                  "Element": "TN",
                  "Value": 1309,
                  "ValueUnit": "ppm"
                 }
                ]
               }
              ],
              "SampleMetaData": {
               "ReportID": "",
               "SampleNumber": "3"
              }
             },
             {
              "Depths": [
               {
                "DepthID": "1",
                "NutrientResults": [
                 {
                  "Element": "pH",
                  "Value": 6.1,
                  "ValueUnit": "none"
                 },
                 {
                  "Value": 0.13,
                  "ValueUnit": "mmho/cm"
                 },
                 {
                  "Element": "OM (LOI)",
                  "Value": 6.4,
                  "ValueUnit": "%"
                 },
                 {
                  "Element": "NO3-N",
                  "Value": 1.6,
                  "ValueUnit": "ppm"
                 },
                 {
                  "Element": "P",
                  "Value": 6.1,
                  "ValueUnit": "ppm"
                 },
                 {
                  "Element": "K",
                  "Value": 290,
                  "ValueUnit": "ppm"
                 },
                 {
                  "Element": "SO4-S",
                  "Value": 7.2,
                  "ValueUnit": "ppm"
                 },
                 {
                  "Element": "Ca",
                  "Value": 1909,
                  "ValueUnit": "ppm"
                 },
                 {
                  "Element": "Mg",
                  "Value": 573,
                  "ValueUnit": "ppm"
                 },
                 {
                  "Element": "Na",
                  "Value": 42,
                  "ValueUnit": "ppm"
                 },
                 {
                  "Element": "CEC",
                  "Value": 23.5,
                  "ValueUnit": "Sum of Cations me/100g"
                 },
                 {
                  "Element": "BS-H",
                  "Value": 35,
                  "ValueUnit": "%"
                 },
                 {
                  "Element": "BS-K",
                  "Value": 3,
                  "ValueUnit": "%"
                 },
                 {
                  "Element": "BS-Ca",
                  "Value": 41,
                  "ValueUnit": "%"
                 },
                 {
                  "Element": "BS-Mg",
                  "Value": 20,
                  "ValueUnit": "%"
                 },
                 {
                  "Element": "BS-Na",
                  "Value": 1,
                  "ValueUnit": "%"
                 },
                 {
                  "Element": "TN",
                  "Value": 3438,
                  "ValueUnit": "ppm"
                 }
                ]
               }
              ],
              "SampleMetaData": {
               "ReportID": "",
               "SampleNumber": "4"
              }
             },
             {
              "Depths": [
               {
                "DepthID": "2",
                "NutrientResults": [
                 {
                  "Element": "pH",
                  "Value": 6,
                  "ValueUnit": "none"
                 },
                 {
                  "Value": 0.08,
                  "ValueUnit": "mmho/cm"
                 },
                 {
                  "Element": "OM (LOI)",
                  "Value": 4.7,
                  "ValueUnit": "%"
                 },
                 {
                  "Element": "NO3-N",
                  "Value": 1.2,
                  "ValueUnit": "ppm"
                 },
                 {
                  "Element": "P",
                  "Value": 6,
                  "ValueUnit": "ppm"
                 },
                 {
                  "Element": "K",
                  "Value": 187,
                  "ValueUnit": "ppm"
                 },
                 {
                  "Element": "SO4-S",
                  "Value": 6.3,
                  "ValueUnit": "ppm"
                 },
                 {
                  "Element": "Ca",
                  "Value": 1855,
                  "ValueUnit": "ppm"
                 },
                 {
                  "Element": "Mg",
                  "Value": 531,
                  "ValueUnit": "ppm"
                 },
                 {
                  "Element": "Na",
                  "Value": 59,
                  "ValueUnit": "ppm"
                 },
                 {
                  "Element": "CEC",
                  "Value": 22.5,
                  "ValueUnit": "Sum of Cations me/100g"
                 },
                 {
                  "Element": "BS-H",
                  "Value": 36,
                  "ValueUnit": "%"
                 },
                 {
                  "Element": "BS-K",
                  "Value": 2,
                  "ValueUnit": "%"
                 },
                 {
                  "Element": "BS-Ca",
                  "Value": 41,
                  "ValueUnit": "%"
                 },
                 {
                  "Element": "BS-Mg",
                  "Value": 20,
                  "ValueUnit": "%"
                 },
                 {
                  "Element": "BS-Na",
                  "Value": 1,
                  "ValueUnit": "%"
                 },
                 {
                  "Element": "TN",
                  "Value": 2788,
                  "ValueUnit": "ppm"
                 }
                ]
               }
              ],
              "SampleMetaData": {
               "ReportID": "",
               "SampleNumber": "5"
              }
             },
             {
              "Depths": [
               {
                "DepthID": "1",
                "NutrientResults": [
                 {
                  "Element": "pH",
                  "Value": 5.8,
                  "ValueUnit": "none"
                 },
                 {
                  "Value": 0.09,
                  "ValueUnit": "mmho/cm"
                 },
                 {
                  "Element": "OM (LOI)",
                  "Value": 4.1,
                  "ValueUnit": "%"
                 },
                 {
                  "Element": "NO3-N",
                  "Value": 1.1,
                  "ValueUnit": "ppm"
                 },
                 {
                  "Element": "P",
                  "Value": 8.5,
                  "ValueUnit": "ppm"
                 },
                 {
                  "Element": "K",
                  "Value": 139,
                  "ValueUnit": "ppm"
                 },
                 {
                  "Element": "SO4-S",
                  "Value": 5.5,
                  "ValueUnit": "ppm"
                 },
                 {
                  "Element": "Ca",
                  "Value": 1034,
                  "ValueUnit": "ppm"
                 },
                 {
                  "Element": "Mg",
                  "Value": 478,
                  "ValueUnit": "ppm"
                 },
                 {
                  "Element": "Na",
                  "Value": 57,
                  "ValueUnit": "ppm"
                 },
                 {
                  "Element": "CEC",
                  "Value": 18,
                  "ValueUnit": "Sum of Cations me/100g"
                 },
                 {
                  "Element": "BS-H",
                  "Value": 46,
                  "ValueUnit": "%"
                 },
                 {
                  "Element": "BS-K",
                  "Value": 2,
                  "ValueUnit": "%"
                 },
                 {
                  "Element": "BS-Ca",
                  "Value": 29,
                  "ValueUnit": "%"
                 },
                 {
                  "Element": "BS-Mg",
                  "Value": 22,
                  "ValueUnit": "%"
                 },
                 {
                  "Element": "BS-Na",
                  "Value": 1,
                  "ValueUnit": "%"
                 },
                 {
                  "Element": "TN",
                  "Value": 2023,
                  "ValueUnit": "ppm"
                 }
                ]
               }
              ],
              "SampleMetaData": {
               "ReportID": "",
               "SampleNumber": "6"
              }
             },
             {
              "Depths": [
               {
                "DepthID": "2",
                "NutrientResults": [
                 {
                  "Element": "pH",
                  "Value": 5.9,
                  "ValueUnit": "none"
                 },
                 {
                  "Value": 0.06,
                  "ValueUnit": "mmho/cm"
                 },
                 {
                  "Element": "OM (LOI)",
                  "Value": 2.6,
                  "ValueUnit": "%"
                 },
                 {
                  "Element": "NO3-N",
                  "Value": 5.1,
                  "ValueUnit": "ppm"
                 },
                 {
                  "Element": "P",
                  "Value": 6.3,
                  "ValueUnit": "ppm"
                 },
                 {
                  "Element": "K",
                  "Value": 71,
                  "ValueUnit": "ppm"
                 },
                 {
                  "Element": "SO4-S",
                  "Value": 4.9,
                  "ValueUnit": "ppm"
                 },
                 {
                  "Element": "Ca",
                  "Value": 1151,
                  "ValueUnit": "ppm"
                 },
                 {
                  "Element": "Mg",
                  "Value": 498,
                  "ValueUnit": "ppm"
                 },
                 {
                  "Element": "Na",
                  "Value": 70,
                  "ValueUnit": "ppm"
                 },
                 {
                  "Element": "CEC",
                  "Value": 18.9,
                  "ValueUnit": "Sum of Cations me/100g"
                 },
                 {
                  "Element": "BS-H",
                  "Value": 45,
                  "ValueUnit": "%"
                 },
                 {
                  "Element": "BS-K",
                  "Value": 1,
                  "ValueUnit": "%"
                 },
                 {
                  "Element": "BS-Ca",
                  "Value": 30,
                  "ValueUnit": "%"
                 },
                 {
                  "Element": "BS-Mg",
                  "Value": 22,
                  "ValueUnit": "%"
                 },
                 {
                  "Element": "BS-Na",
                  "Value": 2,
                  "ValueUnit": "%"
                 },
                 {
                  "Element": "TN",
                  "Value": 1438,
                  "ValueUnit": "ppm"
                 }
                ]
               }
              ],
              "SampleMetaData": {
               "ReportID": "",
               "SampleNumber": "7"
              }
             },
             {
              "Depths": [
               {
                "DepthID": "1",
                "NutrientResults": [
                 {
                  "Element": "pH",
                  "Value": 6.1,
                  "ValueUnit": "none"
                 },
                 {
                  "Value": 0.24,
                  "ValueUnit": "mmho/cm"
                 },
                 {
                  "Element": "OM (LOI)",
                  "Value": 8.6,
                  "ValueUnit": "%"
                 },
                 {
                  "Element": "NO3-N",
                  "Value": 2.2,
                  "ValueUnit": "ppm"
                 },
                 {
                  "Element": "P",
                  "Value": 48.6,
                  "ValueUnit": "ppm"
                 },
                 {
                  "Element": "K",
                  "Value": 373,
                  "ValueUnit": "ppm"
                 },
                 {
                  "Element": "SO4-S",
                  "Value": 9.5,
                  "ValueUnit": "ppm"
                 },
                 {
                  "Element": "Ca",
                  "Value": 2974,
                  "ValueUnit": "ppm"
                 },
                 {
                  "Element": "Mg",
                  "Value": 886,
                  "ValueUnit": "ppm"
                 },
                 {
                  "Element": "Na",
                  "Value": 80,
                  "ValueUnit": "ppm"
                 },
                 {
                  "Element": "CEC",
                  "Value": 31.8,
                  "ValueUnit": "Sum of Cations me/100g"
                 },
                 {
                  "Element": "BS-H",
                  "Value": 26,
                  "ValueUnit": "%"
                 },
                 {
                  "Element": "BS-K",
                  "Value": 3,
                  "ValueUnit": "%"
                 },
                 {
                  "Element": "BS-Ca",
                  "Value": 47,
                  "ValueUnit": "%"
                 },
                 {
                  "Element": "BS-Mg",
                  "Value": 23,
                  "ValueUnit": "%"
                 },
                 {
                  "Element": "BS-Na",
                  "Value": 1,
                  "ValueUnit": "%"
                 },
                 {
                  "Element": "TN",
                  "Value": 4488,
                  "ValueUnit": "ppm"
                 }
                ]
               }
              ],
              "SampleMetaData": {
               "ReportID": "",
               "SampleNumber": "8"
              }
             },
             {
              "Depths": [
               {
                "DepthID": "2",
                "NutrientResults": [
                 {
                  "Element": "pH",
                  "Value": 6.4,
                  "ValueUnit": "none"
                 },
                 {
                  "Value": 0.3,
                  "ValueUnit": "mmho/cm"
                 },
                 {
                  "Element": "OM (LOI)",
                  "Value": 5.3,
                  "ValueUnit": "%"
                 },
                 {
                  "Element": "NO3-N",
                  "Value": 4.6,
                  "ValueUnit": "ppm"
                 },
                 {
                  "Element": "P",
                  "Value": 46.7,
                  "ValueUnit": "ppm"
                 },
                 {
                  "Element": "K",
                  "Value": 347,
                  "ValueUnit": "ppm"
                 },
                 {
                  "Element": "SO4-S",
                  "Value": 7.7,
                  "ValueUnit": "ppm"
                 },
                 {
                  "Element": "Ca",
                  "Value": 3777,
                  "ValueUnit": "ppm"
                 },
                 {
                  "Element": "Mg",
                  "Value": 1063,
                  "ValueUnit": "ppm"
                 },
                 {
                  "Element": "Na",
                  "Value": 109,
                  "ValueUnit": "ppm"
                 },
                 {
                  "Element": "CEC",
                  "Value": 34.2,
                  "ValueUnit": "Sum of Cations me/100g"
                 },
                 {
                  "Element": "BS-H",
                  "Value": 15,
                  "ValueUnit": "%"
                 },
                 {
                  "Element": "BS-K",
                  "Value": 3,
                  "ValueUnit": "%"
                 },
                 {
                  "Element": "BS-Ca",
                  "Value": 55,
                  "ValueUnit": "%"
                 },
                 {
                  "Element": "BS-Mg",
                  "Value": 26,
                  "ValueUnit": "%"
                 },
                 {
                  "Element": "BS-Na",
                  "Value": 1,
                  "ValueUnit": "%"
                 },
                 {
                  "Element": "TN",
                  "Value": 3025,
                  "ValueUnit": "ppm"
                 }
                ]
               }
              ],
              "SampleMetaData": {
               "ReportID": "",
               "SampleNumber": "9"
              }
             },
             {
              "Depths": [
               {
                "DepthID": "1",
                "NutrientResults": [
                 {
                  "Element": "pH",
                  "Value": 6,
                  "ValueUnit": "none"
                 },
                 {
                  "Value": 0.19,
                  "ValueUnit": "mmho/cm"
                 },
                 {
                  "Element": "OM (LOI)",
                  "Value": 5.5,
                  "ValueUnit": "%"
                 },
                 {
                  "Element": "NO3-N",
                  "Value": 1,
                  "ValueUnit": "ppm"
                 },
                 {
                  "Element": "P",
                  "Value": 7.2,
                  "ValueUnit": "ppm"
                 },
                 {
                  "Element": "K",
                  "Value": 365,
                  "ValueUnit": "ppm"
                 },
                 {
                  "Element": "SO4-S",
                  "Value": 6.7,
                  "ValueUnit": "ppm"
                 },
                 {
                  "Element": "Ca",
                  "Value": 2575,
                  "ValueUnit": "ppm"
                 },
                 {
                  "Element": "Mg",
                  "Value": 996,
                  "ValueUnit": "ppm"
                 },
                 {
                  "Element": "Na",
                  "Value": 60,
                  "ValueUnit": "ppm"
                 },
                 {
                  "Element": "CEC",
                  "Value": 30.2,
                  "ValueUnit": "Sum of Cations me/100g"
                 },
                 {
                  "Element": "BS-H",
                  "Value": 26,
                  "ValueUnit": "%"
                 },
                 {
                  "Element": "BS-K",
                  "Value": 3,
                  "ValueUnit": "%"
                 },
                 {
                  "Element": "BS-Ca",
                  "Value": 42,
                  "ValueUnit": "%"
                 },
                 {
                  "Element": "BS-Mg",
                  "Value": 28,
                  "ValueUnit": "%"
                 },
                 {
                  "Element": "BS-Na",
                  "Value": 1,
                  "ValueUnit": "%"
                 },
                 {
                  "Element": "TN",
                  "Value": 2727,
                  "ValueUnit": "ppm"
                 }
                ]
               }
              ],
              "SampleMetaData": {
               "ReportID": "",
               "SampleNumber": "10"
              }
             },
             {
              "Depths": [
               {
                "DepthID": "2",
                "NutrientResults": [
                 {
                  "Element": "pH",
                  "Value": 6.1,
                  "ValueUnit": "none"
                 },
                 {
                  "Value": 0.17,
                  "ValueUnit": "mmho/cm"
                 },
                 {
                  "Element": "OM (LOI)",
                  "Value": 4.3,
                  "ValueUnit": "%"
                 },
                 {
                  "Element": "NO3-N",
                  "Value": 0.6,
                  "ValueUnit": "ppm"
                 },
                 {
                  "Element": "P",
                  "Value": 6.1,
                  "ValueUnit": "ppm"
                 },
                 {
                  "Element": "K",
                  "Value": 175,
                  "ValueUnit": "ppm"
                 },
                 {
                  "Element": "SO4-S",
                  "Value": 5.8,
                  "ValueUnit": "ppm"
                 },
                 {
                  "Element": "Ca",
                  "Value": 2442,
                  "ValueUnit": "ppm"
                 },
                 {
                  "Element": "Mg",
                  "Value": 968,
                  "ValueUnit": "ppm"
                 },
                 {
                  "Element": "Na",
                  "Value": 68,
                  "ValueUnit": "ppm"
                 },
                 {
                  "Element": "CEC",
                  "Value": 29,
                  "ValueUnit": "Sum of Cations me/100g"
                 },
                 {
                  "Element": "BS-H",
                  "Value": 28,
                  "ValueUnit": "%"
                 },
                 {
                  "Element": "BS-K",
                  "Value": 2,
                  "ValueUnit": "%"
                 },
                 {
                  "Element": "BS-Ca",
                  "Value": 41,
                  "ValueUnit": "%"
                 },
                 {
                  "Element": "BS-Mg",
                  "Value": 28,
                  "ValueUnit": "%"
                 },
                 {
                  "Element": "BS-Na",
                  "Value": 1,
                  "ValueUnit": "%"
                 },
                 {
                  "Element": "TN",
                  "Value": 2234,
                  "ValueUnit": "ppm"
                 }
                ]
               }
              ],
              "SampleMetaData": {
               "ReportID": "",
               "SampleNumber": "11"
              }
             },
             {
              "Depths": [
               {
                "DepthID": "1",
                "NutrientResults": [
                 {
                  "Element": "pH",
                  "Value": 5.9,
                  "ValueUnit": "none"
                 },
                 {
                  "Value": 0.17,
                  "ValueUnit": "mmho/cm"
                 },
                 {
                  "Element": "OM (LOI)",
                  "Value": 5.5,
                  "ValueUnit": "%"
                 },
                 {
                  "Element": "NO3-N",
                  "Value": 0.6,
                  "ValueUnit": "ppm"
                 },
                 {
                  "Element": "P",
                  "Value": 8.7,
                  "ValueUnit": "ppm"
                 },
                 {
                  "Element": "K",
                  "Value": 318,
                  "ValueUnit": "ppm"
                 },
                 {
                  "Element": "SO4-S",
                  "Value": 10.5,
                  "ValueUnit": "ppm"
                 },
                 {
                  "Element": "Ca",
                  "Value": 2164,
                  "ValueUnit": "ppm"
                 },
                 {
                  "Element": "Mg",
                  "Value": 885,
                  "ValueUnit": "ppm"
                 },
                 {
                  "Element": "Na",
                  "Value": 51,
                  "ValueUnit": "ppm"
                 },
                 {
                  "Element": "CEC",
                  "Value": 28.1,
                  "ValueUnit": "Sum of Cations me/100g"
                 },
                 {
                  "Element": "BS-H",
                  "Value": 32,
                  "ValueUnit": "%"
                 },
                 {
                  "Element": "BS-K",
                  "Value": 3,
                  "ValueUnit": "%"
                 },
                 {
                  "Element": "BS-Ca",
                  "Value": 38,
                  "ValueUnit": "%"
                 },
                 {
                  "Element": "BS-Mg",
                  "Value": 26,
                  "ValueUnit": "%"
                 },
                 {
                  "Element": "BS-Na",
                  "Value": 1,
                  "ValueUnit": "%"
                 },
                 {
                  "Element": "TN",
                  "Value": 3003,
                  "ValueUnit": "ppm"
                 }
                ]
               }
              ],
              "SampleMetaData": {
               "ReportID": "",
               "SampleNumber": "12"
              }
             },
             {
              "Depths": [
               {
                "DepthID": "2",
                "NutrientResults": [
                 {
                  "Element": "pH",
                  "Value": 5.4,
                  "ValueUnit": "none"
                 },
                 {
                  "Value": 0.17,
                  "ValueUnit": "mmho/cm"
                 },
                 {
                  "Element": "OM (LOI)",
                  "Value": 3.8,
                  "ValueUnit": "%"
                 },
                 {
                  "Element": "NO3-N",
                  "Value": 0.8,
                  "ValueUnit": "ppm"
                 },
                 {
                  "Element": "P",
                  "Value": 6.1,
                  "ValueUnit": "ppm"
                 },
                 {
                  "Element": "K",
                  "Value": 198,
                  "ValueUnit": "ppm"
                 },
                 {
                  "Element": "SO4-S",
                  "Value": 6.1,
                  "ValueUnit": "ppm"
                 },
                 {
                  "Element": "Ca",
                  "Value": 1908,
                  "ValueUnit": "ppm"
                 },
                 {
                  "Element": "Mg",
                  "Value": 1122,
                  "ValueUnit": "ppm"
                 },
                 {
                  "Element": "Na",
                  "Value": 85,
                  "ValueUnit": "ppm"
                 },
                 {
                  "Element": "CEC",
                  "Value": 33.1,
                  "ValueUnit": "Sum of Cations me/100g"
                 },
                 {
                  "Element": "BS-H",
                  "Value": 40,
                  "ValueUnit": "%"
                 },
                 {
                  "Element": "BS-K",
                  "Value": 2,
                  "ValueUnit": "%"
                 },
                 {
                  "Element": "BS-Ca",
                  "Value": 29,
                  "ValueUnit": "%"
                 },
                 {
                  "Element": "BS-Mg",
                  "Value": 28,
                  "ValueUnit": "%"
                 },
                 {
                  "Element": "BS-Na",
                  "Value": 1,
                  "ValueUnit": "%"
                 },
                 {
                  "Element": "TN",
                  "Value": 2153,
                  "ValueUnit": "ppm"
                 }
                ]
               }
              ],
              "SampleMetaData": {
               "ReportID": "",
               "SampleNumber": "13"
              }
             },
             {
              "Depths": [
               {
                "DepthID": "1",
                "NutrientResults": [
                 {
                  "Element": "pH",
                  "Value": 5.8,
                  "ValueUnit": "none"
                 },
                 {
                  "Value": 0.2,
                  "ValueUnit": "mmho/cm"
                 },
                 {
                  "Element": "OM (LOI)",
                  "Value": 7,
                  "ValueUnit": "%"
                 },
                 {
                  "Element": "NO3-N",
                  "Value": 7.4,
                  "ValueUnit": "ppm"
                 },
                 {
                  "Element": "P",
                  "Value": 7.8,
                  "ValueUnit": "ppm"
                 },
                 {
                  "Element": "K",
                  "Value": 499,
                  "ValueUnit": "ppm"
                 },
                 {
                  "Element": "SO4-S",
                  "Value": 12.5,
                  "ValueUnit": "ppm"
                 },
                 {
                  "Element": "Ca",
                  "Value": 1565,
                  "ValueUnit": "ppm"
                 },
                 {
                  "Element": "Mg",
                  "Value": 643,
                  "ValueUnit": "ppm"
                 },
                 {
                  "Element": "Na",
                  "Value": 71,
                  "ValueUnit": "ppm"
                 },
                 {
                  "Element": "CEC",
                  "Value": 26.5,
                  "ValueUnit": "Sum of Cations me/100g"
                 },
                 {
                  "Element": "BS-H",
                  "Value": 44,
                  "ValueUnit": "%"
                 },
                 {
                  "Element": "BS-K",
                  "Value": 5,
                  "ValueUnit": "%"
                 },
                 {
                  "Element": "BS-Ca",
                  "Value": 30,
                  "ValueUnit": "%"
                 },
                 {
                  "Element": "BS-Mg",
                  "Value": 20,
                  "ValueUnit": "%"
                 },
                 {
                  "Element": "BS-Na",
                  "Value": 1,
                  "ValueUnit": "%"
                 },
                 {
                  "Element": "TN",
                  "Value": 3243,
                  "ValueUnit": "ppm"
                 }
                ]
               }
              ],
              "SampleMetaData": {
               "ReportID": "",
               "SampleNumber": "14"
              }
             },
             {
              "Depths": [
               {
                "DepthID": "2",
                "NutrientResults": [
                 {
                  "Element": "pH",
                  "Value": 5.5,
                  "ValueUnit": "none"
                 },
                 {
                  "Value": 0.14,
                  "ValueUnit": "mmho/cm"
                 },
                 {
                  "Element": "OM (LOI)",
                  "Value": 5.2,
                  "ValueUnit": "%"
                 },
                 {
                  "Element": "NO3-N",
                  "Value": 4,
                  "ValueUnit": "ppm"
                 },
                 {
                  "Element": "P",
                  "Value": 5.6,
                  "ValueUnit": "ppm"
                 },
                 {
                  "Element": "K",
                  "Value": 325,
                  "ValueUnit": "ppm"
                 },
                 {
                  "Element": "SO4-S",
                  "Value": 10.7,
                  "ValueUnit": "ppm"
                 },
                 {
                  "Element": "Ca",
                  "Value": 1480,
                  "ValueUnit": "ppm"
                 },
                 {
                  "Element": "Mg",
                  "Value": 768,
                  "ValueUnit": "ppm"
                 },
                 {
                  "Element": "Na",
                  "Value": 68,
                  "ValueUnit": "ppm"
                 },
                 {
                  "Element": "CEC",
                  "Value": 28.3,
                  "ValueUnit": "Sum of Cations me/100g"
                 },
                 {
                  "Element": "BS-H",
                  "Value": 47,
                  "ValueUnit": "%"
                 },
                 {
                  "Element": "BS-K",
                  "Value": 3,
                  "ValueUnit": "%"
                 },
                 {
                  "Element": "BS-Ca",
                  "Value": 26,
                  "ValueUnit": "%"
                 },
                 {
                  "Element": "BS-Mg",
                  "Value": 23,
                  "ValueUnit": "%"
                 },
                 {
                  "Element": "BS-Na",
                  "Value": 1,
                  "ValueUnit": "%"
                 },
                 {
                  "Element": "TN",
                  "Value": 2348,
                  "ValueUnit": "ppm"
                 }
                ]
               }
              ],
              "SampleMetaData": {
               "ReportID": "",
               "SampleNumber": "15"
              }
             },
             {
              "Depths": [
               {
                "DepthID": "1",
                "NutrientResults": [
                 {
                  "Element": "pH",
                  "Value": 7.1,
                  "ValueUnit": "none"
                 },
                 {
                  "Value": 0.48,
                  "ValueUnit": "mmho/cm"
                 },
                 {
                  "Element": "OM (LOI)",
                  "Value": 6.3,
                  "ValueUnit": "%"
                 },
                 {
                  "Element": "NO3-N",
                  "Value": 1.1,
                  "ValueUnit": "ppm"
                 },
                 {
                  "Element": "P",
                  "Value": 15.8,
                  "ValueUnit": "ppm"
                 },
                 {
                  "Element": "K",
                  "Value": 337,
                  "ValueUnit": "ppm"
                 },
                 {
                  "Element": "SO4-S",
                  "Value": 22.6,
                  "ValueUnit": "ppm"
                 },
                 {
                  "Element": "Ca",
                  "Value": 3433,
                  "ValueUnit": "ppm"
                 },
                 {
                  "Element": "Mg",
                  "Value": 1531,
                  "ValueUnit": "ppm"
                 },
                 {
                  "Element": "Na",
                  "Value": 79,
                  "ValueUnit": "ppm"
                 },
                 {
                  "Element": "CEC",
                  "Value": 31.1,
                  "ValueUnit": "Sum of Cations me/100g"
                 },
                 {
                  "Element": "BS-H",
                  "Value": 0,
                  "ValueUnit": "%"
                 },
                 {
                  "Element": "BS-K",
                  "Value": 3,
                  "ValueUnit": "%"
                 },
                 {
                  "Element": "BS-Ca",
                  "Value": 55,
                  "ValueUnit": "%"
                 },
                 {
                  "Element": "BS-Mg",
                  "Value": 41,
                  "ValueUnit": "%"
                 },
                 {
                  "Element": "BS-Na",
                  "Value": 1,
                  "ValueUnit": "%"
                 },
                 {
                  "Element": "TN",
                  "Value": 2779,
                  "ValueUnit": "ppm"
                 }
                ]
               }
              ],
              "SampleMetaData": {
               "ReportID": "",
               "SampleNumber": "16"
              }
             },
             {
              "Depths": [
               {
                "DepthID": "2",
                "NutrientResults": [
                 {
                  "Element": "pH",
                  "Value": 6.8,
                  "ValueUnit": "none"
                 },
                 {
                  "Value": 0.24,
                  "ValueUnit": "mmho/cm"
                 },
                 {
                  "Element": "OM (LOI)",
                  "Value": 3.1,
                  "ValueUnit": "%"
                 },
                 {
                  "Element": "NO3-N",
                  "Value": 0.6,
                  "ValueUnit": "ppm"
                 },
                 {
                  "Element": "P",
                  "Value": 6.2,
                  "ValueUnit": "ppm"
                 },
                 {
                  "Element": "K",
                  "Value": 124,
                  "ValueUnit": "ppm"
                 },
                 {
                  "Element": "SO4-S",
                  "Value": 8.1,
                  "ValueUnit": "ppm"
                 },
                 {
                  "Element": "Ca",
                  "Value": 3420,
                  "ValueUnit": "ppm"
                 },
                 {
                  "Element": "Mg",
                  "Value": 1598,
                  "ValueUnit": "ppm"
                 },
                 {
                  "Element": "Na",
                  "Value": 68,
                  "ValueUnit": "ppm"
                 },
                 {
                  "Element": "CEC",
                  "Value": 31,
                  "ValueUnit": "Sum of Cations me/100g"
                 },
                 {
                  "Element": "BS-H",
                  "Value": 0,
                  "ValueUnit": "%"
                 },
                 {
                  "Element": "BS-K",
                  "Value": 1,
                  "ValueUnit": "%"
                 },
                 {
                  "Element": "BS-Ca",
                  "Value": 55,
                  "ValueUnit": "%"
                 },
                 {
                  "Element": "BS-Mg",
                  "Value": 43,
                  "ValueUnit": "%"
                 },
                 {
                  "Element": "BS-Na",
                  "Value": 1,
                  "ValueUnit": "%"
                 },
                 {
                  "Element": "TN",
                  "Value": 1635,
                  "ValueUnit": "ppm"
                 }
                ]
               }
              ],
              "SampleMetaData": {
               "ReportID": "",
               "SampleNumber": "17"
              }
             }
            ]
           }
          },
          "LabMetaData": {
           "Reports": [
            {
             "FileDescription": "Sheet1_1",
             "ReportID": "1"
            }
           ]
          }
         }
        ]
       },
       {
        "Events": [
         {
          "EventMetaData": {
           "EventDate": "2016-08-09",
           "EventType": {
            "Soil": true
           }
          },
          "EventSamples": {
           "Soil": {
            "DepthRefs": [
             {
              "ColumnDepth": 0,
              "DepthID": 1,
              "DepthUnit": "cm",
              "EndingDepth": 100,
              "Name": "100",
              "StartingDepth": 100
             }
            ],
            "SoilSamples": [
             {
              "Depths": [
               {
                "DepthID": "1",
                "NutrientResults": [
                 {
                  "Element": "OM",
                  "Value": 3,
                  "ValueUnit": "%"
                 },
                 {
                  "Element": "TN (W)",
                  "Value": 15.9,
                  "ValueUnit": "ppm"
                 },
                 {
                  "Element": "NO3-N",
                  "Value": 0.6,
                  "ValueUnit": "ppm"
                 },
                 {
                  "Element": "K",
                  "Value": 45,
                  "ValueUnit": "ppm"
                 },
                 {
                  "Element": "Ca",
                  "Value": 212,
                  "ValueUnit": "ppm"
                 },
                 {
                  "Element": "Fe",
                  "Value": 291.7,
                  "ValueUnit": "ppm"
                 }
                ]
               }
              ],
              "SampleMetaData": {
               "ReportID": "FRONT FIELD",
               "SampleNumber": "0"
              }
             },
             {
              "Depths": [
               {
                "DepthID": "1",
                "NutrientResults": [
                 {
                  "Element": "OM",
                  "Value": 3.5,
                  "ValueUnit": "%"
                 },
                 {
                  "Element": "TN (W)",
                  "Value": 15.6,
                  "ValueUnit": "ppm"
                 },
                 {
                  "Element": "NO3-N",
                  "Value": 0.7,
                  "ValueUnit": "ppm"
                 },
                 {
                  "Element": "K",
                  "Value": 55,
                  "ValueUnit": "ppm"
                 },
                 {
                  "Element": "Ca",
                  "Value": 157,
                  "ValueUnit": "ppm"
                 },
                 {
                  "Element": "Fe",
                  "Value": 581.7,
                  "ValueUnit": "ppm"
                 }
                ]
               }
              ],
              "SampleMetaData": {
               "Geometry": {
                "wkt": "POINT(-122.3665960 37.2669748)"
               },
               "ReportID": "TOKA-022",
               "SampleNumber": "1"
              }
             },
             {
              "Depths": [
               {
                "DepthID": "1",
                "NutrientResults": [
                 {
                  "Element": "OM",
                  "Value": 1.7,
                  "ValueUnit": "%"
                 },
                 {
                  "Element": "TN (W)",
                  "Value": 10,
                  "ValueUnit": "ppm"
                 },
                 {
                  "Element": "NO3-N",
                  "Value": 0.3,
                  "ValueUnit": "ppm"
                 },
                 {
                  "Element": "K",
                  "Value": 53,
                  "ValueUnit": "ppm"
                 },
                 {
                  "Element": "Ca",
                  "Value": 96,
                  "ValueUnit": "ppm"
                 },
                 {
                  "Element": "Fe",
                  "Value": 602.9,
                  "ValueUnit": "ppm"
                 }
                ]
               }
              ],
              "SampleMetaData": {
               "Geometry": {
                "wkt": "POINT(-122.3801294 37.2670464)"
               },
               "ReportID": "TOKA-104",
               "SampleNumber": "2"
              }
             },
             {
              "Depths": [
               {
                "DepthID": "1",
                "NutrientResults": [
                 {
                  "Element": "OM",
                  "Value": 1.7,
                  "ValueUnit": "%"
                 },
                 {
                  "Element": "TN (W)",
                  "Value": 7.9,
                  "ValueUnit": "ppm"
                 },
                 {
                  "Element": "NO3-N",
                  "Value": 0.2,
                  "ValueUnit": "ppm"
                 },
                 {
                  "Element": "K",
                  "Value": 67,
                  "ValueUnit": "ppm"
                 },
                 {
                  "Element": "Ca",
                  "Value": 54,
                  "ValueUnit": "ppm"
                 },
                 {
                  "Element": "Fe",
                  "Value": 638.2,
                  "ValueUnit": "ppm"
                 }
                ]
               }
              ],
              "SampleMetaData": {
               "Geometry": {
                "wkt": "POINT(-122.3801146 37.2688491)"
               },
               "ReportID": "TOKA-007",
               "SampleNumber": "3"
              }
             },
             {
              "Depths": [
               {
                "DepthID": "1",
                "NutrientResults": [
                 {
                  "Element": "OM",
                  "Value": 3.3,
                  "ValueUnit": "%"
                 },
                 {
                  "Element": "TN (W)",
                  "Value": 12.9,
                  "ValueUnit": "ppm"
                 },
                 {
                  "Element": "NO3-N",
                  "Value": 0.6,
                  "ValueUnit": "ppm"
                 },
                 {
                  "Element": "K",
                  "Value": 27,
                  "ValueUnit": "ppm"
                 },
                 {
                  "Element": "Ca",
                  "Value": 99,
                  "ValueUnit": "ppm"
                 },
                 {
                  "Element": "Fe",
                  "Value": 143.1,
                  "ValueUnit": "ppm"
                 }
                ]
               }
              ],
              "SampleMetaData": {
               "Geometry": {
                "wkt": "POINT(-122.3552566 37.2741247)"
               },
               "ReportID": "TOKA-060",
               "SampleNumber": "4"
              }
             },
             {
              "Depths": [
               {
                "DepthID": "1",
                "NutrientResults": [
                 {
                  "Element": "OM",
                  "Value": 3.4,
                  "ValueUnit": "%"
                 },
                 {
                  "Element": "TN (W)",
                  "Value": 33.9,
                  "ValueUnit": "ppm"
                 },
                 {
                  "Element": "NO3-N",
                  "Value": 0.9,
                  "ValueUnit": "ppm"
                 },
                 {
                  "Element": "K",
                  "Value": 242,
                  "ValueUnit": "ppm"
                 },
                 {
                  "Element": "Ca",
                  "Value": 360,
                  "ValueUnit": "ppm"
                 },
                 {
                  "Element": "Fe",
                  "Value": 1724,
                  "ValueUnit": "ppm"
                 }
                ]
               }
              ],
              "SampleMetaData": {
               "Geometry": {
                "wkt": "POINT(-122.3530163 37.2723097)"
               },
               "ReportID": "TOKA-064",
               "SampleNumber": "5"
              }
             },
             {
              "Depths": [
               {
                "DepthID": "1",
                "NutrientResults": [
                 {
                  "Element": "OM",
                  "Value": 2.9,
                  "ValueUnit": "%"
                 },
                 {
                  "Element": "TN (W)",
                  "Value": 10.7,
                  "ValueUnit": "ppm"
                 },
                 {
                  "Element": "NO3-N",
                  "Value": 0.6,
                  "ValueUnit": "ppm"
                 },
                 {
                  "Element": "K",
                  "Value": 49,
                  "ValueUnit": "ppm"
                 },
                 {
                  "Element": "Ca",
                  "Value": 203,
                  "ValueUnit": "ppm"
                 },
                 {
                  "Element": "Fe",
                  "Value": 530.3,
                  "ValueUnit": "ppm"
                 }
                ]
               }
              ],
              "SampleMetaData": {
               "Geometry": {
                "wkt": "POINT(-122.3531397 37.2578881)"
               },
               "ReportID": "TOKA-068",
               "SampleNumber": "6"
              }
             },
             {
              "Depths": [
               {
                "DepthID": "1",
                "NutrientResults": [
                 {
                  "Element": "OM",
                  "Value": 3.7,
                  "ValueUnit": "%"
                 },
                 {
                  "Element": "TN (W)",
                  "Value": 21.6,
                  "ValueUnit": "ppm"
                 },
                 {
                  "Element": "NO3-N",
                  "Value": 1.3,
                  "ValueUnit": "ppm"
                 },
                 {
                  "Element": "K",
                  "Value": 118,
                  "ValueUnit": "ppm"
                 },
                 {
                  "Element": "Ca",
                  "Value": 275,
                  "ValueUnit": "ppm"
                 },
                 {
                  "Element": "Fe",
                  "Value": 486.4,
                  "ValueUnit": "ppm"
                 }
                ]
               }
              ],
              "SampleMetaData": {
               "ReportID": "PRB0",
               "SampleNumber": "7"
              }
             }
            ]
           }
          },
          "LabMetaData": {
           "Reports": [
            {
             "FileDescription": "2016_Intern Project 100cm_1",
             "ReportID": "1"
            }
           ]
          }
         }
        ]
       },
       {
        "Events": [
         {
          "EventMetaData": {
           "EventDate": "2018-01-22",
           "EventType": {
            "Soil": true
           }
          },
          "EventSamples": {
           "Soil": {
            "DepthRefs": [
             {
              "ColumnDepth": 10,
              "DepthID": 1,
              "DepthUnit": "cm",
              "EndingDepth": 10,
              "Name": "0 to 10",
              "StartingDepth": 0
             }
            ],
            "SoilSamples": [
             {
              "Depths": [
               {
                "DepthID": "1",
                "NutrientResults": [
                 {
                  "Element": "Bulk Density",
                  "Value": 1.01193417411631,
                  "ValueUnit": "g/cm3"
                 },
                 {
                  "Element": "TOC",
                  "Value": 3.9,
                  "ValueUnit": "%"
                 }
                ]
               }
              ],
              "SampleMetaData": {
               "Geometry": {
                "wkt": "POINT(-122.3687763 37.2760003)"
               },
               "ReportID": "TOKA-020",
               "SampleNumber": "0"
              }
             },
             {
              "Depths": [
               {
                "DepthID": "1",
                "NutrientResults": [
                 {
                  "Element": "Bulk Density",
                  "Value": 0.893013633272664,
                  "ValueUnit": "g/cm3"
                 },
                 {
                  "Element": "TOC",
                  "Value": 4.6,
                  "ValueUnit": "%"
                 }
                ]
               }
              ],
              "SampleMetaData": {
               "Geometry": {
                "wkt": "POINT(-122.3597987 37.2705438)"
               },
               "ReportID": "TOKA-045",
               "SampleNumber": "1"
              }
             },
             {
              "Depths": [
               {
                "DepthID": "1",
                "NutrientResults": [
                 {
                  "Element": "Bulk Density",
                  "Value": 1.04248017472818,
                  "ValueUnit": "g/cm3"
                 },
                 {
                  "Element": "TOC",
                  "Value": 2.5,
                  "ValueUnit": "%"
                 }
                ]
               }
              ],
              "SampleMetaData": {
               "Geometry": {
                "wkt": "POINT(-122.3552413 37.2759273)"
               },
               "ReportID": "TOKA-147",
               "SampleNumber": "2"
              }
             }
            ]
           }
          },
          "LabMetaData": {
           "Reports": [
            {
             "FileDescription": "2018_RMN 0-10cm_4",
             "ReportID": "1"
            }
           ]
          }
         }
        ]
       },
       {
        "Events": [
         {
          "EventMetaData": {
           "EventDate": "2018-01-16",
           "EventType": {
            "Soil": true
           }
          },
          "EventSamples": {
           "Soil": {
            "DepthRefs": [
             {
              "ColumnDepth": 30,
              "DepthID": 1,
              "DepthUnit": "cm",
              "EndingDepth": 40,
              "Name": "10 to 40",
              "StartingDepth": 10
             }
            ],
            "SoilSamples": [
             {
              "Depths": [
               {
                "DepthID": "1",
                "NutrientResults": [
                 {
                  "Element": "P",
                  "Value": 19.8,
                  "ValueUnit": "ug/g"
                 },
                 {
                  "Value": 30,
                  "ValueUnit": "%"
                 },
                 {
                  "Element": "Silt",
                  "Value": 36.2,
                  "ValueUnit": "%"
                 },
                 {
                  "Element": "Clay",
                  "Value": 33.8,
                  "ValueUnit": "%"
                 },
                 {
                  "Element": "pH",
                  "Value": 5.6,
                  "ValueUnit": "none"
                 },
                 {
                  "Element": "CEC",
                  "Value": 25.9,
                  "ValueUnit": "cmol(+)/kg"
                 },
                 {
                  "Element": "Ca",
                  "Value": 9.9,
                  "ValueUnit": "cmol(+)/kg"
                 },
                 {
                  "Element": "Mg",
                  "Value": 4.208333333333333,
                  "ValueUnit": "cmol(+)/kg"
                 },
                 {
                  "Element": "K",
                  "Value": 1.4,
                  "ValueUnit": "cmol(+)/kg"
                 },
                 {
                  "Element": "Na",
                  "Value": 0.13478260869565217,
                  "ValueUnit": "cmol(+)/kg"
                 },
                 {
                  "Element": "TOC",
                  "Value": 5.3,
                  "ValueUnit": "%"
                 },
                 {
                  "Element": "TN",
                  "Value": 0.50883,
                  "ValueUnit": "%"
                 }
                ]
               }
              ],
              "SampleMetaData": {
               "Geometry": {
                "wkt": "POINT(-122.3530163 37.2723097)"
               },
               "ReportID": "TOKA-064",
               "SampleNumber": "0"
              }
             },
             {
              "Depths": [
               {
                "DepthID": "1",
                "NutrientResults": [
                 {
                  "Value": 26.2,
                  "ValueUnit": "%"
                 },
                 {
                  "Element": "Silt",
                  "Value": 37.5,
                  "ValueUnit": "%"
                 },
                 {
                  "Element": "Clay",
                  "Value": 36.2,
                  "ValueUnit": "%"
                 },
                 {
                  "Element": "TOC",
                  "Value": 2.3,
                  "ValueUnit": "%"
                 },
                 {
                  "Element": "TN",
                  "Value": 0.2741,
                  "ValueUnit": "%"
                 }
                ]
               }
              ],
              "SampleMetaData": {
               "Geometry": {
                "wkt": "POINT(-122.3485204 37.2704822)"
               },
               "ReportID": "TOKA-161",
               "SampleNumber": "1"
              }
             }
            ]
           }
          },
          "LabMetaData": {
           "Reports": [
            {
             "FileDescription": "2018_RMN 10-40cm_11",
             "ReportID": "1"
            }
           ]
          }
         }
        ]
       },
       {
        "Events": [
         {
          "EventMetaData": {
           "EventDate": "2018-02-12",
           "EventType": {
            "Soil": true
           }
          },
          "EventSamples": {
           "Soil": {
            "DepthRefs": [
             {
              "ColumnDepth": 30,
              "DepthID": 1,
              "DepthUnit": "cm",
              "EndingDepth": 40,
              "Name": "10 to 40",
              "StartingDepth": 10
             }
            ],
            "SoilSamples": [
             {
              "Depths": [
               {
                "DepthID": "1",
                "NutrientResults": [
                 {
                  "Element": "P",
                  "Value": 8.1,
                  "ValueUnit": "ug/g"
                 },
                 {
                  "Value": 18.8,
                  "ValueUnit": "%"
                 },
                 {
                  "Element": "Silt",
                  "Value": 41.2,
                  "ValueUnit": "%"
                 },
                 {
                  "Element": "Clay",
                  "Value": 40,
                  "ValueUnit": "%"
                 },
                 {
                  "Element": "pH",
                  "Value": 5.9,
                  "ValueUnit": "none"
                 },
                 {
                  "Element": "CEC",
                  "Value": 32.3,
                  "ValueUnit": "cmol(+)/kg"
                 },
                 {
                  "Element": "Ca",
                  "Value": 11.99,
                  "ValueUnit": "cmol(+)/kg"
                 },
                 {
                  "Element": "Mg",
                  "Value": 9.2,
                  "ValueUnit": "cmol(+)/kg"
                 },
                 {
                  "Element": "K",
                  "Value": 0.6717948717948717,
                  "ValueUnit": "cmol(+)/kg"
                 },
                 {
                  "Element": "Na",
                  "Value": 0.40869565217391307,
                  "ValueUnit": "cmol(+)/kg"
                 },
                 {
                  "Element": "TOC",
                  "Value": 2.8,
                  "ValueUnit": "%"
                 }
                ]
               }
              ],
              "SampleMetaData": {
               "Geometry": {
                "wkt": "POINT(-122.3733328 37.2706162)"
               },
               "ReportID": "TOKA-013",
               "SampleNumber": "0"
              }
             }
            ]
           }
          },
          "LabMetaData": {
           "Reports": [
            {
             "FileDescription": "2018_RMN 10-40cm_2",
             "ReportID": "1"
            }
           ]
          }
         }
        ]
       },
       {
        "Events": [
         {
          "EventMetaData": {
           "EventDate": "NA",
           "EventType": {
            "Soil": true
           }
          },
          "EventSamples": {
           "Soil": {
            "DepthRefs": [
             {
              "ColumnDepth": 10,
              "DepthID": 1,
              "DepthUnit": "cm",
              "EndingDepth": 10,
              "Name": "0 to 10",
              "StartingDepth": 0
             }
            ],
            "SoilSamples": [
             {
              "Depths": [
               {
                "DepthID": "1",
                "NutrientResults": []
               }
              ],
              "SampleMetaData": {
               "Geometry": {
                "wkt": "POINT(-122.3733328 37.2706162)"
               },
               "ReportID": "TOKA-013",
               "SampleNumber": "0"
              }
             }
            ]
           }
          },
          "LabMetaData": {
           "Reports": [
            {
             "FileDescription": "2015_RMN 0-10cm_3",
             "ReportID": "1"
            }
           ]
          }
         }
        ]
       },
       {
        "Events": [
         {
          "EventMetaData": {
           "EventDate": "2018-01-15",
           "EventType": {
            "Soil": true
           }
          },
          "EventSamples": {
           "Soil": {
            "DepthRefs": [
             {
              "ColumnDepth": 10,
              "DepthID": 1,
              "DepthUnit": "cm",
              "EndingDepth": 10,
              "Name": "0 to 10",
              "StartingDepth": 0
             }
            ],
            "SoilSamples": [
             {
              "Depths": [
               {
                "DepthID": "1",
                "NutrientResults": [
                 {
                  "Element": "Bulk Density",
                  "Value": 0.733412227793711,
                  "ValueUnit": "g/cm3"
                 },
                 {
                  "Element": "TOC",
                  "Value": 8.1,
                  "ValueUnit": "%"
                 },
                 {
                  "Element": "TN",
                  "Value": 0.58308,
                  "ValueUnit": "%"
                 }
                ]
               }
              ],
              "SampleMetaData": {
               "Geometry": {
                "wkt": "POINT(-122.3508225 37.2650866)"
               },
               "ReportID": "TOKA-071",
               "SampleNumber": "0"
              }
             },
             {
              "Depths": [
               {
                "DepthID": "1",
                "NutrientResults": [
                 {
                  "Element": "Bulk Density",
                  "Value": 1.04509094401125,
                  "ValueUnit": "g/cm3"
                 },
                 {
                  "Element": "TOC",
                  "Value": 4.4,
                  "ValueUnit": "%"
                 },
                 {
                  "Element": "TN",
                  "Value": 0.372665,
                  "ValueUnit": "%"
                 }
                ]
               }
              ],
              "SampleMetaData": {
               "Geometry": {
                "wkt": "POINT(-122.3508070 37.2668893)"
               },
               "ReportID": "TOKA-072",
               "SampleNumber": "1"
              }
             },
             {
              "Depths": [
               {
                "DepthID": "1",
                "NutrientResults": [
                 {
                  "Element": "Bulk Density",
                  "Value": 0.903949779459791,
                  "ValueUnit": "g/cm3"
                 },
                 {
                  "Element": "TOC",
                  "Value": 3.7,
                  "ValueUnit": "%"
                 },
                 {
                  "Element": "TN",
                  "Value": 0.34822,
                  "ValueUnit": "%"
                 }
                ]
               }
              ],
              "SampleMetaData": {
               "Geometry": {
                "wkt": "POINT(-122.3439934 37.2722600)"
               },
               "ReportID": "TOKA-091",
               "SampleNumber": "2"
              }
             }
            ]
           }
          },
          "LabMetaData": {
           "Reports": [
            {
             "FileDescription": "2018_RMN 0-10cm_12",
             "ReportID": "1"
            }
           ]
          }
         }
        ]
       },
       {
        "Events": [
         {
          "EventMetaData": {
           "EventDate": "2018-01-11",
           "EventType": {
            "Soil": true
           }
          },
          "EventSamples": {
           "Soil": {
            "DepthRefs": [
             {
              "ColumnDepth": 10,
              "DepthID": 1,
              "DepthUnit": "cm",
              "EndingDepth": 10,
              "Name": "0 to 10",
              "StartingDepth": 0
             }
            ],
            "SoilSamples": [
             {
              "Depths": [
               {
                "DepthID": "1",
                "NutrientResults": [
                 {
                  "Element": "Bulk Density",
                  "Value": 1.13662370403774,
                  "ValueUnit": "g/cm3"
                 },
                 {
                  "Element": "P",
                  "Value": 6,
                  "ValueUnit": "ug/g"
                 },
                 {
                  "Element": "pH",
                  "Value": 5.8,
                  "ValueUnit": "none"
                 },
                 {
                  "Element": "CEC",
                  "Value": 22.6,
                  "ValueUnit": "cmol(+)/kg"
                 },
                 {
                  "Element": "Ca",
                  "Value": 8.36,
                  "ValueUnit": "cmol(+)/kg"
                 },
                 {
                  "Element": "Mg",
                  "Value": 5.825,
                  "ValueUnit": "cmol(+)/kg"
                 },
                 {
                  "Element": "K",
                  "Value": 0.5256410256410257,
                  "ValueUnit": "cmol(+)/kg"
                 },
                 {
                  "Element": "Na",
                  "Value": 0.32608695652173914,
                  "ValueUnit": "cmol(+)/kg"
                 },
                 {
                  "Element": "TOC",
                  "Value": 3,
                  "ValueUnit": "%"
                 },
                 {
                  "Element": "TN",
                  "Value": 0.33483,
                  "ValueUnit": "%"
                 }
                ]
               }
              ],
              "SampleMetaData": {
               "Geometry": {
                "wkt": "POINT(-122.3553489 37.2633085)"
               },
               "ReportID": "TOKA-057",
               "SampleNumber": "0"
              }
             },
             {
              "Depths": [
               {
                "DepthID": "1",
                "NutrientResults": [
                 {
                  "Element": "Bulk Density",
                  "Value": 0.83802329307578,
                  "ValueUnit": "g/cm3"
                 },
                 {
                  "Element": "P",
                  "Value": 13.8,
                  "ValueUnit": "ug/g"
                 },
                 {
                  "Element": "pH",
                  "Value": 6.5,
                  "ValueUnit": "none"
                 },
                 {
                  "Element": "CEC",
                  "Value": 44.4,
                  "ValueUnit": "cmol(+)/kg"
                 },
                 {
                  "Element": "Ca",
                  "Value": 21.815,
                  "ValueUnit": "cmol(+)/kg"
                 },
                 {
                  "Element": "Mg",
                  "Value": 16.341666666666665,
                  "ValueUnit": "cmol(+)/kg"
                 },
                 {
                  "Element": "K",
                  "Value": 0.7871794871794872,
                  "ValueUnit": "cmol(+)/kg"
                 },
                 {
                  "Element": "Na",
                  "Value": 0.4391304347826087,
                  "ValueUnit": "cmol(+)/kg"
                 },
                 {
                  "Element": "TOC",
                  "Value": 3.5,
                  "ValueUnit": "%"
                 },
                 {
                  "Element": "TN",
                  "Value": 0.38013,
                  "ValueUnit": "%"
                 }
                ]
               }
              ],
              "SampleMetaData": {
               "Geometry": {
                "wkt": "POINT(-122.3531088 37.2614935)"
               },
               "ReportID": "TOKA-067",
               "SampleNumber": "1"
              }
             },
             {
              "Depths": [
               {
                "DepthID": "1",
                "NutrientResults": [
                 {
                  "Element": "Bulk Density",
                  "Value": 1.15683186932647,
                  "ValueUnit": "g/cm3"
                 },
                 {
                  "Element": "P",
                  "Value": 23.9,
                  "ValueUnit": "ug/g"
                 },
                 {
                  "Element": "pH",
                  "Value": 6.4,
                  "ValueUnit": "none"
                 },
                 {
                  "Element": "CEC",
                  "Value": 29.6,
                  "ValueUnit": "cmol(+)/kg"
                 },
                 {
                  "Element": "Ca",
                  "Value": 13.49,
                  "ValueUnit": "cmol(+)/kg"
                 },
                 {
                  "Element": "Mg",
                  "Value": 9.75,
                  "ValueUnit": "cmol(+)/kg"
                 },
                 {
                  "Element": "K",
                  "Value": 0.6717948717948717,
                  "ValueUnit": "cmol(+)/kg"
                 },
                 {
                  "Element": "Na",
                  "Value": 0.4043478260869565,
                  "ValueUnit": "cmol(+)/kg"
                 },
                 {
                  "Element": "TOC",
                  "Value": 3.1,
                  "ValueUnit": "%"
                 },
                 {
                  "Element": "TN",
                  "Value": 0.35107,
                  "ValueUnit": "%"
                 }
                ]
               }
              ],
              "SampleMetaData": {
               "Geometry": {
                "wkt": "POINT(-122.3531397 37.2578881)"
               },
               "ReportID": "TOKA-068",
               "SampleNumber": "2"
              }
             },
             {
              "Depths": [
               {
                "DepthID": "1",
                "NutrientResults": [
                 {
                  "Element": "Bulk Density",
                  "Value": 1.0122295830308,
                  "ValueUnit": "g/cm3"
                 },
                 {
                  "Element": "P",
                  "Value": 5.1,
                  "ValueUnit": "ug/g"
                 },
                 {
                  "Element": "pH",
                  "Value": 5.8,
                  "ValueUnit": "none"
                 },
                 {
                  "Element": "CEC",
                  "Value": 29.3,
                  "ValueUnit": "cmol(+)/kg"
                 },
                 {
                  "Element": "Ca",
                  "Value": 9.515,
                  "ValueUnit": "cmol(+)/kg"
                 },
                 {
                  "Element": "Mg",
                  "Value": 8.591666666666667,
                  "ValueUnit": "cmol(+)/kg"
                 },
                 {
                  "Element": "K",
                  "Value": 0.5717948717948718,
                  "ValueUnit": "cmol(+)/kg"
                 },
                 {
                  "Element": "Na",
                  "Value": 0.23478260869565218,
                  "ValueUnit": "cmol(+)/kg"
                 },
                 {
                  "Element": "TOC",
                  "Value": 3.2,
                  "ValueUnit": "%"
                 },
                 {
                  "Element": "TN",
                  "Value": 0.34845,
                  "ValueUnit": "%"
                 }
                ]
               }
              ],
              "SampleMetaData": {
               "Geometry": {
                "wkt": "POINT(-122.3485825 37.2632715)"
               },
               "ReportID": "TOKA-080",
               "SampleNumber": "3"
              }
             }
            ]
           }
          },
          "LabMetaData": {
           "Reports": [
            {
             "FileDescription": "2018_RMN 0-10cm_9",
             "ReportID": "1"
            }
           ]
          }
         }
        ]
       },
       {
        "Events": [
         {
          "EventMetaData": {
           "EventDate": "2018-02-11",
           "EventType": {
            "Soil": true
           }
          },
          "EventSamples": {
           "Soil": {
            "DepthRefs": [
             {
              "ColumnDepth": 10,
              "DepthID": 1,
              "DepthUnit": "cm",
              "EndingDepth": 10,
              "Name": "0 to 10",
              "StartingDepth": 0
             }
            ],
            "SoilSamples": [
             {
              "Depths": [
               {
                "DepthID": "1",
                "NutrientResults": [
                 {
                  "Element": "Bulk Density",
                  "Value": 1.14660796721125,
                  "ValueUnit": "g/cm3"
                 },
                 {
                  "Element": "P",
                  "Value": 13.3,
                  "ValueUnit": "ug/g"
                 },
                 {
                  "Element": "pH",
                  "Value": 6,
                  "ValueUnit": "none"
                 },
                 {
                  "Element": "CEC",
                  "Value": 19.4,
                  "ValueUnit": "cmol(+)/kg"
                 },
                 {
                  "Element": "Ca",
                  "Value": 5.465,
                  "ValueUnit": "cmol(+)/kg"
                 },
                 {
                  "Element": "Mg",
                  "Value": 5.558333333333334,
                  "ValueUnit": "cmol(+)/kg"
                 },
                 {
                  "Element": "K",
                  "Value": 0.5153846153846153,
                  "ValueUnit": "cmol(+)/kg"
                 },
                 {
                  "Element": "Na",
                  "Value": 0.19130434782608696,
                  "ValueUnit": "cmol(+)/kg"
                 },
                 {
                  "Element": "TOC",
                  "Value": 3,
                  "ValueUnit": "%"
                 }
                ]
               }
              ],
              "SampleMetaData": {
               "Geometry": {
                "wkt": "POINT(-122.3733627 37.2670108)"
               },
               "ReportID": "TOKA-111",
               "SampleNumber": "0"
              }
             }
            ]
           }
          },
          "LabMetaData": {
           "Reports": [
            {
             "FileDescription": "2018_RMN 0-10cm_14",
             "ReportID": "1"
            }
           ]
          }
         }
        ]
       },
       {
        "Events": [
         {
          "EventMetaData": {
           "EventDate": "2022-03-13",
           "EventType": {
            "Soil": true
           }
          },
          "EventSamples": {
           "Soil": {
            "DepthRefs": [
             {
              "ColumnDepth": 4,
              "DepthID": 1,
              "DepthUnit": "cm",
              "EndingDepth": 4,
              "Name": "0",
              "StartingDepth": 0
             },
             {
              "ColumnDepth": 12,
              "DepthID": 2,
              "DepthUnit": "cm",
              "EndingDepth": 16,
              "Name": "4",
              "StartingDepth": 4
             }
            ],
            "SoilSamples": [
             {
              "Depths": [
               {
                "DepthID": "1",
                "NutrientResults": []
               }
              ],
              "SampleMetaData": {
               "ReportID": "",
               "SampleNumber": "0"
              }
             },
             {
              "Depths": [
               {
                "DepthID": "2",
                "NutrientResults": []
               }
              ],
              "SampleMetaData": {
               "ReportID": "",
               "SampleNumber": "1"
              }
             },
             {
              "Depths": [
               {
                "DepthID": "1",
                "NutrientResults": []
               }
              ],
              "SampleMetaData": {
               "ReportID": "",
               "SampleNumber": "2"
              }
             },
             {
              "Depths": [
               {
                "DepthID": "2",
                "NutrientResults": []
               }
              ],
              "SampleMetaData": {
               "ReportID": "",
               "SampleNumber": "3"
              }
             },
             {
              "Depths": [
               {
                "DepthID": "1",
                "NutrientResults": []
               }
              ],
              "SampleMetaData": {
               "ReportID": "",
               "SampleNumber": "4"
              }
             },
             {
              "Depths": [
               {
                "DepthID": "2",
                "NutrientResults": []
               }
              ],
              "SampleMetaData": {
               "ReportID": "",
               "SampleNumber": "5"
              }
             },
             {
              "Depths": [
               {
                "DepthID": "1",
                "NutrientResults": []
               }
              ],
              "SampleMetaData": {
               "ReportID": "",
               "SampleNumber": "6"
              }
             },
             {
              "Depths": [
               {
                "DepthID": "2",
                "NutrientResults": []
               }
              ],
              "SampleMetaData": {
               "ReportID": "",
               "SampleNumber": "7"
              }
             },
             {
              "Depths": [
               {
                "DepthID": "1",
                "NutrientResults": []
               }
              ],
              "SampleMetaData": {
               "ReportID": "",
               "SampleNumber": "8"
              }
             },
             {
              "Depths": [
               {
                "DepthID": "2",
                "NutrientResults": []
               }
              ],
              "SampleMetaData": {
               "ReportID": "",
               "SampleNumber": "9"
              }
             },
             {
              "Depths": [
               {
                "DepthID": "1",
                "NutrientResults": []
               }
              ],
              "SampleMetaData": {
               "ReportID": "",
               "SampleNumber": "10"
              }
             },
             {
              "Depths": [
               {
                "DepthID": "2",
                "NutrientResults": []
               }
              ],
              "SampleMetaData": {
               "ReportID": "",
               "SampleNumber": "11"
              }
             },
             {
              "Depths": [
               {
                "DepthID": "1",
                "NutrientResults": []
               }
              ],
              "SampleMetaData": {
               "ReportID": "",
               "SampleNumber": "12"
              }
             },
             {
              "Depths": [
               {
                "DepthID": "2",
                "NutrientResults": []
               }
              ],
              "SampleMetaData": {
               "ReportID": "",
               "SampleNumber": "13"
              }
             },
             {
              "Depths": [
               {
                "DepthID": "1",
                "NutrientResults": []
               }
              ],
              "SampleMetaData": {
               "ReportID": "",
               "SampleNumber": "14"
              }
             },
             {
              "Depths": [
               {
                "DepthID": "2",
                "NutrientResults": []
               }
              ],
              "SampleMetaData": {
               "ReportID": "",
               "SampleNumber": "15"
              }
             },
             {
              "Depths": [
               {
                "DepthID": "1",
                "NutrientResults": []
               }
              ],
              "SampleMetaData": {
               "ReportID": "",
               "SampleNumber": "16"
              }
             },
             {
              "Depths": [
               {
                "DepthID": "2",
                "NutrientResults": []
               }
              ],
              "SampleMetaData": {
               "ReportID": "",
               "SampleNumber": "17"
              }
             }
            ]
           }
          },
          "LabMetaData": {
           "Reports": [
            {
             "FileDescription": "Sheet1_1",
             "ReportID": "1"
            }
           ]
          }
         }
        ]
       },
       {
        "Events": [
         {
          "EventMetaData": {
           "EventDate": "2018-02-08",
           "EventType": {
            "Soil": true
           }
          },
          "EventSamples": {
           "Soil": {
            "DepthRefs": [
             {
              "ColumnDepth": 10,
              "DepthID": 1,
              "DepthUnit": "cm",
              "EndingDepth": 10,
              "Name": "0 to 10",
              "StartingDepth": 0
             }
            ],
            "SoilSamples": [
             {
              "Depths": [
               {
                "DepthID": "1",
                "NutrientResults": [
                 {
                  "Element": "Bulk Density",
                  "Value": 1.0299779048048,
                  "ValueUnit": "g/cm3"
                 },
                 {
                  "Element": "P",
                  "Value": 42.4,
                  "ValueUnit": "ug/g"
                 },
                 {
                  "Element": "pH",
                  "Value": 6.2,
                  "ValueUnit": "none"
                 },
                 {
                  "Element": "CEC",
                  "Value": 34.9,
                  "ValueUnit": "cmol(+)/kg"
                 },
                 {
                  "Element": "Ca",
                  "Value": 15.105,
                  "ValueUnit": "cmol(+)/kg"
                 },
                 {
                  "Element": "Mg",
                  "Value": 10.425,
                  "ValueUnit": "cmol(+)/kg"
                 },
                 {
                  "Element": "K",
                  "Value": 0.9948717948717949,
                  "ValueUnit": "cmol(+)/kg"
                 },
                 {
                  "Element": "Na",
                  "Value": 0.4217391304347826,
                  "ValueUnit": "cmol(+)/kg"
                 },
                 {
                  "Element": "TOC",
                  "Value": 4.9,
                  "ValueUnit": "%"
                 }
                ]
               }
              ],
              "SampleMetaData": {
               "Geometry": {
                "wkt": "POINT(-122.3644313 37.2561465)"
               },
               "ReportID": "TOKA-034",
               "SampleNumber": "0"
              }
             },
             {
              "Depths": [
               {
                "DepthID": "1",
                "NutrientResults": [
                 {
                  "Element": "Bulk Density",
                  "Value": 1.20500056259903,
                  "ValueUnit": "g/cm3"
                 },
                 {
                  "Element": "P",
                  "Value": 7.8,
                  "ValueUnit": "ug/g"
                 },
                 {
                  "Element": "pH",
                  "Value": 6.1,
                  "ValueUnit": "none"
                 },
                 {
                  "Element": "CEC",
                  "Value": 31.1,
                  "ValueUnit": "cmol(+)/kg"
                 },
                 {
                  "Element": "Ca",
                  "Value": 12.79,
                  "ValueUnit": "cmol(+)/kg"
                 },
                 {
                  "Element": "Mg",
                  "Value": 8.9,
                  "ValueUnit": "cmol(+)/kg"
                 },
                 {
                  "Element": "K",
                  "Value": 0.7538461538461538,
                  "ValueUnit": "cmol(+)/kg"
                 },
                 {
                  "Element": "Na",
                  "Value": 0.2782608695652174,
                  "ValueUnit": "cmol(+)/kg"
                 },
                 {
                  "Element": "TOC",
                  "Value": 4,
                  "ValueUnit": "%"
                 }
                ]
               }
              ],
              "SampleMetaData": {
               "Geometry": {
                "wkt": "POINT(-122.3621152 37.2633452)"
               },
               "ReportID": "TOKA-126",
               "SampleNumber": "1"
              }
             },
             {
              "Depths": [
               {
                "DepthID": "1",
                "NutrientResults": [
                 {
                  "Element": "Bulk Density",
                  "Value": 1.09534825271027,
                  "ValueUnit": "g/cm3"
                 },
                 {
                  "Element": "P",
                  "Value": 7.2,
                  "ValueUnit": "ug/g"
                 },
                 {
                  "Element": "pH",
                  "Value": 6,
                  "ValueUnit": "none"
                 },
                 {
                  "Element": "CEC",
                  "Value": 22.2,
                  "ValueUnit": "cmol(+)/kg"
                 },
                 {
                  "Element": "Ca",
                  "Value": 8.1,
                  "ValueUnit": "cmol(+)/kg"
                 },
                 {
                  "Element": "Mg",
                  "Value": 4.666666666666667,
                  "ValueUnit": "cmol(+)/kg"
                 },
                 {
                  "Element": "K",
                  "Value": 0.5666666666666667,
                  "ValueUnit": "cmol(+)/kg"
                 },
                 {
                  "Element": "Na",
                  "Value": 0.2217391304347826,
                  "ValueUnit": "cmol(+)/kg"
                 },
                 {
                  "Element": "TOC",
                  "Value": 3.5,
                  "ValueUnit": "%"
                 }
                ]
               }
              ],
              "SampleMetaData": {
               "Geometry": {
                "wkt": "POINT(-122.3621760 37.2561344)"
               },
               "ReportID": "TOKA-129",
               "SampleNumber": "2"
              }
             }
            ]
           }
          },
          "LabMetaData": {
           "Reports": [
            {
             "FileDescription": "2018_RMN 0-10cm_6",
             "ReportID": "1"
            }
           ]
          }
         }
        ]
       },
       {
        "Events": [
         {
          "EventMetaData": {
           "EventDate": "2018-01-17",
           "EventType": {
            "Soil": true
           }
          },
          "EventSamples": {
           "Soil": {
            "DepthRefs": [
             {
              "ColumnDepth": 10,
              "DepthID": 1,
              "DepthUnit": "cm",
              "EndingDepth": 10,
              "Name": "0 to 10",
              "StartingDepth": 0
             }
            ],
            "SoilSamples": [
             {
              "Depths": [
               {
                "DepthID": "1",
                "NutrientResults": [
                 {
                  "Element": "Bulk Density",
                  "Value": 1.24703394805639,
                  "ValueUnit": "g/cm3"
                 },
                 {
                  "Element": "TOC",
                  "Value": 2.2,
                  "ValueUnit": "%"
                 },
                 {
                  "Element": "TN",
                  "Value": 0.19643,
                  "ValueUnit": "%"
                 }
                ]
               }
              ],
              "SampleMetaData": {
               "Geometry": {
                "wkt": "POINT(-122.3846552 37.2652672)"
               },
               "ReportID": "TOKA-001",
               "SampleNumber": "0"
              }
             },
             {
              "Depths": [
               {
                "DepthID": "1",
                "NutrientResults": [
                 {
                  "Element": "Bulk Density",
                  "Value": 1.24183492171574,
                  "ValueUnit": "g/cm3"
                 },
                 {
                  "Element": "P",
                  "Value": 10.3,
                  "ValueUnit": "ug/g"
                 },
                 {
                  "Element": "pH",
                  "Value": 5.6,
                  "ValueUnit": "none"
                 },
                 {
                  "Element": "CEC",
                  "Value": 19.6,
                  "ValueUnit": "cmol(+)/kg"
                 },
                 {
                  "Element": "Ca",
                  "Value": 4.285,
                  "ValueUnit": "cmol(+)/kg"
                 },
                 {
                  "Element": "Mg",
                  "Value": 3.7666666666666666,
                  "ValueUnit": "cmol(+)/kg"
                 },
                 {
                  "Element": "K",
                  "Value": 0.5769230769230769,
                  "ValueUnit": "cmol(+)/kg"
                 },
                 {
                  "Element": "Na",
                  "Value": 0.2782608695652174,
                  "ValueUnit": "cmol(+)/kg"
                 },
                 {
                  "Element": "TOC",
                  "Value": 3.1,
                  "ValueUnit": "%"
                 },
                 {
                  "Element": "TN",
                  "Value": 0.27782,
                  "ValueUnit": "%"
                 }
                ]
               }
              ],
              "SampleMetaData": {
               "Geometry": {
                "wkt": "POINT(-122.3801442 37.2652437)"
               },
               "ReportID": "TOKA-006",
               "SampleNumber": "1"
              }
             },
             {
              "Depths": [
               {
                "DepthID": "1",
                "NutrientResults": [
                 {
                  "Element": "Bulk Density",
                  "Value": 1.35234379999526,
                  "ValueUnit": "g/cm3"
                 },
                 {
                  "Element": "P",
                  "Value": 8.6,
                  "ValueUnit": "ug/g"
                 },
                 {
                  "Element": "pH",
                  "Value": 5.8,
                  "ValueUnit": "none"
                 },
                 {
                  "Element": "CEC",
                  "Value": 18.7,
                  "ValueUnit": "cmol(+)/kg"
                 },
                 {
                  "Element": "Ca",
                  "Value": 4.265,
                  "ValueUnit": "cmol(+)/kg"
                 },
                 {
                  "Element": "Mg",
                  "Value": 4.608333333333333,
                  "ValueUnit": "cmol(+)/kg"
                 },
                 {
                  "Element": "K",
                  "Value": 0.5358974358974359,
                  "ValueUnit": "cmol(+)/kg"
                 },
                 {
                  "Element": "Na",
                  "Value": 0.3173913043478261,
                  "ValueUnit": "cmol(+)/kg"
                 },
                 {
                  "Element": "TOC",
                  "Value": 2.3,
                  "ValueUnit": "%"
                 },
                 {
                  "Element": "TN",
                  "Value": 0.21675,
                  "ValueUnit": "%"
                 }
                ]
               }
              ],
              "SampleMetaData": {
               "Geometry": {
                "wkt": "POINT(-122.3801146 37.2688491)"
               },
               "ReportID": "TOKA-007",
               "SampleNumber": "2"
              }
             },
             {
              "Depths": [
               {
                "DepthID": "1",
                "NutrientResults": [
                 {
                  "Element": "Bulk Density",
                  "Value": 1.19573233164415,
                  "ValueUnit": "g/cm3"
                 },
                 {
                  "Element": "P",
                  "Value": 7.6,
                  "ValueUnit": "ug/g"
                 },
                 {
                  "Element": "pH",
                  "Value": 5.7,
                  "ValueUnit": "none"
                 },
                 {
                  "Element": "CEC",
                  "Value": 19.4,
                  "ValueUnit": "cmol(+)/kg"
                 },
                 {
                  "Element": "Ca",
                  "Value": 5.07,
                  "ValueUnit": "cmol(+)/kg"
                 },
                 {
                  "Element": "Mg",
                  "Value": 3.8666666666666667,
                  "ValueUnit": "cmol(+)/kg"
                 },
                 {
                  "Element": "K",
                  "Value": 0.3974358974358974,
                  "ValueUnit": "cmol(+)/kg"
                 },
                 {
                  "Element": "Na",
                  "Value": 0.1956521739130435,
                  "ValueUnit": "cmol(+)/kg"
                 },
                 {
                  "Element": "TOC",
                  "Value": 2.6,
                  "ValueUnit": "%"
                 },
                 {
                  "Element": "TN",
                  "Value": 0.228,
                  "ValueUnit": "%"
                 }
                ]
               }
              ],
              "SampleMetaData": {
               "Geometry": {
                "wkt": "POINT(-122.3801294 37.2670464)"
               },
               "ReportID": "TOKA-104",
               "SampleNumber": "3"
              }
             }
            ]
           }
          },
          "LabMetaData": {
           "Reports": [
            {
             "FileDescription": "2018_RMN 0-10cm_1",
             "ReportID": "1"
            }
           ]
          }
         }
        ]
       },
       {
        "Events": [
         {
          "EventMetaData": {
           "EventDate": "2018-02-05",
           "EventType": {
            "Soil": true
           }
          },
          "EventSamples": {
           "Soil": {
            "DepthRefs": [
             {
              "ColumnDepth": 10,
              "DepthID": 1,
              "DepthUnit": "cm",
              "EndingDepth": 10,
              "Name": "0 to 10",
              "StartingDepth": 0
             }
            ],
            "SoilSamples": [
             {
              "Depths": [
               {
                "DepthID": "1",
                "NutrientResults": [
                 {
                  "Element": "Bulk Density",
                  "Value": 1.04665740558109,
                  "ValueUnit": "g/cm3"
                 },
                 {
                  "Element": "P",
                  "Value": 7.3,
                  "ValueUnit": "ug/g"
                 },
                 {
                  "Element": "pH",
                  "Value": 5.8,
                  "ValueUnit": "none"
                 },
                 {
                  "Element": "CEC",
                  "Value": 37.4,
                  "ValueUnit": "cmol(+)/kg"
                 },
                 {
                  "Element": "Ca",
                  "Value": 10.035,
                  "ValueUnit": "cmol(+)/kg"
                 },
                 {
                  "Element": "Mg",
                  "Value": 16.133333333333333,
                  "ValueUnit": "cmol(+)/kg"
                 },
                 {
                  "Element": "K",
                  "Value": 1.205128205128205,
                  "ValueUnit": "cmol(+)/kg"
                 },
                 {
                  "Element": "Na",
                  "Value": 0.43478260869565216,
                  "ValueUnit": "cmol(+)/kg"
                 },
                 {
                  "Element": "TOC",
                  "Value": 2.8,
                  "ValueUnit": "%"
                 },
                 {
                  "Element": "TN",
                  "Value": 0.29017,
                  "ValueUnit": "%"
                 }
                ]
               }
              ],
              "SampleMetaData": {
               "Geometry": {
                "wkt": "POINT(-122.3710921 37.2688015)"
               },
               "ReportID": "TOKA-016",
               "SampleNumber": "0"
              }
             },
             {
              "Depths": [
               {
                "DepthID": "1",
                "NutrientResults": [
                 {
                  "Element": "Bulk Density",
                  "Value": 1.16244502328506,
                  "ValueUnit": "g/cm3"
                 },
                 {
                  "Element": "P",
                  "Value": 5.3,
                  "ValueUnit": "ug/g"
                 },
                 {
                  "Element": "pH",
                  "Value": 6.1,
                  "ValueUnit": "none"
                 },
                 {
                  "Element": "CEC",
                  "Value": 25.3,
                  "ValueUnit": "cmol(+)/kg"
                 },
                 {
                  "Element": "Ca",
                  "Value": 8.485,
                  "ValueUnit": "cmol(+)/kg"
                 },
                 {
                  "Element": "Mg",
                  "Value": 9.175,
                  "ValueUnit": "cmol(+)/kg"
                 },
                 {
                  "Element": "K",
                  "Value": 0.6717948717948717,
                  "ValueUnit": "cmol(+)/kg"
                 },
                 {
                  "Element": "Na",
                  "Value": 0.40869565217391307,
                  "ValueUnit": "cmol(+)/kg"
                 },
                 {
                  "Element": "TOC",
                  "Value": 3.1,
                  "ValueUnit": "%"
                 },
                 {
                  "Element": "TN",
                  "Value": 0.28391500000000003,
                  "ValueUnit": "%"
                 }
                ]
               }
              ],
              "SampleMetaData": {
               "Geometry": {
                "wkt": "POINT(-122.3688064 37.2723949)"
               },
               "ReportID": "TOKA-018",
               "SampleNumber": "1"
              }
             },
             {
              "Depths": [
               {
                "DepthID": "1",
                "NutrientResults": [
                 {
                  "Element": "Bulk Density",
                  "Value": 1.12915771492597,
                  "ValueUnit": "g/cm3"
                 },
                 {
                  "Element": "P",
                  "Value": 6.1,
                  "ValueUnit": "ug/g"
                 },
                 {
                  "Element": "pH",
                  "Value": 6,
                  "ValueUnit": "none"
                 },
                 {
                  "Element": "CEC",
                  "Value": 26.2,
                  "ValueUnit": "cmol(+)/kg"
                 },
                 {
                  "Element": "Ca",
                  "Value": 8.9,
                  "ValueUnit": "cmol(+)/kg"
                 },
                 {
                  "Element": "Mg",
                  "Value": 8.833333333333334,
                  "ValueUnit": "cmol(+)/kg"
                 },
                 {
                  "Element": "K",
                  "Value": 0.7461538461538462,
                  "ValueUnit": "cmol(+)/kg"
                 },
                 {
                  "Element": "Na",
                  "Value": 0.3782608695652174,
                  "ValueUnit": "cmol(+)/kg"
                 },
                 {
                  "Element": "TOC",
                  "Value": 3.7,
                  "ValueUnit": "%"
                 },
                 {
                  "Element": "TN",
                  "Value": 0.30047,
                  "ValueUnit": "%"
                 }
                ]
               }
              ],
              "SampleMetaData": {
               "Geometry": {
                "wkt": "POINT(-122.3643101 37.2705681)"
               },
               "ReportID": "TOKA-029",
               "SampleNumber": "2"
              }
             },
             {
              "Depths": [
               {
                "DepthID": "1",
                "NutrientResults": [
                 {
                  "Element": "Bulk Density",
                  "Value": 1.23295988851206,
                  "ValueUnit": "g/cm3"
                 },
                 {
                  "Element": "P",
                  "Value": 11.4,
                  "ValueUnit": "ug/g"
                 },
                 {
                  "Element": "pH",
                  "Value": 6.1,
                  "ValueUnit": "none"
                 },
                 {
                  "Element": "CEC",
                  "Value": 29.5,
                  "ValueUnit": "cmol(+)/kg"
                 },
                 {
                  "Element": "Ca",
                  "Value": 13.655,
                  "ValueUnit": "cmol(+)/kg"
                 },
                 {
                  "Element": "Mg",
                  "Value": 7.566666666666666,
                  "ValueUnit": "cmol(+)/kg"
                 },
                 {
                  "Element": "K",
                  "Value": 0.9769230769230769,
                  "ValueUnit": "cmol(+)/kg"
                 },
                 {
                  "Element": "Na",
                  "Value": 0.2826086956521739,
                  "ValueUnit": "cmol(+)/kg"
                 },
                 {
                  "Element": "TOC",
                  "Value": 4,
                  "ValueUnit": "%"
                 },
                 {
                  "Element": "TN",
                  "Value": 0.3487,
                  "ValueUnit": "%"
                 }
                ]
               }
              ],
              "SampleMetaData": {
               "Geometry": {
                "wkt": "POINT(-122.3552566 37.2741247)"
               },
               "ReportID": "TOKA-060",
               "SampleNumber": "3"
              }
             }
            ]
           }
          },
          "LabMetaData": {
           "Reports": [
            {
             "FileDescription": "2018_RMN 0-10cm_3",
             "ReportID": "1"
            }
           ]
          }
         }
        ]
       },
       {
        "Events": [
         {
          "EventMetaData": {
           "EventDate": "2018-01-17",
           "EventType": {
            "Soil": true
           }
          },
          "EventSamples": {
           "Soil": {
            "DepthRefs": [
             {
              "ColumnDepth": 30,
              "DepthID": 1,
              "DepthUnit": "cm",
              "EndingDepth": 40,
              "Name": "10 to 40",
              "StartingDepth": 10
             }
            ],
            "SoilSamples": [
             {
              "Depths": [
               {
                "DepthID": "1",
                "NutrientResults": [
                 {
                  "Value": 60,
                  "ValueUnit": "%"
                 },
                 {
                  "Element": "Silt",
                  "Value": 20,
                  "ValueUnit": "%"
                 },
                 {
                  "Element": "Clay",
                  "Value": 20,
                  "ValueUnit": "%"
                 },
                 {
                  "Element": "TOC",
                  "Value": 1.5,
                  "ValueUnit": "%"
                 },
                 {
                  "Element": "TN",
                  "Value": 0.14868,
                  "ValueUnit": "%"
                 }
                ]
               }
              ],
              "SampleMetaData": {
               "Geometry": {
                "wkt": "POINT(-122.3846552 37.2652672)"
               },
               "ReportID": "TOKA-001",
               "SampleNumber": "0"
              }
             },
             {
              "Depths": [
               {
                "DepthID": "1",
                "NutrientResults": [
                 {
                  "Element": "P",
                  "Value": 3.8,
                  "ValueUnit": "ug/g"
                 },
                 {
                  "Value": 33.8,
                  "ValueUnit": "%"
                 },
                 {
                  "Element": "Silt",
                  "Value": 43.8,
                  "ValueUnit": "%"
                 },
                 {
                  "Element": "Clay",
                  "Value": 22.5,
                  "ValueUnit": "%"
                 },
                 {
                  "Element": "pH",
                  "Value": 5.8,
                  "ValueUnit": "none"
                 },
                 {
                  "Element": "CEC",
                  "Value": 18.9,
                  "ValueUnit": "cmol(+)/kg"
                 },
                 {
                  "Element": "Ca",
                  "Value": 4.335,
                  "ValueUnit": "cmol(+)/kg"
                 },
                 {
                  "Element": "Mg",
                  "Value": 4.466666666666667,
                  "ValueUnit": "cmol(+)/kg"
                 },
                 {
                  "Element": "K",
                  "Value": 0.38461538461538464,
                  "ValueUnit": "cmol(+)/kg"
                 },
                 {
                  "Element": "Na",
                  "Value": 0.4434782608695652,
                  "ValueUnit": "cmol(+)/kg"
                 },
                 {
                  "Element": "TOC",
                  "Value": 2.2,
                  "ValueUnit": "%"
                 },
                 {
                  "Element": "TN",
                  "Value": 0.20533,
                  "ValueUnit": "%"
                 }
                ]
               }
              ],
              "SampleMetaData": {
               "Geometry": {
                "wkt": "POINT(-122.3801442 37.2652437)"
               },
               "ReportID": "TOKA-006",
               "SampleNumber": "1"
              }
             },
             {
              "Depths": [
               {
                "DepthID": "1",
                "NutrientResults": [
                 {
                  "Element": "P",
                  "Value": 2.6,
                  "ValueUnit": "ug/g"
                 },
                 {
                  "Value": 32.5,
                  "ValueUnit": "%"
                 },
                 {
                  "Element": "Silt",
                  "Value": 40,
                  "ValueUnit": "%"
                 },
                 {
                  "Element": "Clay",
                  "Value": 27.5,
                  "ValueUnit": "%"
                 },
                 {
                  "Element": "pH",
                  "Value": 5.8,
                  "ValueUnit": "none"
                 },
                 {
                  "Element": "CEC",
                  "Value": 24.4,
                  "ValueUnit": "cmol(+)/kg"
                 },
                 {
                  "Element": "Ca",
                  "Value": 5.06,
                  "ValueUnit": "cmol(+)/kg"
                 },
                 {
                  "Element": "Mg",
                  "Value": 7.716666666666667,
                  "ValueUnit": "cmol(+)/kg"
                 },
                 {
                  "Element": "K",
                  "Value": 0.5717948717948718,
                  "ValueUnit": "cmol(+)/kg"
                 },
                 {
                  "Element": "Na",
                  "Value": 0.691304347826087,
                  "ValueUnit": "cmol(+)/kg"
                 },
                 {
                  "Element": "TOC",
                  "Value": 1.4,
                  "ValueUnit": "%"
                 },
                 {
                  "Element": "TN",
                  "Value": 0.1432,
                  "ValueUnit": "%"
                 }
                ]
               }
              ],
              "SampleMetaData": {
               "Geometry": {
                "wkt": "POINT(-122.3801146 37.2688491)"
               },
               "ReportID": "TOKA-007",
               "SampleNumber": "2"
              }
             },
             {
              "Depths": [
               {
                "DepthID": "1",
                "NutrientResults": [
                 {
                  "Element": "P",
                  "Value": 6.3,
                  "ValueUnit": "ug/g"
                 },
                 {
                  "Value": 41.2,
                  "ValueUnit": "%"
                 },
                 {
                  "Element": "Silt",
                  "Value": 41.2,
                  "ValueUnit": "%"
                 },
                 {
                  "Element": "Clay",
                  "Value": 17.5,
                  "ValueUnit": "%"
                 },
                 {
                  "Element": "pH",
                  "Value": 5.9,
                  "ValueUnit": "none"
                 },
                 {
                  "Element": "CEC",
                  "Value": 20.2,
                  "ValueUnit": "cmol(+)/kg"
                 },
                 {
                  "Element": "Ca",
                  "Value": 5.54,
                  "ValueUnit": "cmol(+)/kg"
                 },
                 {
                  "Element": "Mg",
                  "Value": 3.8916666666666666,
                  "ValueUnit": "cmol(+)/kg"
                 },
                 {
                  "Element": "K",
                  "Value": 0.25384615384615383,
                  "ValueUnit": "cmol(+)/kg"
                 },
                 {
                  "Element": "Na",
                  "Value": 0.2565217391304348,
                  "ValueUnit": "cmol(+)/kg"
                 },
                 {
                  "Element": "TOC",
                  "Value": 2.2,
                  "ValueUnit": "%"
                 },
                 {
                  "Element": "TN",
                  "Value": 0.19787,
                  "ValueUnit": "%"
                 }
                ]
               }
              ],
              "SampleMetaData": {
               "Geometry": {
                "wkt": "POINT(-122.3801294 37.2670464)"
               },
               "ReportID": "TOKA-104",
               "SampleNumber": "3"
              }
             }
            ]
           }
          },
          "LabMetaData": {
           "Reports": [
            {
             "FileDescription": "2018_RMN 10-40cm_1",
             "ReportID": "1"
            }
           ]
          }
         }
        ]
       },
       {
        "Events": [
         {
          "EventMetaData": {
           "EventDate": "2018-01-22",
           "EventType": {
            "Soil": true
           }
          },
          "EventSamples": {
           "Soil": {
            "DepthRefs": [
             {
              "ColumnDepth": 30,
              "DepthID": 1,
              "DepthUnit": "cm",
              "EndingDepth": 40,
              "Name": "10 to 40",
              "StartingDepth": 10
             }
            ],
            "SoilSamples": [
             {
              "Depths": [
               {
                "DepthID": "1",
                "NutrientResults": [
                 {
                  "Value": 27.5,
                  "ValueUnit": "%"
                 },
                 {
                  "Element": "Silt",
                  "Value": 36.2,
                  "ValueUnit": "%"
                 },
                 {
                  "Element": "Clay",
                  "Value": 36.2,
                  "ValueUnit": "%"
                 },
                 {
                  "Element": "TOC",
                  "Value": 2.6,
                  "ValueUnit": "%"
                 }
                ]
               }
              ],
              "SampleMetaData": {
               "Geometry": {
                "wkt": "POINT(-122.3687763 37.2760003)"
               },
               "ReportID": "TOKA-020",
               "SampleNumber": "0"
              }
             },
             {
              "Depths": [
               {
                "DepthID": "1",
                "NutrientResults": [
                 {
                  "Value": 28.8,
                  "ValueUnit": "%"
                 },
                 {
                  "Element": "Silt",
                  "Value": 32.5,
                  "ValueUnit": "%"
                 },
                 {
                  "Element": "Clay",
                  "Value": 38.8,
                  "ValueUnit": "%"
                 },
                 {
                  "Element": "TOC",
                  "Value": 2.3,
                  "ValueUnit": "%"
                 }
                ]
               }
              ],
              "SampleMetaData": {
               "Geometry": {
                "wkt": "POINT(-122.3597987 37.2705438)"
               },
               "ReportID": "TOKA-045",
               "SampleNumber": "1"
              }
             },
             {
              "Depths": [
               {
                "DepthID": "1",
                "NutrientResults": [
                 {
                  "Value": 36.2,
                  "ValueUnit": "%"
                 },
                 {
                  "Element": "Silt",
                  "Value": 28.8,
                  "ValueUnit": "%"
                 },
                 {
                  "Element": "Clay",
                  "Value": 35,
                  "ValueUnit": "%"
                 },
                 {
                  "Element": "TOC",
                  "Value": 1.7,
                  "ValueUnit": "%"
                 }
                ]
               }
              ],
              "SampleMetaData": {
               "Geometry": {
                "wkt": "POINT(-122.3552413 37.2759273)"
               },
               "ReportID": "TOKA-147",
               "SampleNumber": "2"
              }
             }
            ]
           }
          },
          "LabMetaData": {
           "Reports": [
            {
             "FileDescription": "2018_RMN 10-40cm_4",
             "ReportID": "1"
            }
           ]
          }
         }
        ]
       },
       {
        "Events": [
         {
          "EventMetaData": {
           "EventDate": "2018-01-23",
           "EventType": {
            "Soil": true
           }
          },
          "EventSamples": {
           "Soil": {
            "DepthRefs": [
             {
              "ColumnDepth": 10,
              "DepthID": 1,
              "DepthUnit": "cm",
              "EndingDepth": 10,
              "Name": "0 to 10",
              "StartingDepth": 0
             }
            ],
            "SoilSamples": [
             {
              "Depths": [
               {
                "DepthID": "1",
                "NutrientResults": [
                 {
                  "Element": "Bulk Density",
                  "Value": 1.01545871264845,
                  "ValueUnit": "g/cm3"
                 },
                 {
                  "Element": "TOC",
                  "Value": 3.3,
                  "ValueUnit": "%"
                 }
                ]
               }
              ],
              "SampleMetaData": {
               "Geometry": {
                "wkt": "POINT(-122.3643707 37.2633573)"
               },
               "ReportID": "TOKA-122",
               "SampleNumber": "0"
              }
             }
            ]
           }
          },
          "LabMetaData": {
           "Reports": [
            {
             "FileDescription": "2018_RMN 0-10cm_16",
             "ReportID": "1"
            }
           ]
          }
         }
        ]
       },
       {
        "Events": [
         {
          "EventMetaData": {
           "EventDate": "2018-01-21",
           "EventType": {
            "Soil": true
           }
          },
          "EventSamples": {
           "Soil": {
            "DepthRefs": [
             {
              "ColumnDepth": 30,
              "DepthID": 1,
              "DepthUnit": "cm",
              "EndingDepth": 40,
              "Name": "10 to 40",
              "StartingDepth": 10
             }
            ],
            "SoilSamples": [
             {
              "Depths": [
               {
                "DepthID": "1",
                "NutrientResults": [
                 {
                  "Value": 51.9,
                  "ValueUnit": "%"
                 },
                 {
                  "Element": "Silt",
                  "Value": 23.1,
                  "ValueUnit": "%"
                 },
                 {
                  "Element": "Clay",
                  "Value": 25,
                  "ValueUnit": "%"
                 },
                 {
                  "Element": "TOC",
                  "Value": 2.3,
                  "ValueUnit": "%"
                 }
                ]
               }
              ],
              "SampleMetaData": {
               "Geometry": {
                "wkt": "POINT(-122.3619935 37.2777667)"
               },
               "ReportID": "TOKA-035",
               "SampleNumber": "0"
              }
             }
            ]
           }
          },
          "LabMetaData": {
           "Reports": [
            {
             "FileDescription": "2018_RMN 10-40cm_7",
             "ReportID": "1"
            }
           ]
          }
         }
        ]
       },
       {
        "Events": [
         {
          "EventMetaData": {
           "EventDate": "2018-01-29",
           "EventType": {
            "Soil": true
           }
          },
          "EventSamples": {
           "Soil": {
            "DepthRefs": [
             {
              "ColumnDepth": 10,
              "DepthID": 1,
              "DepthUnit": "cm",
              "EndingDepth": 10,
              "Name": "0 to 10",
              "StartingDepth": 0
             }
            ],
            "SoilSamples": [
             {
              "Depths": [
               {
                "DepthID": "1",
                "NutrientResults": [
                 {
                  "Element": "Bulk Density",
                  "Value": 1.12602479178629,
                  "ValueUnit": "g/cm3"
                 },
                 {
                  "Element": "P",
                  "Value": 8.5,
                  "ValueUnit": "ug/g"
                 },
                 {
                  "Element": "pH",
                  "Value": 6.1,
                  "ValueUnit": "none"
                 },
                 {
                  "Element": "CEC",
                  "Value": 21.6,
                  "ValueUnit": "cmol(+)/kg"
                 },
                 {
                  "Element": "Ca",
                  "Value": 8.78,
                  "ValueUnit": "cmol(+)/kg"
                 },
                 {
                  "Element": "Mg",
                  "Value": 5.141666666666667,
                  "ValueUnit": "cmol(+)/kg"
                 },
                 {
                  "Element": "K",
                  "Value": 0.6666666666666666,
                  "ValueUnit": "cmol(+)/kg"
                 },
                 {
                  "Element": "Na",
                  "Value": 0.2,
                  "ValueUnit": "cmol(+)/kg"
                 },
                 {
                  "Element": "TOC",
                  "Value": 3,
                  "ValueUnit": "%"
                 },
                 {
                  "Element": "TN",
                  "Value": 0.31521,
                  "ValueUnit": "%"
                 }
                ]
               }
              ],
              "SampleMetaData": {
               "Geometry": {
                "wkt": "POINT(-122.3599055 37.2579249)"
               },
               "ReportID": "TOKA-041",
               "SampleNumber": "0"
              }
             },
             {
              "Depths": [
               {
                "DepthID": "1",
                "NutrientResults": [
                 {
                  "Element": "Bulk Density",
                  "Value": 1.2064810573083,
                  "ValueUnit": "g/cm3"
                 },
                 {
                  "Element": "P",
                  "Value": 12.8,
                  "ValueUnit": "ug/g"
                 },
                 {
                  "Element": "pH",
                  "Value": 5.7,
                  "ValueUnit": "none"
                 },
                 {
                  "Element": "CEC",
                  "Value": 23,
                  "ValueUnit": "cmol(+)/kg"
                 },
                 {
                  "Element": "Ca",
                  "Value": 6.935,
                  "ValueUnit": "cmol(+)/kg"
                 },
                 {
                  "Element": "Mg",
                  "Value": 4.433333333333334,
                  "ValueUnit": "cmol(+)/kg"
                 },
                 {
                  "Element": "K",
                  "Value": 0.7512820512820513,
                  "ValueUnit": "cmol(+)/kg"
                 },
                 {
                  "Element": "Na",
                  "Value": 0.18695652173913044,
                  "ValueUnit": "cmol(+)/kg"
                 },
                 {
                  "Element": "TOC",
                  "Value": 3.4,
                  "ValueUnit": "%"
                 },
                 {
                  "Element": "TN",
                  "Value": 0.36933,
                  "ValueUnit": "%"
                 }
                ]
               }
              ],
              "SampleMetaData": {
               "Geometry": {
                "wkt": "POINT(-122.3554103 37.2560978)"
               },
               "ReportID": "TOKA-055",
               "SampleNumber": "1"
              }
             },
             {
              "Depths": [
               {
                "DepthID": "1",
                "NutrientResults": [
                 {
                  "Element": "Bulk Density",
                  "Value": 1.04770171329431,
                  "ValueUnit": "g/cm3"
                 },
                 {
                  "Element": "TOC",
                  "Value": 2.1,
                  "ValueUnit": "%"
                 },
                 {
                  "Element": "TN",
                  "Value": 0.27575,
                  "ValueUnit": "%"
                 }
                ]
               }
              ],
              "SampleMetaData": {
               "Geometry": {
                "wkt": "POINT(-122.3508689 37.2596785)"
               },
               "ReportID": "TOKA-154",
               "SampleNumber": "2"
              }
             }
            ]
           }
          },
          "LabMetaData": {
           "Reports": [
            {
             "FileDescription": "2018_RMN 0-10cm_8",
             "ReportID": "1"
            }
           ]
          }
         }
        ]
       },
       {
        "Events": [
         {
          "EventMetaData": {
           "EventDate": "2015-01-18",
           "EventType": {
            "Soil": true
           }
          },
          "EventSamples": {
           "Soil": {
            "DepthRefs": [
             {
              "ColumnDepth": 30,
              "DepthID": 1,
              "DepthUnit": "cm",
              "EndingDepth": 40,
              "Name": "10 to 40",
              "StartingDepth": 10
             }
            ],
            "SoilSamples": [
             {
              "Depths": [
               {
                "DepthID": "1",
                "NutrientResults": [
                 {
                  "Value": 33.8,
                  "ValueUnit": "%"
                 },
                 {
                  "Element": "Silt",
                  "Value": 43.8,
                  "ValueUnit": "%"
                 },
                 {
                  "Element": "Clay",
                  "Value": 22.5,
                  "ValueUnit": "%"
                 },
                 {
                  "Element": "pH",
                  "Value": 5.4,
                  "ValueUnit": "none"
                 },
                 {
                  "Element": "Ca",
                  "Value": 5.5,
                  "ValueUnit": "cmol(+)/kg"
                 },
                 {
                  "Element": "Mg",
                  "Value": 4.6,
                  "ValueUnit": "cmol(+)/kg"
                 },
                 {
                  "Element": "K",
                  "Value": 0.33,
                  "ValueUnit": "cmol(+)/kg"
                 },
                 {
                  "Element": "Na",
                  "Value": 0.48,
                  "ValueUnit": "cmol(+)/kg"
                 },
                 {
                  "Element": "TOC",
                  "Value": 2,
                  "ValueUnit": "%"
                 }
                ]
               }
              ],
              "SampleMetaData": {
               "Geometry": {
                "wkt": "POINT(-122.3801442 37.2652437)"
               },
               "ReportID": "TOKA-006",
               "SampleNumber": "0"
              }
             },
             {
              "Depths": [
               {
                "DepthID": "1",
                "NutrientResults": [
                 {
                  "Value": 33.8,
                  "ValueUnit": "%"
                 },
                 {
                  "Element": "Silt",
                  "Value": 38.8,
                  "ValueUnit": "%"
                 },
                 {
                  "Element": "Clay",
                  "Value": 27.5,
                  "ValueUnit": "%"
                 },
                 {
                  "Element": "pH",
                  "Value": 5.1,
                  "ValueUnit": "none"
                 },
                 {
                  "Element": "Ca",
                  "Value": 5.1,
                  "ValueUnit": "cmol(+)/kg"
                 },
                 {
                  "Element": "Mg",
                  "Value": 7.2,
                  "ValueUnit": "cmol(+)/kg"
                 },
                 {
                  "Element": "K",
                  "Value": 0.59,
                  "ValueUnit": "cmol(+)/kg"
                 },
                 {
                  "Element": "Na",
                  "Value": 0.76,
                  "ValueUnit": "cmol(+)/kg"
                 },
                 {
                  "Element": "TOC",
                  "Value": 1.4,
                  "ValueUnit": "%"
                 }
                ]
               }
              ],
              "SampleMetaData": {
               "Geometry": {
                "wkt": "POINT(-122.3801146 37.2688491)"
               },
               "ReportID": "TOKA-007",
               "SampleNumber": "1"
              }
             },
             {
              "Depths": [
               {
                "DepthID": "1",
                "NutrientResults": [
                 {
                  "Element": "P",
                  "Value": 3,
                  "ValueUnit": "ug/g"
                 },
                 {
                  "Value": 25,
                  "ValueUnit": "%"
                 },
                 {
                  "Element": "Silt",
                  "Value": 40,
                  "ValueUnit": "%"
                 },
                 {
                  "Element": "Clay",
                  "Value": 35,
                  "ValueUnit": "%"
                 },
                 {
                  "Element": "pH",
                  "Value": 5.7,
                  "ValueUnit": "none"
                 },
                 {
                  "Element": "Ca",
                  "Value": 13,
                  "ValueUnit": "cmol(+)/kg"
                 },
                 {
                  "Element": "Mg",
                  "Value": 13,
                  "ValueUnit": "cmol(+)/kg"
                 },
                 {
                  "Element": "K",
                  "Value": 0.66,
                  "ValueUnit": "cmol(+)/kg"
                 },
                 {
                  "Element": "Na",
                  "Value": 0.61,
                  "ValueUnit": "cmol(+)/kg"
                 },
                 {
                  "Element": "TOC",
                  "Value": 2.2,
                  "ValueUnit": "%"
                 }
                ]
               }
              ],
              "SampleMetaData": {
               "Geometry": {
                "wkt": "POINT(-122.3710921 37.2688015)"
               },
               "ReportID": "TOKA-016",
               "SampleNumber": "2"
              }
             },
             {
              "Depths": [
               {
                "DepthID": "1",
                "NutrientResults": [
                 {
                  "Value": 21.9,
                  "ValueUnit": "%"
                 },
                 {
                  "Element": "Silt",
                  "Value": 40,
                  "ValueUnit": "%"
                 },
                 {
                  "Element": "Clay",
                  "Value": 38.1,
                  "ValueUnit": "%"
                 },
                 {
                  "Element": "pH",
                  "Value": 5.8,
                  "ValueUnit": "none"
                 },
                 {
                  "Element": "Ca",
                  "Value": 9.8,
                  "ValueUnit": "cmol(+)/kg"
                 },
                 {
                  "Element": "Mg",
                  "Value": 8.7,
                  "ValueUnit": "cmol(+)/kg"
                 },
                 {
                  "Element": "K",
                  "Value": 0.54,
                  "ValueUnit": "cmol(+)/kg"
                 },
                 {
                  "Element": "Na",
                  "Value": 0.73,
                  "ValueUnit": "cmol(+)/kg"
                 },
                 {
                  "Element": "TOC",
                  "Value": 2.4,
                  "ValueUnit": "%"
                 }
                ]
               }
              ],
              "SampleMetaData": {
               "Geometry": {
                "wkt": "POINT(-122.3688064 37.2723949)"
               },
               "ReportID": "TOKA-018",
               "SampleNumber": "3"
              }
             },
             {
              "Depths": [
               {
                "DepthID": "1",
                "NutrientResults": [
                 {
                  "Element": "P",
                  "Value": 2.2,
                  "ValueUnit": "ug/g"
                 },
                 {
                  "Value": 21.2,
                  "ValueUnit": "%"
                 },
                 {
                  "Element": "Silt",
                  "Value": 35,
                  "ValueUnit": "%"
                 },
                 {
                  "Element": "Clay",
                  "Value": 43.8,
                  "ValueUnit": "%"
                 },
                 {
                  "Element": "pH",
                  "Value": 5.2,
                  "ValueUnit": "none"
                 },
                 {
                  "Element": "Ca",
                  "Value": 13,
                  "ValueUnit": "cmol(+)/kg"
                 },
                 {
                  "Element": "Mg",
                  "Value": 12,
                  "ValueUnit": "cmol(+)/kg"
                 },
                 {
                  "Element": "K",
                  "Value": 0.58,
                  "ValueUnit": "cmol(+)/kg"
                 },
                 {
                  "Element": "Na",
                  "Value": 0.62,
                  "ValueUnit": "cmol(+)/kg"
                 },
                 {
                  "Element": "TOC",
                  "Value": 2.1,
                  "ValueUnit": "%"
                 }
                ]
               }
              ],
              "SampleMetaData": {
               "Geometry": {
                "wkt": "POINT(-122.3665960 37.2669748)"
               },
               "ReportID": "TOKA-022",
               "SampleNumber": "4"
              }
             },
             {
              "Depths": [
               {
                "DepthID": "1",
                "NutrientResults": [
                 {
                  "Element": "P",
                  "Value": 2.5,
                  "ValueUnit": "ug/g"
                 },
                 {
                  "Value": 20,
                  "ValueUnit": "%"
                 },
                 {
                  "Element": "Silt",
                  "Value": 40,
                  "ValueUnit": "%"
                 },
                 {
                  "Element": "Clay",
                  "Value": 40,
                  "ValueUnit": "%"
                 },
                 {
                  "Element": "pH",
                  "Value": 5.2,
                  "ValueUnit": "none"
                 },
                 {
                  "Element": "Ca",
                  "Value": 9.5,
                  "ValueUnit": "cmol(+)/kg"
                 },
                 {
                  "Element": "Mg",
                  "Value": 8.8,
                  "ValueUnit": "cmol(+)/kg"
                 },
                 {
                  "Element": "K",
                  "Value": 0.77,
                  "ValueUnit": "cmol(+)/kg"
                 },
                 {
                  "Element": "Na",
                  "Value": 0.65,
                  "ValueUnit": "cmol(+)/kg"
                 },
                 {
                  "Element": "TOC",
                  "Value": 2.7,
                  "ValueUnit": "%"
                 }
                ]
               }
              ],
              "SampleMetaData": {
               "Geometry": {
                "wkt": "POINT(-122.3643101 37.2705681)"
               },
               "ReportID": "TOKA-029",
               "SampleNumber": "5"
              }
             },
             {
              "Depths": [
               {
                "DepthID": "1",
                "NutrientResults": [
                 {
                  "Element": "P",
                  "Value": 3.5,
                  "ValueUnit": "ug/g"
                 },
                 {
                  "Value": 21.2,
                  "ValueUnit": "%"
                 },
                 {
                  "Element": "Silt",
                  "Value": 41.2,
                  "ValueUnit": "%"
                 },
                 {
                  "Element": "Clay",
                  "Value": 37.5,
                  "ValueUnit": "%"
                 },
                 {
                  "Element": "pH",
                  "Value": 5.6,
                  "ValueUnit": "none"
                 },
                 {
                  "Element": "Ca",
                  "Value": 8,
                  "ValueUnit": "cmol(+)/kg"
                 },
                 {
                  "Element": "Mg",
                  "Value": 6.4,
                  "ValueUnit": "cmol(+)/kg"
                 },
                 {
                  "Element": "K",
                  "Value": 0.85,
                  "ValueUnit": "cmol(+)/kg"
                 },
                 {
                  "Element": "Na",
                  "Value": 0.42,
                  "ValueUnit": "cmol(+)/kg"
                 },
                 {
                  "Element": "TOC",
                  "Value": 2.8,
                  "ValueUnit": "%"
                 }
                ]
               }
              ],
              "SampleMetaData": {
               "Geometry": {
                "wkt": "POINT(-122.3643404 37.2669627)"
               },
               "ReportID": "TOKA-030",
               "SampleNumber": "6"
              }
             },
             {
              "Depths": [
               {
                "DepthID": "1",
                "NutrientResults": [
                 {
                  "Element": "P",
                  "Value": 21,
                  "ValueUnit": "ug/g"
                 },
                 {
                  "Value": 41.2,
                  "ValueUnit": "%"
                 },
                 {
                  "Element": "Silt",
                  "Value": 42.5,
                  "ValueUnit": "%"
                 },
                 {
                  "Element": "Clay",
                  "Value": 16.2,
                  "ValueUnit": "%"
                 },
                 {
                  "Element": "pH",
                  "Value": 5.7,
                  "ValueUnit": "none"
                 },
                 {
                  "Element": "Ca",
                  "Value": 20,
                  "ValueUnit": "cmol(+)/kg"
                 },
                 {
                  "Element": "Mg",
                  "Value": 10,
                  "ValueUnit": "cmol(+)/kg"
                 },
                 {
                  "Element": "K",
                  "Value": 0.72,
                  "ValueUnit": "cmol(+)/kg"
                 },
                 {
                  "Element": "Na",
                  "Value": 0.69,
                  "ValueUnit": "cmol(+)/kg"
                 },
                 {
                  "Element": "TOC",
                  "Value": 2.9,
                  "ValueUnit": "%"
                 }
                ]
               }
              ],
              "SampleMetaData": {
               "Geometry": {
                "wkt": "POINT(-122.3644313 37.2561465)"
               },
               "ReportID": "TOKA-034",
               "SampleNumber": "7"
              }
             },
             {
              "Depths": [
               {
                "DepthID": "1",
                "NutrientResults": [
                 {
                  "Element": "P",
                  "Value": 4.6,
                  "ValueUnit": "ug/g"
                 },
                 {
                  "Value": 23.8,
                  "ValueUnit": "%"
                 },
                 {
                  "Element": "Silt",
                  "Value": 41.2,
                  "ValueUnit": "%"
                 },
                 {
                  "Element": "Clay",
                  "Value": 35,
                  "ValueUnit": "%"
                 },
                 {
                  "Element": "pH",
                  "Value": 5.7,
                  "ValueUnit": "none"
                 },
                 {
                  "Element": "Ca",
                  "Value": 10,
                  "ValueUnit": "cmol(+)/kg"
                 },
                 {
                  "Element": "Mg",
                  "Value": 4.8,
                  "ValueUnit": "cmol(+)/kg"
                 },
                 {
                  "Element": "K",
                  "Value": 0.63,
                  "ValueUnit": "cmol(+)/kg"
                 },
                 {
                  "Element": "Na",
                  "Value": 0.39,
                  "ValueUnit": "cmol(+)/kg"
                 },
                 {
                  "Element": "TOC",
                  "Value": 2.7,
                  "ValueUnit": "%"
                 }
                ]
               }
              ],
              "SampleMetaData": {
               "Geometry": {
                "wkt": "POINT(-122.3599055 37.2579249)"
               },
               "ReportID": "TOKA-041",
               "SampleNumber": "8"
              }
             },
             {
              "Depths": [
               {
                "DepthID": "1",
                "NutrientResults": [
                 {
                  "Value": 21.2,
                  "ValueUnit": "%"
                 },
                 {
                  "Element": "Silt",
                  "Value": 38.8,
                  "ValueUnit": "%"
                 },
                 {
                  "Element": "Clay",
                  "Value": 40,
                  "ValueUnit": "%"
                 },
                 {
                  "Element": "pH",
                  "Value": 5.8,
                  "ValueUnit": "none"
                 },
                 {
                  "Element": "Ca",
                  "Value": 10,
                  "ValueUnit": "cmol(+)/kg"
                 },
                 {
                  "Element": "Mg",
                  "Value": 6.4,
                  "ValueUnit": "cmol(+)/kg"
                 },
                 {
                  "Element": "K",
                  "Value": 0.48,
                  "ValueUnit": "cmol(+)/kg"
                 },
                 {
                  "Element": "Na",
                  "Value": 0.52,
                  "ValueUnit": "cmol(+)/kg"
                 },
                 {
                  "Element": "TOC",
                  "Value": 2.2,
                  "ValueUnit": "%"
                 }
                ]
               }
              ],
              "SampleMetaData": {
               "Geometry": {
                "wkt": "POINT(-122.3553489 37.2633085)"
               },
               "ReportID": "TOKA-057",
               "SampleNumber": "9"
              }
             },
             {
              "Depths": [
               {
                "DepthID": "1",
                "NutrientResults": [
                 {
                  "Element": "P",
                  "Value": 6.2,
                  "ValueUnit": "ug/g"
                 },
                 {
                  "Value": 39.4,
                  "ValueUnit": "%"
                 },
                 {
                  "Element": "Silt",
                  "Value": 28.8,
                  "ValueUnit": "%"
                 },
                 {
                  "Element": "Clay",
                  "Value": 31.9,
                  "ValueUnit": "%"
                 },
                 {
                  "Element": "pH",
                  "Value": 5.7,
                  "ValueUnit": "none"
                 },
                 {
                  "Element": "Ca",
                  "Value": 17,
                  "ValueUnit": "cmol(+)/kg"
                 },
                 {
                  "Element": "Mg",
                  "Value": 8.4,
                  "ValueUnit": "cmol(+)/kg"
                 },
                 {
                  "Element": "K",
                  "Value": 0.67,
                  "ValueUnit": "cmol(+)/kg"
                 },
                 {
                  "Element": "Na",
                  "Value": 0.36,
                  "ValueUnit": "cmol(+)/kg"
                 },
                 {
                  "Element": "TOC",
                  "Value": 2.4,
                  "ValueUnit": "%"
                 }
                ]
               }
              ],
              "SampleMetaData": {
               "Geometry": {
                "wkt": "POINT(-122.3552566 37.2741247)"
               },
               "ReportID": "TOKA-060",
               "SampleNumber": "10"
              }
             },
             {
              "Depths": [
               {
                "DepthID": "1",
                "NutrientResults": [
                 {
                  "Element": "P",
                  "Value": 3.1,
                  "ValueUnit": "ug/g"
                 },
                 {
                  "Value": 25,
                  "ValueUnit": "%"
                 },
                 {
                  "Element": "Silt",
                  "Value": 32.5,
                  "ValueUnit": "%"
                 },
                 {
                  "Element": "Clay",
                  "Value": 42.5,
                  "ValueUnit": "%"
                 },
                 {
                  "Element": "pH",
                  "Value": 5.9,
                  "ValueUnit": "none"
                 },
                 {
                  "Element": "Ca",
                  "Value": 12,
                  "ValueUnit": "cmol(+)/kg"
                 },
                 {
                  "Element": "Mg",
                  "Value": 7.4,
                  "ValueUnit": "cmol(+)/kg"
                 },
                 {
                  "Element": "K",
                  "Value": 0.76,
                  "ValueUnit": "cmol(+)/kg"
                 },
                 {
                  "Element": "Na",
                  "Value": 0.33,
                  "ValueUnit": "cmol(+)/kg"
                 },
                 {
                  "Element": "TOC",
                  "Value": 2.2,
                  "ValueUnit": "%"
                 }
                ]
               }
              ],
              "SampleMetaData": {
               "Geometry": {
                "wkt": "POINT(-122.3552259 37.2777300)"
               },
               "ReportID": "TOKA-061",
               "SampleNumber": "11"
              }
             },
             {
              "Depths": [
               {
                "DepthID": "1",
                "NutrientResults": [
                 {
                  "Element": "P",
                  "Value": 19,
                  "ValueUnit": "ug/g"
                 },
                 {
                  "Value": 27.5,
                  "ValueUnit": "%"
                 },
                 {
                  "Element": "Silt",
                  "Value": 32.5,
                  "ValueUnit": "%"
                 },
                 {
                  "Element": "Clay",
                  "Value": 40,
                  "ValueUnit": "%"
                 },
                 {
                  "Element": "pH",
                  "Value": 5.5,
                  "ValueUnit": "none"
                 },
                 {
                  "Element": "Ca",
                  "Value": 13,
                  "ValueUnit": "cmol(+)/kg"
                 },
                 {
                  "Element": "Mg",
                  "Value": 4.8,
                  "ValueUnit": "cmol(+)/kg"
                 },
                 {
                  "Element": "K",
                  "Value": 1.9,
                  "ValueUnit": "cmol(+)/kg"
                 },
                 {
                  "Element": "Na",
                  "Value": 0.1,
                  "ValueUnit": "cmol(+)/kg"
                 },
                 {
                  "Element": "TOC",
                  "Value": 5.1,
                  "ValueUnit": "%"
                 }
                ]
               }
              ],
              "SampleMetaData": {
               "Geometry": {
                "wkt": "POINT(-122.3530163 37.2723097)"
               },
               "ReportID": "TOKA-064",
               "SampleNumber": "12"
              }
             },
             {
              "Depths": [
               {
                "DepthID": "1",
                "NutrientResults": [
                 {
                  "Element": "P",
                  "Value": 5,
                  "ValueUnit": "ug/g"
                 },
                 {
                  "Value": 23.8,
                  "ValueUnit": "%"
                 },
                 {
                  "Element": "Silt",
                  "Value": 37.5,
                  "ValueUnit": "%"
                 },
                 {
                  "Element": "Clay",
                  "Value": 38.8,
                  "ValueUnit": "%"
                 },
                 {
                  "Element": "pH",
                  "Value": 5.5,
                  "ValueUnit": "none"
                 },
                 {
                  "Element": "Ca",
                  "Value": 14,
                  "ValueUnit": "cmol(+)/kg"
                 },
                 {
                  "Element": "Mg",
                  "Value": 9.1,
                  "ValueUnit": "cmol(+)/kg"
                 },
                 {
                  "Element": "K",
                  "Value": 0.44,
                  "ValueUnit": "cmol(+)/kg"
                 },
                 {
                  "Element": "Na",
                  "Value": 0.41,
                  "ValueUnit": "cmol(+)/kg"
                 },
                 {
                  "Element": "TOC",
                  "Value": 2.2,
                  "ValueUnit": "%"
                 }
                ]
               }
              ],
              "SampleMetaData": {
               "Geometry": {
                "wkt": "POINT(-122.3531397 37.2578881)"
               },
               "ReportID": "TOKA-068",
               "SampleNumber": "13"
              }
             },
             {
              "Depths": [
               {
                "DepthID": "1",
                "NutrientResults": [
                 {
                  "Element": "P",
                  "Value": 5,
                  "ValueUnit": "ug/g"
                 },
                 {
                  "Value": 21.2,
                  "ValueUnit": "%"
                 },
                 {
                  "Element": "Silt",
                  "Value": 35,
                  "ValueUnit": "%"
                 },
                 {
                  "Element": "Clay",
                  "Value": 43.8,
                  "ValueUnit": "%"
                 },
                 {
                  "Element": "pH",
                  "Value": 5.2,
                  "ValueUnit": "none"
                 },
                 {
                  "Element": "Ca",
                  "Value": 13,
                  "ValueUnit": "cmol(+)/kg"
                 },
                 {
                  "Element": "Mg",
                  "Value": 11,
                  "ValueUnit": "cmol(+)/kg"
                 },
                 {
                  "Element": "K",
                  "Value": 0.65,
                  "ValueUnit": "cmol(+)/kg"
                 },
                 {
                  "Element": "Na",
                  "Value": 0.45,
                  "ValueUnit": "cmol(+)/kg"
                 },
                 {
                  "Element": "TOC",
                  "Value": 1.8,
                  "ValueUnit": "%"
                 }
                ]
               }
              ],
              "SampleMetaData": {
               "Geometry": {
                "wkt": "POINT(-122.3485825 37.2632715)"
               },
               "ReportID": "TOKA-080",
               "SampleNumber": "14"
              }
             },
             {
              "Depths": [
               {
                "DepthID": "1",
                "NutrientResults": [
                 {
                  "Element": "P",
                  "Value": 3.7,
                  "ValueUnit": "ug/g"
                 },
                 {
                  "Value": 41.9,
                  "ValueUnit": "%"
                 },
                 {
                  "Element": "Silt",
                  "Value": 29.4,
                  "ValueUnit": "%"
                 },
                 {
                  "Element": "Clay",
                  "Value": 28.8,
                  "ValueUnit": "%"
                 },
                 {
                  "Element": "pH",
                  "Value": 5.5,
                  "ValueUnit": "none"
                 },
                 {
                  "Element": "Ca",
                  "Value": 14,
                  "ValueUnit": "cmol(+)/kg"
                 },
                 {
                  "Element": "Mg",
                  "Value": 8.8,
                  "ValueUnit": "cmol(+)/kg"
                 },
                 {
                  "Element": "K",
                  "Value": 0.72,
                  "ValueUnit": "cmol(+)/kg"
                 },
                 {
                  "Element": "Na",
                  "Value": 0.22,
                  "ValueUnit": "cmol(+)/kg"
                 },
                 {
                  "Element": "TOC",
                  "Value": 2,
                  "ValueUnit": "%"
                 }
                ]
               }
              ],
              "SampleMetaData": {
               "Geometry": {
                "wkt": "POINT(-122.3394662 37.2740376)"
               },
               "ReportID": "TOKA-099",
               "SampleNumber": "15"
              }
             },
             {
              "Depths": [
               {
                "DepthID": "1",
                "NutrientResults": [
                 {
                  "Element": "P",
                  "Value": 3.2,
                  "ValueUnit": "ug/g"
                 },
                 {
                  "Value": 40,
                  "ValueUnit": "%"
                 },
                 {
                  "Element": "Silt",
                  "Value": 41.2,
                  "ValueUnit": "%"
                 },
                 {
                  "Element": "Clay",
                  "Value": 18.8,
                  "ValueUnit": "%"
                 },
                 {
                  "Element": "pH",
                  "Value": 5,
                  "ValueUnit": "none"
                 },
                 {
                  "Element": "Ca",
                  "Value": 6.4,
                  "ValueUnit": "cmol(+)/kg"
                 },
                 {
                  "Element": "Mg",
                  "Value": 4,
                  "ValueUnit": "cmol(+)/kg"
                 },
                 {
                  "Element": "K",
                  "Value": 0.2,
                  "ValueUnit": "cmol(+)/kg"
                 },
                 {
                  "Element": "Na",
                  "Value": 0.28,
                  "ValueUnit": "cmol(+)/kg"
                 },
                 {
                  "Element": "TOC",
                  "Value": 1.8,
                  "ValueUnit": "%"
                 }
                ]
               }
              ],
              "SampleMetaData": {
               "Geometry": {
                "wkt": "POINT(-122.3801294 37.2670464)"
               },
               "ReportID": "TOKA-104",
               "SampleNumber": "16"
              }
             },
             {
              "Depths": [
               {
                "DepthID": "1",
                "NutrientResults": [
                 {
                  "Element": "P",
                  "Value": 2.1,
                  "ValueUnit": "ug/g"
                 },
                 {
                  "Value": 47.5,
                  "ValueUnit": "%"
                 },
                 {
                  "Element": "Silt",
                  "Value": 26.2,
                  "ValueUnit": "%"
                 },
                 {
                  "Element": "Clay",
                  "Value": 26.2,
                  "ValueUnit": "%"
                 },
                 {
                  "Element": "pH",
                  "Value": 5.4,
                  "ValueUnit": "none"
                 },
                 {
                  "Element": "Ca",
                  "Value": 6.2,
                  "ValueUnit": "cmol(+)/kg"
                 },
                 {
                  "Element": "Mg",
                  "Value": 6.9,
                  "ValueUnit": "cmol(+)/kg"
                 },
                 {
                  "Element": "K",
                  "Value": 0.37,
                  "ValueUnit": "cmol(+)/kg"
                 },
                 {
                  "Element": "Na",
                  "Value": 0.42,
                  "ValueUnit": "cmol(+)/kg"
                 },
                 {
                  "Element": "TOC",
                  "Value": 1.7,
                  "ValueUnit": "%"
                 }
                ]
               }
              ],
              "SampleMetaData": {
               "Geometry": {
                "wkt": "POINT(-122.3733627 37.2670108)"
               },
               "ReportID": "TOKA-111",
               "SampleNumber": "17"
              }
             },
             {
              "Depths": [
               {
                "DepthID": "1",
                "NutrientResults": [
                 {
                  "Element": "P",
                  "Value": 2.4,
                  "ValueUnit": "ug/g"
                 },
                 {
                  "Value": 25,
                  "ValueUnit": "%"
                 },
                 {
                  "Element": "Silt",
                  "Value": 33.8,
                  "ValueUnit": "%"
                 },
                 {
                  "Element": "Clay",
                  "Value": 41.2,
                  "ValueUnit": "%"
                 },
                 {
                  "Element": "pH",
                  "Value": 5.4,
                  "ValueUnit": "none"
                 },
                 {
                  "Element": "Ca",
                  "Value": 11,
                  "ValueUnit": "cmol(+)/kg"
                 },
                 {
                  "Element": "Mg",
                  "Value": 11,
                  "ValueUnit": "cmol(+)/kg"
                 },
                 {
                  "Element": "K",
                  "Value": 0.8,
                  "ValueUnit": "cmol(+)/kg"
                 },
                 {
                  "Element": "Na",
                  "Value": 0.41,
                  "ValueUnit": "cmol(+)/kg"
                 },
                 {
                  "Element": "TOC",
                  "Value": 2.4,
                  "ValueUnit": "%"
                 }
                ]
               }
              ],
              "SampleMetaData": {
               "Geometry": {
                "wkt": "POINT(-122.3688365 37.2687895)"
               },
               "ReportID": "TOKA-115",
               "SampleNumber": "18"
              }
             },
             {
              "Depths": [
               {
                "DepthID": "1",
                "NutrientResults": [
                 {
                  "Element": "P",
                  "Value": 5.4,
                  "ValueUnit": "ug/g"
                 },
                 {
                  "Value": 23.8,
                  "ValueUnit": "%"
                 },
                 {
                  "Element": "Silt",
                  "Value": 41.2,
                  "ValueUnit": "%"
                 },
                 {
                  "Element": "Clay",
                  "Value": 35,
                  "ValueUnit": "%"
                 },
                 {
                  "Element": "pH",
                  "Value": 5.3,
                  "ValueUnit": "none"
                 },
                 {
                  "Element": "Ca",
                  "Value": 12,
                  "ValueUnit": "cmol(+)/kg"
                 },
                 {
                  "Element": "Mg",
                  "Value": 12,
                  "ValueUnit": "cmol(+)/kg"
                 },
                 {
                  "Element": "K",
                  "Value": 0.68,
                  "ValueUnit": "cmol(+)/kg"
                 },
                 {
                  "Element": "Na",
                  "Value": 0.53,
                  "ValueUnit": "cmol(+)/kg"
                 },
                 {
                  "Element": "TOC",
                  "Value": 2.1,
                  "ValueUnit": "%"
                 }
                ]
               }
              ],
              "SampleMetaData": {
               "Geometry": {
                "wkt": "POINT(-122.3642949 37.2723708)"
               },
               "ReportID": "TOKA-119",
               "SampleNumber": "19"
              }
             },
             {
              "Depths": [
               {
                "DepthID": "1",
                "NutrientResults": [
                 {
                  "Element": "P",
                  "Value": 2.4,
                  "ValueUnit": "ug/g"
                 },
                 {
                  "Value": 23.8,
                  "ValueUnit": "%"
                 },
                 {
                  "Element": "Silt",
                  "Value": 37.5,
                  "ValueUnit": "%"
                 },
                 {
                  "Element": "Clay",
                  "Value": 38.8,
                  "ValueUnit": "%"
                 },
                 {
                  "Element": "pH",
                  "Value": 5.6,
                  "ValueUnit": "none"
                 },
                 {
                  "Element": "Ca",
                  "Value": 16,
                  "ValueUnit": "cmol(+)/kg"
                 },
                 {
                  "Element": "Mg",
                  "Value": 11,
                  "ValueUnit": "cmol(+)/kg"
                 },
                 {
                  "Element": "K",
                  "Value": 0.7,
                  "ValueUnit": "cmol(+)/kg"
                 },
                 {
                  "Element": "Na",
                  "Value": 0.46,
                  "ValueUnit": "cmol(+)/kg"
                 },
                 {
                  "Element": "TOC",
                  "Value": 2.6,
                  "ValueUnit": "%"
                 }
                ]
               }
              ],
              "SampleMetaData": {
               "Geometry": {
                "wkt": "POINT(-122.3621152 37.2633452)"
               },
               "ReportID": "TOKA-126",
               "SampleNumber": "20"
              }
             },
             {
              "Depths": [
               {
                "DepthID": "1",
                "NutrientResults": [
                 {
                  "Element": "P",
                  "Value": 3.5,
                  "ValueUnit": "ug/g"
                 },
                 {
                  "Value": 21.2,
                  "ValueUnit": "%"
                 },
                 {
                  "Element": "Silt",
                  "Value": 41.2,
                  "ValueUnit": "%"
                 },
                 {
                  "Element": "Clay",
                  "Value": 37.5,
                  "ValueUnit": "%"
                 },
                 {
                  "Element": "pH",
                  "Value": 5.5,
                  "ValueUnit": "none"
                 },
                 {
                  "Element": "Ca",
                  "Value": 12,
                  "ValueUnit": "cmol(+)/kg"
                 },
                 {
                  "Element": "Mg",
                  "Value": 7.1,
                  "ValueUnit": "cmol(+)/kg"
                 },
                 {
                  "Element": "K",
                  "Value": 0.59,
                  "ValueUnit": "cmol(+)/kg"
                 },
                 {
                  "Element": "Na",
                  "Value": 0.35,
                  "ValueUnit": "cmol(+)/kg"
                 },
                 {
                  "Element": "TOC",
                  "Value": 2.6,
                  "ValueUnit": "%"
                 }
                ]
               }
              ],
              "SampleMetaData": {
               "Geometry": {
                "wkt": "POINT(-122.3621760 37.2561344)"
               },
               "ReportID": "TOKA-129",
               "SampleNumber": "21"
              }
             },
             {
              "Depths": [
               {
                "DepthID": "1",
                "NutrientResults": [
                 {
                  "Element": "P",
                  "Value": 3.9,
                  "ValueUnit": "ug/g"
                 },
                 {
                  "Value": 29.4,
                  "ValueUnit": "%"
                 },
                 {
                  "Element": "Silt",
                  "Value": 36.9,
                  "ValueUnit": "%"
                 },
                 {
                  "Element": "Clay",
                  "Value": 33.8,
                  "ValueUnit": "%"
                 },
                 {
                  "Element": "pH",
                  "Value": 5.6,
                  "ValueUnit": "none"
                 },
                 {
                  "Element": "Ca",
                  "Value": 12,
                  "ValueUnit": "cmol(+)/kg"
                 },
                 {
                  "Element": "Mg",
                  "Value": 5.8,
                  "ValueUnit": "cmol(+)/kg"
                 },
                 {
                  "Element": "K",
                  "Value": 0.59,
                  "ValueUnit": "cmol(+)/kg"
                 },
                 {
                  "Element": "Na",
                  "Value": 0.34,
                  "ValueUnit": "cmol(+)/kg"
                 },
                 {
                  "Element": "TOC",
                  "Value": 2.2,
                  "ValueUnit": "%"
                 }
                ]
               }
              ],
              "SampleMetaData": {
               "Geometry": {
                "wkt": "POINT(-122.3597682 37.2741491)"
               },
               "ReportID": "TOKA-135",
               "SampleNumber": "22"
              }
             },
             {
              "Depths": [
               {
                "DepthID": "1",
                "NutrientResults": [
                 {
                  "Element": "P",
                  "Value": 2.7,
                  "ValueUnit": "ug/g"
                 },
                 {
                  "Value": 38.8,
                  "ValueUnit": "%"
                 },
                 {
                  "Element": "Silt",
                  "Value": 28.8,
                  "ValueUnit": "%"
                 },
                 {
                  "Element": "Clay",
                  "Value": 32.5,
                  "ValueUnit": "%"
                 },
                 {
                  "Element": "pH",
                  "Value": 5.7,
                  "ValueUnit": "none"
                 },
                 {
                  "Element": "Ca",
                  "Value": 15,
                  "ValueUnit": "cmol(+)/kg"
                 },
                 {
                  "Element": "Mg",
                  "Value": 8.2,
                  "ValueUnit": "cmol(+)/kg"
                 },
                 {
                  "Element": "K",
                  "Value": 0.36,
                  "ValueUnit": "cmol(+)/kg"
                 },
                 {
                  "Element": "Na",
                  "Value": 0.44,
                  "ValueUnit": "cmol(+)/kg"
                 },
                 {
                  "Element": "TOC",
                  "Value": 2.6,
                  "ValueUnit": "%"
                 }
                ]
               }
              ],
              "SampleMetaData": {
               "Geometry": {
                "wkt": "POINT(-122.3574971 37.2759396)"
               },
               "ReportID": "TOKA-137",
               "SampleNumber": "23"
              }
             },
             {
              "Depths": [
               {
                "DepthID": "1",
                "NutrientResults": [
                 {
                  "Element": "P",
                  "Value": 4.7,
                  "ValueUnit": "ug/g"
                 },
                 {
                  "Value": 26.2,
                  "ValueUnit": "%"
                 },
                 {
                  "Element": "Silt",
                  "Value": 32.5,
                  "ValueUnit": "%"
                 },
                 {
                  "Element": "Clay",
                  "Value": 41.2,
                  "ValueUnit": "%"
                 },
                 {
                  "Element": "pH",
                  "Value": 5,
                  "ValueUnit": "none"
                 },
                 {
                  "Element": "Ca",
                  "Value": 8.8,
                  "ValueUnit": "cmol(+)/kg"
                 },
                 {
                  "Element": "Mg",
                  "Value": 8.5,
                  "ValueUnit": "cmol(+)/kg"
                 },
                 {
                  "Element": "K",
                  "Value": 0.79,
                  "ValueUnit": "cmol(+)/kg"
                 },
                 {
                  "Element": "Na",
                  "Value": 0.37,
                  "ValueUnit": "cmol(+)/kg"
                 },
                 {
                  "Element": "TOC",
                  "Value": 2,
                  "ValueUnit": "%"
                 }
                ]
               }
              ],
              "SampleMetaData": {
               "Geometry": {
                "wkt": "POINT(-122.3440091 37.2704573)"
               },
               "ReportID": "TOKA-169",
               "SampleNumber": "24"
              }
             },
             {
              "Depths": [
               {
                "DepthID": "1",
                "NutrientResults": [
                 {
                  "Element": "P",
                  "Value": 2.2,
                  "ValueUnit": "ug/g"
                 },
                 {
                  "Value": 37.5,
                  "ValueUnit": "%"
                 },
                 {
                  "Element": "Silt",
                  "Value": 32.5,
                  "ValueUnit": "%"
                 },
                 {
                  "Element": "Clay",
                  "Value": 30,
                  "ValueUnit": "%"
                 },
                 {
                  "Element": "pH",
                  "Value": 5.3,
                  "ValueUnit": "none"
                 },
                 {
                  "Element": "Ca",
                  "Value": 13,
                  "ValueUnit": "cmol(+)/kg"
                 },
                 {
                  "Element": "Mg",
                  "Value": 8.2,
                  "ValueUnit": "cmol(+)/kg"
                 },
                 {
                  "Element": "K",
                  "Value": 0.54,
                  "ValueUnit": "cmol(+)/kg"
                 },
                 {
                  "Element": "Na",
                  "Value": 0.35,
                  "ValueUnit": "cmol(+)/kg"
                 },
                 {
                  "Element": "TOC",
                  "Value": 2.3,
                  "ValueUnit": "%"
                 }
                ]
               }
              ],
              "SampleMetaData": {
               "Geometry": {
                "wkt": "POINT(-122.3440247 37.2686546)"
               },
               "ReportID": "TOKA-170",
               "SampleNumber": "25"
              }
             }
            ]
           }
          },
          "LabMetaData": {
           "Reports": [
            {
             "FileDescription": "2015_RMN 10-40cm_2",
             "ReportID": "1"
            }
           ]
          }
         }
        ]
       },
       {
        "Events": [
         {
          "EventMetaData": {
           "EventDate": "2018-01-21",
           "EventType": {
            "Soil": true
           }
          },
          "EventSamples": {
           "Soil": {
            "DepthRefs": [
             {
              "ColumnDepth": 10,
              "DepthID": 1,
              "DepthUnit": "cm",
              "EndingDepth": 10,
              "Name": "0 to 10",
              "StartingDepth": 0
             }
            ],
            "SoilSamples": [
             {
              "Depths": [
               {
                "DepthID": "1",
                "NutrientResults": [
                 {
                  "Element": "TOC",
                  "Value": 4.1,
                  "ValueUnit": "%"
                 }
                ]
               }
              ],
              "SampleMetaData": {
               "Geometry": {
                "wkt": "POINT(-122.3619935 37.2777667)"
               },
               "ReportID": "TOKA-035",
               "SampleNumber": "0"
              }
             }
            ]
           }
          },
          "LabMetaData": {
           "Reports": [
            {
             "FileDescription": "2018_RMN 0-10cm_7",
             "ReportID": "1"
            }
           ]
          }
         }
        ]
       },
       {
        "Events": [
         {
          "EventMetaData": {
           "EventDate": "2018-01-16",
           "EventType": {
            "Soil": true
           }
          },
          "EventSamples": {
           "Soil": {
            "DepthRefs": [
             {
              "ColumnDepth": 10,
              "DepthID": 1,
              "DepthUnit": "cm",
              "EndingDepth": 10,
              "Name": "0 to 10",
              "StartingDepth": 0
             }
            ],
            "SoilSamples": [
             {
              "Depths": [
               {
                "DepthID": "1",
                "NutrientResults": [
                 {
                  "Element": "Bulk Density",
                  "Value": 0.841063610213083,
                  "ValueUnit": "g/cm3"
                 },
                 {
                  "Element": "P",
                  "Value": 16.1,
                  "ValueUnit": "ug/g"
                 },
                 {
                  "Element": "pH",
                  "Value": 5.2,
                  "ValueUnit": "none"
                 },
                 {
                  "Element": "CEC",
                  "Value": 26.2,
                  "ValueUnit": "cmol(+)/kg"
                 },
                 {
                  "Element": "Ca",
                  "Value": 8.445,
                  "ValueUnit": "cmol(+)/kg"
                 },
                 {
                  "Element": "Mg",
                  "Value": 4.308333333333334,
                  "ValueUnit": "cmol(+)/kg"
                 },
                 {
                  "Element": "K",
                  "Value": 1.2179487179487178,
                  "ValueUnit": "cmol(+)/kg"
                 },
                 {
                  "Element": "Na",
                  "Value": 0.1565217391304348,
                  "ValueUnit": "cmol(+)/kg"
                 },
                 {
                  "Element": "TOC",
                  "Value": 7.8,
                  "ValueUnit": "%"
                 },
                 {
                  "Element": "TN",
                  "Value": 0.62815,
                  "ValueUnit": "%"
                 }
                ]
               }
              ],
              "SampleMetaData": {
               "Geometry": {
                "wkt": "POINT(-122.3530163 37.2723097)"
               },
               "ReportID": "TOKA-064",
               "SampleNumber": "0"
              }
             },
             {
              "Depths": [
               {
                "DepthID": "1",
                "NutrientResults": [
                 {
                  "Element": "Bulk Density",
                  "Value": 0.877434084911022,
                  "ValueUnit": "g/cm3"
                 },
                 {
                  "Element": "TOC",
                  "Value": 6.2,
                  "ValueUnit": "%"
                 },
                 {
                  "Element": "TN",
                  "Value": 0.47561,
                  "ValueUnit": "%"
                 }
                ]
               }
              ],
              "SampleMetaData": {
               "Geometry": {
                "wkt": "POINT(-122.3485204 37.2704822)"
               },
               "ReportID": "TOKA-161",
               "SampleNumber": "1"
              }
             }
            ]
           }
          },
          "LabMetaData": {
           "Reports": [
            {
             "FileDescription": "2018_RMN 0-10cm_11",
             "ReportID": "1"
            }
           ]
          }
         }
        ]
       },
       {
        "Events": [
         {
          "EventMetaData": {
           "EventDate": "2018-01-29",
           "EventType": {
            "Soil": true
           }
          },
          "EventSamples": {
           "Soil": {
            "DepthRefs": [
             {
              "ColumnDepth": 30,
              "DepthID": 1,
              "DepthUnit": "cm",
              "EndingDepth": 40,
              "Name": "10 to 40",
              "StartingDepth": 10
             }
            ],
            "SoilSamples": [
             {
              "Depths": [
               {
                "DepthID": "1",
                "NutrientResults": [
                 {
                  "Element": "P",
                  "Value": 6,
                  "ValueUnit": "ug/g"
                 },
                 {
                  "Value": 22.5,
                  "ValueUnit": "%"
                 },
                 {
                  "Element": "Silt",
                  "Value": 45,
                  "ValueUnit": "%"
                 },
                 {
                  "Element": "Clay",
                  "Value": 32.5,
                  "ValueUnit": "%"
                 },
                 {
                  "Element": "pH",
                  "Value": 6.2,
                  "ValueUnit": "none"
                 },
                 {
                  "Element": "CEC",
                  "Value": 19.6,
                  "ValueUnit": "cmol(+)/kg"
                 },
                 {
                  "Element": "Ca",
                  "Value": 8.48,
                  "ValueUnit": "cmol(+)/kg"
                 },
                 {
                  "Element": "Mg",
                  "Value": 5.05,
                  "ValueUnit": "cmol(+)/kg"
                 },
                 {
                  "Element": "K",
                  "Value": 0.4461538461538462,
                  "ValueUnit": "cmol(+)/kg"
                 },
                 {
                  "Element": "Na",
                  "Value": 0.26521739130434785,
                  "ValueUnit": "cmol(+)/kg"
                 },
                 {
                  "Element": "TOC",
                  "Value": 2.2,
                  "ValueUnit": "%"
                 },
                 {
                  "Element": "TN",
                  "Value": 0.25733,
                  "ValueUnit": "%"
                 }
                ]
               }
              ],
              "SampleMetaData": {
               "Geometry": {
                "wkt": "POINT(-122.3599055 37.2579249)"
               },
               "ReportID": "TOKA-041",
               "SampleNumber": "0"
              }
             },
             {
              "Depths": [
               {
                "DepthID": "1",
                "NutrientResults": [
                 {
                  "Element": "P",
                  "Value": 4.4,
                  "ValueUnit": "ug/g"
                 },
                 {
                  "Value": 25,
                  "ValueUnit": "%"
                 },
                 {
                  "Element": "Silt",
                  "Value": 40,
                  "ValueUnit": "%"
                 },
                 {
                  "Element": "Clay",
                  "Value": 35,
                  "ValueUnit": "%"
                 },
                 {
                  "Element": "pH",
                  "Value": 5.6,
                  "ValueUnit": "none"
                 },
                 {
                  "Element": "CEC",
                  "Value": 23,
                  "ValueUnit": "cmol(+)/kg"
                 },
                 {
                  "Element": "Ca",
                  "Value": 6.685,
                  "ValueUnit": "cmol(+)/kg"
                 },
                 {
                  "Element": "Mg",
                  "Value": 4.766666666666667,
                  "ValueUnit": "cmol(+)/kg"
                 },
                 {
                  "Element": "K",
                  "Value": 0.5897435897435898,
                  "ValueUnit": "cmol(+)/kg"
                 },
                 {
                  "Element": "Na",
                  "Value": 0.19130434782608696,
                  "ValueUnit": "cmol(+)/kg"
                 },
                 {
                  "Element": "TOC",
                  "Value": 2.5,
                  "ValueUnit": "%"
                 },
                 {
                  "Element": "TN",
                  "Value": 0.29407,
                  "ValueUnit": "%"
                 }
                ]
               }
              ],
              "SampleMetaData": {
               "Geometry": {
                "wkt": "POINT(-122.3554103 37.2560978)"
               },
               "ReportID": "TOKA-055",
               "SampleNumber": "1"
              }
             },
             {
              "Depths": [
               {
                "DepthID": "1",
                "NutrientResults": [
                 {
                  "Value": 60,
                  "ValueUnit": "%"
                 },
                 {
                  "Element": "Silt",
                  "Value": 19.4,
                  "ValueUnit": "%"
                 },
                 {
                  "Element": "Clay",
                  "Value": 20.6,
                  "ValueUnit": "%"
                 },
                 {
                  "Element": "TOC",
                  "Value": 1.7,
                  "ValueUnit": "%"
                 },
                 {
                  "Element": "TN",
                  "Value": 0.21598,
                  "ValueUnit": "%"
                 }
                ]
               }
              ],
              "SampleMetaData": {
               "Geometry": {
                "wkt": "POINT(-122.3508689 37.2596785)"
               },
               "ReportID": "TOKA-154",
               "SampleNumber": "2"
              }
             }
            ]
           }
          },
          "LabMetaData": {
           "Reports": [
            {
             "FileDescription": "2018_RMN 10-40cm_8",
             "ReportID": "1"
            }
           ]
          }
         }
        ]
       },
       {
        "Events": [
         {
          "EventMetaData": {
           "EventDate": "2018-01-28",
           "EventType": {
            "Soil": true
           }
          },
          "EventSamples": {
           "Soil": {
            "DepthRefs": [
             {
              "ColumnDepth": 30,
              "DepthID": 1,
              "DepthUnit": "cm",
              "EndingDepth": 40,
              "Name": "10 to 40",
              "StartingDepth": 10
             }
            ],
            "SoilSamples": [
             {
              "Depths": [
               {
                "DepthID": "1",
                "NutrientResults": [
                 {
                  "Element": "P",
                  "Value": 3,
                  "ValueUnit": "ug/g"
                 },
                 {
                  "Value": 30,
                  "ValueUnit": "%"
                 },
                 {
                  "Element": "Silt",
                  "Value": 32.5,
                  "ValueUnit": "%"
                 },
                 {
                  "Element": "Clay",
                  "Value": 37.5,
                  "ValueUnit": "%"
                 },
                 {
                  "Element": "pH",
                  "Value": 6.2,
                  "ValueUnit": "none"
                 },
                 {
                  "Element": "CEC",
                  "Value": 25.7,
                  "ValueUnit": "cmol(+)/kg"
                 },
                 {
                  "Element": "Ca",
                  "Value": 10.445,
                  "ValueUnit": "cmol(+)/kg"
                 },
                 {
                  "Element": "Mg",
                  "Value": 8.208333333333334,
                  "ValueUnit": "cmol(+)/kg"
                 },
                 {
                  "Element": "K",
                  "Value": 0.6256410256410256,
                  "ValueUnit": "cmol(+)/kg"
                 },
                 {
                  "Element": "Na",
                  "Value": 0.3217391304347826,
                  "ValueUnit": "cmol(+)/kg"
                 },
                 {
                  "Element": "TOC",
                  "Value": 2.1,
                  "ValueUnit": "%"
                 }
                ]
               }
              ],
              "SampleMetaData": {
               "Geometry": {
                "wkt": "POINT(-122.3552259 37.2777300)"
               },
               "ReportID": "TOKA-061",
               "SampleNumber": "0"
              }
             },
             {
              "Depths": [
               {
                "DepthID": "1",
                "NutrientResults": [
                 {
                  "Element": "P",
                  "Value": 5,
                  "ValueUnit": "ug/g"
                 },
                 {
                  "Value": 31.2,
                  "ValueUnit": "%"
                 },
                 {
                  "Element": "Silt",
                  "Value": 36.2,
                  "ValueUnit": "%"
                 },
                 {
                  "Element": "Clay",
                  "Value": 32.5,
                  "ValueUnit": "%"
                 },
                 {
                  "Element": "pH",
                  "Value": 6.1,
                  "ValueUnit": "none"
                 },
                 {
                  "Element": "CEC",
                  "Value": 20.1,
                  "ValueUnit": "cmol(+)/kg"
                 },
                 {
                  "Element": "Ca",
                  "Value": 8.985,
                  "ValueUnit": "cmol(+)/kg"
                 },
                 {
                  "Element": "Mg",
                  "Value": 4.975,
                  "ValueUnit": "cmol(+)/kg"
                 },
                 {
                  "Element": "K",
                  "Value": 0.5820512820512821,
                  "ValueUnit": "cmol(+)/kg"
                 },
                 {
                  "Element": "Na",
                  "Value": 0.3,
                  "ValueUnit": "cmol(+)/kg"
                 },
                 {
                  "Element": "TOC",
                  "Value": 2.1,
                  "ValueUnit": "%"
                 },
                 {
                  "Element": "TN",
                  "Value": 0.21987,
                  "ValueUnit": "%"
                 }
                ]
               }
              ],
              "SampleMetaData": {
               "Geometry": {
                "wkt": "POINT(-122.3597682 37.2741491)"
               },
               "ReportID": "TOKA-135",
               "SampleNumber": "1"
              }
             },
             {
              "Depths": [
               {
                "DepthID": "1",
                "NutrientResults": [
                 {
                  "Element": "P",
                  "Value": 5.9,
                  "ValueUnit": "ug/g"
                 },
                 {
                  "Value": 40,
                  "ValueUnit": "%"
                 },
                 {
                  "Element": "Silt",
                  "Value": 30,
                  "ValueUnit": "%"
                 },
                 {
                  "Element": "Clay",
                  "Value": 30,
                  "ValueUnit": "%"
                 },
                 {
                  "Element": "pH",
                  "Value": 6.1,
                  "ValueUnit": "none"
                 },
                 {
                  "Element": "CEC",
                  "Value": 30.6,
                  "ValueUnit": "cmol(+)/kg"
                 },
                 {
                  "Element": "Ca",
                  "Value": 13.51,
                  "ValueUnit": "cmol(+)/kg"
                 },
                 {
                  "Element": "Mg",
                  "Value": 8.008333333333333,
                  "ValueUnit": "cmol(+)/kg"
                 },
                 {
                  "Element": "K",
                  "Value": 0.3333333333333333,
                  "ValueUnit": "cmol(+)/kg"
                 },
                 {
                  "Element": "Na",
                  "Value": 0.3652173913043478,
                  "ValueUnit": "cmol(+)/kg"
                 },
                 {
                  "Element": "TOC",
                  "Value": 2.6,
                  "ValueUnit": "%"
                 },
                 {
                  "Element": "TN",
                  "Value": 0.23123,
                  "ValueUnit": "%"
                 }
                ]
               }
              ],
              "SampleMetaData": {
               "Geometry": {
                "wkt": "POINT(-122.3574971 37.2759396)"
               },
               "ReportID": "TOKA-137",
               "SampleNumber": "2"
              }
             }
            ]
           }
          },
          "LabMetaData": {
           "Reports": [
            {
             "FileDescription": "2018_RMN 10-40cm_10",
             "ReportID": "1"
            }
           ]
          }
         }
        ]
       },
       {
        "Events": [
         {
          "EventMetaData": {
           "EventDate": "2018-02-14",
           "EventType": {
            "Soil": true
           }
          },
          "EventSamples": {
           "Soil": {
            "DepthRefs": [
             {
              "ColumnDepth": 30,
              "DepthID": 1,
              "DepthUnit": "cm",
              "EndingDepth": 40,
              "Name": "10 to 40",
              "StartingDepth": 10
             }
            ],
            "SoilSamples": [
             {
              "Depths": [
               {
                "DepthID": "1",
                "NutrientResults": [
                 {
                  "Element": "P",
                  "Value": 4.8,
                  "ValueUnit": "ug/g"
                 },
                 {
                  "Value": 37.5,
                  "ValueUnit": "%"
                 },
                 {
                  "Element": "Silt",
                  "Value": 30,
                  "ValueUnit": "%"
                 },
                 {
                  "Element": "Clay",
                  "Value": 32.5,
                  "ValueUnit": "%"
                 },
                 {
                  "Element": "pH",
                  "Value": 5.9,
                  "ValueUnit": "none"
                 },
                 {
                  "Element": "CEC",
                  "Value": 26.9,
                  "ValueUnit": "cmol(+)/kg"
                 },
                 {
                  "Element": "Ca",
                  "Value": 7.42,
                  "ValueUnit": "cmol(+)/kg"
                 },
                 {
                  "Element": "Mg",
                  "Value": 8.85,
                  "ValueUnit": "cmol(+)/kg"
                 },
                 {
                  "Element": "K",
                  "Value": 0.6205128205128205,
                  "ValueUnit": "cmol(+)/kg"
                 },
                 {
                  "Element": "Na",
                  "Value": 0.3739130434782609,
                  "ValueUnit": "cmol(+)/kg"
                 },
                 {
                  "Element": "TOC",
                  "Value": 1.7,
                  "ValueUnit": "%"
                 }
                ]
               }
              ],
              "SampleMetaData": {
               "Geometry": {
                "wkt": "POINT(-122.3688365 37.2687895)"
               },
               "ReportID": "TOKA-115",
               "SampleNumber": "0"
              }
             }
            ]
           }
          },
          "LabMetaData": {
           "Reports": [
            {
             "FileDescription": "2018_RMN 10-40cm_15",
             "ReportID": "1"
            }
           ]
          }
         }
        ]
       },
       {
        "Events": [
         {
          "EventMetaData": {
           "EventDate": "2018-01-15",
           "EventType": {
            "Soil": true
           }
          },
          "EventSamples": {
           "Soil": {
            "DepthRefs": [
             {
              "ColumnDepth": 30,
              "DepthID": 1,
              "DepthUnit": "cm",
              "EndingDepth": 40,
              "Name": "10 to 40",
              "StartingDepth": 10
             }
            ],
            "SoilSamples": [
             {
              "Depths": [
               {
                "DepthID": "1",
                "NutrientResults": [
                 {
                  "Value": 25,
                  "ValueUnit": "%"
                 },
                 {
                  "Element": "Silt",
                  "Value": 38.8,
                  "ValueUnit": "%"
                 },
                 {
                  "Element": "Clay",
                  "Value": 36.2,
                  "ValueUnit": "%"
                 },
                 {
                  "Element": "TOC",
                  "Value": 3.4,
                  "ValueUnit": "%"
                 },
                 {
                  "Element": "TN",
                  "Value": 0.36395,
                  "ValueUnit": "%"
                 }
                ]
               }
              ],
              "SampleMetaData": {
               "Geometry": {
                "wkt": "POINT(-122.3508225 37.2650866)"
               },
               "ReportID": "TOKA-071",
               "SampleNumber": "0"
              }
             },
             {
              "Depths": [
               {
                "DepthID": "1",
                "NutrientResults": [
                 {
                  "Value": 28.8,
                  "ValueUnit": "%"
                 },
                 {
                  "Element": "Silt",
                  "Value": 37.5,
                  "ValueUnit": "%"
                 },
                 {
                  "Element": "Clay",
                  "Value": 33.8,
                  "ValueUnit": "%"
                 },
                 {
                  "Element": "TOC",
                  "Value": 2.8,
                  "ValueUnit": "%"
                 },
                 {
                  "Element": "TN",
                  "Value": 0.29683,
                  "ValueUnit": "%"
                 }
                ]
               }
              ],
              "SampleMetaData": {
               "Geometry": {
                "wkt": "POINT(-122.3508070 37.2668893)"
               },
               "ReportID": "TOKA-072",
               "SampleNumber": "1"
              }
             },
             {
              "Depths": [
               {
                "DepthID": "1",
                "NutrientResults": [
                 {
                  "Value": 28.8,
                  "ValueUnit": "%"
                 },
                 {
                  "Element": "Silt",
                  "Value": 37.5,
                  "ValueUnit": "%"
                 },
                 {
                  "Element": "Clay",
                  "Value": 33.8,
                  "ValueUnit": "%"
                 },
                 {
                  "Element": "TOC",
                  "Value": 2,
                  "ValueUnit": "%"
                 },
                 {
                  "Element": "TN",
                  "Value": 0.26606,
                  "ValueUnit": "%"
                 }
                ]
               }
              ],
              "SampleMetaData": {
               "Geometry": {
                "wkt": "POINT(-122.3439934 37.2722600)"
               },
               "ReportID": "TOKA-091",
               "SampleNumber": "2"
              }
             }
            ]
           }
          },
          "LabMetaData": {
           "Reports": [
            {
             "FileDescription": "2018_RMN 10-40cm_12",
             "ReportID": "1"
            }
           ]
          }
         }
        ]
       },
       {
        "Events": [
         {
          "EventMetaData": {
           "EventDate": "2016-08-09",
           "EventType": {
            "Soil": true
           }
          },
          "EventSamples": {
           "Soil": {
            "DepthRefs": [
             {
              "ColumnDepth": 30,
              "DepthID": 1,
              "DepthUnit": "cm",
              "EndingDepth": 40,
              "Name": "10 to 40",
              "StartingDepth": 10
             }
            ],
            "SoilSamples": [
             {
              "Depths": [
               {
                "DepthID": "1",
                "NutrientResults": [
                 {
                  "Element": "OM",
                  "Value": 6.5,
                  "ValueUnit": "%"
                 },
                 {
                  "Element": "TN (W)",
                  "Value": 28,
                  "ValueUnit": "ppm"
                 },
                 {
                  "Element": "NO3-N",
                  "Value": 2.1,
                  "ValueUnit": "ppm"
                 },
                 {
                  "Element": "K",
                  "Value": 109,
                  "ValueUnit": "ppm"
                 },
                 {
                  "Element": "Ca",
                  "Value": 418,
                  "ValueUnit": "ppm"
                 },
                 {
                  "Element": "Fe",
                  "Value": 546.1,
                  "ValueUnit": "ppm"
                 }
                ]
               }
              ],
              "SampleMetaData": {
               "ReportID": "FRONT FIELD",
               "SampleNumber": "0"
              }
             },
             {
              "Depths": [
               {
                "DepthID": "1",
                "NutrientResults": [
                 {
                  "Element": "OM",
                  "Value": 5.5,
                  "ValueUnit": "%"
                 },
                 {
                  "Element": "TN (W)",
                  "Value": 23.7,
                  "ValueUnit": "ppm"
                 },
                 {
                  "Element": "NO3-N",
                  "Value": 0.8,
                  "ValueUnit": "ppm"
                 },
                 {
                  "Element": "K",
                  "Value": 79,
                  "ValueUnit": "ppm"
                 },
                 {
                  "Element": "Ca",
                  "Value": 163,
                  "ValueUnit": "ppm"
                 },
                 {
                  "Element": "Fe",
                  "Value": 401.6,
                  "ValueUnit": "ppm"
                 }
                ]
               }
              ],
              "SampleMetaData": {
               "Geometry": {
                "wkt": "POINT(-122.3665960 37.2669748)"
               },
               "ReportID": "TOKA-022",
               "SampleNumber": "1"
              }
             },
             {
              "Depths": [
               {
                "DepthID": "1",
                "NutrientResults": [
                 {
                  "Element": "OM",
                  "Value": 3.2,
                  "ValueUnit": "%"
                 },
                 {
                  "Element": "TN (W)",
                  "Value": 12.4,
                  "ValueUnit": "ppm"
                 },
                 {
                  "Element": "NO3-N",
                  "Value": 0.5,
                  "ValueUnit": "ppm"
                 },
                 {
                  "Element": "K",
                  "Value": 37,
                  "ValueUnit": "ppm"
                 },
                 {
                  "Element": "Ca",
                  "Value": 105,
                  "ValueUnit": "ppm"
                 },
                 {
                  "Element": "Fe",
                  "Value": 254.2,
                  "ValueUnit": "ppm"
                 }
                ]
               }
              ],
              "SampleMetaData": {
               "Geometry": {
                "wkt": "POINT(-122.3801294 37.2670464)"
               },
               "ReportID": "TOKA-104",
               "SampleNumber": "2"
              }
             },
             {
              "Depths": [
               {
                "DepthID": "1",
                "NutrientResults": [
                 {
                  "Element": "OM",
                  "Value": 2.6,
                  "ValueUnit": "%"
                 },
                 {
                  "Element": "TN (W)",
                  "Value": 15.3,
                  "ValueUnit": "ppm"
                 },
                 {
                  "Element": "NO3-N",
                  "Value": 0.3,
                  "ValueUnit": "ppm"
                 },
                 {
                  "Element": "K",
                  "Value": 81,
                  "ValueUnit": "ppm"
                 },
                 {
                  "Element": "Ca",
                  "Value": 89,
                  "ValueUnit": "ppm"
                 },
                 {
                  "Element": "Fe",
                  "Value": 501,
                  "ValueUnit": "ppm"
                 }
                ]
               }
              ],
              "SampleMetaData": {
               "Geometry": {
                "wkt": "POINT(-122.3801146 37.2688491)"
               },
               "ReportID": "TOKA-007",
               "SampleNumber": "3"
              }
             },
             {
              "Depths": [
               {
                "DepthID": "1",
                "NutrientResults": [
                 {
                  "Element": "OM",
                  "Value": 4.9,
                  "ValueUnit": "%"
                 },
                 {
                  "Element": "TN (W)",
                  "Value": 19.3,
                  "ValueUnit": "ppm"
                 },
                 {
                  "Element": "NO3-N",
                  "Value": 1,
                  "ValueUnit": "ppm"
                 },
                 {
                  "Element": "K",
                  "Value": 82,
                  "ValueUnit": "ppm"
                 },
                 {
                  "Element": "Ca",
                  "Value": 279,
                  "ValueUnit": "ppm"
                 },
                 {
                  "Element": "Fe",
                  "Value": 263.7,
                  "ValueUnit": "ppm"
                 }
                ]
               }
              ],
              "SampleMetaData": {
               "Geometry": {
                "wkt": "POINT(-122.3552566 37.2741247)"
               },
               "ReportID": "TOKA-060",
               "SampleNumber": "4"
              }
             },
             {
              "Depths": [
               {
                "DepthID": "1",
                "NutrientResults": [
                 {
                  "Element": "OM",
                  "Value": 5.9,
                  "ValueUnit": "%"
                 },
                 {
                  "Element": "TN (W)",
                  "Value": 26.9,
                  "ValueUnit": "ppm"
                 },
                 {
                  "Element": "NO3-N",
                  "Value": 2.2,
                  "ValueUnit": "ppm"
                 },
                 {
                  "Element": "K",
                  "Value": 131,
                  "ValueUnit": "ppm"
                 },
                 {
                  "Element": "Ca",
                  "Value": 256,
                  "ValueUnit": "ppm"
                 },
                 {
                  "Element": "Fe",
                  "Value": 530.9,
                  "ValueUnit": "ppm"
                 }
                ]
               }
              ],
              "SampleMetaData": {
               "Geometry": {
                "wkt": "POINT(-122.3530163 37.2723097)"
               },
               "ReportID": "TOKA-064",
               "SampleNumber": "5"
              }
             },
             {
              "Depths": [
               {
                "DepthID": "1",
                "NutrientResults": [
                 {
                  "Element": "OM",
                  "Value": 4.7,
                  "ValueUnit": "%"
                 },
                 {
                  "Element": "TN (W)",
                  "Value": 18.3,
                  "ValueUnit": "ppm"
                 },
                 {
                  "Element": "NO3-N",
                  "Value": 1,
                  "ValueUnit": "ppm"
                 },
                 {
                  "Element": "K",
                  "Value": 61,
                  "ValueUnit": "ppm"
                 },
                 {
                  "Element": "Ca",
                  "Value": 283,
                  "ValueUnit": "ppm"
                 },
                 {
                  "Element": "Fe",
                  "Value": 419.7,
                  "ValueUnit": "ppm"
                 }
                ]
               }
              ],
              "SampleMetaData": {
               "Geometry": {
                "wkt": "POINT(-122.3531397 37.2578881)"
               },
               "ReportID": "TOKA-068",
               "SampleNumber": "6"
              }
             },
             {
              "Depths": [
               {
                "DepthID": "1",
                "NutrientResults": [
                 {
                  "Element": "OM",
                  "Value": 4.9,
                  "ValueUnit": "%"
                 },
                 {
                  "Element": "TN (W)",
                  "Value": 27.6,
                  "ValueUnit": "ppm"
                 },
                 {
                  "Element": "NO3-N",
                  "Value": 2.5,
                  "ValueUnit": "ppm"
                 },
                 {
                  "Element": "K",
                  "Value": 129,
                  "ValueUnit": "ppm"
                 },
                 {
                  "Element": "Ca",
                  "Value": 317,
                  "ValueUnit": "ppm"
                 },
                 {
                  "Element": "Fe",
                  "Value": 443.9,
                  "ValueUnit": "ppm"
                 }
                ]
               }
              ],
              "SampleMetaData": {
               "ReportID": "PRB0",
               "SampleNumber": "7"
              }
             }
            ]
           }
          },
          "LabMetaData": {
           "Reports": [
            {
             "FileDescription": "2016_Intern Project 10-40cm_1",
             "ReportID": "1"
            }
           ]
          }
         }
        ]
       },
       {
        "Events": [
         {
          "EventMetaData": {
           "EventDate": "2018-02-04",
           "EventType": {
            "Soil": true
           }
          },
          "EventSamples": {
           "Soil": {
            "DepthRefs": [
             {
              "ColumnDepth": 10,
              "DepthID": 1,
              "DepthUnit": "cm",
              "EndingDepth": 10,
              "Name": "0 to 10",
              "StartingDepth": 0
             }
            ],
            "SoilSamples": [
             {
              "Depths": [
               {
                "DepthID": "1",
                "NutrientResults": [
                 {
                  "Element": "Bulk Density",
                  "Value": 1.04923490083137,
                  "ValueUnit": "g/cm3"
                 },
                 {
                  "Element": "P",
                  "Value": 42.7,
                  "ValueUnit": "ug/g"
                 },
                 {
                  "Element": "pH",
                  "Value": 6.6,
                  "ValueUnit": "none"
                 },
                 {
                  "Element": "CEC",
                  "Value": 28,
                  "ValueUnit": "cmol(+)/kg"
                 },
                 {
                  "Element": "Ca",
                  "Value": 14.24,
                  "ValueUnit": "cmol(+)/kg"
                 },
                 {
                  "Element": "Mg",
                  "Value": 12.208333333333334,
                  "ValueUnit": "cmol(+)/kg"
                 },
                 {
                  "Element": "K",
                  "Value": 1.158974358974359,
                  "ValueUnit": "cmol(+)/kg"
                 },
                 {
                  "Element": "Na",
                  "Value": 0.3782608695652174,
                  "ValueUnit": "cmol(+)/kg"
                 },
                 {
                  "Element": "TOC",
                  "Value": 3.6,
                  "ValueUnit": "%"
                 },
                 {
                  "Element": "TN",
                  "Value": 0.34716,
                  "ValueUnit": "%"
                 }
                ]
               }
              ],
              "SampleMetaData": {
               "Geometry": {
                "wkt": "POINT(-122.3665960 37.2669748)"
               },
               "ReportID": "TOKA-022",
               "SampleNumber": "0"
              }
             },
             {
              "Depths": [
               {
                "DepthID": "1",
                "NutrientResults": [
                 {
                  "Element": "Bulk Density",
                  "Value": 1.15670133086231,
                  "ValueUnit": "g/cm3"
                 },
                 {
                  "Element": "P",
                  "Value": 14.8,
                  "ValueUnit": "ug/g"
                 },
                 {
                  "Element": "pH",
                  "Value": 5.9,
                  "ValueUnit": "none"
                 },
                 {
                  "Element": "CEC",
                  "Value": 23.2,
                  "ValueUnit": "cmol(+)/kg"
                 },
                 {
                  "Element": "Ca",
                  "Value": 7.075,
                  "ValueUnit": "cmol(+)/kg"
                 },
                 {
                  "Element": "Mg",
                  "Value": 5.916666666666667,
                  "ValueUnit": "cmol(+)/kg"
                 },
                 {
                  "Element": "K",
                  "Value": 0.8794871794871795,
                  "ValueUnit": "cmol(+)/kg"
                 },
                 {
                  "Element": "Na",
                  "Value": 0.24782608695652175,
                  "ValueUnit": "cmol(+)/kg"
                 },
                 {
                  "Element": "TOC",
                  "Value": 4.1,
                  "ValueUnit": "%"
                 },
                 {
                  "Element": "TN",
                  "Value": 0.34823,
                  "ValueUnit": "%"
                 }
                ]
               }
              ],
              "SampleMetaData": {
               "Geometry": {
                "wkt": "POINT(-122.3643404 37.2669627)"
               },
               "ReportID": "TOKA-030",
               "SampleNumber": "1"
              }
             },
             {
              "Depths": [
               {
                "DepthID": "1",
                "NutrientResults": [
                 {
                  "Element": "Bulk Density",
                  "Value": 1.2078724088104,
                  "ValueUnit": "g/cm3"
                 },
                 {
                  "Element": "P",
                  "Value": 10.7,
                  "ValueUnit": "ug/g"
                 },
                 {
                  "Element": "pH",
                  "Value": 6,
                  "ValueUnit": "none"
                 },
                 {
                  "Element": "CEC",
                  "Value": 27.7,
                  "ValueUnit": "cmol(+)/kg"
                 },
                 {
                  "Element": "Ca",
                  "Value": 9.24,
                  "ValueUnit": "cmol(+)/kg"
                 },
                 {
                  "Element": "Mg",
                  "Value": 9.133333333333333,
                  "ValueUnit": "cmol(+)/kg"
                 },
                 {
                  "Element": "K",
                  "Value": 0.8282051282051283,
                  "ValueUnit": "cmol(+)/kg"
                 },
                 {
                  "Element": "Na",
                  "Value": 0.27391304347826084,
                  "ValueUnit": "cmol(+)/kg"
                 },
                 {
                  "Element": "TOC",
                  "Value": 2.8,
                  "ValueUnit": "%"
                 },
                 {
                  "Element": "TN",
                  "Value": 0.26066,
                  "ValueUnit": "%"
                 }
                ]
               }
              ],
              "SampleMetaData": {
               "Geometry": {
                "wkt": "POINT(-122.3642949 37.2723708)"
               },
               "ReportID": "TOKA-119",
               "SampleNumber": "2"
              }
             }
            ]
           }
          },
          "LabMetaData": {
           "Reports": [
            {
             "FileDescription": "2018_RMN 0-10cm_5",
             "ReportID": "1"
            }
           ]
          }
         }
        ]
       },
       {
        "Events": [
         {
          "EventMetaData": {
           "EventDate": "2018-02-08",
           "EventType": {
            "Soil": true
           }
          },
          "EventSamples": {
           "Soil": {
            "DepthRefs": [
             {
              "ColumnDepth": 30,
              "DepthID": 1,
              "DepthUnit": "cm",
              "EndingDepth": 40,
              "Name": "10 to 40",
              "StartingDepth": 10
             }
            ],
            "SoilSamples": [
             {
              "Depths": [
               {
                "DepthID": "1",
                "NutrientResults": [
                 {
                  "Element": "P",
                  "Value": 27.4,
                  "ValueUnit": "ug/g"
                 },
                 {
                  "Value": 21.2,
                  "ValueUnit": "%"
                 },
                 {
                  "Element": "Silt",
                  "Value": 36.2,
                  "ValueUnit": "%"
                 },
                 {
                  "Element": "Clay",
                  "Value": 42.5,
                  "ValueUnit": "%"
                 },
                 {
                  "Element": "pH",
                  "Value": 6.3,
                  "ValueUnit": "none"
                 },
                 {
                  "Element": "CEC",
                  "Value": 37.8,
                  "ValueUnit": "cmol(+)/kg"
                 },
                 {
                  "Element": "Ca",
                  "Value": 18.84,
                  "ValueUnit": "cmol(+)/kg"
                 },
                 {
                  "Element": "Mg",
                  "Value": 12.483333333333333,
                  "ValueUnit": "cmol(+)/kg"
                 },
                 {
                  "Element": "K",
                  "Value": 0.882051282051282,
                  "ValueUnit": "cmol(+)/kg"
                 },
                 {
                  "Element": "Na",
                  "Value": 0.6304347826086957,
                  "ValueUnit": "cmol(+)/kg"
                 },
                 {
                  "Element": "TOC",
                  "Value": 2.9,
                  "ValueUnit": "%"
                 }
                ]
               }
              ],
              "SampleMetaData": {
               "Geometry": {
                "wkt": "POINT(-122.3644313 37.2561465)"
               },
               "ReportID": "TOKA-034",
               "SampleNumber": "0"
              }
             },
             {
              "Depths": [
               {
                "DepthID": "1",
                "NutrientResults": [
                 {
                  "Element": "P",
                  "Value": 2.9,
                  "ValueUnit": "ug/g"
                 },
                 {
                  "Value": 22.5,
                  "ValueUnit": "%"
                 },
                 {
                  "Element": "Silt",
                  "Value": 38.8,
                  "ValueUnit": "%"
                 },
                 {
                  "Element": "Clay",
                  "Value": 38.8,
                  "ValueUnit": "%"
                 },
                 {
                  "Element": "pH",
                  "Value": 6.2,
                  "ValueUnit": "none"
                 },
                 {
                  "Element": "CEC",
                  "Value": 33.6,
                  "ValueUnit": "cmol(+)/kg"
                 },
                 {
                  "Element": "Ca",
                  "Value": 15.235,
                  "ValueUnit": "cmol(+)/kg"
                 },
                 {
                  "Element": "Mg",
                  "Value": 10.441666666666666,
                  "ValueUnit": "cmol(+)/kg"
                 },
                 {
                  "Element": "K",
                  "Value": 0.6384615384615384,
                  "ValueUnit": "cmol(+)/kg"
                 },
                 {
                  "Element": "Na",
                  "Value": 0.41304347826086957,
                  "ValueUnit": "cmol(+)/kg"
                 },
                 {
                  "Element": "TOC",
                  "Value": 2.4,
                  "ValueUnit": "%"
                 }
                ]
               }
              ],
              "SampleMetaData": {
               "Geometry": {
                "wkt": "POINT(-122.3621152 37.2633452)"
               },
               "ReportID": "TOKA-126",
               "SampleNumber": "1"
              }
             },
             {
              "Depths": [
               {
                "DepthID": "1",
                "NutrientResults": [
                 {
                  "Element": "P",
                  "Value": 2.5,
                  "ValueUnit": "ug/g"
                 },
                 {
                  "Value": 22.5,
                  "ValueUnit": "%"
                 },
                 {
                  "Element": "Silt",
                  "Value": 41.2,
                  "ValueUnit": "%"
                 },
                 {
                  "Element": "Clay",
                  "Value": 36.2,
                  "ValueUnit": "%"
                 },
                 {
                  "Element": "pH",
                  "Value": 6.2,
                  "ValueUnit": "none"
                 },
                 {
                  "Element": "CEC",
                  "Value": 22,
                  "ValueUnit": "cmol(+)/kg"
                 },
                 {
                  "Element": "Ca",
                  "Value": 8.53,
                  "ValueUnit": "cmol(+)/kg"
                 },
                 {
                  "Element": "Mg",
                  "Value": 4.908333333333333,
                  "ValueUnit": "cmol(+)/kg"
                 },
                 {
                  "Element": "K",
                  "Value": 0.39487179487179486,
                  "ValueUnit": "cmol(+)/kg"
                 },
                 {
                  "Element": "Na",
                  "Value": 0.30434782608695654,
                  "ValueUnit": "cmol(+)/kg"
                 },
                 {
                  "Element": "TOC",
                  "Value": 2.3,
                  "ValueUnit": "%"
                 }
                ]
               }
              ],
              "SampleMetaData": {
               "Geometry": {
                "wkt": "POINT(-122.3621760 37.2561344)"
               },
               "ReportID": "TOKA-129",
               "SampleNumber": "2"
              }
             }
            ]
           }
          },
          "LabMetaData": {
           "Reports": [
            {
             "FileDescription": "2018_RMN 10-40cm_6",
             "ReportID": "1"
            }
           ]
          }
         }
        ]
       },
       {
        "Events": [
         {
          "EventMetaData": {
           "EventDate": "2018-02-11",
           "EventType": {
            "Soil": true
           }
          },
          "EventSamples": {
           "Soil": {
            "DepthRefs": [
             {
              "ColumnDepth": 30,
              "DepthID": 1,
              "DepthUnit": "cm",
              "EndingDepth": 40,
              "Name": "10 to 40",
              "StartingDepth": 10
             }
            ],
            "SoilSamples": [
             {
              "Depths": [
               {
                "DepthID": "1",
                "NutrientResults": [
                 {
                  "Element": "P",
                  "Value": 4.2,
                  "ValueUnit": "ug/g"
                 },
                 {
                  "Value": 50,
                  "ValueUnit": "%"
                 },
                 {
                  "Element": "Silt",
                  "Value": 26.2,
                  "ValueUnit": "%"
                 },
                 {
                  "Element": "Clay",
                  "Value": 23.8,
                  "ValueUnit": "%"
                 },
                 {
                  "Element": "pH",
                  "Value": 6,
                  "ValueUnit": "none"
                 },
                 {
                  "Element": "CEC",
                  "Value": 22.8,
                  "ValueUnit": "cmol(+)/kg"
                 },
                 {
                  "Element": "Ca",
                  "Value": 5.53,
                  "ValueUnit": "cmol(+)/kg"
                 },
                 {
                  "Element": "Mg",
                  "Value": 7.65,
                  "ValueUnit": "cmol(+)/kg"
                 },
                 {
                  "Element": "K",
                  "Value": 0.382051282051282,
                  "ValueUnit": "cmol(+)/kg"
                 },
                 {
                  "Element": "Na",
                  "Value": 0.30869565217391304,
                  "ValueUnit": "cmol(+)/kg"
                 },
                 {
                  "Element": "TOC",
                  "Value": 1.6,
                  "ValueUnit": "%"
                 }
                ]
               }
              ],
              "SampleMetaData": {
               "Geometry": {
                "wkt": "POINT(-122.3733627 37.2670108)"
               },
               "ReportID": "TOKA-111",
               "SampleNumber": "0"
              }
             }
            ]
           }
          },
          "LabMetaData": {
           "Reports": [
            {
             "FileDescription": "2018_RMN 10-40cm_14",
             "ReportID": "1"
            }
           ]
          }
         }
        ]
       },
       {
        "Events": [
         {
          "EventMetaData": {
           "EventDate": "2018-01-25",
           "EventType": {
            "Soil": true
           }
          },
          "EventSamples": {
           "Soil": {
            "DepthRefs": [
             {
              "ColumnDepth": 10,
              "DepthID": 1,
              "DepthUnit": "cm",
              "EndingDepth": 10,
              "Name": "0 to 10",
              "StartingDepth": 0
             }
            ],
            "SoilSamples": [
             {
              "Depths": [
               {
                "DepthID": "1",
                "NutrientResults": [
                 {
                  "Element": "Bulk Density",
                  "Value": 1.01422114430136,
                  "ValueUnit": "g/cm3"
                 },
                 {
                  "Element": "P",
                  "Value": 34.3,
                  "ValueUnit": "ug/g"
                 },
                 {
                  "Element": "pH",
                  "Value": 5.2,
                  "ValueUnit": "none"
                 },
                 {
                  "Element": "CEC",
                  "Value": 36,
                  "ValueUnit": "cmol(+)/kg"
                 },
                 {
                  "Element": "Ca",
                  "Value": 18.735,
                  "ValueUnit": "cmol(+)/kg"
                 },
                 {
                  "Element": "Mg",
                  "Value": 6.991666666666666,
                  "ValueUnit": "cmol(+)/kg"
                 },
                 {
                  "Element": "K",
                  "Value": 1.376923076923077,
                  "ValueUnit": "cmol(+)/kg"
                 },
                 {
                  "Element": "Na",
                  "Value": 0.09565217391304348,
                  "ValueUnit": "cmol(+)/kg"
                 },
                 {
                  "Element": "TOC",
                  "Value": 4.5,
                  "ValueUnit": "%"
                 },
                 {
                  "Element": "TN",
                  "Value": 0.38323,
                  "ValueUnit": "%"
                 }
                ]
               }
              ],
              "SampleMetaData": {
               "Geometry": {
                "wkt": "POINT(-122.3462180 37.2758779)"
               },
               "ReportID": "TOKA-089",
               "SampleNumber": "0"
              }
             },
             {
              "Depths": [
               {
                "DepthID": "1",
                "NutrientResults": [
                 {
                  "Element": "Bulk Density",
                  "Value": 1.03995318722384,
                  "ValueUnit": "g/cm3"
                 },
                 {
                  "Element": "P",
                  "Value": 11.4,
                  "ValueUnit": "ug/g"
                 },
                 {
                  "Element": "pH",
                  "Value": 6.1,
                  "ValueUnit": "none"
                 },
                 {
                  "Element": "CEC",
                  "Value": 25.1,
                  "ValueUnit": "cmol(+)/kg"
                 },
                 {
                  "Element": "Ca",
                  "Value": 9.495,
                  "ValueUnit": "cmol(+)/kg"
                 },
                 {
                  "Element": "Mg",
                  "Value": 6.558333333333334,
                  "ValueUnit": "cmol(+)/kg"
                 },
                 {
                  "Element": "K",
                  "Value": 0.8769230769230769,
                  "ValueUnit": "cmol(+)/kg"
                 },
                 {
                  "Element": "Na",
                  "Value": 0.12173913043478261,
                  "ValueUnit": "cmol(+)/kg"
                 },
                 {
                  "Element": "TOC",
                  "Value": 2.7,
                  "ValueUnit": "%"
                 },
                 {
                  "Element": "TN",
                  "Value": 0.28531,
                  "ValueUnit": "%"
                 }
                ]
               }
              ],
              "SampleMetaData": {
               "Geometry": {
                "wkt": "POINT(-122.3394662 37.2740376)"
               },
               "ReportID": "TOKA-099",
               "SampleNumber": "1"
              }
             },
             {
              "Depths": [
               {
                "DepthID": "1",
                "NutrientResults": [
                 {
                  "Element": "Bulk Density",
                  "Value": 0.998145026614649,
                  "ValueUnit": "g/cm3"
                 },
                 {
                  "Element": "P",
                  "Value": 9.5,
                  "ValueUnit": "ug/g"
                 },
                 {
                  "Element": "pH",
                  "Value": 5.7,
                  "ValueUnit": "none"
                 },
                 {
                  "Element": "CEC",
                  "Value": 25.9,
                  "ValueUnit": "cmol(+)/kg"
                 },
                 {
                  "Element": "Ca",
                  "Value": 6.745,
                  "ValueUnit": "cmol(+)/kg"
                 },
                 {
                  "Element": "Mg",
                  "Value": 7.241666666666666,
                  "ValueUnit": "cmol(+)/kg"
                 },
                 {
                  "Element": "K",
                  "Value": 0.7487179487179487,
                  "ValueUnit": "cmol(+)/kg"
                 },
                 {
                  "Element": "Na",
                  "Value": 0.2217391304347826,
                  "ValueUnit": "cmol(+)/kg"
                 },
                 {
                  "Element": "TOC",
                  "Value": 2.3,
                  "ValueUnit": "%"
                 },
                 {
                  "Element": "TN",
                  "Value": 0.277825,
                  "ValueUnit": "%"
                 }
                ]
               }
              ],
              "SampleMetaData": {
               "Geometry": {
                "wkt": "POINT(-122.3440091 37.2704573)"
               },
               "ReportID": "TOKA-169",
               "SampleNumber": "2"
              }
             },
             {
              "Depths": [
               {
                "DepthID": "1",
                "NutrientResults": [
                 {
                  "Element": "Bulk Density",
                  "Value": 1.13285968013659,
                  "ValueUnit": "g/cm3"
                 },
                 {
                  "Element": "P",
                  "Value": 8.2,
                  "ValueUnit": "ug/g"
                 },
                 {
                  "Element": "pH",
                  "Value": 6,
                  "ValueUnit": "none"
                 },
                 {
                  "Element": "CEC",
                  "Value": 25.8,
                  "ValueUnit": "cmol(+)/kg"
                 },
                 {
                  "Element": "Ca",
                  "Value": 10.45,
                  "ValueUnit": "cmol(+)/kg"
                 },
                 {
                  "Element": "Mg",
                  "Value": 6.333333333333333,
                  "ValueUnit": "cmol(+)/kg"
                 },
                 {
                  "Element": "K",
                  "Value": 0.7282051282051282,
                  "ValueUnit": "cmol(+)/kg"
                 },
                 {
                  "Element": "Na",
                  "Value": 0.1956521739130435,
                  "ValueUnit": "cmol(+)/kg"
                 },
                 {
                  "Element": "TOC",
                  "Value": 2.9,
                  "ValueUnit": "%"
                 },
                 {
                  "Element": "TN",
                  "Value": 0.29713,
                  "ValueUnit": "%"
                 }
                ]
               }
              ],
              "SampleMetaData": {
               "Geometry": {
                "wkt": "POINT(-122.3440247 37.2686546)"
               },
               "ReportID": "TOKA-170",
               "SampleNumber": "3"
              }
             }
            ]
           }
          },
          "LabMetaData": {
           "Reports": [
            {
             "FileDescription": "2018_RMN 0-10cm_13",
             "ReportID": "1"
            }
           ]
          }
         }
        ]
       },
       {
        "Events": [
         {
          "EventMetaData": {
           "EventDate": "2015-02-16",
           "EventType": {
            "Soil": true
           }
          },
          "EventSamples": {
           "Soil": {
            "DepthRefs": [
             {
              "ColumnDepth": 30,
              "DepthID": 1,
              "DepthUnit": "cm",
              "EndingDepth": 40,
              "Name": "10 to 40",
              "StartingDepth": 10
             }
            ],
            "SoilSamples": [
             {
              "Depths": [
               {
                "DepthID": "1",
                "NutrientResults": [
                 {
                  "Value": 55,
                  "ValueUnit": "%"
                 },
                 {
                  "Element": "Silt",
                  "Value": 23.8,
                  "ValueUnit": "%"
                 },
                 {
                  "Element": "Clay",
                  "Value": 21.5,
                  "ValueUnit": "%"
                 },
                 {
                  "Element": "pH",
                  "Value": 5.8,
                  "ValueUnit": "none"
                 },
                 {
                  "Element": "Ca",
                  "Value": 9,
                  "ValueUnit": "cmol(+)/kg"
                 },
                 {
                  "Element": "Mg",
                  "Value": 8.2,
                  "ValueUnit": "cmol(+)/kg"
                 },
                 {
                  "Element": "K",
                  "Value": 0.39,
                  "ValueUnit": "cmol(+)/kg"
                 },
                 {
                  "Element": "Na",
                  "Value": 0.25,
                  "ValueUnit": "cmol(+)/kg"
                 },
                 {
                  "Element": "TOC",
                  "Value": 1.6,
                  "ValueUnit": "%"
                 }
                ]
               }
              ],
              "SampleMetaData": {
               "Geometry": {
                "wkt": "POINT(-122.3846552 37.2652672)"
               },
               "ReportID": "TOKA-001",
               "SampleNumber": "0"
              }
             },
             {
              "Depths": [
               {
                "DepthID": "1",
                "NutrientResults": [
                 {
                  "Element": "P",
                  "Value": 4,
                  "ValueUnit": "ug/g"
                 },
                 {
                  "Value": 33.8,
                  "ValueUnit": "%"
                 },
                 {
                  "Element": "Silt",
                  "Value": 35,
                  "ValueUnit": "%"
                 },
                 {
                  "Element": "Clay",
                  "Value": 31.2,
                  "ValueUnit": "%"
                 },
                 {
                  "Element": "pH",
                  "Value": 5.7,
                  "ValueUnit": "none"
                 },
                 {
                  "Element": "Ca",
                  "Value": 18,
                  "ValueUnit": "cmol(+)/kg"
                 },
                 {
                  "Element": "Mg",
                  "Value": 11,
                  "ValueUnit": "cmol(+)/kg"
                 },
                 {
                  "Element": "K",
                  "Value": 0.6,
                  "ValueUnit": "cmol(+)/kg"
                 },
                 {
                  "Element": "Na",
                  "Value": 0.21,
                  "ValueUnit": "cmol(+)/kg"
                 },
                 {
                  "Element": "TOC",
                  "Value": 2,
                  "ValueUnit": "%"
                 }
                ]
               }
              ],
              "SampleMetaData": {
               "Geometry": {
                "wkt": "POINT(-122.3687763 37.2760003)"
               },
               "ReportID": "TOKA-020",
               "SampleNumber": "1"
              }
             },
             {
              "Depths": [
               {
                "DepthID": "1",
                "NutrientResults": [
                 {
                  "Element": "P",
                  "Value": 4.4,
                  "ValueUnit": "ug/g"
                 },
                 {
                  "Value": 48.8,
                  "ValueUnit": "%"
                 },
                 {
                  "Element": "Silt",
                  "Value": 25,
                  "ValueUnit": "%"
                 },
                 {
                  "Element": "Clay",
                  "Value": 26.2,
                  "ValueUnit": "%"
                 },
                 {
                  "Element": "pH",
                  "Value": 5.9,
                  "ValueUnit": "none"
                 },
                 {
                  "Element": "Ca",
                  "Value": 22,
                  "ValueUnit": "cmol(+)/kg"
                 },
                 {
                  "Element": "Mg",
                  "Value": 10,
                  "ValueUnit": "cmol(+)/kg"
                 },
                 {
                  "Element": "K",
                  "Value": 0.49,
                  "ValueUnit": "cmol(+)/kg"
                 },
                 {
                  "Element": "Na",
                  "Value": 0.31,
                  "ValueUnit": "cmol(+)/kg"
                 },
                 {
                  "Element": "TOC",
                  "Value": 1.8,
                  "ValueUnit": "%"
                 }
                ]
               }
              ],
              "SampleMetaData": {
               "Geometry": {
                "wkt": "POINT(-122.3619935 37.2777667)"
               },
               "ReportID": "TOKA-035",
               "SampleNumber": "2"
              }
             },
             {
              "Depths": [
               {
                "DepthID": "1",
                "NutrientResults": [
                 {
                  "Element": "P",
                  "Value": 2.9,
                  "ValueUnit": "ug/g"
                 },
                 {
                  "Value": 32.5,
                  "ValueUnit": "%"
                 },
                 {
                  "Element": "Silt",
                  "Value": 31.2,
                  "ValueUnit": "%"
                 },
                 {
                  "Element": "Clay",
                  "Value": 36.2,
                  "ValueUnit": "%"
                 },
                 {
                  "Element": "pH",
                  "Value": 5.7,
                  "ValueUnit": "none"
                 },
                 {
                  "Element": "Ca",
                  "Value": 18,
                  "ValueUnit": "cmol(+)/kg"
                 },
                 {
                  "Element": "Mg",
                  "Value": 12,
                  "ValueUnit": "cmol(+)/kg"
                 },
                 {
                  "Element": "K",
                  "Value": 0.69,
                  "ValueUnit": "cmol(+)/kg"
                 },
                 {
                  "Element": "Na",
                  "Value": 0.14,
                  "ValueUnit": "cmol(+)/kg"
                 },
                 {
                  "Element": "TOC",
                  "Value": 2.1,
                  "ValueUnit": "%"
                 }
                ]
               }
              ],
              "SampleMetaData": {
               "Geometry": {
                "wkt": "POINT(-122.3597987 37.2705438)"
               },
               "ReportID": "TOKA-045",
               "SampleNumber": "3"
              }
             },
             {
              "Depths": [
               {
                "DepthID": "1",
                "NutrientResults": [
                 {
                  "Element": "P",
                  "Value": 3.9,
                  "ValueUnit": "ug/g"
                 },
                 {
                  "Value": 25,
                  "ValueUnit": "%"
                 },
                 {
                  "Element": "Silt",
                  "Value": 36.2,
                  "ValueUnit": "%"
                 },
                 {
                  "Element": "Clay",
                  "Value": 38.8,
                  "ValueUnit": "%"
                 },
                 {
                  "Element": "pH",
                  "Value": 5,
                  "ValueUnit": "none"
                 },
                 {
                  "Element": "Ca",
                  "Value": 8.1,
                  "ValueUnit": "cmol(+)/kg"
                 },
                 {
                  "Element": "Mg",
                  "Value": 5.1,
                  "ValueUnit": "cmol(+)/kg"
                 },
                 {
                  "Element": "K",
                  "Value": 0.75,
                  "ValueUnit": "cmol(+)/kg"
                 },
                 {
                  "Element": "Na",
                  "Value": 0.15,
                  "ValueUnit": "cmol(+)/kg"
                 },
                 {
                  "Element": "TOC",
                  "Value": 2.5,
                  "ValueUnit": "%"
                 }
                ]
               }
              ],
              "SampleMetaData": {
               "Geometry": {
                "wkt": "POINT(-122.3554103 37.2560978)"
               },
               "ReportID": "TOKA-055",
               "SampleNumber": "4"
              }
             },
             {
              "Depths": [
               {
                "DepthID": "1",
                "NutrientResults": [
                 {
                  "Element": "P",
                  "Value": 3.6,
                  "ValueUnit": "ug/g"
                 },
                 {
                  "Value": 17.5,
                  "ValueUnit": "%"
                 },
                 {
                  "Element": "Silt",
                  "Value": 31.2,
                  "ValueUnit": "%"
                 },
                 {
                  "Element": "Clay",
                  "Value": 51.2,
                  "ValueUnit": "%"
                 },
                 {
                  "Element": "pH",
                  "Value": 5.7,
                  "ValueUnit": "none"
                 },
                 {
                  "Element": "Ca",
                  "Value": 24,
                  "ValueUnit": "cmol(+)/kg"
                 },
                 {
                  "Element": "Mg",
                  "Value": 15,
                  "ValueUnit": "cmol(+)/kg"
                 },
                 {
                  "Element": "K",
                  "Value": 0.64,
                  "ValueUnit": "cmol(+)/kg"
                 },
                 {
                  "Element": "Na",
                  "Value": 0.6,
                  "ValueUnit": "cmol(+)/kg"
                 },
                 {
                  "Element": "TOC",
                  "Value": 2.3,
                  "ValueUnit": "%"
                 }
                ]
               }
              ],
              "SampleMetaData": {
               "Geometry": {
                "wkt": "POINT(-122.3531088 37.2614935)"
               },
               "ReportID": "TOKA-067",
               "SampleNumber": "5"
              }
             },
             {
              "Depths": [
               {
                "DepthID": "1",
                "NutrientResults": [
                 {
                  "Element": "P",
                  "Value": 11,
                  "ValueUnit": "ug/g"
                 },
                 {
                  "Value": 22.5,
                  "ValueUnit": "%"
                 },
                 {
                  "Element": "Silt",
                  "Value": 37.5,
                  "ValueUnit": "%"
                 },
                 {
                  "Element": "Clay",
                  "Value": 40,
                  "ValueUnit": "%"
                 },
                 {
                  "Element": "pH",
                  "Value": 5.6,
                  "ValueUnit": "none"
                 },
                 {
                  "Element": "Ca",
                  "Value": 17,
                  "ValueUnit": "cmol(+)/kg"
                 },
                 {
                  "Element": "Mg",
                  "Value": 12,
                  "ValueUnit": "cmol(+)/kg"
                 },
                 {
                  "Element": "K",
                  "Value": 1.2,
                  "ValueUnit": "cmol(+)/kg"
                 },
                 {
                  "Element": "Na",
                  "Value": 0.28,
                  "ValueUnit": "cmol(+)/kg"
                 },
                 {
                  "Element": "TOC",
                  "Value": 3.8,
                  "ValueUnit": "%"
                 }
                ]
               }
              ],
              "SampleMetaData": {
               "Geometry": {
                "wkt": "POINT(-122.3508225 37.2650866)"
               },
               "ReportID": "TOKA-071",
               "SampleNumber": "6"
              }
             },
             {
              "Depths": [
               {
                "DepthID": "1",
                "NutrientResults": [
                 {
                  "Element": "P",
                  "Value": 2.3,
                  "ValueUnit": "ug/g"
                 },
                 {
                  "Value": 20,
                  "ValueUnit": "%"
                 },
                 {
                  "Element": "Silt",
                  "Value": 40,
                  "ValueUnit": "%"
                 },
                 {
                  "Element": "Clay",
                  "Value": 40,
                  "ValueUnit": "%"
                 },
                 {
                  "Element": "pH",
                  "Value": 5.4,
                  "ValueUnit": "none"
                 },
                 {
                  "Element": "Ca",
                  "Value": 5,
                  "ValueUnit": "cmol(+)/kg"
                 },
                 {
                  "Element": "Mg",
                  "Value": 5.8,
                  "ValueUnit": "cmol(+)/kg"
                 },
                 {
                  "Element": "K",
                  "Value": 1,
                  "ValueUnit": "cmol(+)/kg"
                 },
                 {
                  "Element": "Na",
                  "Value": 0.17,
                  "ValueUnit": "cmol(+)/kg"
                 },
                 {
                  "Element": "TOC",
                  "Value": 2.3,
                  "ValueUnit": "%"
                 }
                ]
               }
              ],
              "SampleMetaData": {
               "Geometry": {
                "wkt": "POINT(-122.3508070 37.2668893)"
               },
               "ReportID": "TOKA-072",
               "SampleNumber": "7"
              }
             },
             {
              "Depths": [
               {
                "DepthID": "1",
                "NutrientResults": [
                 {
                  "Element": "P",
                  "Value": 21,
                  "ValueUnit": "ug/g"
                 },
                 {
                  "Element": "pH",
                  "Value": 6.1,
                  "ValueUnit": "none"
                 },
                 {
                  "Element": "Ca",
                  "Value": 21,
                  "ValueUnit": "cmol(+)/kg"
                 },
                 {
                  "Element": "Mg",
                  "Value": 8.7,
                  "ValueUnit": "cmol(+)/kg"
                 },
                 {
                  "Element": "K",
                  "Value": 0.85,
                  "ValueUnit": "cmol(+)/kg"
                 },
                 {
                  "Element": "Na",
                  "Value": 0.21,
                  "ValueUnit": "cmol(+)/kg"
                 },
                 {
                  "Element": "TOC",
                  "Value": 5.9,
                  "ValueUnit": "%"
                 }
                ]
               }
              ],
              "SampleMetaData": {
               "Geometry": {
                "wkt": "POINT(-122.3462180 37.2758779)"
               },
               "ReportID": "TOKA-089",
               "SampleNumber": "8"
              }
             },
             {
              "Depths": [
               {
                "DepthID": "1",
                "NutrientResults": [
                 {
                  "Element": "P",
                  "Value": 4.4,
                  "ValueUnit": "ug/g"
                 },
                 {
                  "Value": 26.2,
                  "ValueUnit": "%"
                 },
                 {
                  "Element": "Silt",
                  "Value": 40,
                  "ValueUnit": "%"
                 },
                 {
                  "Element": "Clay",
                  "Value": 33.8,
                  "ValueUnit": "%"
                 },
                 {
                  "Element": "pH",
                  "Value": 5.9,
                  "ValueUnit": "none"
                 },
                 {
                  "Element": "Ca",
                  "Value": 16,
                  "ValueUnit": "cmol(+)/kg"
                 },
                 {
                  "Element": "Mg",
                  "Value": 8.5,
                  "ValueUnit": "cmol(+)/kg"
                 },
                 {
                  "Element": "K",
                  "Value": 0.59,
                  "ValueUnit": "cmol(+)/kg"
                 },
                 {
                  "Element": "Na",
                  "Value": 0.27,
                  "ValueUnit": "cmol(+)/kg"
                 },
                 {
                  "Element": "TOC",
                  "Value": 2.5,
                  "ValueUnit": "%"
                 }
                ]
               }
              ],
              "SampleMetaData": {
               "Geometry": {
                "wkt": "POINT(-122.3439934 37.2722600)"
               },
               "ReportID": "TOKA-091",
               "SampleNumber": "9"
              }
             },
             {
              "Depths": [
               {
                "DepthID": "1",
                "NutrientResults": [
                 {
                  "Element": "P",
                  "Value": 5.3,
                  "ValueUnit": "ug/g"
                 },
                 {
                  "Value": 30,
                  "ValueUnit": "%"
                 },
                 {
                  "Element": "Silt",
                  "Value": 35,
                  "ValueUnit": "%"
                 },
                 {
                  "Element": "Clay",
                  "Value": 35,
                  "ValueUnit": "%"
                 },
                 {
                  "Element": "pH",
                  "Value": 6.1,
                  "ValueUnit": "none"
                 },
                 {
                  "Element": "Ca",
                  "Value": 16,
                  "ValueUnit": "cmol(+)/kg"
                 },
                 {
                  "Element": "Mg",
                  "Value": 13,
                  "ValueUnit": "cmol(+)/kg"
                 },
                 {
                  "Element": "K",
                  "Value": 0.75,
                  "ValueUnit": "cmol(+)/kg"
                 },
                 {
                  "Element": "Na",
                  "Value": 0.5,
                  "ValueUnit": "cmol(+)/kg"
                 },
                 {
                  "Element": "TOC",
                  "Value": 1.5,
                  "ValueUnit": "%"
                 }
                ]
               }
              ],
              "SampleMetaData": {
               "Geometry": {
                "wkt": "POINT(-122.3643707 37.2633573)"
               },
               "ReportID": "TOKA-122",
               "SampleNumber": "10"
              }
             },
             {
              "Depths": [
               {
                "DepthID": "1",
                "NutrientResults": [
                 {
                  "Element": "P",
                  "Value": 2.8,
                  "ValueUnit": "ug/g"
                 },
                 {
                  "Value": 43.8,
                  "ValueUnit": "%"
                 },
                 {
                  "Element": "Silt",
                  "Value": 26.2,
                  "ValueUnit": "%"
                 },
                 {
                  "Element": "Clay",
                  "Value": 30,
                  "ValueUnit": "%"
                 },
                 {
                  "Element": "pH",
                  "Value": 6.3,
                  "ValueUnit": "none"
                 },
                 {
                  "Element": "Ca",
                  "Value": 17,
                  "ValueUnit": "cmol(+)/kg"
                 },
                 {
                  "Element": "Mg",
                  "Value": 13,
                  "ValueUnit": "cmol(+)/kg"
                 },
                 {
                  "Element": "K",
                  "Value": 0.41,
                  "ValueUnit": "cmol(+)/kg"
                 },
                 {
                  "Element": "Na",
                  "Value": 0.24,
                  "ValueUnit": "cmol(+)/kg"
                 },
                 {
                  "Element": "TOC",
                  "Value": 1.7,
                  "ValueUnit": "%"
                 }
                ]
               }
              ],
              "SampleMetaData": {
               "Geometry": {
                "wkt": "POINT(-122.3552413 37.2759273)"
               },
               "ReportID": "TOKA-147",
               "SampleNumber": "11"
              }
             },
             {
              "Depths": [
               {
                "DepthID": "1",
                "NutrientResults": [
                 {
                  "Element": "P",
                  "Value": 3.3,
                  "ValueUnit": "ug/g"
                 },
                 {
                  "Value": 17.5,
                  "ValueUnit": "%"
                 },
                 {
                  "Element": "Silt",
                  "Value": 40,
                  "ValueUnit": "%"
                 },
                 {
                  "Element": "Clay",
                  "Value": 42.5,
                  "ValueUnit": "%"
                 },
                 {
                  "Element": "pH",
                  "Value": 5.4,
                  "ValueUnit": "none"
                 },
                 {
                  "Element": "Ca",
                  "Value": 15,
                  "ValueUnit": "cmol(+)/kg"
                 },
                 {
                  "Element": "Mg",
                  "Value": 11,
                  "ValueUnit": "cmol(+)/kg"
                 },
                 {
                  "Element": "K",
                  "Value": 0.57,
                  "ValueUnit": "cmol(+)/kg"
                 },
                 {
                  "Element": "Na",
                  "Value": 0.33,
                  "ValueUnit": "cmol(+)/kg"
                 },
                 {
                  "Element": "TOC",
                  "Value": 1.9,
                  "ValueUnit": "%"
                 }
                ]
               }
              ],
              "SampleMetaData": {
               "Geometry": {
                "wkt": "POINT(-122.3508689 37.2596785)"
               },
               "ReportID": "TOKA-154",
               "SampleNumber": "12"
              }
             },
             {
              "Depths": [
               {
                "DepthID": "1",
                "NutrientResults": [
                 {
                  "Value": 17.5,
                  "ValueUnit": "%"
                 },
                 {
                  "Element": "Silt",
                  "Value": 40,
                  "ValueUnit": "%"
                 },
                 {
                  "Element": "Clay",
                  "Value": 42.5,
                  "ValueUnit": "%"
                 },
                 {
                  "Element": "pH",
                  "Value": 5.3,
                  "ValueUnit": "none"
                 },
                 {
                  "Element": "Ca",
                  "Value": 10,
                  "ValueUnit": "cmol(+)/kg"
                 },
                 {
                  "Element": "Mg",
                  "Value": 8.7,
                  "ValueUnit": "cmol(+)/kg"
                 },
                 {
                  "Element": "K",
                  "Value": 0.68,
                  "ValueUnit": "cmol(+)/kg"
                 },
                 {
                  "Element": "Na",
                  "Value": 0.38,
                  "ValueUnit": "cmol(+)/kg"
                 },
                 {
                  "Element": "TOC",
                  "Value": 2.2,
                  "ValueUnit": "%"
                 }
                ]
               }
              ],
              "SampleMetaData": {
               "Geometry": {
                "wkt": "POINT(-122.3485204 37.2704822)"
               },
               "ReportID": "TOKA-161",
               "SampleNumber": "13"
              }
             }
            ]
           }
          },
          "LabMetaData": {
           "Reports": [
            {
             "FileDescription": "2015_RMN 10-40cm_1",
             "ReportID": "1"
            }
           ]
          }
         }
        ]
       },
       {
        "Events": [
         {
          "EventMetaData": {
           "EventDate": "2018-02-14",
           "EventType": {
            "Soil": true
           }
          },
          "EventSamples": {
           "Soil": {
            "DepthRefs": [
             {
              "ColumnDepth": 10,
              "DepthID": 1,
              "DepthUnit": "cm",
              "EndingDepth": 10,
              "Name": "0 to 10",
              "StartingDepth": 0
             }
            ],
            "SoilSamples": [
             {
              "Depths": [
               {
                "DepthID": "1",
                "NutrientResults": [
                 {
                  "Element": "Bulk Density",
                  "Value": 1.02198563585612,
                  "ValueUnit": "g/cm3"
                 },
                 {
                  "Element": "P",
                  "Value": 6.5,
                  "ValueUnit": "ug/g"
                 },
                 {
                  "Element": "pH",
                  "Value": 6,
                  "ValueUnit": "none"
                 },
                 {
                  "Element": "CEC",
                  "Value": 27.1,
                  "ValueUnit": "cmol(+)/kg"
                 },
                 {
                  "Element": "Ca",
                  "Value": 8.05,
                  "ValueUnit": "cmol(+)/kg"
                 },
                 {
                  "Element": "Mg",
                  "Value": 9.208333333333334,
                  "ValueUnit": "cmol(+)/kg"
                 },
                 {
                  "Element": "K",
                  "Value": 0.717948717948718,
                  "ValueUnit": "cmol(+)/kg"
                 },
                 {
                  "Element": "Na",
                  "Value": 0.34782608695652173,
                  "ValueUnit": "cmol(+)/kg"
                 },
                 {
                  "Element": "TOC",
                  "Value": 3.1,
                  "ValueUnit": "%"
                 }
                ]
               }
              ],
              "SampleMetaData": {
               "Geometry": {
                "wkt": "POINT(-122.3688365 37.2687895)"
               },
               "ReportID": "TOKA-115",
               "SampleNumber": "0"
              }
             }
            ]
           }
          },
          "LabMetaData": {
           "Reports": [
            {
             "FileDescription": "2018_RMN 0-10cm_15",
             "ReportID": "1"
            }
           ]
          }
         }
        ]
       },
       {
        "Events": [
         {
          "EventMetaData": {
           "EventDate": "2021-05-13",
           "EventType": {
            "Soil": true
           }
          },
          "EventSamples": {
           "Soil": {
            "DepthRefs": [
             {
              "ColumnDepth": 4,
              "DepthID": 1,
              "DepthUnit": "cm",
              "EndingDepth": 4,
              "Name": "0",
              "StartingDepth": 0
             },
             {
              "ColumnDepth": 12,
              "DepthID": 2,
              "DepthUnit": "cm",
              "EndingDepth": 16,
              "Name": "4",
              "StartingDepth": 4
             }
            ],
            "SoilSamples": [
             {
              "Depths": [
               {
                "DepthID": "1",
                "NutrientResults": [
                 {
                  "Element": "pH",
                  "Value": 5.7,
                  "ValueUnit": "none"
                 },
                 {
                  "Value": 0.1,
                  "ValueUnit": "mmho/cm"
                 },
                 {
                  "Element": "OM (LOI)",
                  "Value": 5.4,
                  "ValueUnit": "%"
                 },
                 {
                  "Element": "NO3-N",
                  "Value": 0.6,
                  "ValueUnit": "ppm"
                 },
                 {
                  "Element": "P",
                  "Value": 9,
                  "ValueUnit": "ppm"
                 },
                 {
                  "Element": "K",
                  "Value": 192,
                  "ValueUnit": "ppm"
                 },
                 {
                  "Element": "SO4-S",
                  "Value": 9.7,
                  "ValueUnit": "ppm"
                 },
                 {
                  "Element": "Ca",
                  "Value": 887,
                  "ValueUnit": "ppm"
                 },
                 {
                  "Element": "Mg",
                  "Value": 378,
                  "ValueUnit": "ppm"
                 },
                 {
                  "Element": "Na",
                  "Value": 75,
                  "ValueUnit": "ppm"
                 },
                 {
                  "Element": "CEC",
                  "Value": 16.7,
                  "ValueUnit": "Sum of Cations me/100g"
                 },
                 {
                  "Element": "BS-H",
                  "Value": 50,
                  "ValueUnit": "%"
                 },
                 {
                  "Element": "BS-K",
                  "Value": 3,
                  "ValueUnit": "%"
                 },
                 {
                  "Element": "BS-Ca",
                  "Value": 26,
                  "ValueUnit": "%"
                 },
                 {
                  "Element": "BS-Mg",
                  "Value": 19,
                  "ValueUnit": "%"
                 },
                 {
                  "Element": "BS-Na",
                  "Value": 2,
                  "ValueUnit": "%"
                 },
                 {
                  "Element": "TN",
                  "Value": 2569,
                  "ValueUnit": "ppm"
                 }
                ]
               }
              ],
              "SampleMetaData": {
               "ReportID": "",
               "SampleNumber": "0"
              }
             },
             {
              "Depths": [
               {
                "DepthID": "2",
                "NutrientResults": [
                 {
                  "Element": "pH",
                  "Value": 5.6,
                  "ValueUnit": "none"
                 },
                 {
                  "Value": 0.08,
                  "ValueUnit": "mmho/cm"
                 },
                 {
                  "Element": "OM (LOI)",
                  "Value": 3.8,
                  "ValueUnit": "%"
                 },
                 {
                  "Element": "NO3-N",
                  "Value": 0.7,
                  "ValueUnit": "ppm"
                 },
                 {
                  "Element": "P",
                  "Value": 6.3,
                  "ValueUnit": "ppm"
                 },
                 {
                  "Element": "K",
                  "Value": 122,
                  "ValueUnit": "ppm"
                 },
                 {
                  "Element": "SO4-S",
                  "Value": 8.7,
                  "ValueUnit": "ppm"
                 },
                 {
                  "Element": "Ca",
                  "Value": 1086,
                  "ValueUnit": "ppm"
                 },
                 {
                  "Element": "Mg",
                  "Value": 540,
                  "ValueUnit": "ppm"
                 },
                 {
                  "Element": "Na",
                  "Value": 117,
                  "ValueUnit": "ppm"
                 },
                 {
                  "Element": "CEC",
                  "Value": 21,
                  "ValueUnit": "Sum of Cations me/100g"
                 },
                 {
                  "Element": "BS-H",
                  "Value": 49,
                  "ValueUnit": "%"
                 },
                 {
                  "Element": "BS-K",
                  "Value": 1,
                  "ValueUnit": "%"
                 },
                 {
                  "Element": "BS-Ca",
                  "Value": 26,
                  "ValueUnit": "%"
                 },
                 {
                  "Element": "BS-Mg",
                  "Value": 21,
                  "ValueUnit": "%"
                 },
                 {
                  "Element": "BS-Na",
                  "Value": 2,
                  "ValueUnit": "%"
                 },
                 {
                  "Element": "TN",
                  "Value": 1983,
                  "ValueUnit": "ppm"
                 }
                ]
               }
              ],
              "SampleMetaData": {
               "ReportID": "",
               "SampleNumber": "1"
              }
             },
             {
              "Depths": [
               {
                "DepthID": "1",
                "NutrientResults": [
                 {
                  "Element": "pH",
                  "Value": 5.8,
                  "ValueUnit": "none"
                 },
                 {
                  "Value": 0.1,
                  "ValueUnit": "mmho/cm"
                 },
                 {
                  "Element": "OM (LOI)",
                  "Value": 4.4,
                  "ValueUnit": "%"
                 },
                 {
                  "Element": "NO3-N",
                  "Value": 0.3,
                  "ValueUnit": "ppm"
                 },
                 {
                  "Element": "P",
                  "Value": 6.6,
                  "ValueUnit": "ppm"
                 },
                 {
                  "Element": "K",
                  "Value": 259,
                  "ValueUnit": "ppm"
                 },
                 {
                  "Element": "SO4-S",
                  "Value": 10.7,
                  "ValueUnit": "ppm"
                 },
                 {
                  "Element": "Ca",
                  "Value": 788,
                  "ValueUnit": "ppm"
                 },
                 {
                  "Element": "Mg",
                  "Value": 448,
                  "ValueUnit": "ppm"
                 },
                 {
                  "Element": "Na",
                  "Value": 78,
                  "ValueUnit": "ppm"
                 },
                 {
                  "Element": "CEC",
                  "Value": 16.9,
                  "ValueUnit": "Sum of Cations me/100g"
                 },
                 {
                  "Element": "BS-H",
                  "Value": 49,
                  "ValueUnit": "%"
                 },
                 {
                  "Element": "BS-K",
                  "Value": 4,
                  "ValueUnit": "%"
                 },
                 {
                  "Element": "BS-Ca",
                  "Value": 23,
                  "ValueUnit": "%"
                 },
                 {
                  "Element": "BS-Mg",
                  "Value": 22,
                  "ValueUnit": "%"
                 },
                 {
                  "Element": "BS-Na",
                  "Value": 2,
                  "ValueUnit": "%"
                 },
                 {
                  "Element": "TN",
                  "Value": 2036,
                  "ValueUnit": "ppm"
                 }
                ]
               }
              ],
              "SampleMetaData": {
               "ReportID": "",
               "SampleNumber": "2"
              }
             },
             {
              "Depths": [
               {
                "DepthID": "2",
                "NutrientResults": [
                 {
                  "Element": "pH",
                  "Value": 5.6,
                  "ValueUnit": "none"
                 },
                 {
                  "Value": 0.07,
                  "ValueUnit": "mmho/cm"
                 },
                 {
                  "Element": "OM (LOI)",
                  "Value": 3,
                  "ValueUnit": "%"
                 },
                 {
                  "Element": "NO3-N",
                  "Value": 0.4,
                  "ValueUnit": "ppm"
                 },
                 {
                  "Element": "P",
                  "Value": 12.8,
                  "ValueUnit": "ppm"
                 },
                 {
                  "Element": "K",
                  "Value": 200,
                  "ValueUnit": "ppm"
                 },
                 {
                  "Element": "SO4-S",
                  "Value": 9.6,
                  "ValueUnit": "ppm"
                 },
                 {
                  "Element": "Ca",
                  "Value": 958,
                  "ValueUnit": "ppm"
                 },
                 {
                  "Element": "Mg",
                  "Value": 799,
                  "ValueUnit": "ppm"
                 },
                 {
                  "Element": "Na",
                  "Value": 154,
                  "ValueUnit": "ppm"
                 },
                 {
                  "Element": "CEC",
                  "Value": 21.4,
                  "ValueUnit": "Sum of Cations me/100g"
                 },
                 {
                  "Element": "BS-H",
                  "Value": 41,
                  "ValueUnit": "%"
                 },
                 {
                  "Element": "BS-K",
                  "Value": 2,
                  "ValueUnit": "%"
                 },
                 {
                  "Element": "BS-Ca",
                  "Value": 22,
                  "ValueUnit": "%"
                 },
                 {
                  "Element": "BS-Mg",
                  "Value": 31,
                  "ValueUnit": "%"
                 },
                 {
                  "Element": "BS-Na",
                  "Value": 3,
                  "ValueUnit": "%"
                 },
                 {
                  "Element": "TN",
                  "Value": 1607,
                  "ValueUnit": "ppm"
                 }
                ]
               }
              ],
              "SampleMetaData": {
               "ReportID": "",
               "SampleNumber": "3"
              }
             },
             {
              "Depths": [
               {
                "DepthID": "1",
                "NutrientResults": [
                 {
                  "Element": "pH",
                  "Value": 5.7,
                  "ValueUnit": "none"
                 },
                 {
                  "Value": 0.09,
                  "ValueUnit": "mmho/cm"
                 },
                 {
                  "Element": "OM (LOI)",
                  "Value": 5.8,
                  "ValueUnit": "%"
                 },
                 {
                  "Element": "NO3-N",
                  "Value": 0.8,
                  "ValueUnit": "ppm"
                 },
                 {
                  "Element": "P",
                  "Value": 6.3,
                  "ValueUnit": "ppm"
                 },
                 {
                  "Element": "K",
                  "Value": 297,
                  "ValueUnit": "ppm"
                 },
                 {
                  "Element": "SO4-S",
                  "Value": 8.2,
                  "ValueUnit": "ppm"
                 },
                 {
                  "Element": "Ca",
                  "Value": 1702,
                  "ValueUnit": "ppm"
                 },
                 {
                  "Element": "Mg",
                  "Value": 1410,
                  "ValueUnit": "ppm"
                 },
                 {
                  "Element": "Na",
                  "Value": 102,
                  "ValueUnit": "ppm"
                 },
                 {
                  "Element": "CEC",
                  "Value": 30.1,
                  "ValueUnit": "Sum of Cations me/100g"
                 },
                 {
                  "Element": "BS-H",
                  "Value": 29,
                  "ValueUnit": "%"
                 },
                 {
                  "Element": "BS-K",
                  "Value": 3,
                  "ValueUnit": "%"
                 },
                 {
                  "Element": "BS-Ca",
                  "Value": 28,
                  "ValueUnit": "%"
                 },
                 {
                  "Element": "BS-Mg",
                  "Value": 39,
                  "ValueUnit": "%"
                 },
                 {
                  "Element": "BS-Na",
                  "Value": 1,
                  "ValueUnit": "%"
                 },
                 {
                  "Element": "TN",
                  "Value": 2364,
                  "ValueUnit": "ppm"
                 }
                ]
               }
              ],
              "SampleMetaData": {
               "ReportID": "",
               "SampleNumber": "4"
              }
             },
             {
              "Depths": [
               {
                "DepthID": "2",
                "NutrientResults": [
                 {
                  "Element": "pH",
                  "Value": 5.3,
                  "ValueUnit": "none"
                 },
                 {
                  "Value": 0.12,
                  "ValueUnit": "mmho/cm"
                 },
                 {
                  "Element": "OM (LOI)",
                  "Value": 3.8,
                  "ValueUnit": "%"
                 },
                 {
                  "Element": "NO3-N",
                  "Value": 0.6,
                  "ValueUnit": "ppm"
                 },
                 {
                  "Element": "P",
                  "Value": 8.4,
                  "ValueUnit": "ppm"
                 },
                 {
                  "Element": "K",
                  "Value": 209,
                  "ValueUnit": "ppm"
                 },
                 {
                  "Element": "SO4-S",
                  "Value": 6.8,
                  "ValueUnit": "ppm"
                 },
                 {
                  "Element": "Ca",
                  "Value": 1680,
                  "ValueUnit": "ppm"
                 },
                 {
                  "Element": "Mg",
                  "Value": 1606,
                  "ValueUnit": "ppm"
                 },
                 {
                  "Element": "Na",
                  "Value": 144,
                  "ValueUnit": "ppm"
                 },
                 {
                  "Element": "CEC",
                  "Value": 33.1,
                  "ValueUnit": "Sum of Cations me/100g"
                 },
                 {
                  "Element": "BS-H",
                  "Value": 31,
                  "ValueUnit": "%"
                 },
                 {
                  "Element": "BS-K",
                  "Value": 2,
                  "ValueUnit": "%"
                 },
                 {
                  "Element": "BS-Ca",
                  "Value": 25,
                  "ValueUnit": "%"
                 },
                 {
                  "Element": "BS-Mg",
                  "Value": 40,
                  "ValueUnit": "%"
                 },
                 {
                  "Element": "BS-Na",
                  "Value": 2,
                  "ValueUnit": "%"
                 },
                 {
                  "Element": "TN",
                  "Value": 1763,
                  "ValueUnit": "ppm"
                 }
                ]
               }
              ],
              "SampleMetaData": {
               "ReportID": "",
               "SampleNumber": "5"
              }
             },
             {
              "Depths": [
               {
                "DepthID": "1",
                "NutrientResults": [
                 {
                  "Element": "pH",
                  "Value": 6.1,
                  "ValueUnit": "none"
                 },
                 {
                  "Value": 0.06,
                  "ValueUnit": "mmho/cm"
                 },
                 {
                  "Element": "OM (LOI)",
                  "Value": 5.8,
                  "ValueUnit": "%"
                 },
                 {
                  "Element": "NO3-N",
                  "Value": 0.4,
                  "ValueUnit": "ppm"
                 },
                 {
                  "Element": "P",
                  "Value": 6.9,
                  "ValueUnit": "ppm"
                 },
                 {
                  "Element": "K",
                  "Value": 193,
                  "ValueUnit": "ppm"
                 },
                 {
                  "Element": "SO4-S",
                  "Value": 7.6,
                  "ValueUnit": "ppm"
                 },
                 {
                  "Element": "Ca",
                  "Value": 1570,
                  "ValueUnit": "ppm"
                 },
                 {
                  "Element": "Mg",
                  "Value": 820,
                  "ValueUnit": "ppm"
                 },
                 {
                  "Element": "Na",
                  "Value": 90,
                  "ValueUnit": "ppm"
                 },
                 {
                  "Element": "CEC",
                  "Value": 21.8,
                  "ValueUnit": "Sum of Cations me/100g"
                 },
                 {
                  "Element": "BS-H",
                  "Value": 28,
                  "ValueUnit": "%"
                 },
                 {
                  "Element": "BS-K",
                  "Value": 2,
                  "ValueUnit": "%"
                 },
                 {
                  "Element": "BS-Ca",
                  "Value": 36,
                  "ValueUnit": "%"
                 },
                 {
                  "Element": "BS-Mg",
                  "Value": 31,
                  "ValueUnit": "%"
                 },
                 {
                  "Element": "BS-Na",
                  "Value": 2,
                  "ValueUnit": "%"
                 },
                 {
                  "Element": "TN",
                  "Value": 2559,
                  "ValueUnit": "ppm"
                 }
                ]
               }
              ],
              "SampleMetaData": {
               "ReportID": "",
               "SampleNumber": "6"
              }
             },
             {
              "Depths": [
               {
                "DepthID": "2",
                "NutrientResults": [
                 {
                  "Element": "pH",
                  "Value": 5.8,
                  "ValueUnit": "none"
                 },
                 {
                  "Value": 0.06,
                  "ValueUnit": "mmho/cm"
                 },
                 {
                  "Element": "OM (LOI)",
                  "Value": 4.5,
                  "ValueUnit": "%"
                 },
                 {
                  "Element": "NO3-N",
                  "Value": 0.4,
                  "ValueUnit": "ppm"
                 },
                 {
                  "Element": "P",
                  "Value": 4.8,
                  "ValueUnit": "ppm"
                 },
                 {
                  "Element": "K",
                  "Value": 161,
                  "ValueUnit": "ppm"
                 },
                 {
                  "Element": "SO4-S",
                  "Value": 5.5,
                  "ValueUnit": "ppm"
                 },
                 {
                  "Element": "Ca",
                  "Value": 1667,
                  "ValueUnit": "ppm"
                 },
                 {
                  "Element": "Mg",
                  "Value": 938,
                  "ValueUnit": "ppm"
                 },
                 {
                  "Element": "Na",
                  "Value": 122,
                  "ValueUnit": "ppm"
                 },
                 {
                  "Element": "CEC",
                  "Value": 24.5,
                  "ValueUnit": "Sum of Cations me/100g"
                 },
                 {
                  "Element": "BS-H",
                  "Value": 30,
                  "ValueUnit": "%"
                 },
                 {
                  "Element": "BS-K",
                  "Value": 2,
                  "ValueUnit": "%"
                 },
                 {
                  "Element": "BS-Ca",
                  "Value": 34,
                  "ValueUnit": "%"
                 },
                 {
                  "Element": "BS-Mg",
                  "Value": 32,
                  "ValueUnit": "%"
                 },
                 {
                  "Element": "BS-Na",
                  "Value": 2,
                  "ValueUnit": "%"
                 },
                 {
                  "Element": "TN",
                  "Value": 2165,
                  "ValueUnit": "ppm"
                 }
                ]
               }
              ],
              "SampleMetaData": {
               "ReportID": "",
               "SampleNumber": "7"
              }
             },
             {
              "Depths": [
               {
                "DepthID": "1",
                "NutrientResults": [
                 {
                  "Element": "pH",
                  "Value": 6.2,
                  "ValueUnit": "none"
                 },
                 {
                  "Value": 0.11,
                  "ValueUnit": "mmho/cm"
                 },
                 {
                  "Element": "OM (LOI)",
                  "Value": 6.9,
                  "ValueUnit": "%"
                 },
                 {
                  "Element": "NO3-N",
                  "Value": 0.5,
                  "ValueUnit": "ppm"
                 },
                 {
                  "Element": "P",
                  "Value": 13.4,
                  "ValueUnit": "ppm"
                 },
                 {
                  "Element": "K",
                  "Value": 246,
                  "ValueUnit": "ppm"
                 },
                 {
                  "Element": "SO4-S",
                  "Value": 9.7,
                  "ValueUnit": "ppm"
                 },
                 {
                  "Element": "Ca",
                  "Value": 2383,
                  "ValueUnit": "ppm"
                 },
                 {
                  "Element": "Mg",
                  "Value": 981,
                  "ValueUnit": "ppm"
                 },
                 {
                  "Element": "Na",
                  "Value": 83,
                  "ValueUnit": "ppm"
                 },
                 {
                  "Element": "CEC",
                  "Value": 26.1,
                  "ValueUnit": "Sum of Cations me/100g"
                 },
                 {
                  "Element": "BS-H",
                  "Value": 19,
                  "ValueUnit": "%"
                 },
                 {
                  "Element": "BS-K",
                  "Value": 2,
                  "ValueUnit": "%"
                 },
                 {
                  "Element": "BS-Ca",
                  "Value": 46,
                  "ValueUnit": "%"
                 },
                 {
                  "Element": "BS-Mg",
                  "Value": 31,
                  "ValueUnit": "%"
                 },
                 {
                  "Element": "BS-Na",
                  "Value": 1,
                  "ValueUnit": "%"
                 },
                 {
                  "Element": "TN",
                  "Value": 3054,
                  "ValueUnit": "ppm"
                 }
                ]
               }
              ],
              "SampleMetaData": {
               "ReportID": "",
               "SampleNumber": "8"
              }
             },
             {
              "Depths": [
               {
                "DepthID": "2",
                "NutrientResults": [
                 {
                  "Element": "pH",
                  "Value": 5.8,
                  "ValueUnit": "none"
                 },
                 {
                  "Value": 0.17,
                  "ValueUnit": "mmho/cm"
                 },
                 {
                  "Element": "OM (LOI)",
                  "Value": 4.9,
                  "ValueUnit": "%"
                 },
                 {
                  "Element": "NO3-N",
                  "Value": 3.1,
                  "ValueUnit": "ppm"
                 },
                 {
                  "Element": "P",
                  "Value": 6.4,
                  "ValueUnit": "ppm"
                 },
                 {
                  "Element": "K",
                  "Value": 187,
                  "ValueUnit": "ppm"
                 },
                 {
                  "Element": "SO4-S",
                  "Value": 7.6,
                  "ValueUnit": "ppm"
                 },
                 {
                  "Element": "Ca",
                  "Value": 2393,
                  "ValueUnit": "ppm"
                 },
                 {
                  "Element": "Mg",
                  "Value": 1207,
                  "ValueUnit": "ppm"
                 },
                 {
                  "Element": "Na",
                  "Value": 140,
                  "ValueUnit": "ppm"
                 },
                 {
                  "Element": "CEC",
                  "Value": 30.7,
                  "ValueUnit": "Sum of Cations me/100g"
                 },
                 {
                  "Element": "BS-H",
                  "Value": 25,
                  "ValueUnit": "%"
                 },
                 {
                  "Element": "BS-K",
                  "Value": 2,
                  "ValueUnit": "%"
                 },
                 {
                  "Element": "BS-Ca",
                  "Value": 38,
                  "ValueUnit": "%"
                 },
                 {
                  "Element": "BS-Mg",
                  "Value": 33,
                  "ValueUnit": "%"
                 },
                 {
                  "Element": "BS-Na",
                  "Value": 2,
                  "ValueUnit": "%"
                 },
                 {
                  "Element": "TN",
                  "Value": 2328,
                  "ValueUnit": "ppm"
                 }
                ]
               }
              ],
              "SampleMetaData": {
               "ReportID": "",
               "SampleNumber": "9"
              }
             },
             {
              "Depths": [
               {
                "DepthID": "1",
                "NutrientResults": [
                 {
                  "Element": "pH",
                  "Value": 5.9,
                  "ValueUnit": "none"
                 },
                 {
                  "Value": 0.14,
                  "ValueUnit": "mmho/cm"
                 },
                 {
                  "Element": "OM (LOI)",
                  "Value": 6.5,
                  "ValueUnit": "%"
                 },
                 {
                  "Element": "NO3-N",
                  "Value": 1.1,
                  "ValueUnit": "ppm"
                 },
                 {
                  "Element": "P",
                  "Value": 7.8,
                  "ValueUnit": "ppm"
                 },
                 {
                  "Element": "K",
                  "Value": 183,
                  "ValueUnit": "ppm"
                 },
                 {
                  "Element": "SO4-S",
                  "Value": 7.7,
                  "ValueUnit": "ppm"
                 },
                 {
                  "Element": "Ca",
                  "Value": 1583,
                  "ValueUnit": "ppm"
                 },
                 {
                  "Element": "Mg",
                  "Value": 586,
                  "ValueUnit": "ppm"
                 },
                 {
                  "Element": "Na",
                  "Value": 79,
                  "ValueUnit": "ppm"
                 },
                 {
                  "Element": "CEC",
                  "Value": 21.1,
                  "ValueUnit": "Sum of Cations me/100g"
                 },
                 {
                  "Element": "BS-H",
                  "Value": 36,
                  "ValueUnit": "%"
                 },
                 {
                  "Element": "BS-K",
                  "Value": 2,
                  "ValueUnit": "%"
                 },
                 {
                  "Element": "BS-Ca",
                  "Value": 37,
                  "ValueUnit": "%"
                 },
                 {
                  "Element": "BS-Mg",
                  "Value": 23,
                  "ValueUnit": "%"
                 },
                 {
                  "Element": "BS-Na",
                  "Value": 2,
                  "ValueUnit": "%"
                 },
                 {
                  "Element": "TN",
                  "Value": 3112,
                  "ValueUnit": "ppm"
                 }
                ]
               }
              ],
              "SampleMetaData": {
               "ReportID": "",
               "SampleNumber": "10"
              }
             },
             {
              "Depths": [
               {
                "DepthID": "2",
                "NutrientResults": [
                 {
                  "Element": "pH",
                  "Value": 5.9,
                  "ValueUnit": "none"
                 },
                 {
                  "Value": 0.1,
                  "ValueUnit": "mmho/cm"
                 },
                 {
                  "Element": "OM (LOI)",
                  "Value": 4.3,
                  "ValueUnit": "%"
                 },
                 {
                  "Element": "NO3-N",
                  "Value": 1.2,
                  "ValueUnit": "ppm"
                 },
                 {
                  "Element": "P",
                  "Value": 5.9,
                  "ValueUnit": "ppm"
                 },
                 {
                  "Element": "K",
                  "Value": 159,
                  "ValueUnit": "ppm"
                 },
                 {
                  "Element": "SO4-S",
                  "Value": 5.8,
                  "ValueUnit": "ppm"
                 },
                 {
                  "Element": "Ca",
                  "Value": 1802,
                  "ValueUnit": "ppm"
                 },
                 {
                  "Element": "Mg",
                  "Value": 667,
                  "ValueUnit": "ppm"
                 },
                 {
                  "Element": "Na",
                  "Value": 96,
                  "ValueUnit": "ppm"
                 },
                 {
                  "Element": "CEC",
                  "Value": 21.2,
                  "ValueUnit": "Sum of Cations me/100g"
                 },
                 {
                  "Element": "BS-H",
                  "Value": 27,
                  "ValueUnit": "%"
                 },
                 {
                  "Element": "BS-K",
                  "Value": 2,
                  "ValueUnit": "%"
                 },
                 {
                  "Element": "BS-Ca",
                  "Value": 43,
                  "ValueUnit": "%"
                 },
                 {
                  "Element": "BS-Mg",
                  "Value": 26,
                  "ValueUnit": "%"
                 },
                 {
                  "Element": "BS-Na",
                  "Value": 2,
                  "ValueUnit": "%"
                 },
                 {
                  "Element": "TN",
                  "Value": 2602,
                  "ValueUnit": "ppm"
                 }
                ]
               }
              ],
              "SampleMetaData": {
               "ReportID": "",
               "SampleNumber": "11"
              }
             },
             {
              "Depths": [
               {
                "DepthID": "1",
                "NutrientResults": [
                 {
                  "Element": "pH",
                  "Value": 6.3,
                  "ValueUnit": "none"
                 },
                 {
                  "Value": 0.15,
                  "ValueUnit": "mmho/cm"
                 },
                 {
                  "Element": "OM (LOI)",
                  "Value": 8,
                  "ValueUnit": "%"
                 },
                 {
                  "Element": "NO3-N",
                  "Value": 0.6,
                  "ValueUnit": "ppm"
                 },
                 {
                  "Element": "P",
                  "Value": 14.1,
                  "ValueUnit": "ppm"
                 },
                 {
                  "Element": "K",
                  "Value": 274,
                  "ValueUnit": "ppm"
                 },
                 {
                  "Element": "SO4-S",
                  "Value": 6,
                  "ValueUnit": "ppm"
                 },
                 {
                  "Element": "Ca",
                  "Value": 2829,
                  "ValueUnit": "ppm"
                 },
                 {
                  "Element": "Mg",
                  "Value": 774,
                  "ValueUnit": "ppm"
                 },
                 {
                  "Element": "Na",
                  "Value": 50,
                  "ValueUnit": "ppm"
                 },
                 {
                  "Element": "CEC",
                  "Value": 26.8,
                  "ValueUnit": "Sum of Cations me/100g"
                 },
                 {
                  "Element": "BS-H",
                  "Value": 20,
                  "ValueUnit": "%"
                 },
                 {
                  "Element": "BS-K",
                  "Value": 3,
                  "ValueUnit": "%"
                 },
                 {
                  "Element": "BS-Ca",
                  "Value": 52,
                  "ValueUnit": "%"
                 },
                 {
                  "Element": "BS-Mg",
                  "Value": 24,
                  "ValueUnit": "%"
                 },
                 {
                  "Element": "BS-Na",
                  "Value": 1,
                  "ValueUnit": "%"
                 },
                 {
                  "Element": "TN",
                  "Value": 3298,
                  "ValueUnit": "ppm"
                 }
                ]
               }
              ],
              "SampleMetaData": {
               "ReportID": "",
               "SampleNumber": "12"
              }
             },
             {
              "Depths": [
               {
                "DepthID": "2",
                "NutrientResults": [
                 {
                  "Element": "pH",
                  "Value": 6.2,
                  "ValueUnit": "none"
                 },
                 {
                  "Value": 0.12,
                  "ValueUnit": "mmho/cm"
                 },
                 {
                  "Element": "OM (LOI)",
                  "Value": 5.7,
                  "ValueUnit": "%"
                 },
                 {
                  "Element": "NO3-N",
                  "Value": 1,
                  "ValueUnit": "ppm"
                 },
                 {
                  "Element": "P",
                  "Value": 10.3,
                  "ValueUnit": "ppm"
                 },
                 {
                  "Element": "K",
                  "Value": 204,
                  "ValueUnit": "ppm"
                 },
                 {
                  "Element": "SO4-S",
                  "Value": 5.4,
                  "ValueUnit": "ppm"
                 },
                 {
                  "Element": "Ca",
                  "Value": 2835,
                  "ValueUnit": "ppm"
                 },
                 {
                  "Element": "Mg",
                  "Value": 858,
                  "ValueUnit": "ppm"
                 },
                 {
                  "Element": "Na",
                  "Value": 65,
                  "ValueUnit": "ppm"
                 },
                 {
                  "Element": "CEC",
                  "Value": 27,
                  "ValueUnit": "Sum of Cations me/100g"
                 },
                 {
                  "Element": "BS-H",
                  "Value": 18,
                  "ValueUnit": "%"
                 },
                 {
                  "Element": "BS-K",
                  "Value": 2,
                  "ValueUnit": "%"
                 },
                 {
                  "Element": "BS-Ca",
                  "Value": 52,
                  "ValueUnit": "%"
                 },
                 {
                  "Element": "BS-Mg",
                  "Value": 26,
                  "ValueUnit": "%"
                 },
                 {
                  "Element": "BS-Na",
                  "Value": 1,
                  "ValueUnit": "%"
                 },
                 {
                  "Element": "TN",
                  "Value": 2824,
                  "ValueUnit": "ppm"
                 }
                ]
               }
              ],
              "SampleMetaData": {
               "ReportID": "",
               "SampleNumber": "13"
              }
             },
             {
              "Depths": [
               {
                "DepthID": "1",
                "NutrientResults": [
                 {
                  "Element": "pH",
                  "Value": 6.2,
                  "ValueUnit": "none"
                 },
                 {
                  "Value": 0.15,
                  "ValueUnit": "mmho/cm"
                 },
                 {
                  "Element": "OM (LOI)",
                  "Value": 6.1,
                  "ValueUnit": "%"
                 },
                 {
                  "Element": "NO3-N",
                  "Value": 0.6,
                  "ValueUnit": "ppm"
                 },
                 {
                  "Element": "P",
                  "Value": 9.4,
                  "ValueUnit": "ppm"
                 },
                 {
                  "Element": "K",
                  "Value": 259,
                  "ValueUnit": "ppm"
                 },
                 {
                  "Element": "SO4-S",
                  "Value": 7.9,
                  "ValueUnit": "ppm"
                 },
                 {
                  "Element": "Ca",
                  "Value": 1883,
                  "ValueUnit": "ppm"
                 },
                 {
                  "Element": "Mg",
                  "Value": 629,
                  "ValueUnit": "ppm"
                 },
                 {
                  "Element": "Na",
                  "Value": 49,
                  "ValueUnit": "ppm"
                 },
                 {
                  "Element": "CEC",
                  "Value": 19.3,
                  "ValueUnit": "Sum of Cations me/100g"
                 },
                 {
                  "Element": "BS-H",
                  "Value": 20,
                  "ValueUnit": "%"
                 },
                 {
                  "Element": "BS-K",
                  "Value": 3,
                  "ValueUnit": "%"
                 },
                 {
                  "Element": "BS-Ca",
                  "Value": 49,
                  "ValueUnit": "%"
                 },
                 {
                  "Element": "BS-Mg",
                  "Value": 27,
                  "ValueUnit": "%"
                 },
                 {
                  "Element": "BS-Na",
                  "Value": 1,
                  "ValueUnit": "%"
                 },
                 {
                  "Element": "TN",
                  "Value": 2793,
                  "ValueUnit": "ppm"
                 }
                ]
               }
              ],
              "SampleMetaData": {
               "ReportID": "",
               "SampleNumber": "14"
              }
             },
             {
              "Depths": [
               {
                "DepthID": "2",
                "NutrientResults": [
                 {
                  "Element": "pH",
                  "Value": 6.2,
                  "ValueUnit": "none"
                 },
                 {
                  "Value": 0.12,
                  "ValueUnit": "mmho/cm"
                 },
                 {
                  "Element": "OM (LOI)",
                  "Value": 4.5,
                  "ValueUnit": "%"
                 },
                 {
                  "Element": "NO3-N",
                  "Value": 0.8,
                  "ValueUnit": "ppm"
                 },
                 {
                  "Element": "P",
                  "Value": 5.2,
                  "ValueUnit": "ppm"
                 },
                 {
                  "Element": "K",
                  "Value": 216,
                  "ValueUnit": "ppm"
                 },
                 {
                  "Element": "SO4-S",
                  "Value": 6.4,
                  "ValueUnit": "ppm"
                 },
                 {
                  "Element": "Ca",
                  "Value": 2123,
                  "ValueUnit": "ppm"
                 },
                 {
                  "Element": "Mg",
                  "Value": 749,
                  "ValueUnit": "ppm"
                 },
                 {
                  "Element": "Na",
                  "Value": 59,
                  "ValueUnit": "ppm"
                 },
                 {
                  "Element": "CEC",
                  "Value": 21.1,
                  "ValueUnit": "Sum of Cations me/100g"
                 },
                 {
                  "Element": "BS-H",
                  "Value": 16,
                  "ValueUnit": "%"
                 },
                 {
                  "Element": "BS-K",
                  "Value": 3,
                  "ValueUnit": "%"
                 },
                 {
                  "Element": "BS-Ca",
                  "Value": 50,
                  "ValueUnit": "%"
                 },
                 {
                  "Element": "BS-Mg",
                  "Value": 30,
                  "ValueUnit": "%"
                 },
                 {
                  "Element": "BS-Na",
                  "Value": 1,
                  "ValueUnit": "%"
                 },
                 {
                  "Element": "TN",
                  "Value": 2400,
                  "ValueUnit": "ppm"
                 }
                ]
               }
              ],
              "SampleMetaData": {
               "ReportID": "",
               "SampleNumber": "15"
              }
             },
             {
              "Depths": [
               {
                "DepthID": "1",
                "NutrientResults": [
                 {
                  "Element": "pH",
                  "Value": 6.3,
                  "ValueUnit": "none"
                 },
                 {
                  "Value": 0.16,
                  "ValueUnit": "mmho/cm"
                 },
                 {
                  "Element": "OM (LOI)",
                  "Value": 6.6,
                  "ValueUnit": "%"
                 },
                 {
                  "Element": "NO3-N",
                  "Value": 0.5,
                  "ValueUnit": "ppm"
                 },
                 {
                  "Element": "P",
                  "Value": 13.4,
                  "ValueUnit": "ppm"
                 },
                 {
                  "Element": "K",
                  "Value": 189,
                  "ValueUnit": "ppm"
                 },
                 {
                  "Element": "SO4-S",
                  "Value": 8.2,
                  "ValueUnit": "ppm"
                 },
                 {
                  "Element": "Ca",
                  "Value": 2705,
                  "ValueUnit": "ppm"
                 },
                 {
                  "Element": "Mg",
                  "Value": 975,
                  "ValueUnit": "ppm"
                 },
                 {
                  "Element": "Na",
                  "Value": 109,
                  "ValueUnit": "ppm"
                 },
                 {
                  "Element": "CEC",
                  "Value": 27.6,
                  "ValueUnit": "Sum of Cations me/100g"
                 },
                 {
                  "Element": "BS-H",
                  "Value": 18,
                  "ValueUnit": "%"
                 },
                 {
                  "Element": "BS-K",
                  "Value": 2,
                  "ValueUnit": "%"
                 },
                 {
                  "Element": "BS-Ca",
                  "Value": 49,
                  "ValueUnit": "%"
                 },
                 {
                  "Element": "BS-Mg",
                  "Value": 29,
                  "ValueUnit": "%"
                 },
                 {
                  "Element": "BS-Na",
                  "Value": 2,
                  "ValueUnit": "%"
                 },
                 {
                  "Element": "TN",
                  "Value": 3007,
                  "ValueUnit": "ppm"
                 }
                ]
               }
              ],
              "SampleMetaData": {
               "ReportID": "",
               "SampleNumber": "16"
              }
             },
             {
              "Depths": [
               {
                "DepthID": "2",
                "NutrientResults": [
                 {
                  "Element": "pH",
                  "Value": 6.2,
                  "ValueUnit": "none"
                 },
                 {
                  "Value": 0.15,
                  "ValueUnit": "mmho/cm"
                 },
                 {
                  "Element": "OM (LOI)",
                  "Value": 5.1,
                  "ValueUnit": "%"
                 },
                 {
                  "Element": "NO3-N",
                  "Value": 0.5,
                  "ValueUnit": "ppm"
                 },
                 {
                  "Element": "P",
                  "Value": 4.7,
                  "ValueUnit": "ppm"
                 },
                 {
                  "Element": "K",
                  "Value": 145,
                  "ValueUnit": "ppm"
                 },
                 {
                  "Element": "SO4-S",
                  "Value": 5.9,
                  "ValueUnit": "ppm"
                 },
                 {
                  "Element": "Ca",
                  "Value": 3250,
                  "ValueUnit": "ppm"
                 },
                 {
                  "Element": "Mg",
                  "Value": 1224,
                  "ValueUnit": "ppm"
                 },
                 {
                  "Element": "Na",
                  "Value": 162,
                  "ValueUnit": "ppm"
                 },
                 {
                  "Element": "CEC",
                  "Value": 32.4,
                  "ValueUnit": "Sum of Cations me/100g"
                 },
                 {
                  "Element": "BS-H",
                  "Value": 15,
                  "ValueUnit": "%"
                 },
                 {
                  "Element": "BS-K",
                  "Value": 1,
                  "ValueUnit": "%"
                 },
                 {
                  "Element": "BS-Ca",
                  "Value": 50,
                  "ValueUnit": "%"
                 },
                 {
                  "Element": "BS-Mg",
                  "Value": 31,
                  "ValueUnit": "%"
                 },
                 {
                  "Element": "BS-Na",
                  "Value": 2,
                  "ValueUnit": "%"
                 },
                 {
                  "Element": "TN",
                  "Value": 2652,
                  "ValueUnit": "ppm"
                 }
                ]
               }
              ],
              "SampleMetaData": {
               "ReportID": "",
               "SampleNumber": "17"
              }
             },
             {
              "Depths": [
               {
                "DepthID": "1",
                "NutrientResults": [
                 {
                  "Element": "pH",
                  "Value": 6.2,
                  "ValueUnit": "none"
                 },
                 {
                  "Value": 0.16,
                  "ValueUnit": "mmho/cm"
                 },
                 {
                  "Element": "OM (LOI)",
                  "Value": 6.6,
                  "ValueUnit": "%"
                 },
                 {
                  "Element": "NO3-N",
                  "Value": 2.2,
                  "ValueUnit": "ppm"
                 },
                 {
                  "Element": "P",
                  "Value": 12.9,
                  "ValueUnit": "ppm"
                 },
                 {
                  "Element": "K",
                  "Value": 175,
                  "ValueUnit": "ppm"
                 },
                 {
                  "Element": "SO4-S",
                  "Value": 7.9,
                  "ValueUnit": "ppm"
                 },
                 {
                  "Element": "Ca",
                  "Value": 2275,
                  "ValueUnit": "ppm"
                 },
                 {
                  "Element": "Mg",
                  "Value": 766,
                  "ValueUnit": "ppm"
                 },
                 {
                  "Element": "Na",
                  "Value": 74,
                  "ValueUnit": "ppm"
                 },
                 {
                  "Element": "CEC",
                  "Value": 23.7,
                  "ValueUnit": "Sum of Cations me/100g"
                 },
                 {
                  "Element": "BS-H",
                  "Value": 22,
                  "ValueUnit": "%"
                 },
                 {
                  "Element": "BS-K",
                  "Value": 2,
                  "ValueUnit": "%"
                 },
                 {
                  "Element": "BS-Ca",
                  "Value": 48,
                  "ValueUnit": "%"
                 },
                 {
                  "Element": "BS-Mg",
                  "Value": 27,
                  "ValueUnit": "%"
                 },
                 {
                  "Element": "BS-Na",
                  "Value": 1,
                  "ValueUnit": "%"
                 },
                 {
                  "Element": "TN",
                  "Value": 3168,
                  "ValueUnit": "ppm"
                 }
                ]
               }
              ],
              "SampleMetaData": {
               "ReportID": "",
               "SampleNumber": "18"
              }
             },
             {
              "Depths": [
               {
                "DepthID": "2",
                "NutrientResults": [
                 {
                  "Element": "pH",
                  "Value": 6,
                  "ValueUnit": "none"
                 },
                 {
                  "Value": 0.18,
                  "ValueUnit": "mmho/cm"
                 },
                 {
                  "Element": "OM (LOI)",
                  "Value": 4.8,
                  "ValueUnit": "%"
                 },
                 {
                  "Element": "NO3-N",
                  "Value": 2.1,
                  "ValueUnit": "ppm"
                 },
                 {
                  "Element": "P",
                  "Value": 12.5,
                  "ValueUnit": "ppm"
                 },
                 {
                  "Element": "K",
                  "Value": 132,
                  "ValueUnit": "ppm"
                 },
                 {
                  "Element": "SO4-S",
                  "Value": 6.1,
                  "ValueUnit": "ppm"
                 },
                 {
                  "Element": "Ca",
                  "Value": 2462,
                  "ValueUnit": "ppm"
                 },
                 {
                  "Element": "Mg",
                  "Value": 1009,
                  "ValueUnit": "ppm"
                 },
                 {
                  "Element": "Na",
                  "Value": 111,
                  "ValueUnit": "ppm"
                 },
                 {
                  "Element": "CEC",
                  "Value": 27.6,
                  "ValueUnit": "Sum of Cations me/100g"
                 },
                 {
                  "Element": "BS-H",
                  "Value": 22,
                  "ValueUnit": "%"
                 },
                 {
                  "Element": "BS-K",
                  "Value": 1,
                  "ValueUnit": "%"
                 },
                 {
                  "Element": "BS-Ca",
                  "Value": 45,
                  "ValueUnit": "%"
                 },
                 {
                  "Element": "BS-Mg",
                  "Value": 30,
                  "ValueUnit": "%"
                 },
                 {
                  "Element": "BS-Na",
                  "Value": 2,
                  "ValueUnit": "%"
                 },
                 {
                  "Element": "TN",
                  "Value": 2654,
                  "ValueUnit": "ppm"
                 }
                ]
               }
              ],
              "SampleMetaData": {
               "ReportID": "",
               "SampleNumber": "19"
              }
             },
             {
              "Depths": [
               {
                "DepthID": "1",
                "NutrientResults": [
                 {
                  "Element": "pH",
                  "Value": 6.1,
                  "ValueUnit": "none"
                 },
                 {
                  "Value": 0.17,
                  "ValueUnit": "mmho/cm"
                 },
                 {
                  "Element": "OM (LOI)",
                  "Value": 5.8,
                  "ValueUnit": "%"
                 },
                 {
                  "Element": "NO3-N",
                  "Value": 0.8,
                  "ValueUnit": "ppm"
                 },
                 {
                  "Element": "P",
                  "Value": 12.9,
                  "ValueUnit": "ppm"
                 },
                 {
                  "Element": "K",
                  "Value": 293,
                  "ValueUnit": "ppm"
                 },
                 {
                  "Element": "SO4-S",
                  "Value": 7.4,
                  "ValueUnit": "ppm"
                 },
                 {
                  "Element": "Ca",
                  "Value": 2059,
                  "ValueUnit": "ppm"
                 },
                 {
                  "Element": "Mg",
                  "Value": 725,
                  "ValueUnit": "ppm"
                 },
                 {
                  "Element": "Na",
                  "Value": 38,
                  "ValueUnit": "ppm"
                 },
                 {
                  "Element": "CEC",
                  "Value": 23.5,
                  "ValueUnit": "Sum of Cations me/100g"
                 },
                 {
                  "Element": "BS-H",
                  "Value": 26,
                  "ValueUnit": "%"
                 },
                 {
                  "Element": "BS-K",
                  "Value": 3,
                  "ValueUnit": "%"
                 },
                 {
                  "Element": "BS-Ca",
                  "Value": 44,
                  "ValueUnit": "%"
                 },
                 {
                  "Element": "BS-Mg",
                  "Value": 26,
                  "ValueUnit": "%"
                 },
                 {
                  "Element": "BS-Na",
                  "Value": 1,
                  "ValueUnit": "%"
                 },
                 {
                  "Element": "TN",
                  "Value": 2874,
                  "ValueUnit": "ppm"
                 }
                ]
               }
              ],
              "SampleMetaData": {
               "ReportID": "",
               "SampleNumber": "20"
              }
             },
             {
              "Depths": [
               {
                "DepthID": "2",
                "NutrientResults": [
                 {
                  "Element": "pH",
                  "Value": 5.8,
                  "ValueUnit": "none"
                 },
                 {
                  "Value": 0.14,
                  "ValueUnit": "mmho/cm"
                 },
                 {
                  "Element": "OM (LOI)",
                  "Value": 4.6,
                  "ValueUnit": "%"
                 },
                 {
                  "Element": "NO3-N",
                  "Value": 1.4,
                  "ValueUnit": "ppm"
                 },
                 {
                  "Element": "P",
                  "Value": 7.4,
                  "ValueUnit": "ppm"
                 },
                 {
                  "Element": "K",
                  "Value": 206,
                  "ValueUnit": "ppm"
                 },
                 {
                  "Element": "SO4-S",
                  "Value": 7.2,
                  "ValueUnit": "ppm"
                 },
                 {
                  "Element": "Ca",
                  "Value": 2437,
                  "ValueUnit": "ppm"
                 },
                 {
                  "Element": "Mg",
                  "Value": 748,
                  "ValueUnit": "ppm"
                 },
                 {
                  "Element": "Na",
                  "Value": 42,
                  "ValueUnit": "ppm"
                 },
                 {
                  "Element": "CEC",
                  "Value": 25.7,
                  "ValueUnit": "Sum of Cations me/100g"
                 },
                 {
                  "Element": "BS-H",
                  "Value": 26,
                  "ValueUnit": "%"
                 },
                 {
                  "Element": "BS-K",
                  "Value": 2,
                  "ValueUnit": "%"
                 },
                 {
                  "Element": "BS-Ca",
                  "Value": 47,
                  "ValueUnit": "%"
                 },
                 {
                  "Element": "BS-Mg",
                  "Value": 24,
                  "ValueUnit": "%"
                 },
                 {
                  "Element": "BS-Na",
                  "Value": 1,
                  "ValueUnit": "%"
                 },
                 {
                  "Element": "TN",
                  "Value": 2531,
                  "ValueUnit": "ppm"
                 }
                ]
               }
              ],
              "SampleMetaData": {
               "ReportID": "",
               "SampleNumber": "21"
              }
             },
             {
              "Depths": [
               {
                "DepthID": "1",
                "NutrientResults": [
                 {
                  "Element": "pH",
                  "Value": 6.1,
                  "ValueUnit": "none"
                 },
                 {
                  "Value": 0.2,
                  "ValueUnit": "mmho/cm"
                 },
                 {
                  "Element": "OM (LOI)",
                  "Value": 6.6,
                  "ValueUnit": "%"
                 },
                 {
                  "Element": "NO3-N",
                  "Value": 2.8,
                  "ValueUnit": "ppm"
                 },
                 {
                  "Element": "P",
                  "Value": 6.8,
                  "ValueUnit": "ppm"
                 },
                 {
                  "Element": "K",
                  "Value": 248,
                  "ValueUnit": "ppm"
                 },
                 {
                  "Element": "SO4-S",
                  "Value": 8.6,
                  "ValueUnit": "ppm"
                 },
                 {
                  "Element": "Ca",
                  "Value": 2493,
                  "ValueUnit": "ppm"
                 },
                 {
                  "Element": "Mg",
                  "Value": 846,
                  "ValueUnit": "ppm"
                 },
                 {
                  "Element": "Na",
                  "Value": 77,
                  "ValueUnit": "ppm"
                 },
                 {
                  "Element": "CEC",
                  "Value": 26.7,
                  "ValueUnit": "Sum of Cations me/100g"
                 },
                 {
                  "Element": "BS-H",
                  "Value": 23,
                  "ValueUnit": "%"
                 },
                 {
                  "Element": "BS-K",
                  "Value": 2,
                  "ValueUnit": "%"
                 },
                 {
                  "Element": "BS-Ca",
                  "Value": 47,
                  "ValueUnit": "%"
                 },
                 {
                  "Element": "BS-Mg",
                  "Value": 26,
                  "ValueUnit": "%"
                 },
                 {
                  "Element": "BS-Na",
                  "Value": 1,
                  "ValueUnit": "%"
                 },
                 {
                  "Element": "TN",
                  "Value": 3030,
                  "ValueUnit": "ppm"
                 }
                ]
               }
              ],
              "SampleMetaData": {
               "ReportID": "",
               "SampleNumber": "22"
              }
             },
             {
              "Depths": [
               {
                "DepthID": "2",
                "NutrientResults": [
                 {
                  "Element": "pH",
                  "Value": 6.1,
                  "ValueUnit": "none"
                 },
                 {
                  "Value": 0.16,
                  "ValueUnit": "mmho/cm"
                 },
                 {
                  "Element": "OM (LOI)",
                  "Value": 5,
                  "ValueUnit": "%"
                 },
                 {
                  "Element": "NO3-N",
                  "Value": 2.2,
                  "ValueUnit": "ppm"
                 },
                 {
                  "Element": "P",
                  "Value": 12.3,
                  "ValueUnit": "ppm"
                 },
                 {
                  "Element": "K",
                  "Value": 164,
                  "ValueUnit": "ppm"
                 },
                 {
                  "Element": "SO4-S",
                  "Value": 6.5,
                  "ValueUnit": "ppm"
                 },
                 {
                  "Element": "Ca",
                  "Value": 2472,
                  "ValueUnit": "ppm"
                 },
                 {
                  "Element": "Mg",
                  "Value": 870,
                  "ValueUnit": "ppm"
                 },
                 {
                  "Element": "Na",
                  "Value": 84,
                  "ValueUnit": "ppm"
                 },
                 {
                  "Element": "CEC",
                  "Value": 25.6,
                  "ValueUnit": "Sum of Cations me/100g"
                 },
                 {
                  "Element": "BS-H",
                  "Value": 20,
                  "ValueUnit": "%"
                 },
                 {
                  "Element": "BS-K",
                  "Value": 2,
                  "ValueUnit": "%"
                 },
                 {
                  "Element": "BS-Ca",
                  "Value": 48,
                  "ValueUnit": "%"
                 },
                 {
                  "Element": "BS-Mg",
                  "Value": 28,
                  "ValueUnit": "%"
                 },
                 {
                  "Element": "BS-Na",
                  "Value": 1,
                  "ValueUnit": "%"
                 },
                 {
                  "Element": "TN",
                  "Value": 2644,
                  "ValueUnit": "ppm"
                 }
                ]
               }
              ],
              "SampleMetaData": {
               "ReportID": "",
               "SampleNumber": "23"
              }
             },
             {
              "Depths": [
               {
                "DepthID": "1",
                "NutrientResults": [
                 {
                  "Element": "pH",
                  "Value": 5.9,
                  "ValueUnit": "none"
                 },
                 {
                  "Value": 0.14,
                  "ValueUnit": "mmho/cm"
                 },
                 {
                  "Element": "OM (LOI)",
                  "Value": 6.8,
                  "ValueUnit": "%"
                 },
                 {
                  "Element": "NO3-N",
                  "Value": 1.1,
                  "ValueUnit": "ppm"
                 },
                 {
                  "Element": "P",
                  "Value": 8.8,
                  "ValueUnit": "ppm"
                 },
                 {
                  "Element": "K",
                  "Value": 191,
                  "ValueUnit": "ppm"
                 },
                 {
                  "Element": "SO4-S",
                  "Value": 11.4,
                  "ValueUnit": "ppm"
                 },
                 {
                  "Element": "Ca",
                  "Value": 1595,
                  "ValueUnit": "ppm"
                 },
                 {
                  "Element": "Mg",
                  "Value": 535,
                  "ValueUnit": "ppm"
                 },
                 {
                  "Element": "Na",
                  "Value": 58,
                  "ValueUnit": "ppm"
                 },
                 {
                  "Element": "CEC",
                  "Value": 20.5,
                  "ValueUnit": "Sum of Cations me/100g"
                 },
                 {
                  "Element": "BS-H",
                  "Value": 36,
                  "ValueUnit": "%"
                 },
                 {
                  "Element": "BS-K",
                  "Value": 2,
                  "ValueUnit": "%"
                 },
                 {
                  "Element": "BS-Ca",
                  "Value": 39,
                  "ValueUnit": "%"
                 },
                 {
                  "Element": "BS-Mg",
                  "Value": 22,
                  "ValueUnit": "%"
                 },
                 {
                  "Element": "BS-Na",
                  "Value": 1,
                  "ValueUnit": "%"
                 },
                 {
                  "Element": "TN",
                  "Value": 3189,
                  "ValueUnit": "ppm"
                 }
                ]
               }
              ],
              "SampleMetaData": {
               "ReportID": "",
               "SampleNumber": "24"
              }
             },
             {
              "Depths": [
               {
                "DepthID": "2",
                "NutrientResults": [
                 {
                  "Element": "pH",
                  "Value": 5.8,
                  "ValueUnit": "none"
                 },
                 {
                  "Value": 0.14,
                  "ValueUnit": "mmho/cm"
                 },
                 {
                  "Element": "OM (LOI)",
                  "Value": 4.9,
                  "ValueUnit": "%"
                 },
                 {
                  "Element": "NO3-N",
                  "Value": 1.1,
                  "ValueUnit": "ppm"
                 },
                 {
                  "Element": "P",
                  "Value": 7.4,
                  "ValueUnit": "ppm"
                 },
                 {
                  "Element": "K",
                  "Value": 165,
                  "ValueUnit": "ppm"
                 },
                 {
                  "Element": "SO4-S",
                  "Value": 8.8,
                  "ValueUnit": "ppm"
                 },
                 {
                  "Element": "Ca",
                  "Value": 1822,
                  "ValueUnit": "ppm"
                 },
                 {
                  "Element": "Mg",
                  "Value": 673,
                  "ValueUnit": "ppm"
                 },
                 {
                  "Element": "Na",
                  "Value": 94,
                  "ValueUnit": "ppm"
                 },
                 {
                  "Element": "CEC",
                  "Value": 22.7,
                  "ValueUnit": "Sum of Cations me/100g"
                 },
                 {
                  "Element": "BS-H",
                  "Value": 32,
                  "ValueUnit": "%"
                 },
                 {
                  "Element": "BS-K",
                  "Value": 2,
                  "ValueUnit": "%"
                 },
                 {
                  "Element": "BS-Ca",
                  "Value": 39,
                  "ValueUnit": "%"
                 },
                 {
                  "Element": "BS-Mg",
                  "Value": 25,
                  "ValueUnit": "%"
                 },
                 {
                  "Element": "BS-Na",
                  "Value": 2,
                  "ValueUnit": "%"
                 },
                 {
                  "Element": "TN",
                  "Value": 2748,
                  "ValueUnit": "ppm"
                 }
                ]
               }
              ],
              "SampleMetaData": {
               "ReportID": "",
               "SampleNumber": "25"
              }
             },
             {
              "Depths": [
               {
                "DepthID": "1",
                "NutrientResults": [
                 {
                  "Element": "pH",
                  "Value": 6,
                  "ValueUnit": "none"
                 },
                 {
                  "Value": 0.21,
                  "ValueUnit": "mmho/cm"
                 },
                 {
                  "Element": "OM (LOI)",
                  "Value": 8.7,
                  "ValueUnit": "%"
                 },
                 {
                  "Element": "NO3-N",
                  "Value": 0.7,
                  "ValueUnit": "ppm"
                 },
                 {
                  "Element": "P",
                  "Value": 8,
                  "ValueUnit": "ppm"
                 },
                 {
                  "Element": "K",
                  "Value": 170,
                  "ValueUnit": "ppm"
                 },
                 {
                  "Element": "SO4-S",
                  "Value": 9.2,
                  "ValueUnit": "ppm"
                 },
                 {
                  "Element": "Ca",
                  "Value": 2722,
                  "ValueUnit": "ppm"
                 },
                 {
                  "Element": "Mg",
                  "Value": 866,
                  "ValueUnit": "ppm"
                 },
                 {
                  "Element": "Na",
                  "Value": 95,
                  "ValueUnit": "ppm"
                 },
                 {
                  "Element": "CEC",
                  "Value": 29.2,
                  "ValueUnit": "Sum of Cations me/100g"
                 },
                 {
                  "Element": "BS-H",
                  "Value": 26,
                  "ValueUnit": "%"
                 },
                 {
                  "Element": "BS-K",
                  "Value": 1,
                  "ValueUnit": "%"
                 },
                 {
                  "Element": "BS-Ca",
                  "Value": 47,
                  "ValueUnit": "%"
                 },
                 {
                  "Element": "BS-Mg",
                  "Value": 25,
                  "ValueUnit": "%"
                 },
                 {
                  "Element": "BS-Na",
                  "Value": 1,
                  "ValueUnit": "%"
                 },
                 {
                  "Element": "TN",
                  "Value": 3251,
                  "ValueUnit": "ppm"
                 }
                ]
               }
              ],
              "SampleMetaData": {
               "ReportID": "",
               "SampleNumber": "26"
              }
             },
             {
              "Depths": [
               {
                "DepthID": "2",
                "NutrientResults": [
                 {
                  "Element": "pH",
                  "Value": 5.9,
                  "ValueUnit": "none"
                 },
                 {
                  "Value": 0.17,
                  "ValueUnit": "mmho/cm"
                 },
                 {
                  "Element": "OM (LOI)",
                  "Value": 5.7,
                  "ValueUnit": "%"
                 },
                 {
                  "Element": "NO3-N",
                  "Value": 0.5,
                  "ValueUnit": "ppm"
                 },
                 {
                  "Element": "P",
                  "Value": 6.9,
                  "ValueUnit": "ppm"
                 },
                 {
                  "Element": "K",
                  "Value": 107,
                  "ValueUnit": "ppm"
                 },
                 {
                  "Element": "SO4-S",
                  "Value": 8.2,
                  "ValueUnit": "ppm"
                 },
                 {
                  "Element": "Ca",
                  "Value": 2719,
                  "ValueUnit": "ppm"
                 },
                 {
                  "Element": "Mg",
                  "Value": 919,
                  "ValueUnit": "ppm"
                 },
                 {
                  "Element": "Na",
                  "Value": 93,
                  "ValueUnit": "ppm"
                 },
                 {
                  "Element": "CEC",
                  "Value": 29.2,
                  "ValueUnit": "Sum of Cations me/100g"
                 },
                 {
                  "Element": "BS-H",
                  "Value": 25,
                  "ValueUnit": "%"
                 },
                 {
                  "Element": "BS-K",
                  "Value": 1,
                  "ValueUnit": "%"
                 },
                 {
                  "Element": "BS-Ca",
                  "Value": 47,
                  "ValueUnit": "%"
                 },
                 {
                  "Element": "BS-Mg",
                  "Value": 26,
                  "ValueUnit": "%"
                 },
                 {
                  "Element": "BS-Na",
                  "Value": 1,
                  "ValueUnit": "%"
                 },
                 {
                  "Element": "TN",
                  "Value": 2387,
                  "ValueUnit": "ppm"
                 }
                ]
               }
              ],
              "SampleMetaData": {
               "ReportID": "",
               "SampleNumber": "27"
              }
             },
             {
              "Depths": [
               {
                "DepthID": "1",
                "NutrientResults": [
                 {
                  "Element": "pH",
                  "Value": 5.7,
                  "ValueUnit": "none"
                 },
                 {
                  "Value": 0.17,
                  "ValueUnit": "mmho/cm"
                 },
                 {
                  "Element": "OM (LOI)",
                  "Value": 5.2,
                  "ValueUnit": "%"
                 },
                 {
                  "Element": "NO3-N",
                  "Value": 1,
                  "ValueUnit": "ppm"
                 },
                 {
                  "Element": "P",
                  "Value": 15.3,
                  "ValueUnit": "ppm"
                 },
                 {
                  "Element": "K",
                  "Value": 308,
                  "ValueUnit": "ppm"
                 },
                 {
                  "Element": "SO4-S",
                  "Value": 10.2,
                  "ValueUnit": "ppm"
                 },
                 {
                  "Element": "Ca",
                  "Value": 1291,
                  "ValueUnit": "ppm"
                 },
                 {
                  "Element": "Mg",
                  "Value": 772,
                  "ValueUnit": "ppm"
                 },
                 {
                  "Element": "Na",
                  "Value": 57,
                  "ValueUnit": "ppm"
                 },
                 {
                  "Element": "CEC",
                  "Value": 21.8,
                  "ValueUnit": "Sum of Cations me/100g"
                 },
                 {
                  "Element": "BS-H",
                  "Value": 36,
                  "ValueUnit": "%"
                 },
                 {
                  "Element": "BS-K",
                  "Value": 4,
                  "ValueUnit": "%"
                 },
                 {
                  "Element": "BS-Ca",
                  "Value": 30,
                  "ValueUnit": "%"
                 },
                 {
                  "Element": "BS-Mg",
                  "Value": 29,
                  "ValueUnit": "%"
                 },
                 {
                  "Element": "BS-Na",
                  "Value": 1,
                  "ValueUnit": "%"
                 },
                 {
                  "Element": "TN",
                  "Value": 2798,
                  "ValueUnit": "ppm"
                 }
                ]
               }
              ],
              "SampleMetaData": {
               "ReportID": "",
               "SampleNumber": "28"
              }
             },
             {
              "Depths": [
               {
                "DepthID": "2",
                "NutrientResults": [
                 {
                  "Element": "pH",
                  "Value": 5.5,
                  "ValueUnit": "none"
                 },
                 {
                  "Value": 0.08,
                  "ValueUnit": "mmho/cm"
                 },
                 {
                  "Element": "OM (LOI)",
                  "Value": 4.3,
                  "ValueUnit": "%"
                 },
                 {
                  "Element": "NO3-N",
                  "Value": 1.2,
                  "ValueUnit": "ppm"
                 },
                 {
                  "Element": "P",
                  "Value": 8.6,
                  "ValueUnit": "ppm"
                 },
                 {
                  "Element": "K",
                  "Value": 210,
                  "ValueUnit": "ppm"
                 },
                 {
                  "Element": "SO4-S",
                  "Value": 9.8,
                  "ValueUnit": "ppm"
                 },
                 {
                  "Element": "Ca",
                  "Value": 1179,
                  "ValueUnit": "ppm"
                 },
                 {
                  "Element": "Mg",
                  "Value": 681,
                  "ValueUnit": "ppm"
                 },
                 {
                  "Element": "Na",
                  "Value": 59,
                  "ValueUnit": "ppm"
                 },
                 {
                  "Element": "CEC",
                  "Value": 22.3,
                  "ValueUnit": "Sum of Cations me/100g"
                 },
                 {
                  "Element": "BS-H",
                  "Value": 44,
                  "ValueUnit": "%"
                 },
                 {
                  "Element": "BS-K",
                  "Value": 2,
                  "ValueUnit": "%"
                 },
                 {
                  "Element": "BS-Ca",
                  "Value": 26,
                  "ValueUnit": "%"
                 },
                 {
                  "Element": "BS-Mg",
                  "Value": 25,
                  "ValueUnit": "%"
                 },
                 {
                  "Element": "BS-Na",
                  "Value": 1,
                  "ValueUnit": "%"
                 },
                 {
                  "Element": "TN",
                  "Value": 2527,
                  "ValueUnit": "ppm"
                 }
                ]
               }
              ],
              "SampleMetaData": {
               "ReportID": "",
               "SampleNumber": "29"
              }
             }
            ]
           }
          },
          "LabMetaData": {
           "Reports": [
            {
             "FileDescription": "Sheet1_1",
             "ReportID": "1"
            }
           ]
          }
         }
        ]
       },
       {
        "Events": [
         {
          "EventMetaData": {
           "EventDate": "2018-02-04",
           "EventType": {
            "Soil": true
           }
          },
          "EventSamples": {
           "Soil": {
            "DepthRefs": [
             {
              "ColumnDepth": 30,
              "DepthID": 1,
              "DepthUnit": "cm",
              "EndingDepth": 40,
              "Name": "10 to 40",
              "StartingDepth": 10
             }
            ],
            "SoilSamples": [
             {
              "Depths": [
               {
                "DepthID": "1",
                "NutrientResults": [
                 {
                  "Element": "P",
                  "Value": 11.3,
                  "ValueUnit": "ug/g"
                 },
                 {
                  "Value": 25,
                  "ValueUnit": "%"
                 },
                 {
                  "Element": "Silt",
                  "Value": 36.2,
                  "ValueUnit": "%"
                 },
                 {
                  "Element": "Clay",
                  "Value": 38.8,
                  "ValueUnit": "%"
                 },
                 {
                  "Element": "pH",
                  "Value": 5.9,
                  "ValueUnit": "none"
                 },
                 {
                  "Element": "CEC",
                  "Value": 33.9,
                  "ValueUnit": "cmol(+)/kg"
                 },
                 {
                  "Element": "Ca",
                  "Value": 12.05,
                  "ValueUnit": "cmol(+)/kg"
                 },
                 {
                  "Element": "Mg",
                  "Value": 12.333333333333334,
                  "ValueUnit": "cmol(+)/kg"
                 },
                 {
                  "Element": "K",
                  "Value": 0.6743589743589744,
                  "ValueUnit": "cmol(+)/kg"
                 },
                 {
                  "Element": "Na",
                  "Value": 0.5956521739130435,
                  "ValueUnit": "cmol(+)/kg"
                 },
                 {
                  "Element": "TOC",
                  "Value": 2.1,
                  "ValueUnit": "%"
                 },
                 {
                  "Element": "TN",
                  "Value": 0.2265,
                  "ValueUnit": "%"
                 }
                ]
               }
              ],
              "SampleMetaData": {
               "Geometry": {
                "wkt": "POINT(-122.3665960 37.2669748)"
               },
               "ReportID": "TOKA-022",
               "SampleNumber": "0"
              }
             },
             {
              "Depths": [
               {
                "DepthID": "1",
                "NutrientResults": [
                 {
                  "Element": "P",
                  "Value": 3.9,
                  "ValueUnit": "ug/g"
                 },
                 {
                  "Value": 20,
                  "ValueUnit": "%"
                 },
                 {
                  "Element": "Silt",
                  "Value": 45,
                  "ValueUnit": "%"
                 },
                 {
                  "Element": "Clay",
                  "Value": 35,
                  "ValueUnit": "%"
                 },
                 {
                  "Element": "pH",
                  "Value": 5.8,
                  "ValueUnit": "none"
                 },
                 {
                  "Element": "CEC",
                  "Value": 22.2,
                  "ValueUnit": "cmol(+)/kg"
                 },
                 {
                  "Element": "Ca",
                  "Value": 6.01,
                  "ValueUnit": "cmol(+)/kg"
                 },
                 {
                  "Element": "Mg",
                  "Value": 6.083333333333333,
                  "ValueUnit": "cmol(+)/kg"
                 },
                 {
                  "Element": "K",
                  "Value": 0.7,
                  "ValueUnit": "cmol(+)/kg"
                 },
                 {
                  "Element": "Na",
                  "Value": 0.3173913043478261,
                  "ValueUnit": "cmol(+)/kg"
                 },
                 {
                  "Element": "TOC",
                  "Value": 2.5,
                  "ValueUnit": "%"
                 },
                 {
                  "Element": "TN",
                  "Value": 0.22944,
                  "ValueUnit": "%"
                 }
                ]
               }
              ],
              "SampleMetaData": {
               "Geometry": {
                "wkt": "POINT(-122.3643404 37.2669627)"
               },
               "ReportID": "TOKA-030",
               "SampleNumber": "1"
              }
             },
             {
              "Depths": [
               {
                "DepthID": "1",
                "NutrientResults": [
                 {
                  "Element": "P",
                  "Value": 6.1,
                  "ValueUnit": "ug/g"
                 },
                 {
                  "Value": 23.8,
                  "ValueUnit": "%"
                 },
                 {
                  "Element": "Silt",
                  "Value": 42.5,
                  "ValueUnit": "%"
                 },
                 {
                  "Element": "Clay",
                  "Value": 33.8,
                  "ValueUnit": "%"
                 },
                 {
                  "Element": "pH",
                  "Value": 6,
                  "ValueUnit": "none"
                 },
                 {
                  "Element": "CEC",
                  "Value": 29.2,
                  "ValueUnit": "cmol(+)/kg"
                 },
                 {
                  "Element": "Ca",
                  "Value": 9.03,
                  "ValueUnit": "cmol(+)/kg"
                 },
                 {
                  "Element": "Mg",
                  "Value": 9.975,
                  "ValueUnit": "cmol(+)/kg"
                 },
                 {
                  "Element": "K",
                  "Value": 0.5435897435897435,
                  "ValueUnit": "cmol(+)/kg"
                 },
                 {
                  "Element": "Na",
                  "Value": 0.3826086956521739,
                  "ValueUnit": "cmol(+)/kg"
                 },
                 {
                  "Element": "TOC",
                  "Value": 2,
                  "ValueUnit": "%"
                 },
                 {
                  "Element": "TN",
                  "Value": 0.20459,
                  "ValueUnit": "%"
                 }
                ]
               }
              ],
              "SampleMetaData": {
               "Geometry": {
                "wkt": "POINT(-122.3642949 37.2723708)"
               },
               "ReportID": "TOKA-119",
               "SampleNumber": "2"
              }
             }
            ]
           }
          },
          "LabMetaData": {
           "Reports": [
            {
             "FileDescription": "2018_RMN 10-40cm_5",
             "ReportID": "1"
            }
           ]
          }
         }
        ]
       },
       {
        "Events": [
         {
          "EventMetaData": {
           "EventDate": "2018-01-23",
           "EventType": {
            "Soil": true
           }
          },
          "EventSamples": {
           "Soil": {
            "DepthRefs": [
             {
              "ColumnDepth": 30,
              "DepthID": 1,
              "DepthUnit": "cm",
              "EndingDepth": 40,
              "Name": "10 to 40",
              "StartingDepth": 10
             }
            ],
            "SoilSamples": [
             {
              "Depths": [
               {
                "DepthID": "1",
                "NutrientResults": [
                 {
                  "Value": 30,
                  "ValueUnit": "%"
                 },
                 {
                  "Element": "Silt",
                  "Value": 37.5,
                  "ValueUnit": "%"
                 },
                 {
                  "Element": "Clay",
                  "Value": 32.5,
                  "ValueUnit": "%"
                 },
                 {
                  "Element": "TOC",
                  "Value": 2.1,
                  "ValueUnit": "%"
                 }
                ]
               }
              ],
              "SampleMetaData": {
               "Geometry": {
                "wkt": "POINT(-122.3643707 37.2633573)"
               },
               "ReportID": "TOKA-122",
               "SampleNumber": "0"
              }
             }
            ]
           }
          },
          "LabMetaData": {
           "Reports": [
            {
             "FileDescription": "2018_RMN 10-40cm_16",
             "ReportID": "1"
            }
           ]
          }
         }
        ]
       },
       {
        "Events": [
         {
          "EventMetaData": {
           "EventDate": "2018-01-11",
           "EventType": {
            "Soil": true
           }
          },
          "EventSamples": {
           "Soil": {
            "DepthRefs": [
             {
              "ColumnDepth": 30,
              "DepthID": 1,
              "DepthUnit": "cm",
              "EndingDepth": 40,
              "Name": "10 to 40",
              "StartingDepth": 10
             }
            ],
            "SoilSamples": [
             {
              "Depths": [
               {
                "DepthID": "1",
                "NutrientResults": [
                 {
                  "Element": "P",
                  "Value": 2,
                  "ValueUnit": "ug/g"
                 },
                 {
                  "Value": 17.5,
                  "ValueUnit": "%"
                 },
                 {
                  "Element": "Silt",
                  "Value": 41.2,
                  "ValueUnit": "%"
                 },
                 {
                  "Element": "Clay",
                  "Value": 41.2,
                  "ValueUnit": "%"
                 },
                 {
                  "Element": "pH",
                  "Value": 6.1,
                  "ValueUnit": "none"
                 },
                 {
                  "Element": "CEC",
                  "Value": 25.1,
                  "ValueUnit": "cmol(+)/kg"
                 },
                 {
                  "Element": "Ca",
                  "Value": 8.86,
                  "ValueUnit": "cmol(+)/kg"
                 },
                 {
                  "Element": "Mg",
                  "Value": 7.125,
                  "ValueUnit": "cmol(+)/kg"
                 },
                 {
                  "Element": "K",
                  "Value": 0.36923076923076925,
                  "ValueUnit": "cmol(+)/kg"
                 },
                 {
                  "Element": "Na",
                  "Value": 0.4956521739130435,
                  "ValueUnit": "cmol(+)/kg"
                 },
                 {
                  "Element": "TOC",
                  "Value": 2.1,
                  "ValueUnit": "%"
                 },
                 {
                  "Element": "TN",
                  "Value": 0.25688999999999995,
                  "ValueUnit": "%"
                 }
                ]
               }
              ],
              "SampleMetaData": {
               "Geometry": {
                "wkt": "POINT(-122.3553489 37.2633085)"
               },
               "ReportID": "TOKA-057",
               "SampleNumber": "0"
              }
             },
             {
              "Depths": [
               {
                "DepthID": "1",
                "NutrientResults": [
                 {
                  "Element": "P",
                  "Value": 8,
                  "ValueUnit": "ug/g"
                 },
                 {
                  "Value": 15,
                  "ValueUnit": "%"
                 },
                 {
                  "Element": "Silt",
                  "Value": 31.2,
                  "ValueUnit": "%"
                 },
                 {
                  "Element": "Clay",
                  "Value": 53.8,
                  "ValueUnit": "%"
                 },
                 {
                  "Element": "pH",
                  "Value": 6.4,
                  "ValueUnit": "none"
                 },
                 {
                  "Element": "CEC",
                  "Value": 52.4,
                  "ValueUnit": "cmol(+)/kg"
                 },
                 {
                  "Element": "Ca",
                  "Value": 24.96,
                  "ValueUnit": "cmol(+)/kg"
                 },
                 {
                  "Element": "Mg",
                  "Value": 19.658333333333335,
                  "ValueUnit": "cmol(+)/kg"
                 },
                 {
                  "Element": "K",
                  "Value": 0.6948717948717948,
                  "ValueUnit": "cmol(+)/kg"
                 },
                 {
                  "Element": "Na",
                  "Value": 0.7956521739130434,
                  "ValueUnit": "cmol(+)/kg"
                 },
                 {
                  "Element": "TOC",
                  "Value": 2.3,
                  "ValueUnit": "%"
                 },
                 {
                  "Element": "TN",
                  "Value": 0.28853,
                  "ValueUnit": "%"
                 }
                ]
               }
              ],
              "SampleMetaData": {
               "Geometry": {
                "wkt": "POINT(-122.3531088 37.2614935)"
               },
               "ReportID": "TOKA-067",
               "SampleNumber": "1"
              }
             },
             {
              "Depths": [
               {
                "DepthID": "1",
                "NutrientResults": [
                 {
                  "Element": "P",
                  "Value": 4.3,
                  "ValueUnit": "ug/g"
                 },
                 {
                  "Value": 22.5,
                  "ValueUnit": "%"
                 },
                 {
                  "Element": "Silt",
                  "Value": 38.8,
                  "ValueUnit": "%"
                 },
                 {
                  "Element": "Clay",
                  "Value": 38.8,
                  "ValueUnit": "%"
                 },
                 {
                  "Element": "pH",
                  "Value": 6.1,
                  "ValueUnit": "none"
                 },
                 {
                  "Element": "CEC",
                  "Value": 28.3,
                  "ValueUnit": "cmol(+)/kg"
                 },
                 {
                  "Element": "Ca",
                  "Value": 11.5,
                  "ValueUnit": "cmol(+)/kg"
                 },
                 {
                  "Element": "Mg",
                  "Value": 8.8,
                  "ValueUnit": "cmol(+)/kg"
                 },
                 {
                  "Element": "K",
                  "Value": 0.4461538461538462,
                  "ValueUnit": "cmol(+)/kg"
                 },
                 {
                  "Element": "Na",
                  "Value": 0.5565217391304348,
                  "ValueUnit": "cmol(+)/kg"
                 },
                 {
                  "Element": "TOC",
                  "Value": 2.1,
                  "ValueUnit": "%"
                 },
                 {
                  "Element": "TN",
                  "Value": 0.27169,
                  "ValueUnit": "%"
                 }
                ]
               }
              ],
              "SampleMetaData": {
               "Geometry": {
                "wkt": "POINT(-122.3531397 37.2578881)"
               },
               "ReportID": "TOKA-068",
               "SampleNumber": "2"
              }
             },
             {
              "Depths": [
               {
                "DepthID": "1",
                "NutrientResults": [
                 {
                  "Element": "P",
                  "Value": 3.6,
                  "ValueUnit": "ug/g"
                 },
                 {
                  "Value": 21.2,
                  "ValueUnit": "%"
                 },
                 {
                  "Element": "Silt",
                  "Value": 37.5,
                  "ValueUnit": "%"
                 },
                 {
                  "Element": "Clay",
                  "Value": 41.2,
                  "ValueUnit": "%"
                 },
                 {
                  "Element": "pH",
                  "Value": 5.7,
                  "ValueUnit": "none"
                 },
                 {
                  "Element": "CEC",
                  "Value": 35.7,
                  "ValueUnit": "cmol(+)/kg"
                 },
                 {
                  "Element": "Ca",
                  "Value": 11.93,
                  "ValueUnit": "cmol(+)/kg"
                 },
                 {
                  "Element": "Mg",
                  "Value": 11.741666666666667,
                  "ValueUnit": "cmol(+)/kg"
                 },
                 {
                  "Element": "K",
                  "Value": 0.5358974358974359,
                  "ValueUnit": "cmol(+)/kg"
                 },
                 {
                  "Element": "Na",
                  "Value": 0.3695652173913043,
                  "ValueUnit": "cmol(+)/kg"
                 },
                 {
                  "Element": "TOC",
                  "Value": 2.2,
                  "ValueUnit": "%"
                 },
                 {
                  "Element": "TN",
                  "Value": 0.2644,
                  "ValueUnit": "%"
                 }
                ]
               }
              ],
              "SampleMetaData": {
               "Geometry": {
                "wkt": "POINT(-122.3485825 37.2632715)"
               },
               "ReportID": "TOKA-080",
               "SampleNumber": "3"
              }
             }
            ]
           }
          },
          "LabMetaData": {
           "Reports": [
            {
             "FileDescription": "2018_RMN 10-40cm_9",
             "ReportID": "1"
            }
           ]
          }
         }
        ]
       },
       {
        "Events": [
         {
          "EventMetaData": {
           "EventDate": "2018-02-12",
           "EventType": {
            "Soil": true
           }
          },
          "EventSamples": {
           "Soil": {
            "DepthRefs": [
             {
              "ColumnDepth": 10,
              "DepthID": 1,
              "DepthUnit": "cm",
              "EndingDepth": 10,
              "Name": "0 to 10",
              "StartingDepth": 0
             }
            ],
            "SoilSamples": [
             {
              "Depths": [
               {
                "DepthID": "1",
                "NutrientResults": [
                 {
                  "Element": "Bulk Density",
                  "Value": 1.09038779107244,
                  "ValueUnit": "g/cm3"
                 },
                 {
                  "Element": "P",
                  "Value": 6.8,
                  "ValueUnit": "ug/g"
                 },
                 {
                  "Element": "pH",
                  "Value": 6.1,
                  "ValueUnit": "none"
                 },
                 {
                  "Element": "CEC",
                  "Value": 30.4,
                  "ValueUnit": "cmol(+)/kg"
                 },
                 {
                  "Element": "Ca",
                  "Value": 11.6,
                  "ValueUnit": "cmol(+)/kg"
                 },
                 {
                  "Element": "Mg",
                  "Value": 8.491666666666667,
                  "ValueUnit": "cmol(+)/kg"
                 },
                 {
                  "Element": "K",
                  "Value": 0.8205128205128205,
                  "ValueUnit": "cmol(+)/kg"
                 },
                 {
                  "Element": "Na",
                  "Value": 0.3130434782608696,
                  "ValueUnit": "cmol(+)/kg"
                 },
                 {
                  "Element": "TOC",
                  "Value": 4.1,
                  "ValueUnit": "%"
                 }
                ]
               }
              ],
              "SampleMetaData": {
               "Geometry": {
                "wkt": "POINT(-122.3733328 37.2706162)"
               },
               "ReportID": "TOKA-013",
               "SampleNumber": "0"
              }
             }
            ]
           }
          },
          "LabMetaData": {
           "Reports": [
            {
             "FileDescription": "2018_RMN 0-10cm_2",
             "ReportID": "1"
            }
           ]
          }
         }
        ]
       }
      ],
      "text/plain": [
       "<IPython.core.display.JSON object>"
      ]
     },
     "execution_count": 15,
     "metadata": {
      "application/json": {
       "expanded": false,
       "root": "root"
      }
     },
     "output_type": "execute_result"
    }
   ],
   "source": [
    "JSON(modus_json)"
   ]
  }
 ],
 "metadata": {
  "kernelspec": {
   "display_name": "Python 3 (ipykernel)",
   "language": "python",
   "name": "python3"
  },
  "language_info": {
   "codemirror_mode": {
    "name": "ipython",
    "version": 3
   },
   "file_extension": ".py",
   "mimetype": "text/x-python",
   "name": "python",
   "nbconvert_exporter": "python",
   "pygments_lexer": "ipython3",
   "version": "3.9.12"
  }
 },
 "nbformat": 4,
 "nbformat_minor": 5
}
